{
 "cells": [
  {
   "cell_type": "markdown",
   "id": "35dedeb8",
   "metadata": {},
   "source": [
    "\n",
    "# Visualizing Quantum States in Qiskit 2.x\n",
    "\n",
    "This notebook walks through the most useful visualization tools for quantum **states** (and related results) in Qiskit 2.x.\n",
    "\n",
    "**Topics covered**\n",
    "- `bloch_sphere_concepts`: what the Bloch sphere represents; convert between (θ,φ), |ψ⟩, and (x,y,z)\n",
    "- `plot_bloch_vector`\n",
    "- `plot_bloch_multivector`\n",
    "- `plot_state_qsphere`\n",
    "- `plot_state_hinton`\n",
    "- `plot_state_city`\n",
    "- `plot_state_paulivec`\n",
    "- `plot_histogram`\n",
    "\n",
    "> **Requirements**: Install with visualization extras if needed:\n",
    "> ```bash\n",
    "> pip install \"qiskit[visualization]\"\n",
    "> ```\n",
    "> Some optional sections use Aer; if you want to run those cells:\n",
    "> ```bash\n",
    "> pip install qiskit-aer\n",
    "> ```\n"
   ]
  },
  {
   "cell_type": "code",
   "execution_count": null,
   "id": "ddde4762",
   "metadata": {},
   "outputs": [],
   "source": [
    "# Setup: imports used across the notebook\n",
    "import numpy as np\n",
    "from qiskit import QuantumCircuit\n",
    "from qiskit.quantum_info import Statevector, DensityMatrix, SparsePauliOp, partial_trace\n",
    "from qiskit.visualization import (\n",
    "    plot_bloch_vector,\n",
    "    plot_bloch_multivector,\n",
    "    plot_state_qsphere,\n",
    "    plot_state_hinton,\n",
    "    plot_state_city,\n",
    "    plot_state_paulivec,\n",
    "    plot_histogram,\n",
    ")\n",
    "# %matplotlib inline  # Usually auto-enabled in JupyterLab; uncomment if needed.\n",
    "from IPython.display import display\n"
   ]
  },
  {
   "cell_type": "markdown",
   "id": "f4c7ed61",
   "metadata": {},
   "source": [
    "\n",
    "## 0) Bloch sphere concepts\n",
    "\n",
    "A single-qubit pure state can be written (up to a global phase) as\n",
    "|ψ⟩ = cos(θ/2)|0⟩ + e^{iφ} sin(θ/2)|1⟩.  \n",
    "Its **Bloch vector** r = (x, y, z) is\n",
    "x = sinθ cosφ,  y = sinθ sinφ,  z = cosθ.\n",
    "\n",
    "For a general state ρ (pure or mixed), the Bloch components are expectation values:\n",
    "x = ⟨X⟩ = Tr(ρX),  y = ⟨Y⟩,  z = ⟨Z⟩,\n",
    "and physical states satisfy ‖r‖ ≤ 1 (pure states have ‖r‖ = 1).\n"
   ]
  },
  {
   "cell_type": "code",
   "execution_count": null,
   "id": "0dea5f3a",
   "metadata": {},
   "outputs": [],
   "source": [
    "\n",
    "def bloch_from_statevector(sv: Statevector):\n",
    "    \"\"\"Return (x,y,z) for a 1-qubit Statevector sv.\"\"\"\n",
    "    x = float(np.real(sv.expectation_value(SparsePauliOp('X'))))\n",
    "    y = float(np.real(sv.expectation_value(SparsePauliOp('Y'))))\n",
    "    z = float(np.real(sv.expectation_value(SparsePauliOp('Z'))))\n",
    "    return x, y, z\n",
    "\n",
    "def state_from_angles(theta: float, phi: float) -> Statevector:\n",
    "    \"\"\"Construct |psi> = cos(theta/2)|0> + e^{i phi} sin(theta/2)|1> as a Statevector.\"\"\"\n",
    "    alpha = np.cos(theta/2)\n",
    "    beta = np.exp(1j*phi)*np.sin(theta/2)\n",
    "    vec = np.array([alpha, beta], dtype=complex)\n",
    "    return Statevector(vec/np.linalg.norm(vec))\n",
    "\n",
    "# Demo: a point at +Y (theta=pi/2, phi=pi/2) should yield (0,1,0)\n",
    "sv_demo = state_from_angles(np.pi/2, np.pi/2)\n",
    "bloch_from_statevector(sv_demo)\n"
   ]
  },
  {
   "cell_type": "markdown",
   "id": "87323994",
   "metadata": {},
   "source": [
    "## 1) `plot_bloch_vector` — plot a **single** Bloch vector\n",
    "\n",
    "- Input: a 3-tuple/list `(x, y, z)` with ‖r‖ ≤ 1.\n",
    "- Use when you already know the Bloch components, or after converting from a `Statevector`/`DensityMatrix`.\n",
    "\n",
    "**Common gotcha**: `plot_bloch_vector` does **not** take a `Statevector` directly.\n",
    "\n",
    "Here **r** denotes the Bloch vector **r = (x, y, z)**.\n"
   ]
  },
  {
   "cell_type": "code",
   "execution_count": null,
   "id": "d66d6cd0",
   "metadata": {},
   "outputs": [],
   "source": [
    "\n",
    "# Example A: pure states on principal axes\n",
    "fig1 = plot_bloch_vector([0, 0, 1], title=\"|0>  (0,0,+1)\")\n",
    "fig2 = plot_bloch_vector([1, 0, 0], title=\"|+>  (+1,0,0)\")\n",
    "fig3 = plot_bloch_vector([0, 1, 0], title=\"|+i> (0,+1,0)\")\n",
    "\n",
    "# Example B: convert from a circuit's statevector\n",
    "qc = QuantumCircuit(1); qc.rx(np.pi/2, 0)   # |0> --Rx(pi/2)--> (0,-1,0)\n",
    "sv = Statevector.from_instruction(qc)\n",
    "vec = bloch_from_statevector(sv)\n",
    "fig4 = plot_bloch_vector(vec, title=f\"From circuit: {np.round(vec,3)}\")\n",
    "display(fig1); display(fig2); display(fig3); display(fig4)\n"
   ]
  },
  {
   "cell_type": "markdown",
   "id": "f331061e",
   "metadata": {},
   "source": [
    "\n",
    "## 2) `plot_bloch_multivector` — per-qubit Bloch spheres from a state\n",
    "\n",
    "- Input: a `Statevector` or `DensityMatrix` (1 or more qubits).\n",
    "- Output: one Bloch sphere **per qubit** (the reduced state for each qubit).\n",
    "- Entangled states show **shrunk** (often centered) local Bloch vectors—e.g., Bell states give local vectors near (0,0,0).\n"
   ]
  },
  {
   "cell_type": "code",
   "execution_count": null,
   "id": "50179be0",
   "metadata": {},
   "outputs": [],
   "source": [
    "\n",
    "# Single-qubit example (pure): should show a point at -Y\n",
    "qc1 = QuantumCircuit(1); qc1.rx(np.pi/2, 0)\n",
    "sv1 = Statevector.from_instruction(qc1)\n",
    "fig5 = plot_bloch_multivector(sv1)\n",
    "\n",
    "# Two-qubit Bell state: local Bloch vectors are (0,0,0)\n",
    "qc2 = QuantumCircuit(2); qc2.h(0); qc2.cx(0,1)\n",
    "sv2 = Statevector.from_instruction(qc2)\n",
    "fig6 = plot_bloch_multivector(sv2)\n",
    "(fig5, fig6)\n"
   ]
  },
  {
   "cell_type": "markdown",
   "id": "ba6c95e4",
   "metadata": {},
   "source": [
    "\n",
    "## 3) `plot_state_qsphere` — amplitude & phase on the Qsphere\n",
    "\n",
    "- Visualizes a statevector’s amplitudes as points on a sphere with color/phase and size (probability).\n",
    "- Great for multi-qubit superpositions.\n"
   ]
  },
  {
   "cell_type": "code",
   "execution_count": null,
   "id": "72596dc2",
   "metadata": {},
   "outputs": [],
   "source": [
    "\n",
    "# Qsphere for |Φ+> = (|00> + |11>)/√2\n",
    "qc_qs = QuantumCircuit(2); qc_qs.h(0); qc_qs.cx(0,1)\n",
    "sv_qs = Statevector.from_instruction(qc_qs)\n",
    "fig7 = plot_state_qsphere(sv_qs)\n",
    "fig7\n"
   ]
  },
  {
   "cell_type": "markdown",
   "id": "1654d191",
   "metadata": {},
   "source": [
    "\n",
    "## 4) `plot_state_hinton` — Hinton diagram of the density matrix ρ\n",
    "\n",
    "- Input: `Statevector` or `DensityMatrix`; plots the density matrix (magnitude/sign as squares).\n",
    "- Useful for spotting structure/blocks and coherence.\n"
   ]
  },
  {
   "cell_type": "code",
   "execution_count": null,
   "id": "1cb546ea",
   "metadata": {},
   "outputs": [],
   "source": [
    "\n",
    "# Single-qubit pure vs mixed (partial trace of a Bell state)\n",
    "qc_pure = QuantumCircuit(1); qc_pure.h(0)\n",
    "sv_pure = Statevector.from_instruction(qc_pure)\n",
    "\n",
    "qc_bell = QuantumCircuit(2); qc_bell.h(0); qc_bell.cx(0,1)\n",
    "rho_bell = DensityMatrix.from_instruction(qc_bell)\n",
    "rho_mixed_q0 = partial_trace(rho_bell, [1])  # trace out qubit 1\n",
    "\n",
    "fig8 = plot_state_hinton(sv_pure)      # uses ρ = |ψ><ψ|\n",
    "fig9 = plot_state_hinton(rho_mixed_q0) # maximally mixed: equal squares on diagonal\n",
    "(fig8, fig9)\n"
   ]
  },
  {
   "cell_type": "markdown",
   "id": "d7b79caf",
   "metadata": {},
   "source": [
    "\n",
    "## 5) `plot_state_city` — “cityscape” bars for ρ (real/imag parts)\n",
    "\n",
    "- Input: `Statevector` or `DensityMatrix`.\n",
    "- Shows real and imaginary components of the density matrix as 3D bar charts.\n"
   ]
  },
  {
   "cell_type": "code",
   "execution_count": null,
   "id": "4776bf9c",
   "metadata": {},
   "outputs": [],
   "source": [
    "\n",
    "fig10 = plot_state_city(sv_pure)       # pure state from Section 4\n",
    "fig11 = plot_state_city(rho_mixed_q0)  # reduced mixed state\n",
    "(fig10, fig11)\n"
   ]
  },
  {
   "cell_type": "markdown",
   "id": "7e56c58a",
   "metadata": {},
   "source": [
    "\n",
    "## 6) `plot_state_paulivec` — Pauli-vector of ρ\n",
    "\n",
    "- Input: `Statevector` or `DensityMatrix`.\n",
    "- Plots the expectation values of tensor-product Pauli operators.  \n",
    "  For 1 qubit this is essentially (⟨X⟩, ⟨Y⟩, ⟨Z⟩); for multiple qubits,\n",
    "  it includes ⟨X⊗I⟩, ⟨Z⊗Z⟩, etc.\n"
   ]
  },
  {
   "cell_type": "code",
   "execution_count": null,
   "id": "a648f0fa",
   "metadata": {},
   "outputs": [],
   "source": [
    "\n",
    "# 1-qubit Pauli vector (matches Bloch components)\n",
    "fig12 = plot_state_paulivec(sv_pure)\n",
    "\n",
    "# 2-qubit Bell state's non-zero correlations are prominent (e.g., ZZ, XX)\n",
    "fig13 = plot_state_paulivec(sv2)  # sv2 from Section 2\n",
    "(fig12, fig13)\n"
   ]
  },
  {
   "cell_type": "markdown",
   "id": "1e127271",
   "metadata": {},
   "source": [
    "\n",
    "## 7) `plot_histogram` — visualize measurement counts\n",
    "\n",
    "- Input: a `dict` (str→int) or a `Counts` object; optionally a list of datasets.\n",
    "- Useful to compare bitstring outcomes from simulations or hardware runs.\n"
   ]
  },
  {
   "cell_type": "code",
   "execution_count": null,
   "id": "43d334f6",
   "metadata": {},
   "outputs": [],
   "source": [
    "\n",
    "# Simple counts dict\n",
    "counts = {'0': 520, '1': 504}\n",
    "fig14 = plot_histogram(counts, title=\"Sample counts\")\n",
    "fig14\n"
   ]
  },
  {
   "cell_type": "code",
   "execution_count": null,
   "id": "4cc23445",
   "metadata": {},
   "outputs": [],
   "source": [
    "\n",
    "# Optional: generate counts from a circuit (uses Aer if available)\n",
    "try:\n",
    "    from qiskit_aer import AerSimulator\n",
    "    from qiskit.primitives import Sampler\n",
    "\n",
    "    qc_m = QuantumCircuit(2)\n",
    "    qc_m.h(0); qc_m.cx(0,1)\n",
    "\n",
    "    # Try Sampler (2.x primitive). If not available, fall back to AerSimulator counts.\n",
    "    try:\n",
    "        sampler = Sampler()\n",
    "        # In Qiskit 2.x, Sampler returns quasi-probabilities; convert to counts-like for plotting\n",
    "        result = sampler.run([qc_m], shots=2048).result()\n",
    "        quasi = result[0].data.evs if hasattr(result[0].data, \"evs\") else None  # schema varies across versions\n",
    "    except Exception:\n",
    "        quasi = None\n",
    "\n",
    "    if quasi is None:\n",
    "        sim = AerSimulator()\n",
    "        qc_m2 = qc_m.copy()\n",
    "        qc_m2.measure_all()\n",
    "        from qiskit import transpile\n",
    "        tqc = transpile(qc_m2, sim)\n",
    "        res = sim.run(tqc, shots=2048).result()\n",
    "        counts2 = res.get_counts()\n",
    "        fig15 = plot_histogram(counts2, title=\"Counts from AerSimulator\")\n",
    "        display(fig15)\n",
    "    else:\n",
    "        # If you obtained quasi-probabilities, convert to dict and plot\n",
    "        # (This branch is provided for completeness and may need adjustment per your version.)\n",
    "        pass\n",
    "except Exception as e:\n",
    "    print(\"Aer-based example skipped:\", type(e).__name__, e)\n"
   ]
  }
 ],
 "metadata": {},
 "nbformat": 4,
 "nbformat_minor": 5
}