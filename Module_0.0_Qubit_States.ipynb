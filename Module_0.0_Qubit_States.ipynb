{
 "cells": [
  {
   "cell_type": "markdown",
   "id": "6b4ed4b6",
   "metadata": {},
   "source": [
    "# Module 0.0: Qubit States"
   ]
  },
  {
   "cell_type": "markdown",
   "id": "54032280",
   "metadata": {},
   "source": [
    "## Section 0.0.1: Dirac Notation Basics\n",
    "\n",
    "Quantum states are represented using **Dirac notation**:\n",
    "- |0⟩ = [1, 0]ᵗ  (certain measurement of 0)\n",
    "- |1⟩ = [0, 1]ᵗ  (certain measurement of 1)\n",
    "- |+⟩ = (1/√2)(|0⟩ + |1⟩)\n",
    "- |−⟩ = (1/√2)(|0⟩ − |1⟩)\n",
    "\n",
    "These are **unit vectors** in a 2-dimensional complex space."
   ]
  },
  {
   "cell_type": "markdown",
   "id": "8b7b72c8",
   "metadata": {},
   "source": [
    "### Examples"
   ]
  },
  {
   "cell_type": "code",
   "execution_count": 1,
   "id": "a54f6256",
   "metadata": {},
   "outputs": [
    {
     "name": "stdout",
     "output_type": "stream",
     "text": [
      "Statevector([1.+0.j, 0.+0.j],\n",
      "            dims=(2,))\n",
      "Statevector([0.+0.j, 1.+0.j],\n",
      "            dims=(2,))\n",
      "Statevector([0.70710678+0.j, 0.70710678+0.j],\n",
      "            dims=(2,))\n",
      "Statevector([ 0.70710678+0.j, -0.70710678+0.j],\n",
      "            dims=(2,))\n"
     ]
    }
   ],
   "source": [
    "from qiskit.quantum_info import Statevector\n",
    "import rustworkx as retworkx\n",
    "\n",
    "print(Statevector([1, 0]))  # |0⟩\n",
    "print(Statevector([0, 1]))  # |1⟩\n",
    "print(Statevector([1/2**0.5, 1/2**0.5]))  # |+⟩\n",
    "print(Statevector([1/2**0.5, -1/2**0.5]))  # |−⟩"
   ]
  },
  {
   "cell_type": "markdown",
   "id": "d5d74362",
   "metadata": {},
   "source": [
    "## Section 0.0.2: Probabilities from Amplitudes\n",
    "\n",
    "If a state is |ψ⟩ = α|0⟩ + β|1⟩, then:\n",
    "- P(0) = |α|²\n",
    "- P(1) = |β|²\n",
    "\n",
    "The vector represents the **probabilities** of outcomes upon measurement."
   ]
  },
  {
   "cell_type": "code",
   "execution_count": 2,
   "id": "6b462027",
   "metadata": {},
   "outputs": [
    {
     "name": "stdout",
     "output_type": "stream",
     "text": [
      "{np.str_('0'): np.float64(0.4999999999999999), np.str_('1'): np.float64(0.4999999999999999)}\n"
     ]
    }
   ],
   "source": [
    "sv = Statevector([1/2**0.5, 1/2**0.5])  # |+⟩ state\n",
    "print(sv.probabilities_dict())"
   ]
  },
  {
   "cell_type": "markdown",
   "id": "f1692dbe",
   "metadata": {},
   "source": [
    "## Section 0.0.3: Normalization\n",
    "\n",
    "A quantum state must be **normalized**:\n",
    "\n",
    "|α₀|² + |α₁|² + ... + |αₙ|² = 1\n",
    "\n",
    "This ensures that the total measurement probability is 1."
   ]
  },
  {
   "cell_type": "code",
   "execution_count": 3,
   "id": "e616ecdb",
   "metadata": {},
   "outputs": [
    {
     "name": "stdout",
     "output_type": "stream",
     "text": [
      "[0.75 0.25]\n"
     ]
    }
   ],
   "source": [
    "from math import sqrt\n",
    "sv_valid = Statevector([sqrt(3)/2, 1/2])\n",
    "print(sv_valid.probabilities())\n",
    "\n",
    "# Invalid (unnormalized) example:\n",
    "# sv_invalid = Statevector([2, 2])  # This will raise an error"
   ]
  },
  {
   "cell_type": "markdown",
   "id": "5648761f-ac78-4cf6-8908-796e67fc6b21",
   "metadata": {},
   "source": [
    "# 0.0.4 Global Phase (and why it usually doesn’t matter)\n",
    "\n",
    "**Idea.** Multiplying a quantum state by a complex phase $e^{i\\theta}$ does **not** change any measurement probabilities.  \n",
    "For a pure state $|\\psi\\rangle$, the globally phased state $e^{i\\theta}|\\psi\\rangle$ yields the **same statistics** in every basis:\n",
    "$$\n",
    "P(x)=|\\langle x|\\psi\\rangle|^2 = |\\langle x|e^{i\\theta}\\psi\\rangle|^2.\n",
    "$$\n",
    "\n",
    "- **Global phase**: one phase factor multiplying the **entire** state (or the entire unitary). Physically unobservable.  \n",
    "- **Relative phase**: phase **differences** between components (e.g., $|0\\rangle + e^{i\\phi}|1\\rangle$). This **is** observable via interference.\n",
    "\n",
    "### Why probabilities don’t change\n",
    "Given amplitudes $\\alpha_x = \\langle x|\\psi\\rangle$, the phased amplitudes are $\\alpha'_x = e^{i\\theta}\\alpha_x$, so\n",
    "$|\\alpha'_x|^2 = |e^{i\\theta}|^2 |\\alpha_x|^2 = |\\alpha_x|^2$.\n",
    "\n",
    "### When phase *does* matter\n",
    "- If a phase is applied to **only part** of a superposition (e.g., a $Z$ rotation on $|1\\rangle$ but not $|0\\rangle$), that’s a **relative** phase and it changes interference patterns.\n",
    "- A gate or circuit can differ by a **global phase** and still represent the **same physical operation**. Many compilers recognize “equivalence up to global phase.”\n",
    "\n",
    "> **Exam tip:** If two states or two unitaries differ only by a factor $e^{i\\theta}$, they are physically equivalent for all measurement outcomes.\n",
    "\n",
    "### Qiskit note (v2.x)\n",
    "- Circuits carry an optional `global_phase` (e.g., `QuantumCircuit(..., global_phase=theta)`).  \n",
    "- Many equivalence checks in Qiskit treat circuits/operators as **equal up to global phase** when appropriate.\n",
    "\n",
    "#### Examples\n",
    "- $|+\\rangle = \\tfrac{1}{\\sqrt{2}}(|0\\rangle + |1\\rangle)$ and $e^{i\\pi/7}|+\\rangle$ are indistinguishable by measurement.  \n",
    "- The matrices $H$ and $-H$ (Hadamard and negative Hadamard) differ by a global phase $\\pi$; they implement the **same** physical transformation.\n",
    "\n",
    "**Key takeaways**\n",
    "1. Global phase is unobservable; relative phase is observable.  \n",
    "2. Compilers/simulators often ignore global phase differences when checking equivalence.  \n",
    "3. Be careful to distinguish a single, overall $e^{i\\theta}$ from state-component-specific phases.\n"
   ]
  },
  {
   "cell_type": "markdown",
   "id": "478bdf44-a102-4e37-a6c6-4c86cfd0a4b5",
   "metadata": {},
   "source": [
    "### Example: T gate — global vs relative phase\n",
    "\n",
    "**Question.** Consider the matrix $T=\\mathrm{diag}(1,e^{i\\pi/4})$ (we'll find out later this is the T gate). When applied to a qubit in the pure state $|1\\rangle$, what phase change does it introduce?\n",
    "\n",
    "A. A **relative** phase of $\\pi/4$ between $|0\\rangle$ and $|1\\rangle$.  \n",
    "B. A **global** phase of $e^{i\\pi/4}$ on the state.  \n",
    "C. A **global** phase of $e^{i\\pi/8}$ on the state.  \n",
    "D. No phase change at all.\n",
    "\n",
    "---\n",
    "\n",
    "**Answer:** **B**\n",
    "\n",
    "**Explanation:**  \n",
    "$T|1\\rangle = e^{i\\pi/4}|1\\rangle$. Since the state has no $|0\\rangle$ component, the factor $e^{i\\pi/4}$ multiplies the entire state—this is a **global** phase (physically unobservable). A **relative** phase appears only for superpositions such as $|+\\rangle = (|0\\rangle+|1\\rangle)/\\sqrt{2}$, where $T$ yields $(|0\\rangle + e^{i\\pi/4}|1\\rangle)/\\sqrt{2}$. Note: $T = e^{i\\pi/8} R_z(\\pi/4)$; the $e^{i\\pi/8}$ relates $T$ to $R_z$ and is not the phase acquired by $|1\\rangle$.\n"
   ]
  },
  {
   "cell_type": "markdown",
   "id": "99977851-1104-47ff-a0a3-2db5dd54ac42",
   "metadata": {},
   "source": [
    "#### Verify with Qiskit"
   ]
  },
  {
   "cell_type": "code",
   "execution_count": 1,
   "id": "44b62286",
   "metadata": {
    "collapsed": false,
    "jupyter": {
     "outputs_hidden": false
    }
   },
   "outputs": [
    {
     "name": "stdout",
     "output_type": "stream",
     "text": [
      "Probabilities equal: True\n",
      "Probs: [0.5 0.5]\n",
      "Statevectors identical after removing global phase: True\n"
     ]
    }
   ],
   "source": [
    "# Demonstration: global phase does not change probabilities (Qiskit v2.x)\n",
    "import numpy as np\n",
    "from qiskit.quantum_info import Statevector\n",
    "from qiskit import QuantumCircuit\n",
    "\n",
    "theta = 0.37  # some arbitrary global phase\n",
    "\n",
    "# Prepare |+> = (|0> + |1>)/sqrt(2)\n",
    "qc = QuantumCircuit(1)\n",
    "qc.h(0)\n",
    "psi = Statevector.from_instruction(qc)\n",
    "\n",
    "# Apply a global phase by multiplying the statevector data\n",
    "psi_phase = np.exp(1j*theta) * psi.data\n",
    "\n",
    "# Compare measurement probabilities\n",
    "probs_psi = np.abs(psi.data)**2\n",
    "probs_phase = np.abs(psi_phase)**2\n",
    "\n",
    "print(\"Probabilities equal:\", np.allclose(probs_psi, probs_phase))\n",
    "print(\"Probs:\", probs_psi)\n",
    "\n",
    "# Optional: show that two circuits differing by global phase act the same up to a phase\n",
    "qc1 = QuantumCircuit(1)\n",
    "qc1.h(0)\n",
    "\n",
    "qc2 = QuantumCircuit(1, global_phase=theta)\n",
    "qc2.h(0)\n",
    "\n",
    "# Apply both to |0> and compare the resulting states up to a global phase\n",
    "sv1 = Statevector.from_instruction(qc1)\n",
    "sv2 = Statevector.from_instruction(qc2)\n",
    "\n",
    "# Compute the phase that aligns sv2 to sv1\n",
    "phase_est = np.angle(np.vdot(sv1.data, sv2.data))\n",
    "aligned = np.exp(-1j*phase_est) * sv2.data\n",
    "\n",
    "print(\"Statevectors identical after removing global phase:\", np.allclose(sv1.data, aligned))\n"
   ]
  },
  {
   "cell_type": "markdown",
   "id": "d3eefb95",
   "metadata": {},
   "source": [
    "## Sample Questions (Multiple Choice)\n",
    "\n",
    "**Q1.** What is the probability of measuring 0 in the state |+⟩ = (1/√2)(|0⟩ + |1⟩)?\n",
    "- A. 1\n",
    "- B. 0.5 \n",
    "- C. 0\n",
    "- D. 0.25\n",
    "\n",
    "**Q2.** Which of the following is NOT a valid quantum state?\n",
    "- A. [1/√2, 1/√2]\n",
    "- B. [0.6, 0.8]\n",
    "- C. [2, 2] \n",
    "- D. [1, 0]\n",
    "\n",
    "**Q3.** In Dirac notation, which of the following represents the state vector [0, 1]?\n",
    "- A. |0⟩\n",
    "- B. |1⟩ \n",
    "- C. |+⟩\n",
    "- D. |−⟩"
   ]
  },
  {
   "cell_type": "markdown",
   "id": "bb800bae-6450-43b4-b264-e289846c10f6",
   "metadata": {},
   "source": [
    "Answers:\n",
    "1: B, 2: C, 3: B"
   ]
  },
  {
   "cell_type": "code",
   "execution_count": null,
   "id": "c0336121-d72f-434c-a785-9889a737a67e",
   "metadata": {},
   "outputs": [],
   "source": []
  }
 ],
 "metadata": {
  "kernelspec": {
   "display_name": "Python (qiskit2x)",
   "language": "python",
   "name": "qiskit2x"
  },
  "language_info": {
   "codemirror_mode": {
    "name": "ipython",
    "version": 3
   },
   "file_extension": ".py",
   "mimetype": "text/x-python",
   "name": "python",
   "nbconvert_exporter": "python",
   "pygments_lexer": "ipython3",
   "version": "3.12.11"
  }
 },
 "nbformat": 4,
 "nbformat_minor": 5
}
