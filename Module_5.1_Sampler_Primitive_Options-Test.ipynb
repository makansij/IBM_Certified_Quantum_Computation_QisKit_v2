{
 "cells": [
  {
   "cell_type": "markdown",
   "id": "470c0dc9",
   "metadata": {},
   "source": [
    "<div style=\"background:#0f62fe;color:#fff;padding:14px 16px;border-radius:8px;margin:8px 0;font-weight:700;\">\n",
    "Module 5.1 — Sampler Primitive Options\n",
    "</div>"
   ]
  },
  {
   "cell_type": "markdown",
   "id": "fc48f2dc",
   "metadata": {},
   "source": [
    "**Learning Objectives**\n",
    "\n",
    "- Identify what `SamplerV2` returns and where options are set.\n",
    "- Set default options on `sampler.options` and override per `run()`.\n",
    "- Control **shots** and read the result object.\n",
    "- Configure **Dynamical Decoupling (DD)** and **Pauli Twirling** (backend-dependent).\n",
    "- Validate settings and understand simulator vs. hardware behavior."
   ]
  },
  {
   "cell_type": "markdown",
   "id": "541009e7",
   "metadata": {},
   "source": [
    "\n",
    "\n",
    "---\n",
    "\n"
   ]
  },
  {
   "cell_type": "markdown",
   "id": "d2f5d067",
   "metadata": {},
   "source": [
    "<div style=\"background:#001d6c;color:#fff;padding:10px 12px;border-radius:6px;margin:8px 0;font-weight:600;\">\n",
    "5.1.1 — Sampler overview & where options live\n",
    "</div>"
   ]
  },
  {
   "cell_type": "markdown",
   "id": "eed4171b",
   "metadata": {},
   "source": [
    "**Overview**  \n",
    "- `SamplerV2` returns **shot-based bitstring distributions** (probabilities/counts + metadata).\n",
    "- **Defaults** live on `sampler.options`; per-execution overrides go in `run(...)`.\n",
    "**Tip:** Construct → set defaults → `run()` with PUBs → inspect `.result()`."
   ]
  },
  {
   "cell_type": "markdown",
   "id": "ba42226b",
   "metadata": {},
   "source": [
    "**Example Code: Basics**"
   ]
  },
  {
   "cell_type": "code",
   "execution_count": 12,
   "id": "33c4ed7c",
   "metadata": {},
   "outputs": [
    {
     "name": "stdout",
     "output_type": "stream",
     "text": [
      "the backends available are [<IBMBackend('ibm_brisbane')>, <IBMBackend('ibm_torino')>]\n",
      "using backend  <IBMBackend('ibm_torino')>\n",
      "SamplerPubResult(data=DataBin(meas=BitArray(<shape=(), num_shots=4096, num_bits=2>)), metadata={'circuit_metadata': {}})\n"
     ]
    }
   ],
   "source": [
    "# Explanation: minimal pattern (requires qiskit & qiskit-ibm-runtime)\n",
    "from qiskit import QuantumCircuit, transpile\n",
    "from qiskit_ibm_runtime import QiskitRuntimeService, SamplerV2, Options\n",
    "\n",
    "service = QiskitRuntimeService() \n",
    "# Pick any available backend you have access to (real device or simulator):\n",
    "backend = service.backends()[1]  # e.g., \"ibm_sherbrooke\" for a device, if you have access\n",
    "print('the backends available are', service.backends())\n",
    "print('using backend ', backend)\n",
    "qc = QuantumCircuit(2)\n",
    "qc.h(0); qc.cx(0,1); qc.measure_all()\n",
    "\n",
    "# 🔧 Make the circuit match the backend’s target\n",
    "qc_native = transpile(qc, backend=backend, optimization_level=1)\n",
    "\n",
    "sampler = SamplerV2(mode=backend)           # no Options(default_shots=...) here\n",
    "job = sampler.run([qc_native], shots=4096)  # <-- set shots per call\n",
    "res = job.result()\n",
    "print(res[0])"
   ]
  },
  {
   "cell_type": "markdown",
   "id": "9f715fdb",
   "metadata": {},
   "source": [
    "\n",
    "\n",
    "---\n",
    "\n"
   ]
  },
  {
   "cell_type": "markdown",
   "id": "37955f58",
   "metadata": {},
   "source": [
    "<div style=\"background:#001d6c;color:#fff;padding:10px 12px;border-radius:6px;margin:8px 0;font-weight:600;\">\n",
    "5.1.2 — Setting & overriding options (workflow)\n",
    "</div>"
   ]
  },
  {
   "cell_type": "markdown",
   "id": "dd46682e",
   "metadata": {},
   "source": [
    "**Workflow**  \n",
    "1) Choose backend/session  →  2) `SamplerV2()`  →  3) set `sampler.options`  →  4) override selectively in `run()`."
   ]
  },
  {
   "cell_type": "markdown",
   "id": "3c6c2bb2",
   "metadata": {},
   "source": [
    "**Example Code: Defaults vs. Per‑run Override**"
   ]
  },
  {
   "cell_type": "code",
   "execution_count": null,
   "id": "c50f55c8",
   "metadata": {},
   "outputs": [],
   "source": [
    "from qiskit_ibm_runtime import SamplerV2\n",
    "sampler = SamplerV2()\n",
    "# Set defaults on the live sampler\n",
    "sampler.options.default_shots = 2048\n",
    "sampler.options.dynamical_decoupling.enable = True\n",
    "sampler.options.dynamical_decoupling.sequence_type = 'XY4'\n",
    "sampler.options.twirling.enable = True\n",
    "\n",
    "# Per-job override (temporarily disable twirling for this run)\n",
    "job = sampler.run([qc], shots=1024, options={'twirling': {'enable': False}})\n",
    "print('Job submitted with per-run override; check results to confirm.')"
   ]
  },
  {
   "cell_type": "markdown",
   "id": "37288668",
   "metadata": {},
   "source": [
    "\n",
    "\n",
    "---\n",
    "\n"
   ]
  },
  {
   "cell_type": "markdown",
   "id": "69751918",
   "metadata": {},
   "source": [
    "<div style=\"background:#001d6c;color:#fff;padding:10px 12px;border-radius:6px;margin:8px 0;font-weight:600;\">\n",
    "5.1.3 — Shots & measurement return\n",
    "</div>"
   ]
  },
  {
   "cell_type": "markdown",
   "id": "54565329",
   "metadata": {},
   "source": [
    "- Control shots globally (`sampler.options.default_shots`) or per call (`run(shots=...)`).\n",
    "- Results expose counts/probabilities keyed by bitstrings plus metadata.\n",
    "**Exam focus:** how to change shot count; how to read the result object."
   ]
  },
  {
   "cell_type": "markdown",
   "id": "be5509ae",
   "metadata": {},
   "source": [
    "**Example Code: Reading Results**"
   ]
  },
  {
   "cell_type": "code",
   "execution_count": null,
   "id": "97f99329",
   "metadata": {},
   "outputs": [],
   "source": [
    "job = sampler.run([qc], shots=4096)\n",
    "result = job.result()\n",
    "try:\n",
    "    dist0 = result[0]\n",
    "    print('Top items:', list(dist0.items())[:5])\n",
    "except Exception as e:\n",
    "    print('Result shape differs by version:', e)"
   ]
  },
  {
   "cell_type": "markdown",
   "id": "4e2acad9",
   "metadata": {},
   "source": [
    "\n",
    "\n",
    "---\n",
    "\n"
   ]
  },
  {
   "cell_type": "markdown",
   "id": "ca68e18c",
   "metadata": {},
   "source": [
    "<div style=\"background:#001d6c;color:#fff;padding:10px 12px;border-radius:6px;margin:8px 0;font-weight:600;\">\n",
    "5.1.4 — Dynamical decoupling (DD)\n",
    "</div>"
   ]
  },
  {
   "cell_type": "markdown",
   "id": "d420b285",
   "metadata": {},
   "source": [
    "**Concept**  \n",
    "DD inserts idle-time pulses to mitigate dephasing. Enable via `sampler.options.dynamical_decoupling.enable=True` and select a sequence (e.g., `XY4`). **Backend support required.**"
   ]
  },
  {
   "cell_type": "markdown",
   "id": "11783594",
   "metadata": {},
   "source": [
    "**Example Code: Enable DD**"
   ]
  },
  {
   "cell_type": "code",
   "execution_count": null,
   "id": "3e89fc63",
   "metadata": {},
   "outputs": [],
   "source": [
    "sampler.options.dynamical_decoupling.enable = True\n",
    "sampler.options.dynamical_decoupling.sequence_type = 'XY4'\n",
    "print('DD enabled with XY4 (if backend supports).')"
   ]
  },
  {
   "cell_type": "markdown",
   "id": "f068ec3c",
   "metadata": {},
   "source": [
    "\n",
    "\n",
    "---\n",
    "\n"
   ]
  },
  {
   "cell_type": "markdown",
   "id": "d8fbcac2",
   "metadata": {},
   "source": [
    "<div style=\"background:#001d6c;color:#fff;padding:10px 12px;border-radius:6px;margin:8px 0;font-weight:600;\">\n",
    "5.1.5 — Twirling\n",
    "</div>"
   ]
  },
  {
   "cell_type": "markdown",
   "id": "169805b3",
   "metadata": {},
   "source": [
    "**Concept**  \n",
    "Pauli twirling randomizes coherent errors, making them effectively stochastic and easier to mitigate. Often **combinable with DD**, depending on backend."
   ]
  },
  {
   "cell_type": "markdown",
   "id": "c62203d7",
   "metadata": {},
   "source": [
    "**Example Code: Enable Twirling**"
   ]
  },
  {
   "cell_type": "code",
   "execution_count": null,
   "id": "3b0277fe",
   "metadata": {},
   "outputs": [],
   "source": [
    "sampler.options.twirling.enable = True\n",
    "print('Twirling enabled (subject to backend support).')"
   ]
  },
  {
   "cell_type": "markdown",
   "id": "39d82b61",
   "metadata": {},
   "source": [
    "\n",
    "\n",
    "---\n",
    "\n"
   ]
  },
  {
   "cell_type": "markdown",
   "id": "f0e61929",
   "metadata": {},
   "source": [
    "<div style=\"background:#001d6c;color:#fff;padding:10px 12px;border-radius:6px;margin:8px 0;font-weight:600;\">\n",
    "5.1.6 — Backend/simulator notes & quick validation\n",
    "</div>"
   ]
  },
  {
   "cell_type": "markdown",
   "id": "f356d6ea",
   "metadata": {},
   "source": [
    "- Many options (DD, twirling) impact **hardware** runs; local ideal simulators may not reflect changes.\n",
    "- To simulate realistically, mirror target device noise/coupling.\n",
    "- **Validation idea:** run with/without DD/twirling and compare distributions."
   ]
  },
  {
   "cell_type": "markdown",
   "id": "fece047b",
   "metadata": {},
   "source": [
    "**Example Code: A/B Toggle Scaffold**"
   ]
  },
  {
   "cell_type": "code",
   "execution_count": null,
   "id": "c23005f4",
   "metadata": {},
   "outputs": [],
   "source": [
    "def run_with_options(enable_dd, enable_twirling, shots=2048):\n",
    "    sampler.options.dynamical_decoupling.enable = enable_dd\n",
    "    sampler.options.twirling.enable = enable_twirling\n",
    "    job = sampler.run([qc], shots=shots)\n",
    "    return job.result()\n",
    "# r0 = run_with_options(False, False)\n",
    "# r1 = run_with_options(True, False)\n",
    "# r2 = run_with_options(False, True)\n",
    "# r3 = run_with_options(True, True)\n",
    "print('Toggle sets prepared; uncomment to compare distributions.')"
   ]
  },
  {
   "cell_type": "markdown",
   "id": "a871eb03",
   "metadata": {},
   "source": [
    "\n",
    "\n",
    "---\n",
    "\n"
   ]
  },
  {
   "cell_type": "markdown",
   "id": "048a567b",
   "metadata": {},
   "source": [
    "<div style=\"background:#001d6c;color:#fff;padding:10px 12px;border-radius:6px;margin:8px 0;font-weight:600;\">\n",
    "5.1.7 — Sample Exam‑Style Questions\n",
    "</div>"
   ]
  },
  {
   "cell_type": "markdown",
   "id": "4d901451",
   "metadata": {},
   "source": [
    "Provide brief context before each question, as in the client template. Answers are listed after the questions.\n"
   ]
  },
  {
   "cell_type": "markdown",
   "id": "8f037551",
   "metadata": {},
   "source": [
    "\n",
    "**Q1 (5.1.1)** In which place do default sampler options live?  \n",
    "A. PUB only  \n",
    "B. `sampler.options`  \n",
    "C. Backend config  \n",
    "D. `run()` only\n",
    "\n",
    "**Q2 (5.1.1)** What does the sampler conceptually return?  \n",
    "A. Statevector  \n",
    "B. Eigenvalues  \n",
    "C. Bitstring distribution  \n",
    "D. Unitary\n",
    "\n",
    "**Q3 (5.1.2)** Correct workflow?  \n",
    "A. run() → set options → backend  \n",
    "B. backend → sampler → set defaults → run()  \n",
    "C. set defaults → sampler → run()  \n",
    "D. sampler → run() → set defaults\n",
    "\n",
    "**Q4 (5.1.2)** How to tweak behavior for one job?  \n",
    "A. Edit calibrations  \n",
    "B. Pass overrides in `run(...)`  \n",
    "C. Reinstall  \n",
    "D. Not possible\n",
    "\n",
    "**Q5 (5.1.3)** Change shots for a single job via:  \n",
    "A. `sampler.options.default_shots`  \n",
    "B. `run(shots=...)`  \n",
    "C. `sampler.options.time_limit`  \n",
    "D. PUB parameters\n",
    "\n",
    "**Q6 (5.1.3)** The result object typically exposes:  \n",
    "A. Unitary  \n",
    "B. Counts/probabilities  \n",
    "C. Bloch vectors  \n",
    "D. Cal data only\n",
    "\n",
    "**Q7 (5.1.4)** DD primarily mitigates:  \n",
    "A. Sampling variance  \n",
    "B. Idle-time dephasing  \n",
    "C. Queue wait  \n",
    "D. Transpilation time\n",
    "\n",
    "**Q8 (5.1.4)** A common DD sequence:  \n",
    "A. HZH  \n",
    "B. XY4  \n",
    "C. T-echo  \n",
    "D. SWAP3\n",
    "\n",
    "**Q9 (5.1.5)** Twirling is for:  \n",
    "A. Increase crosstalk  \n",
    "B. Randomize coherent errors  \n",
    "C. Remove readout errors  \n",
    "D. Double shots\n",
    "\n",
    "**Q10 (5.1.5)** DD and twirling can be:  \n",
    "A. Mutually exclusive  \n",
    "B. Combined (backend-dependent)  \n",
    "C. Simulator-only  \n",
    "D. Stabilizer-only\n",
    "\n",
    "**Q11 (5.1.6)** True statement:  \n",
    "A. DD/twirling always visible on ideal sim  \n",
    "B. Often require hardware support  \n",
    "C. Shots ignored on hardware  \n",
    "D. Noise cannot be mirrored\n",
    "\n",
    "**Q12 (5.1.6)** Quick validation:  \n",
    "A. Compare runs with/without DD/twirling  \n",
    "B. Check CPU temp  \n",
    "C. Change optimizer  \n",
    "D. Alter qubit frequency\n",
    "\n",
    "**Answers:** 1‑B, 2‑C, 3‑B, 4‑B, 5‑B, 6‑B, 7‑B, 8‑B, 9‑B, 10‑B, 11‑B, 12‑A\n"
   ]
  },
  {
   "cell_type": "markdown",
   "id": "d8ff31c8",
   "metadata": {},
   "source": [
    "\n",
    "\n",
    "---\n",
    "\n"
   ]
  },
  {
   "cell_type": "markdown",
   "id": "189596ae",
   "metadata": {},
   "source": [
    "**Summary**  \n",
    "Default vs per‑run options, shots & results, DD & twirling concepts, and practical validation on hardware vs. simulator."
   ]
  }
 ],
 "metadata": {
  "kernelspec": {
   "display_name": "Python (qiskit2x)",
   "language": "python",
   "name": "qiskit2x"
  },
  "language_info": {
   "codemirror_mode": {
    "name": "ipython",
    "version": 3
   },
   "file_extension": ".py",
   "mimetype": "text/x-python",
   "name": "python",
   "nbconvert_exporter": "python",
   "pygments_lexer": "ipython3",
   "version": "3.12.11"
  }
 },
 "nbformat": 4,
 "nbformat_minor": 5
}
