{
 "cells": [
  {
   "cell_type": "code",
   "execution_count": 1,
   "id": "7325603e",
   "metadata": {},
   "outputs": [],
   "source": [
    "import numpy as np"
   ]
  },
  {
   "cell_type": "markdown",
   "id": "bee60b26",
   "metadata": {},
   "source": [
    "# Qiskit Certification Prep - Module 0.1: Single-Qubit Operations"
   ]
  },
  {
   "cell_type": "markdown",
   "id": "500fa59e",
   "metadata": {},
   "source": [
    "## Section 0.1.1: Pauli Gates\n",
    "\n",
    "Pauli gates are the basic quantum logic gates. Their matrix representations and actions are:\n",
    "\n",
    "- **X (NOT gate)**:\n",
    "  $$X = \\begin{bmatrix} 0 & 1 \\\\ 1 & 0 \\end{bmatrix}$$\n",
    "  Swaps $|0⟩$ and $|1⟩$\n",
    "\n",
    "- **Y**:\n",
    "  $$Y = \\begin{bmatrix} 0 & -i \\\\ i & 0 \\end{bmatrix}$$\n",
    "  Applies a bit and phase flip\n",
    "\n",
    "- **Z**:\n",
    "  $$Z = \\begin{bmatrix} 1 & 0 \\\\ 0 & -1 \\end{bmatrix}$$\n",
    "  Flips the phase of $|1⟩$"
   ]
  },
  {
   "cell_type": "code",
   "execution_count": 2,
   "id": "ffb679d6",
   "metadata": {},
   "outputs": [
    {
     "name": "stderr",
     "output_type": "stream",
     "text": [
      "/Users/jordanmakansi/mamba/envs/qiskit-cert-intel/lib/python3.9/site-packages/qiskit/circuit/equivalence.py:18: DeprecationWarning: The retworkx package is deprecated and has been renamed to rustworkx. Rustworkx is a drop-in replacement and can be used by replacing `import retworkx` with import `rustworkx`. \n",
      "  import retworkx as rx\n",
      "/Users/jordanmakansi/mamba/envs/qiskit-cert-intel/lib/python3.9/site-packages/qiskit/version.py:20: UserWarning: pkg_resources is deprecated as an API. See https://setuptools.pypa.io/en/latest/pkg_resources.html. The pkg_resources package is slated for removal as early as 2025-11-30. Refrain from using this package or pin to Setuptools<81.\n",
      "  import pkg_resources\n"
     ]
    },
    {
     "data": {
      "image/png": "[encoded data removed]",
      "text/plain": [
       "<Figure size 185.453x117.056 with 1 Axes>"
      ]
     },
     "execution_count": 2,
     "metadata": {},
     "output_type": "execute_result"
    },
    {
     "data": {
      "image/png": "[encoded data removed]",
      "text/plain": [
       "<Figure size 185.453x117.056 with 1 Axes>"
      ]
     },
     "metadata": {},
     "output_type": "display_data"
    }
   ],
   "source": [
    "from qiskit import QuantumCircuit\n",
    "qc = QuantumCircuit(1)\n",
    "qc.x(0)\n",
    "qc.draw('mpl')"
   ]
  },
  {
   "cell_type": "code",
   "execution_count": 3,
   "id": "c6c41116",
   "metadata": {},
   "outputs": [
    {
     "data": {
      "image/png": "[encoded data removed]",
      "text/plain": [
       "<Figure size 185.453x117.056 with 1 Axes>"
      ]
     },
     "execution_count": 3,
     "metadata": {},
     "output_type": "execute_result"
    },
    {
     "data": {
      "image/png": "[encoded data removed]",
      "text/plain": [
       "<Figure size 185.453x117.056 with 1 Axes>"
      ]
     },
     "metadata": {},
     "output_type": "display_data"
    }
   ],
   "source": [
    "qc = QuantumCircuit(1)\n",
    "qc.y(0)\n",
    "qc.draw('mpl')"
   ]
  },
  {
   "cell_type": "code",
   "execution_count": 4,
   "id": "65f04965",
   "metadata": {},
   "outputs": [
    {
     "data": {
      "image/png": "[encoded data removed]",
      "text/plain": [
       "<Figure size 185.453x117.056 with 1 Axes>"
      ]
     },
     "execution_count": 4,
     "metadata": {},
     "output_type": "execute_result"
    },
    {
     "data": {
      "image/png": "[encoded data removed]",
      "text/plain": [
       "<Figure size 185.453x117.056 with 1 Axes>"
      ]
     },
     "metadata": {},
     "output_type": "display_data"
    }
   ],
   "source": [
    "qc = QuantumCircuit(1)\n",
    "qc.z(0)\n",
    "qc.draw('mpl')"
   ]
  },
  {
   "cell_type": "markdown",
   "id": "df3f34ce",
   "metadata": {},
   "source": [
    "### Action of Pauli Gates on Basis States"
   ]
  },
  {
   "cell_type": "code",
   "execution_count": 5,
   "id": "7b931a4a",
   "metadata": {},
   "outputs": [
    {
     "name": "stdout",
     "output_type": "stream",
     "text": [
      "X on |+⟩ → Statevector([0.70710678+0.j, 0.70710678+0.j],\n",
      "            dims=(2,))\n",
      "X on |−⟩ → Statevector([-0.70710678+0.j,  0.70710678+0.j],\n",
      "            dims=(2,))\n"
     ]
    }
   ],
   "source": [
    "from qiskit import QuantumCircuit\n",
    "from qiskit.quantum_info import Statevector\n",
    "\n",
    "# Define |+⟩ and |−⟩ statevectors\n",
    "plus = Statevector([1/2**0.5, 1/2**0.5])\n",
    "minus = Statevector([1/2**0.5, -1/2**0.5])\n",
    "\n",
    "# Create the X gate circuit\n",
    "qc_x = QuantumCircuit(1)\n",
    "qc_x.x(0)\n",
    "\n",
    "# Evolve using .to_instruction()\n",
    "plus_result = plus.evolve(qc_x.to_instruction())\n",
    "minus_result = minus.evolve(qc_x.to_instruction())\n",
    "\n",
    "print(\"X on |+⟩ →\", plus_result)\n",
    "print(\"X on |−⟩ →\", minus_result)"
   ]
  },
  {
   "cell_type": "markdown",
   "id": "6f107aa9",
   "metadata": {},
   "source": [
    "### The $|+⟩$ and $|−⟩$ States\n",
    "\n",
    "These are important quantum states often used when working with the Hadamard gate and measurement in the X-basis:\n",
    "\n",
    "- $|+⟩ = \\frac{1}{\\sqrt{2}}(|0⟩ + |1⟩)$\n",
    "- $|−⟩ = \\frac{1}{\\sqrt{2}}(|0⟩ - |1⟩)$\n",
    "\n",
    "They form an **orthonormal basis**, just like $|0⟩$ and $|1⟩$, and are the eigenstates of the Hadamard gate."
   ]
  },
  {
   "cell_type": "markdown",
   "id": "c2fe5e19",
   "metadata": {},
   "source": [
    "### Identity: X = H Z H"
   ]
  },
  {
   "cell_type": "code",
   "execution_count": 6,
   "id": "5c354074",
   "metadata": {},
   "outputs": [
    {
     "name": "stdout",
     "output_type": "stream",
     "text": [
      "Equivalent state:\n",
      "Statevector([-2.23711432e-17+0.j,  1.00000000e+00+0.j],\n",
      "            dims=(2,))\n",
      "Statevector([0.+0.j, 1.+0.j],\n",
      "            dims=(2,))\n"
     ]
    }
   ],
   "source": [
    "qc1 = QuantumCircuit(1)\n",
    "qc1.h(0)\n",
    "qc1.z(0)\n",
    "qc1.h(0)\n",
    "\n",
    "qc2 = QuantumCircuit(1)\n",
    "qc2.x(0)\n",
    "\n",
    "print(\"Equivalent state:\")\n",
    "print(Statevector.from_label('0').evolve(qc1))\n",
    "print(Statevector.from_label('0').evolve(qc2))"
   ]
  },
  {
   "cell_type": "markdown",
   "id": "51e5d0a9",
   "metadata": {},
   "source": [
    "## Section 0.1.2: Rotation Gates\n",
    "\n",
    "- **RX(θ)**:\n",
    "  $$RX(\\theta) = \\begin{bmatrix} \\cos(\\theta/2) & -i\\sin(\\theta/2) \\\\ -i\\sin(\\theta/2) & \\cos(\\theta/2) \\end{bmatrix}$$\n",
    "\n",
    "- **RY(θ)**:\n",
    "  $$RY(\\theta) = \\begin{bmatrix} \\cos(\\theta/2) & -\\sin(\\theta/2) \\\\ \\sin(\\theta/2) & \\cos(\\theta/2) \\end{bmatrix}$$\n",
    "\n",
    "- **RZ(θ)**:\n",
    "  $$RZ(\\theta) = \\begin{bmatrix} e^{-i\\theta/2} & 0 \\\\ 0 & e^{i \\theta/2} \\end{bmatrix}$$"
   ]
  },
  {
   "cell_type": "markdown",
   "id": "8b5ea4ce",
   "metadata": {},
   "source": [
    "### Advanced Example: Rotation Gate Composition\n",
    "**Note**: Pauli gates are a special case of Rotation gates, *up to a global phase* where the angle of rotation is $\\theta=\\pi$.\n",
    "You can compose multiple rotation gates. For example, two Rx(π/2) gates in a row are equivalent to Rx(π):\n",
    "\n",
    "Applying $R_x(\\pi/2)$ twice is the same as $R_x(\\pi)$ up to global phase.\n",
    "\n",
    "This can be verified with Qiskit:"
   ]
  },
  {
   "cell_type": "code",
   "execution_count": 7,
   "id": "91a710d1",
   "metadata": {},
   "outputs": [
    {
     "name": "stdout",
     "output_type": "stream",
     "text": [
      "Are the two final states equal (up to global phase)? True\n"
     ]
    }
   ],
   "source": [
    "from qiskit import QuantumCircuit\n",
    "from qiskit.quantum_info import Statevector\n",
    "\n",
    "qc1 = QuantumCircuit(1)\n",
    "qc1.rx(np.pi/2, 0)\n",
    "qc1.rx(np.pi/2, 0)\n",
    "state1 = Statevector.from_instruction(qc1)\n",
    "\n",
    "qc2 = QuantumCircuit(1)\n",
    "qc2.rx(np.pi, 0)\n",
    "state2 = Statevector.from_instruction(qc2)\n",
    "\n",
    "print(\"Are the two final states equal (up to global phase)?\",\n",
    "      state1.equiv(state2))"
   ]
  },
  {
   "cell_type": "code",
   "execution_count": 8,
   "id": "708d27a2",
   "metadata": {},
   "outputs": [
    {
     "data": {
      "image/png": "[encoded data removed]",
      "text/plain": [
       "<Figure size 185.453x117.056 with 1 Axes>"
      ]
     },
     "execution_count": 8,
     "metadata": {},
     "output_type": "execute_result"
    },
    {
     "data": {
      "image/png": "[encoded data removed]",
      "text/plain": [
       "<Figure size 185.453x117.056 with 1 Axes>"
      ]
     },
     "metadata": {},
     "output_type": "display_data"
    }
   ],
   "source": [
    "from numpy import pi\n",
    "qc = QuantumCircuit(1)\n",
    "qc.rx(pi/2, 0)\n",
    "qc.draw('mpl')"
   ]
  },
  {
   "cell_type": "code",
   "execution_count": 9,
   "id": "f8c7294b",
   "metadata": {},
   "outputs": [
    {
     "data": {
      "image/png": "[encoded data removed]",
      "text/plain": [
       "<Figure size 185.453x117.056 with 1 Axes>"
      ]
     },
     "execution_count": 9,
     "metadata": {},
     "output_type": "execute_result"
    },
    {
     "data": {
      "image/png": "[encoded data removed]",
      "text/plain": [
       "<Figure size 185.453x117.056 with 1 Axes>"
      ]
     },
     "metadata": {},
     "output_type": "display_data"
    }
   ],
   "source": [
    "qc = QuantumCircuit(1)\n",
    "qc.ry(pi, 0)  # Equivalent to Y gate\n",
    "qc.draw('mpl')"
   ]
  },
  {
   "cell_type": "code",
   "execution_count": 10,
   "id": "ab93c7a0",
   "metadata": {},
   "outputs": [
    {
     "data": {
      "image/png": "[encoded data removed]",
      "text/plain": [
       "<Figure size 185.453x117.056 with 1 Axes>"
      ]
     },
     "execution_count": 10,
     "metadata": {},
     "output_type": "execute_result"
    },
    {
     "data": {
      "image/png": "[encoded data removed]",
      "text/plain": [
       "<Figure size 185.453x117.056 with 1 Axes>"
      ]
     },
     "metadata": {},
     "output_type": "display_data"
    }
   ],
   "source": [
    "qc = QuantumCircuit(1)\n",
    "qc.rz(pi/4, 0)\n",
    "qc.draw('mpl')"
   ]
  },
  {
   "cell_type": "markdown",
   "id": "18f7c7cb",
   "metadata": {},
   "source": [
    "## Section 0.1.3: Hadamard Gate\n",
    "\n",
    "The **Hadamard gate (H)** creates a superposition:\n",
    "\n",
    "$$H = \\frac{1}{\\sqrt{2}} \\begin{bmatrix} 1 & 1 \\\\ 1 & -1 \\end{bmatrix}$$\n",
    "\n",
    "- $H|0⟩ = |+⟩$\n",
    "- $H|1⟩ = |−⟩$"
   ]
  },
  {
   "cell_type": "code",
   "execution_count": 11,
   "id": "83e6d52f",
   "metadata": {},
   "outputs": [
    {
     "data": {
      "image/png": "[encoded data removed]",
      "text/plain": [
       "<Figure size 185.453x117.056 with 1 Axes>"
      ]
     },
     "execution_count": 11,
     "metadata": {},
     "output_type": "execute_result"
    },
    {
     "data": {
      "image/png": "[encoded data removed]",
      "text/plain": [
       "<Figure size 185.453x117.056 with 1 Axes>"
      ]
     },
     "metadata": {},
     "output_type": "display_data"
    }
   ],
   "source": [
    "qc = QuantumCircuit(1)\n",
    "qc.h(0)\n",
    "qc.draw('mpl')"
   ]
  },
  {
   "cell_type": "markdown",
   "id": "d0aa486a",
   "metadata": {},
   "source": [
    "## Section 0.1.4: Useful Gate Identities and Algebra\n",
    "\n",
    "### Properties of the Hadamard Gate:\n",
    "- **Hermitian**: $H = H^\\dagger$\n",
    "- **Unitary**: $H^\\dagger H = I$\n",
    "\n",
    "### Common Identities:\n",
    "- $X = HZH$\n",
    "- $Z = HXH$\n",
    "- $H^2 = I$\n",
    "- $X^2 = Y^2 = Z^2 = I$\n",
    "- $XYZ = iI$  → So $-iXYZ = I$\n",
    "\n",
    "### Commutation / Anticommutation:\n",
    "- $ZX = -XZ$\n",
    "- $YX = -XY$\n",
    "- $ZY = -YZ$\n",
    "\n",
    "These identities arise from the non-commutative nature of quantum gates and are fundamental to quantum algorithms and error correction."
   ]
  },
  {
   "cell_type": "markdown",
   "id": "54338eaa",
   "metadata": {},
   "source": [
    "### Action of X on $|+⟩$ and $|−⟩$ States\n",
    "\n",
    "The $|+⟩$ and $|−⟩$ states are defined as:\n",
    "- $|+⟩ = \\frac{1}{\\sqrt{2}}(|0⟩ + |1⟩)$\n",
    "- $|−⟩ = \\frac{1}{\\sqrt{2}}(|0⟩ - |1⟩)$\n",
    "\n",
    "These are eigenstates of the Hadamard gate and are important for understanding quantum algorithms and measurement in different bases."
   ]
  },
  {
   "cell_type": "code",
   "execution_count": 12,
   "id": "fd9067cc",
   "metadata": {},
   "outputs": [
    {
     "name": "stdout",
     "output_type": "stream",
     "text": [
      "X on |+⟩ → Statevector([0.70710678+0.j, 0.70710678+0.j],\n",
      "            dims=(2,))\n",
      "X on |−⟩ → Statevector([-0.70710678+0.j,  0.70710678+0.j],\n",
      "            dims=(2,))\n"
     ]
    },
    {
     "name": "stderr",
     "output_type": "stream",
     "text": [
      "/Users/jordanmakansi/mamba/envs/qiskit-cert-intel/lib/python3.9/site-packages/qiskit/quantum_info/operators/operator.py:479: DeprecationWarning: `product` is deprecated as of NumPy 1.25.0, and will be removed in NumPy 2.0. Please use `prod` instead.\n",
      "  op = self.compose(mat, qargs=qargs)\n",
      "/Users/jordanmakansi/mamba/envs/qiskit-cert-intel/lib/python3.9/site-packages/qiskit/quantum_info/operators/operator.py:479: DeprecationWarning: `product` is deprecated as of NumPy 1.25.0, and will be removed in NumPy 2.0. Please use `prod` instead.\n",
      "  op = self.compose(mat, qargs=qargs)\n"
     ]
    }
   ],
   "source": [
    "from qiskit.quantum_info import Statevector, Operator\n",
    "from qiskit import QuantumCircuit\n",
    "\n",
    "# Define |+⟩ and |−⟩ statevectors\n",
    "plus = Statevector([1/2**0.5, 1/2**0.5])\n",
    "minus = Statevector([1/2**0.5, -1/2**0.5])\n",
    "\n",
    "# Create the X gate circuit\n",
    "qc_x = QuantumCircuit(1)\n",
    "qc_x.x(0)\n",
    "op_x = Operator(qc_x)\n",
    "\n",
    "# Evolve the states\n",
    "print(\"X on |+⟩ →\", plus.evolve(op_x))\n",
    "print(\"X on |−⟩ →\", minus.evolve(op_x))"
   ]
  },
  {
   "cell_type": "markdown",
   "id": "bd45b000",
   "metadata": {},
   "source": [
    "# 0.1.4 T and S gates\n",
    "\n",
    "**What are $T$ and $S$?**  \n",
    "- The **$T$ gate** (a $\\pi/4$ phase gate) is $T=\\mathrm{diag}(1, e^{i\\pi/4})$.  \n",
    "- The **$S$ gate** (a $\\pi/2$ phase gate) is $S=\\mathrm{diag}(1, e^{i\\pi/2})=\\mathrm{diag}(1, i)$.  \n",
    "- The **$Z$ gate** is $Z=\\mathrm{diag}(1,-1)=S^2=T^4$.\n",
    "\n",
    "These are all **phase gates** acting on the $\\{|0\\rangle,|1\\rangle\\}$ basis. They leave $|0\\rangle$ unchanged and add a phase to $|1\\rangle$.\n",
    "\n",
    "### Global vs relative phase (and a quick verification)\n",
    "A single overall factor $e^{i\\theta}$ multiplying the **entire** state is a **global phase** and is not observable. But $T$ and $S$ typically add a **relative phase** between the $|0\\rangle$ and $|1\\rangle$ components of a superposition:\n",
    "$$\n",
    "a|0\\rangle + b|1\\rangle \\xrightarrow{\\,T\\,} a|0\\rangle + b\\,e^{i\\pi/4}|1\\rangle,\\qquad\n",
    "a|0\\rangle + b|1\\rangle \\xrightarrow{\\,S\\,} a|0\\rangle + b\\,i\\,|1\\rangle.\n",
    "$$\n",
    "Relative phase changes interference and can affect measurements after further gates (e.g., Hadamards).\n",
    "\n",
    "> **Note.** One can factor $T=e^{i\\pi/8}R_z(\\pi/4)$ and $S=e^{i\\pi/4}R_z(\\pi/2)$. The leading scalars are **global** phases; the $R_z$ rotations carry the observable **relative** phase.\n",
    "\n",
    "### Implementing $T$ and $S$ in Qiskit (v2.x)\n",
    "- As named gates: `qc.t(qubit)`, `qc.s(qubit)`, with inverses `qc.tdg(qubit)`, `qc.sdg(qubit)`.\n",
    "- As rotations: `qc.rz(pi/4, qubit)` is equivalent to $T$ up to a global phase; `qc.rz(pi/2, qubit)` is equivalent to $S$ up to a global phase.\n",
    "- Operators: `from qiskit.quantum_info import Operator; Operator(np.diag([1, np.exp(1j*np.pi/4)]))` builds $T$ explicitly.\n",
    "\n",
    "### Identities (handy equalities)\n",
    "- Powers: $T^2=S,\\quad S^2=Z,\\quad T^4=Z,\\quad T^8=I$.\n",
    "- Inverses: $T^\\dagger = T^{-1} = \\mathrm{diag}(1,e^{-i\\pi/4}),\\quad S^\\dagger=\\mathrm{diag}(1,-i)$.\n",
    "- Conjugations with Hadamard (basis change): $HZH = X$ and $HXH = Z$ (useful when reasoning about phase vs bit flips).\n",
    "- Commutation: All single-qubit phase gates $R_z(\\phi)$ commute with one another (they are diagonal in the same basis).\n",
    "\n",
    "**Key takeaways**\n",
    "1. $T$ and $S$ are phase gates that add **relative** phase in superpositions; only the **relative** part is observable.  \n",
    "2. $T=e^{i\\pi/8}R_z(\\pi/4)$ and $S=e^{i\\pi/4}R_z(\\pi/2)$: equal **up to global phase**.  \n",
    "3. Memorize core identities: $T^2=S,\\; S^2=Z,\\; T^4=Z,\\; T^8=I$."
   ]
  },
  {
   "cell_type": "code",
   "execution_count": 14,
   "id": "5346aac8",
   "metadata": {
    "collapsed": false,
    "jupyter": {
     "outputs_hidden": false
    }
   },
   "outputs": [
    {
     "name": "stdout",
     "output_type": "stream",
     "text": [
      "Z-basis probabilities identical? T: True  S: True\n",
      "X-basis |0>,|1> probs (no phase): [0.5 0.5]\n",
      "X-basis |0>,|1> probs (after T): [0.4267767 0.4267767]\n",
      "X-basis |0>,|1> probs (after S): [0.25 0.25]\n",
      "T equals Rz(pi/4) up to global phase: True\n",
      "S equals Rz(pi/2) up to global phase: True\n"
     ]
    }
   ],
   "source": [
    "# Verification: relative vs global phase using Qiskit v2.x\n",
    "import numpy as np\n",
    "from qiskit import QuantumCircuit\n",
    "from qiskit.quantum_info import Statevector\n",
    "\n",
    "# Prepare |+> = (|0> + |1>)/sqrt(2)\n",
    "qc = QuantumCircuit(1)\n",
    "qc.h(0)\n",
    "psi = Statevector.from_instruction(qc)\n",
    "\n",
    "# Apply T and S\n",
    "qc_t = qc.copy()\n",
    "qc_t.t(0)\n",
    "qc_s = qc.copy()\n",
    "qc_s.s(0)\n",
    "\n",
    "psi_t = Statevector.from_instruction(qc_t)\n",
    "psi_s = Statevector.from_instruction(qc_s)\n",
    "\n",
    "# Compare probabilities in Z-basis (the same), then in X-basis (different after additional H)\n",
    "probs_psi = np.abs(psi.data)**2\n",
    "probs_t   = np.abs(psi_t.data)**2\n",
    "probs_s   = np.abs(psi_s.data)**2\n",
    "print(\"Z-basis probabilities identical? T:\", np.allclose(probs_psi, probs_t), \" S:\", np.allclose(probs_psi, probs_s))\n",
    "\n",
    "# Check in X basis by applying an extra H (interference reveals relative phase)\n",
    "def probs_after_h(sv):\n",
    "    qc_h = QuantumCircuit(1)\n",
    "    qc_h.h(0)\n",
    "    return np.abs(Statevector.from_instruction(qc_h).evolve(sv).data)**2\n",
    "\n",
    "print(\"X-basis |0>,|1> probs (no phase):\", probs_after_h(psi))\n",
    "print(\"X-basis |0>,|1> probs (after T):\", probs_after_h(psi_t))\n",
    "print(\"X-basis |0>,|1> probs (after S):\", probs_after_h(psi_s))\n",
    "\n",
    "# Equivalences up to global phase: T ~ e^{iπ/8} Rz(π/4), S ~ e^{iπ/4} Rz(π/2)\n",
    "\n",
    "# Build the same prefix (H) before the alternative Rz gates\n",
    "qc_t_alt = QuantumCircuit(1)\n",
    "qc_t_alt.h(0)\n",
    "qc_t_alt.rz(np.pi/4, 0)   # equivalent to T up to a global phase\n",
    "\n",
    "qc_s_alt = QuantumCircuit(1)\n",
    "qc_s_alt.h(0)\n",
    "qc_s_alt.rz(np.pi/2, 0)   # equivalent to S up to a global phase\n",
    "\n",
    "sv_t = Statevector.from_instruction(qc_t)       # H -> T\n",
    "sv_t_alt = Statevector.from_instruction(qc_t_alt)  # H -> Rz(pi/4)\n",
    "\n",
    "sv_s = Statevector.from_instruction(qc_s)       # H -> S\n",
    "sv_s_alt = Statevector.from_instruction(qc_s_alt)  # H -> Rz(pi/2)\n",
    "\n",
    "def equal_up_to_global(a, b):\n",
    "    ip = np.vdot(a.data, b.data)\n",
    "    return np.isclose(np.abs(ip), 1.0)\n",
    "\n",
    "print(\"T equals Rz(pi/4) up to global phase:\", equal_up_to_global(sv_t, sv_t_alt))\n",
    "print(\"S equals Rz(pi/2) up to global phase:\", equal_up_to_global(sv_s, sv_s_alt))\n"
   ]
  },
  {
   "cell_type": "markdown",
   "id": "fe597b26",
   "metadata": {},
   "source": [
    "## Practice Questions\n",
    "\n",
    "**Q1.** Which of the following gate sequences is equivalent to the identity operation (up to global phase)?\n",
    "- A. $H X H Z H X H$\n",
    "- B. $X Z X Z$\n",
    "- C. $Y Y$\n",
    "- D. $X Y Z$\n",
    "\n",
    "**Q2.** Suppose you start with the state $|+⟩$. Which of the following gates will transform it to $|0⟩$?\n",
    "- A. $H$\n",
    "- B. $X$\n",
    "- C. $H Z$\n",
    "- D. $Z H$\n",
    "\n",
    "**Q3.** Which of the following statements is true about the commutation of gates?\n",
    "- A. $ZX = XZ$\n",
    "- B. $ZY = -YZ$\n",
    "- C. $XY = -YX$\n",
    "- D. $XZ = ZY$\n",
    "\n",
    "**Q4.** Which of the following expressions is equivalent to applying $X$ followed by $Z$ to a qubit?\n",
    "- A. $XZ$\n",
    "- B. $-ZX$\n",
    "- C. $H Y H$\n",
    "- D. $Y$\n",
    "\n",
    "**Q5.** Which of the following is equivalent to applying $R_x(\\pi)$?\n",
    "- A. $X$\n",
    "- B. $H Z H$\n",
    "- C. Two $R_x(\\pi/2)$ gates in sequence\n",
    "- D. $Z X Z$"
   ]
  },
  {
   "cell_type": "markdown",
   "id": "7c1969e7",
   "metadata": {},
   "source": [
    "### Answer Key\n",
    "- Q1: C\n",
    "- Q2: A\n",
    "- Q3: B\n",
    "- Q4: B\n",
    "- Q5: C"
   ]
  }
 ],
 "metadata": {
  "kernelspec": {
   "display_name": "Python (qiskit-cert-intel)",
   "language": "python",
   "name": "qiskit-cert-intel"
  },
  "language_info": {
   "codemirror_mode": {
    "name": "ipython",
    "version": 3
   },
   "file_extension": ".py",
   "mimetype": "text/x-python",
   "name": "python",
   "nbconvert_exporter": "python",
   "pygments_lexer": "ipython3",
   "version": "3.9.23"
  }
 },
 "nbformat": 4,
 "nbformat_minor": 5
}
