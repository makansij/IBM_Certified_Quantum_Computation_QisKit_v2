{
 "cells": [
  {
   "cell_type": "markdown",
   "id": "da714521",
   "metadata": {},
   "source": [
    "> **Note (Converted to IBM Runtime):**\n",
    "> This notebook now targets the **IBM Runtime**. It:\n",
    "> - Imports `QiskitRuntimeService, SamplerV2, EstimatorV2` from `qiskit_ibm_runtime`.\n",
    "> - Adds a setup cell to create `service` and pick `backend = service.backend(\"simulator_stabilizer\")`.\n",
    "> - Builds primitives as `SamplerV2(mode=backend)` / `EstimatorV2(mode=backend)`.\n",
    "> - Transpiles with `transpile(..., backend=backend)` for target-strict submission.\n",
    "> - Sets **shots per `run()`** (Runtime no longer uses `default_shots`).\n",
    "> Make sure your env has `QISKIT_IBM_CHANNEL/TOKEN/INSTANCE` set.\n"
   ]
  },
  {
   "cell_type": "code",
   "execution_count": 1,
   "id": "43fef2ee",
   "metadata": {},
   "outputs": [
    {
     "ename": "InvalidAccountError",
     "evalue": "'Unable to retrieve instances.'",
     "output_type": "error",
     "traceback": [
      "\u001b[31m---------------------------------------------------------------------------\u001b[39m",
      "\u001b[31mApiException\u001b[39m                              Traceback (most recent call last)",
      "\u001b[36mFile \u001b[39m\u001b[32m/opt/homebrew/anaconda3/envs/qiskit2x/lib/python3.12/site-packages/qiskit_ibm_runtime/accounts/account.py:327\u001b[39m, in \u001b[36mCloudAccount.list_instances\u001b[39m\u001b[34m(self)\u001b[39m\n\u001b[32m    326\u001b[39m \u001b[38;5;28;01mtry\u001b[39;00m:\n\u001b[32m--> \u001b[39m\u001b[32m327\u001b[39m     result = \u001b[43mclient\u001b[49m\u001b[43m.\u001b[49m\u001b[43msearch\u001b[49m\u001b[43m(\u001b[49m\n\u001b[32m    328\u001b[39m \u001b[43m        \u001b[49m\u001b[43mquery\u001b[49m\u001b[43m=\u001b[49m\u001b[33;43m\"\u001b[39;49m\u001b[33;43mservice_name:quantum-computing\u001b[39;49m\u001b[33;43m\"\u001b[39;49m\u001b[43m,\u001b[49m\n\u001b[32m    329\u001b[39m \u001b[43m        \u001b[49m\u001b[43mfields\u001b[49m\u001b[43m=\u001b[49m\u001b[43m[\u001b[49m\n\u001b[32m    330\u001b[39m \u001b[43m            \u001b[49m\u001b[33;43m\"\u001b[39;49m\u001b[33;43mcrn\u001b[39;49m\u001b[33;43m\"\u001b[39;49m\u001b[43m,\u001b[49m\n\u001b[32m    331\u001b[39m \u001b[43m            \u001b[49m\u001b[33;43m\"\u001b[39;49m\u001b[33;43mservice_plan_unique_id\u001b[39;49m\u001b[33;43m\"\u001b[39;49m\u001b[43m,\u001b[49m\n\u001b[32m    332\u001b[39m \u001b[43m            \u001b[49m\u001b[33;43m\"\u001b[39;49m\u001b[33;43mname\u001b[39;49m\u001b[33;43m\"\u001b[39;49m\u001b[43m,\u001b[49m\n\u001b[32m    333\u001b[39m \u001b[43m            \u001b[49m\u001b[33;43m\"\u001b[39;49m\u001b[33;43mdoc\u001b[39;49m\u001b[33;43m\"\u001b[39;49m\u001b[43m,\u001b[49m\n\u001b[32m    334\u001b[39m \u001b[43m            \u001b[49m\u001b[33;43m\"\u001b[39;49m\u001b[33;43mtags\u001b[39;49m\u001b[33;43m\"\u001b[39;49m\u001b[43m,\u001b[49m\n\u001b[32m    335\u001b[39m \u001b[43m        \u001b[49m\u001b[43m]\u001b[49m\u001b[43m,\u001b[49m\n\u001b[32m    336\u001b[39m \u001b[43m        \u001b[49m\u001b[43msearch_cursor\u001b[49m\u001b[43m=\u001b[49m\u001b[43msearch_cursor\u001b[49m\u001b[43m,\u001b[49m\n\u001b[32m    337\u001b[39m \u001b[43m        \u001b[49m\u001b[43mlimit\u001b[49m\u001b[43m=\u001b[49m\u001b[32;43m100\u001b[39;49m\u001b[43m,\u001b[49m\n\u001b[32m    338\u001b[39m \u001b[43m    \u001b[49m\u001b[43m)\u001b[49m.get_result()\n\u001b[32m    339\u001b[39m \u001b[38;5;28;01mexcept\u001b[39;00m:\n",
      "\u001b[36mFile \u001b[39m\u001b[32m/opt/homebrew/anaconda3/envs/qiskit2x/lib/python3.12/site-packages/ibm_platform_services/global_search_v2.py:228\u001b[39m, in \u001b[36mGlobalSearchV2.search\u001b[39m\u001b[34m(self, query, fields, search_cursor, x_request_id, x_correlation_id, account_id, limit, timeout, sort, is_deleted, is_reclaimed, impersonate_user, can_tag, is_project_resource, **kwargs)\u001b[39m\n\u001b[32m    227\u001b[39m url = \u001b[33m'\u001b[39m\u001b[33m/v3/resources/search\u001b[39m\u001b[33m'\u001b[39m\n\u001b[32m--> \u001b[39m\u001b[32m228\u001b[39m request = \u001b[38;5;28;43mself\u001b[39;49m\u001b[43m.\u001b[49m\u001b[43mprepare_request\u001b[49m\u001b[43m(\u001b[49m\n\u001b[32m    229\u001b[39m \u001b[43m    \u001b[49m\u001b[43mmethod\u001b[49m\u001b[43m=\u001b[49m\u001b[33;43m'\u001b[39;49m\u001b[33;43mPOST\u001b[39;49m\u001b[33;43m'\u001b[39;49m\u001b[43m,\u001b[49m\n\u001b[32m    230\u001b[39m \u001b[43m    \u001b[49m\u001b[43murl\u001b[49m\u001b[43m=\u001b[49m\u001b[43murl\u001b[49m\u001b[43m,\u001b[49m\n\u001b[32m    231\u001b[39m \u001b[43m    \u001b[49m\u001b[43mheaders\u001b[49m\u001b[43m=\u001b[49m\u001b[43mheaders\u001b[49m\u001b[43m,\u001b[49m\n\u001b[32m    232\u001b[39m \u001b[43m    \u001b[49m\u001b[43mparams\u001b[49m\u001b[43m=\u001b[49m\u001b[43mparams\u001b[49m\u001b[43m,\u001b[49m\n\u001b[32m    233\u001b[39m \u001b[43m    \u001b[49m\u001b[43mdata\u001b[49m\u001b[43m=\u001b[49m\u001b[43mdata\u001b[49m\u001b[43m,\u001b[49m\n\u001b[32m    234\u001b[39m \u001b[43m\u001b[49m\u001b[43m)\u001b[49m\n\u001b[32m    236\u001b[39m response = \u001b[38;5;28mself\u001b[39m.send(request, **kwargs)\n",
      "\u001b[36mFile \u001b[39m\u001b[32m/opt/homebrew/anaconda3/envs/qiskit2x/lib/python3.12/site-packages/ibm_cloud_sdk_core/base_service.py:441\u001b[39m, in \u001b[36mBaseService.prepare_request\u001b[39m\u001b[34m(self, method, url, headers, params, data, files, **kwargs)\u001b[39m\n\u001b[32m    439\u001b[39m request[\u001b[33m'\u001b[39m\u001b[33mdata\u001b[39m\u001b[33m'\u001b[39m] = data\n\u001b[32m--> \u001b[39m\u001b[32m441\u001b[39m \u001b[38;5;28;43mself\u001b[39;49m\u001b[43m.\u001b[49m\u001b[43mauthenticator\u001b[49m\u001b[43m.\u001b[49m\u001b[43mauthenticate\u001b[49m\u001b[43m(\u001b[49m\u001b[43mrequest\u001b[49m\u001b[43m)\u001b[49m\n\u001b[32m    443\u001b[39m \u001b[38;5;66;03m# Compress the request body if applicable\u001b[39;00m\n",
      "\u001b[36mFile \u001b[39m\u001b[32m/opt/homebrew/anaconda3/envs/qiskit2x/lib/python3.12/site-packages/ibm_cloud_sdk_core/authenticators/iam_request_based_authenticator.py:64\u001b[39m, in \u001b[36mIAMRequestBasedAuthenticator.authenticate\u001b[39m\u001b[34m(self, req)\u001b[39m\n\u001b[32m     63\u001b[39m headers = req.get(\u001b[33m'\u001b[39m\u001b[33mheaders\u001b[39m\u001b[33m'\u001b[39m)\n\u001b[32m---> \u001b[39m\u001b[32m64\u001b[39m bearer_token = \u001b[38;5;28;43mself\u001b[39;49m\u001b[43m.\u001b[49m\u001b[43mtoken_manager\u001b[49m\u001b[43m.\u001b[49m\u001b[43mget_token\u001b[49m\u001b[43m(\u001b[49m\u001b[43m)\u001b[49m\n\u001b[32m     65\u001b[39m headers[\u001b[33m'\u001b[39m\u001b[33mAuthorization\u001b[39m\u001b[33m'\u001b[39m] = \u001b[33m'\u001b[39m\u001b[33mBearer \u001b[39m\u001b[38;5;132;01m{0}\u001b[39;00m\u001b[33m'\u001b[39m.format(bearer_token)\n",
      "\u001b[36mFile \u001b[39m\u001b[32m/opt/homebrew/anaconda3/envs/qiskit2x/lib/python3.12/site-packages/ibm_cloud_sdk_core/token_managers/token_manager.py:82\u001b[39m, in \u001b[36mTokenManager.get_token\u001b[39m\u001b[34m(self)\u001b[39m\n\u001b[32m     81\u001b[39m     logger.debug(\u001b[33m'\u001b[39m\u001b[33mPerforming synchronous token fetch\u001b[39m\u001b[33m'\u001b[39m)\n\u001b[32m---> \u001b[39m\u001b[32m82\u001b[39m     \u001b[38;5;28;43mself\u001b[39;49m\u001b[43m.\u001b[49m\u001b[43mpaced_request_token\u001b[49m\u001b[43m(\u001b[49m\u001b[43m)\u001b[49m\n\u001b[32m     84\u001b[39m \u001b[38;5;28;01mif\u001b[39;00m \u001b[38;5;28mself\u001b[39m._token_needs_refresh():\n",
      "\u001b[36mFile \u001b[39m\u001b[32m/opt/homebrew/anaconda3/envs/qiskit2x/lib/python3.12/site-packages/ibm_cloud_sdk_core/token_managers/token_manager.py:141\u001b[39m, in \u001b[36mTokenManager.paced_request_token\u001b[39m\u001b[34m(self)\u001b[39m\n\u001b[32m    140\u001b[39m \u001b[38;5;28;01mif\u001b[39;00m \u001b[38;5;129;01mnot\u001b[39;00m request_active:\n\u001b[32m--> \u001b[39m\u001b[32m141\u001b[39m     token_response = \u001b[38;5;28;43mself\u001b[39;49m\u001b[43m.\u001b[49m\u001b[43mrequest_token\u001b[49m\u001b[43m(\u001b[49m\u001b[43m)\u001b[49m\n\u001b[32m    142\u001b[39m     \u001b[38;5;28mself\u001b[39m._save_token_info(token_response)\n",
      "\u001b[36mFile \u001b[39m\u001b[32m/opt/homebrew/anaconda3/envs/qiskit2x/lib/python3.12/site-packages/ibm_cloud_sdk_core/token_managers/iam_request_based_token_manager.py:127\u001b[39m, in \u001b[36mIAMRequestBasedTokenManager.request_token\u001b[39m\u001b[34m(self)\u001b[39m\n\u001b[32m    126\u001b[39m logger.debug(\u001b[33m'\u001b[39m\u001b[33mInvoking IAM get_token operation: \u001b[39m\u001b[38;5;132;01m%s\u001b[39;00m\u001b[33m'\u001b[39m, request_url)\n\u001b[32m--> \u001b[39m\u001b[32m127\u001b[39m response = \u001b[38;5;28;43mself\u001b[39;49m\u001b[43m.\u001b[49m\u001b[43m_request\u001b[49m\u001b[43m(\u001b[49m\n\u001b[32m    128\u001b[39m \u001b[43m    \u001b[49m\u001b[43mmethod\u001b[49m\u001b[43m=\u001b[49m\u001b[33;43m'\u001b[39;49m\u001b[33;43mPOST\u001b[39;49m\u001b[33;43m'\u001b[39;49m\u001b[43m,\u001b[49m\n\u001b[32m    129\u001b[39m \u001b[43m    \u001b[49m\u001b[43murl\u001b[49m\u001b[43m=\u001b[49m\u001b[43mrequest_url\u001b[49m\u001b[43m,\u001b[49m\n\u001b[32m    130\u001b[39m \u001b[43m    \u001b[49m\u001b[43mheaders\u001b[49m\u001b[43m=\u001b[49m\u001b[43mrequest_headers\u001b[49m\u001b[43m,\u001b[49m\n\u001b[32m    131\u001b[39m \u001b[43m    \u001b[49m\u001b[43mdata\u001b[49m\u001b[43m=\u001b[49m\u001b[43mdata\u001b[49m\u001b[43m,\u001b[49m\n\u001b[32m    132\u001b[39m \u001b[43m    \u001b[49m\u001b[43mauth_tuple\u001b[49m\u001b[43m=\u001b[49m\u001b[43mauth_tuple\u001b[49m\u001b[43m,\u001b[49m\n\u001b[32m    133\u001b[39m \u001b[43m    \u001b[49m\u001b[43mproxies\u001b[49m\u001b[43m=\u001b[49m\u001b[38;5;28;43mself\u001b[39;49m\u001b[43m.\u001b[49m\u001b[43mproxies\u001b[49m\u001b[43m,\u001b[49m\n\u001b[32m    134\u001b[39m \u001b[43m\u001b[49m\u001b[43m)\u001b[49m\n\u001b[32m    135\u001b[39m logger.debug(\u001b[33m'\u001b[39m\u001b[33mReturned from IAM get_token operation\u001b[39m\u001b[33m'\u001b[39m)\n",
      "\u001b[36mFile \u001b[39m\u001b[32m/opt/homebrew/anaconda3/envs/qiskit2x/lib/python3.12/site-packages/ibm_cloud_sdk_core/token_managers/jwt_token_manager.py:91\u001b[39m, in \u001b[36mJWTTokenManager._request\u001b[39m\u001b[34m(self, method, url, headers, params, data, auth_tuple, **kwargs)\u001b[39m\n\u001b[32m     89\u001b[39m     \u001b[38;5;28;01mreturn\u001b[39;00m response.json()\n\u001b[32m---> \u001b[39m\u001b[32m91\u001b[39m \u001b[38;5;28;01mraise\u001b[39;00m ApiException(response.status_code, http_response=response)\n",
      "\u001b[31mApiException\u001b[39m: Error: Provided API key is disabled., Status code: 400",
      "\nDuring handling of the above exception, another exception occurred:\n",
      "\u001b[31mInvalidAccountError\u001b[39m                       Traceback (most recent call last)",
      "\u001b[36mCell\u001b[39m\u001b[36m \u001b[39m\u001b[32mIn[1]\u001b[39m\u001b[32m, line 3\u001b[39m\n\u001b[32m      1\u001b[39m \u001b[38;5;66;03m# IBM Runtime setup (requires env vars: QISKIT_IBM_CHANNEL/TOKEN/INSTANCE)\u001b[39;00m\n\u001b[32m      2\u001b[39m \u001b[38;5;28;01mfrom\u001b[39;00m\u001b[38;5;250m \u001b[39m\u001b[34;01mqiskit_ibm_runtime\u001b[39;00m\u001b[38;5;250m \u001b[39m\u001b[38;5;28;01mimport\u001b[39;00m QiskitRuntimeService\n\u001b[32m----> \u001b[39m\u001b[32m3\u001b[39m service = \u001b[43mQiskitRuntimeService\u001b[49m\u001b[43m(\u001b[49m\u001b[43m)\u001b[49m \n\u001b[32m      4\u001b[39m \u001b[38;5;66;03m# Pick any available backend you have access to (real device or simulator):\u001b[39;00m\n\u001b[32m      5\u001b[39m backend = service.backends()[\u001b[32m0\u001b[39m]  \u001b[38;5;66;03m# e.g., \"ibm_sherbrooke\" for a device, if you have access\u001b[39;00m\n",
      "\u001b[36mFile \u001b[39m\u001b[32m/opt/homebrew/anaconda3/envs/qiskit2x/lib/python3.12/site-packages/qiskit_ibm_runtime/qiskit_runtime_service.py:184\u001b[39m, in \u001b[36mQiskitRuntimeService.__init__\u001b[39m\u001b[34m(self, channel, token, url, filename, name, instance, proxies, verify, private_endpoint, url_resolver, region, plans_preference, tags)\u001b[39m\n\u001b[32m    182\u001b[39m \u001b[38;5;28;01melse\u001b[39;00m:\n\u001b[32m    183\u001b[39m     \u001b[38;5;28mself\u001b[39m._api_clients = {}\n\u001b[32m--> \u001b[39m\u001b[32m184\u001b[39m     instance_backends = \u001b[38;5;28;43mself\u001b[39;49m\u001b[43m.\u001b[49m\u001b[43m_resolve_cloud_instances\u001b[49m\u001b[43m(\u001b[49m\u001b[43minstance\u001b[49m\u001b[43m)\u001b[49m\n\u001b[32m    185\u001b[39m     \u001b[38;5;28;01mfor\u001b[39;00m inst, _ \u001b[38;5;129;01min\u001b[39;00m instance_backends:\n\u001b[32m    186\u001b[39m         \u001b[38;5;28mself\u001b[39m._get_or_create_cloud_client(inst)\n",
      "\u001b[36mFile \u001b[39m\u001b[32m/opt/homebrew/anaconda3/envs/qiskit2x/lib/python3.12/site-packages/qiskit_ibm_runtime/qiskit_runtime_service.py:535\u001b[39m, in \u001b[36mQiskitRuntimeService._resolve_cloud_instances\u001b[39m\u001b[34m(self, instance)\u001b[39m\n\u001b[32m    533\u001b[39m     \u001b[38;5;28;01mreturn\u001b[39;00m [(default_crn, \u001b[38;5;28mself\u001b[39m._discover_backends_from_instance(default_crn))]\n\u001b[32m    534\u001b[39m \u001b[38;5;28;01mif\u001b[39;00m \u001b[38;5;129;01mnot\u001b[39;00m \u001b[38;5;28mself\u001b[39m._all_instances:\n\u001b[32m--> \u001b[39m\u001b[32m535\u001b[39m     \u001b[38;5;28mself\u001b[39m._all_instances = \u001b[38;5;28;43mself\u001b[39;49m\u001b[43m.\u001b[49m\u001b[43m_account\u001b[49m\u001b[43m.\u001b[49m\u001b[43mlist_instances\u001b[49m\u001b[43m(\u001b[49m\u001b[43m)\u001b[49m\n\u001b[32m    536\u001b[39m     logger.warning(\n\u001b[32m    537\u001b[39m         \u001b[33m\"\u001b[39m\u001b[33mDefault instance not set. Searching all available instances.\u001b[39m\u001b[33m\"\u001b[39m,\n\u001b[32m    538\u001b[39m     )\n\u001b[32m    539\u001b[39m \u001b[38;5;28;01mif\u001b[39;00m \u001b[38;5;129;01mnot\u001b[39;00m \u001b[38;5;28mself\u001b[39m._backend_instance_groups:\n",
      "\u001b[36mFile \u001b[39m\u001b[32m/opt/homebrew/anaconda3/envs/qiskit2x/lib/python3.12/site-packages/qiskit_ibm_runtime/accounts/account.py:340\u001b[39m, in \u001b[36mCloudAccount.list_instances\u001b[39m\u001b[34m(self)\u001b[39m\n\u001b[32m    327\u001b[39m     result = client.search(\n\u001b[32m    328\u001b[39m         query=\u001b[33m\"\u001b[39m\u001b[33mservice_name:quantum-computing\u001b[39m\u001b[33m\"\u001b[39m,\n\u001b[32m    329\u001b[39m         fields=[\n\u001b[32m   (...)\u001b[39m\u001b[32m    337\u001b[39m         limit=\u001b[32m100\u001b[39m,\n\u001b[32m    338\u001b[39m     ).get_result()\n\u001b[32m    339\u001b[39m \u001b[38;5;28;01mexcept\u001b[39;00m:\n\u001b[32m--> \u001b[39m\u001b[32m340\u001b[39m     \u001b[38;5;28;01mraise\u001b[39;00m InvalidAccountError(\u001b[33m\"\u001b[39m\u001b[33mUnable to retrieve instances.\u001b[39m\u001b[33m\"\u001b[39m)\n\u001b[32m    341\u001b[39m crns = []\n\u001b[32m    342\u001b[39m items = result.get(\u001b[33m\"\u001b[39m\u001b[33mitems\u001b[39m\u001b[33m\"\u001b[39m, [])\n",
      "\u001b[31mInvalidAccountError\u001b[39m: 'Unable to retrieve instances.'"
     ]
    }
   ],
   "source": [
    "# IBM Runtime setup (requires env vars: QISKIT_IBM_CHANNEL/TOKEN/INSTANCE)\n",
    "from qiskit_ibm_runtime import QiskitRuntimeService\n",
    "service = QiskitRuntimeService() \n",
    "# Pick any available backend you have access to (real device or simulator):\n",
    "backend = service.backends()[0]  # e.g., \"ibm_sherbrooke\" for a device, if you have access\n",
    "print('the backends available are', service.backends())\n",
    "print('using backend ', backend)\n"
   ]
  },
  {
   "cell_type": "markdown",
   "id": "470c0dc9",
   "metadata": {},
   "source": [
    "<div style=\"background:#0f62fe;color:#fff;padding:14px 16px;border-radius:8px;margin:8px 0;font-weight:700;\">\n",
    "Module 5.1 — Sampler Primitive Options\n",
    "</div>"
   ]
  },
  {
   "cell_type": "markdown",
   "id": "fc48f2dc",
   "metadata": {},
   "source": [
    "**Learning Objectives**\n",
    "\n",
    "- Identify what `SamplerV2` returns and where options are set.\n",
    "- Set default options on `sampler.options` and override per `run()`.\n",
    "- Control **shots** and read the result object.\n",
    "- Configure **Dynamical Decoupling (DD)** and **Pauli Twirling** (backend-dependent).\n",
    "- Validate settings and understand simulator vs. hardware behavior."
   ]
  },
  {
   "cell_type": "markdown",
   "id": "541009e7",
   "metadata": {},
   "source": [
    "\n",
    "\n",
    "---\n",
    "\n"
   ]
  },
  {
   "cell_type": "markdown",
   "id": "d2f5d067",
   "metadata": {},
   "source": [
    "<div style=\"background:#001d6c;color:#fff;padding:10px 12px;border-radius:6px;margin:8px 0;font-weight:600;\">\n",
    "5.1.1 — Sampler overview & where options live\n",
    "</div>"
   ]
  },
  {
   "cell_type": "markdown",
   "id": "eed4171b",
   "metadata": {},
   "source": [
    "**Overview**  \n",
    "- `SamplerV2` returns **shot-based bitstring distributions** (probabilities/counts + metadata).\n",
    "- **Defaults** live on `sampler.options`; per-execution overrides go in `run(...)`.\n",
    "**Tip:** Construct → set defaults → `run()` with PUBs → inspect `.result()`."
   ]
  },
  {
   "cell_type": "markdown",
   "id": "ba42226b",
   "metadata": {},
   "source": [
    "**Example Code: Basics**"
   ]
  },
  {
   "cell_type": "code",
   "execution_count": null,
   "id": "33c4ed7c",
   "metadata": {},
   "outputs": [],
   "source": [
    "# Explanation: minimal pattern (requires qiskit & qiskit-ibm-runtime)\n",
    "from qiskit import QuantumCircuit, transpile\n",
    "from qiskit_ibm_runtime import QiskitRuntimeService, SamplerV2, Options\n",
    "\n",
    "service = QiskitRuntimeService() \n",
    "qc = QuantumCircuit(2)\n",
    "qc.h(0); qc.cx(0,1); qc.measure_all()\n",
    "print('using backend ', backend)\n",
    "# 🔧 Make the circuit match the backend’s target\n",
    "qc_native = transpile(qc, backend=backend, optimization_level=1)\n",
    "\n",
    "sampler = SamplerV2(mode=backend)           # no Options(default_shots=...) here\n",
    "job = sampler.run([qc_native], shots=4096)  # <-- set shots per call\n",
    "res = job.result()\n",
    "print(res[0])"
   ]
  },
  {
   "cell_type": "markdown",
   "id": "9f715fdb",
   "metadata": {},
   "source": [
    "\n",
    "\n",
    "---\n",
    "\n"
   ]
  },
  {
   "cell_type": "markdown",
   "id": "37955f58",
   "metadata": {},
   "source": [
    "<div style=\"background:#001d6c;color:#fff;padding:10px 12px;border-radius:6px;margin:8px 0;font-weight:600;\">\n",
    "5.1.2 — Setting & overriding options (workflow)\n",
    "</div>"
   ]
  },
  {
   "cell_type": "markdown",
   "id": "dd46682e",
   "metadata": {},
   "source": [
    "**Workflow**  \n",
    "1) Choose backend/session  →  2) `SamplerV2()`  →  3) set `sampler.options`  →  4) override selectively in `run()`."
   ]
  },
  {
   "cell_type": "markdown",
   "id": "3c6c2bb2",
   "metadata": {},
   "source": [
    "**Example Code: Defaults vs. Per‑run Override**"
   ]
  },
  {
   "cell_type": "code",
   "execution_count": null,
   "id": "9d4a6641-fdf6-41e9-a65d-43dc60365687",
   "metadata": {},
   "outputs": [],
   "source": [
    "import numpy as np\n",
    "from qiskit import QuantumCircuit, transpile\n",
    "from qiskit.quantum_info import random_hermitian\n",
    "from qiskit.circuit.library import IQP\n",
    "from qiskit.transpiler.preset_passmanagers import generate_preset_pass_manager\n",
    "from qiskit_ibm_runtime import QiskitRuntimeService, SamplerV2\n",
    "\n",
    "# --- config ---\n",
    "n_qubits = 50\n",
    "shots = 20_000\n",
    "\n",
    "# --- pick a backend you actually have access to ---\n",
    "service = QiskitRuntimeService()\n",
    "sims = service.backends(simulator=True)\n",
    "devs = service.backends(simulator=False)\n",
    "print(\"Simulators:\", [b.name for b in sims])\n",
    "print(\"Devices:\",    [b.name for b in devs])\n",
    "PREFERRED = [\"simulator_mps\", \"ibmq_qasm_simulator\", \"simulator_statevector\"]\n",
    "by_name = {b.name: b for b in sims}\n",
    "backend = next((by_name[n] for n in PREFERRED if n in by_name), sims[0] if sims else devs[0])\n",
    "print(\"Using backend:\", backend.name)\n",
    "\n",
    "# --- build a real symmetric matrix for IQP (qiskit 2.x: random_hermitian -> Operator) ---\n",
    "H = random_hermitian(n_qubits, seed=1234)\n",
    "A = np.asarray(getattr(H, \"data\", H.to_matrix()))          # complex ndarray\n",
    "mat = np.real((A + A.T.conj()) / 2.0)                      # real symmetric (n x n)\n",
    "\n",
    "# --- IQP circuit and measurements ---\n",
    "circuit: QuantumCircuit = IQP(mat)\n",
    "circuit = circuit.measure_all(inplace=False)\n",
    "\n",
    "# --- target-strict transpilation to the selected backend ---\n",
    "pm = generate_preset_pass_manager(backend=backend, optimization_level=1)\n",
    "isa_circuit = pm.run(circuit)\n",
    "\n",
    "# --- run with SamplerV2 (IBM Runtime) ---\n",
    "sampler = SamplerV2(mode=backend)\n",
    "res = sampler.run([isa_circuit], shots=shots).result()\n",
    "\n",
    "# # --- compute <Z^{⊗n}> from the distribution ---\n",
    "# # res[0] is typically dict-like; fall back to .data if needed\n",
    "# dist = res[0] if isinstance(res[0], dict) else getattr(res[0], \"data\", res[0])\n",
    "# exp_val = sum(((-1) ** s.count(\"1\")) * p for s, p in dist.items())\n",
    "\n",
    "# print(f\" > Expectation value (from Sampler): {exp_val}\")\n",
    "# try:\n",
    "#     print(f\" > Metadata: {res[0].metadata}\")\n",
    "# except Exception:\n",
    "#     pass\n"
   ]
  },
  {
   "cell_type": "code",
   "execution_count": null,
   "id": "a14e0b1f-dca1-4f51-8e43-0379e2e1c22b",
   "metadata": {},
   "outputs": [],
   "source": [
    "print(f\">>> Circuit ops (ISA): {isa_circuit.count_ops()}\")\n",
    "print('res is ', res)"
   ]
  },
  {
   "cell_type": "code",
   "execution_count": null,
   "id": "c50f55c8",
   "metadata": {},
   "outputs": [],
   "source": [
    "from qiskit_ibm_runtime import QiskitRuntimeService, SamplerV2\n",
    "sampler = SamplerV2(mode=backend)\n",
    "# Set defaults on the live sampler\n",
    "sampler.options.default_shots = 2048\n",
    "sampler.options.dynamical_decoupling.enable = True\n",
    "sampler.options.dynamical_decoupling.sequence_type = 'XY4'\n",
    "sampler.options.twirling.enable_gates = True\n",
    "\n",
    "# Per-job override (temporarily disable twirling for this run)\n",
    "job = sampler.run([qc], shots=1024)\n",
    "# , options={'twirling': {'enable': False}})\n",
    "print('Job submitted with per-run override; check results to confirm.')"
   ]
  },
  {
   "cell_type": "markdown",
   "id": "37288668",
   "metadata": {},
   "source": [
    "\n",
    "\n",
    "---\n",
    "\n"
   ]
  },
  {
   "cell_type": "markdown",
   "id": "69751918",
   "metadata": {},
   "source": [
    "<div style=\"background:#001d6c;color:#fff;padding:10px 12px;border-radius:6px;margin:8px 0;font-weight:600;\">\n",
    "5.1.3 — Shots & measurement return\n",
    "</div>"
   ]
  },
  {
   "cell_type": "markdown",
   "id": "54565329",
   "metadata": {},
   "source": [
    "- Control shots globally (`sampler.options.default_shots`) or per call (`run(shots=...)`).\n",
    "- Results expose counts/probabilities keyed by bitstrings plus metadata.\n",
    "**Exam focus:** how to change shot count; how to read the result object."
   ]
  },
  {
   "cell_type": "markdown",
   "id": "be5509ae",
   "metadata": {},
   "source": [
    "**Example Code: Reading Results**"
   ]
  },
  {
   "cell_type": "code",
   "execution_count": null,
   "id": "97f99329",
   "metadata": {},
   "outputs": [],
   "source": [
    "job = sampler.run([qc], shots=4096)\n",
    "result = job.result()\n",
    "try:\n",
    "    dist0 = result[0]\n",
    "    print('Top items:', list(dist0.items())[:5])\n",
    "except Exception as e:\n",
    "    print('Result shape differs by version:', e)"
   ]
  },
  {
   "cell_type": "markdown",
   "id": "4e2acad9",
   "metadata": {},
   "source": [
    "\n",
    "\n",
    "---\n",
    "\n"
   ]
  },
  {
   "cell_type": "markdown",
   "id": "ca68e18c",
   "metadata": {},
   "source": [
    "<div style=\"background:#001d6c;color:#fff;padding:10px 12px;border-radius:6px;margin:8px 0;font-weight:600;\">\n",
    "5.1.4 — Dynamical decoupling (DD)\n",
    "</div>"
   ]
  },
  {
   "cell_type": "markdown",
   "id": "d420b285",
   "metadata": {},
   "source": [
    "**Concept**  \n",
    "DD inserts idle-time pulses to mitigate dephasing. Enable via `sampler.options.dynamical_decoupling.enable=True` and select a sequence (e.g., `XY4`). **Backend support required.**"
   ]
  },
  {
   "cell_type": "markdown",
   "id": "11783594",
   "metadata": {},
   "source": [
    "**Example Code: Enable DD**"
   ]
  },
  {
   "cell_type": "code",
   "execution_count": null,
   "id": "3e89fc63",
   "metadata": {},
   "outputs": [],
   "source": [
    "sampler.options.dynamical_decoupling.enable = True\n",
    "sampler.options.dynamical_decoupling.sequence_type = 'XY4'\n",
    "print('DD enabled with XY4 (if backend supports).')"
   ]
  },
  {
   "cell_type": "markdown",
   "id": "f068ec3c",
   "metadata": {},
   "source": [
    "\n",
    "\n",
    "---\n",
    "\n"
   ]
  },
  {
   "cell_type": "markdown",
   "id": "d8fbcac2",
   "metadata": {},
   "source": [
    "<div style=\"background:#001d6c;color:#fff;padding:10px 12px;border-radius:6px;margin:8px 0;font-weight:600;\">\n",
    "5.1.5 — Twirling\n",
    "</div>"
   ]
  },
  {
   "cell_type": "markdown",
   "id": "169805b3",
   "metadata": {},
   "source": [
    "**Concept**  \n",
    "Pauli twirling randomizes coherent errors, making them effectively stochastic and easier to mitigate. Often **combinable with DD**, depending on backend."
   ]
  },
  {
   "cell_type": "markdown",
   "id": "c62203d7",
   "metadata": {},
   "source": [
    "**Example Code: Enable Twirling**"
   ]
  },
  {
   "cell_type": "code",
   "execution_count": null,
   "id": "3b0277fe",
   "metadata": {},
   "outputs": [],
   "source": [
    "sampler.options.twirling.enable = True\n",
    "print('Twirling enabled (subject to backend support).')"
   ]
  },
  {
   "cell_type": "markdown",
   "id": "39d82b61",
   "metadata": {},
   "source": [
    "\n",
    "\n",
    "---\n",
    "\n"
   ]
  },
  {
   "cell_type": "markdown",
   "id": "f0e61929",
   "metadata": {},
   "source": [
    "<div style=\"background:#001d6c;color:#fff;padding:10px 12px;border-radius:6px;margin:8px 0;font-weight:600;\">\n",
    "5.1.6 — Backend/simulator notes & quick validation\n",
    "</div>"
   ]
  },
  {
   "cell_type": "markdown",
   "id": "f356d6ea",
   "metadata": {},
   "source": [
    "- Many options (DD, twirling) impact **hardware** runs; local ideal simulators may not reflect changes.\n",
    "- To simulate realistically, mirror target device noise/coupling.\n",
    "- **Validation idea:** run with/without DD/twirling and compare distributions."
   ]
  },
  {
   "cell_type": "markdown",
   "id": "fece047b",
   "metadata": {},
   "source": [
    "**Example Code: A/B Toggle Scaffold**"
   ]
  },
  {
   "cell_type": "code",
   "execution_count": null,
   "id": "c23005f4",
   "metadata": {},
   "outputs": [],
   "source": [
    "def run_with_options(enable_dd, enable_twirling, shots=2048):\n",
    "    sampler.options.dynamical_decoupling.enable = enable_dd\n",
    "    sampler.options.twirling.enable = enable_twirling\n",
    "    job = sampler.run([qc], shots=shots)\n",
    "    return job.result()\n",
    "# r0 = run_with_options(False, False)\n",
    "# r1 = run_with_options(True, False)\n",
    "# r2 = run_with_options(False, True)\n",
    "# r3 = run_with_options(True, True)\n",
    "print('Toggle sets prepared; uncomment to compare distributions.')"
   ]
  },
  {
   "cell_type": "markdown",
   "id": "a871eb03",
   "metadata": {},
   "source": [
    "\n",
    "\n",
    "---\n",
    "\n"
   ]
  },
  {
   "cell_type": "markdown",
   "id": "048a567b",
   "metadata": {},
   "source": [
    "<div style=\"background:#001d6c;color:#fff;padding:10px 12px;border-radius:6px;margin:8px 0;font-weight:600;\">\n",
    "5.1.7 — Sample Exam‑Style Questions\n",
    "</div>"
   ]
  },
  {
   "cell_type": "markdown",
   "id": "4d901451",
   "metadata": {},
   "source": [
    "Provide brief context before each question, as in the client template. Answers are listed after the questions.\n"
   ]
  },
  {
   "cell_type": "markdown",
   "id": "8f037551",
   "metadata": {},
   "source": [
    "\n",
    "**Q1 (5.1.1)** In which place do default sampler options live?  \n",
    "A. PUB only  \n",
    "B. `sampler.options`  \n",
    "C. Backend config  \n",
    "D. `run()` only\n",
    "\n",
    "**Q2 (5.1.1)** What does the sampler conceptually return?  \n",
    "A. Statevector  \n",
    "B. Eigenvalues  \n",
    "C. Bitstring distribution  \n",
    "D. Unitary\n",
    "\n",
    "**Q3 (5.1.2)** Correct workflow?  \n",
    "A. run() → set options → backend  \n",
    "B. backend → sampler → set defaults → run()  \n",
    "C. set defaults → sampler → run()  \n",
    "D. sampler → run() → set defaults\n",
    "\n",
    "**Q4 (5.1.2)** How to tweak behavior for one job?  \n",
    "A. Edit calibrations  \n",
    "B. Pass overrides in `run(...)`  \n",
    "C. Reinstall  \n",
    "D. Not possible\n",
    "\n",
    "**Q5 (5.1.3)** Change shots for a single job via:  \n",
    "A. `sampler.options.default_shots`  \n",
    "B. `run(shots=...)`  \n",
    "C. `sampler.options.time_limit`  \n",
    "D. PUB parameters\n",
    "\n",
    "**Q6 (5.1.3)** The result object typically exposes:  \n",
    "A. Unitary  \n",
    "B. Counts/probabilities  \n",
    "C. Bloch vectors  \n",
    "D. Cal data only\n",
    "\n",
    "**Q7 (5.1.4)** DD primarily mitigates:  \n",
    "A. Sampling variance  \n",
    "B. Idle-time dephasing  \n",
    "C. Queue wait  \n",
    "D. Transpilation time\n",
    "\n",
    "**Q8 (5.1.4)** A common DD sequence:  \n",
    "A. HZH  \n",
    "B. XY4  \n",
    "C. T-echo  \n",
    "D. SWAP3\n",
    "\n",
    "**Q9 (5.1.5)** Twirling is for:  \n",
    "A. Increase crosstalk  \n",
    "B. Randomize coherent errors  \n",
    "C. Remove readout errors  \n",
    "D. Double shots\n",
    "\n",
    "**Q10 (5.1.5)** DD and twirling can be:  \n",
    "A. Mutually exclusive  \n",
    "B. Combined (backend-dependent)  \n",
    "C. Simulator-only  \n",
    "D. Stabilizer-only\n",
    "\n",
    "**Q11 (5.1.6)** True statement:  \n",
    "A. DD/twirling always visible on ideal sim  \n",
    "B. Often require hardware support  \n",
    "C. Shots ignored on hardware  \n",
    "D. Noise cannot be mirrored\n",
    "\n",
    "**Q12 (5.1.6)** Quick validation:  \n",
    "A. Compare runs with/without DD/twirling  \n",
    "B. Check CPU temp  \n",
    "C. Change optimizer  \n",
    "D. Alter qubit frequency\n",
    "\n",
    "**Answers:** 1‑B, 2‑C, 3‑B, 4‑B, 5‑B, 6‑B, 7‑B, 8‑B, 9‑B, 10‑B, 11‑B, 12‑A\n"
   ]
  },
  {
   "cell_type": "markdown",
   "id": "d8ff31c8",
   "metadata": {},
   "source": [
    "\n",
    "\n",
    "---\n",
    "\n"
   ]
  },
  {
   "cell_type": "markdown",
   "id": "189596ae",
   "metadata": {},
   "source": [
    "**Summary**  \n",
    "Default vs per‑run options, shots & results, DD & twirling concepts, and practical validation on hardware vs. simulator."
   ]
  }
 ],
 "metadata": {
  "kernelspec": {
   "display_name": "Python (qiskit2x)",
   "language": "python",
   "name": "qiskit2x"
  },
  "language_info": {
   "codemirror_mode": {
    "name": "ipython",
    "version": 3
   },
   "file_extension": ".py",
   "mimetype": "text/x-python",
   "name": "python",
   "nbconvert_exporter": "python",
   "pygments_lexer": "ipython3",
   "version": "3.12.9"
  }
 },
 "nbformat": 4,
 "nbformat_minor": 5
}
