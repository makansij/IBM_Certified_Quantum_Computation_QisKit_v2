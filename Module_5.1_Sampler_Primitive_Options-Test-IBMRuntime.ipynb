{
 "cells": [
  {
   "cell_type": "markdown",
   "id": "da714521",
   "metadata": {},
   "source": [
    "> **Note (Converted to IBM Runtime):**\n",
    "> This notebook now targets the **IBM Runtime**. It:\n",
    "> - Imports `QiskitRuntimeService, SamplerV2, EstimatorV2` from `qiskit_ibm_runtime`.\n",
    "> - Adds a setup cell to create `service` and pick `backend = service.backend(\"simulator_stabilizer\")`.\n",
    "> - Builds primitives as `SamplerV2(mode=backend)` / `EstimatorV2(mode=backend)`.\n",
    "> - Transpiles with `transpile(..., backend=backend)` for target-strict submission.\n",
    "> - Sets **shots per `run()`** (Runtime no longer uses `default_shots`).\n",
    "> Make sure your env has `QISKIT_IBM_CHANNEL/TOKEN/INSTANCE` set.\n"
   ]
  },
  {
   "cell_type": "code",
   "execution_count": 1,
   "id": "43fef2ee",
   "metadata": {},
   "outputs": [
    {
     "name": "stdout",
     "output_type": "stream",
     "text": [
      "the backends available are [<IBMBackend('ibm_brisbane')>, <IBMBackend('ibm_torino')>]\n",
      "using backend  <IBMBackend('ibm_brisbane')>\n"
     ]
    }
   ],
   "source": [
    "# IBM Runtime setup (requires env vars: QISKIT_IBM_CHANNEL/TOKEN/INSTANCE)\n",
    "from qiskit_ibm_runtime import QiskitRuntimeService\n",
    "service = QiskitRuntimeService() \n",
    "# Pick any available backend you have access to (real device or simulator):\n",
    "backend = service.backends()[0]  # e.g., \"ibm_sherbrooke\" for a device, if you have access\n",
    "print('the backends available are', service.backends())\n",
    "print('using backend ', backend)\n"
   ]
  },
  {
   "cell_type": "markdown",
   "id": "470c0dc9",
   "metadata": {},
   "source": [
    "<div style=\"background:#0f62fe;color:#fff;padding:14px 16px;border-radius:8px;margin:8px 0;font-weight:700;\">\n",
    "Module 5.1 — Sampler Primitive Options\n",
    "</div>"
   ]
  },
  {
   "cell_type": "markdown",
   "id": "fc48f2dc",
   "metadata": {},
   "source": [
    "**Learning Objectives**\n",
    "\n",
    "- Identify what `SamplerV2` returns and where options are set.\n",
    "- Set default options on `sampler.options` and override per `run()`.\n",
    "- Control **shots** and read the result object.\n",
    "- Configure **Dynamical Decoupling (DD)** and **Pauli Twirling** (backend-dependent).\n",
    "- Validate settings and understand simulator vs. hardware behavior."
   ]
  },
  {
   "cell_type": "markdown",
   "id": "541009e7",
   "metadata": {},
   "source": [
    "\n",
    "\n",
    "---\n",
    "\n"
   ]
  },
  {
   "cell_type": "markdown",
   "id": "d2f5d067",
   "metadata": {},
   "source": [
    "<div style=\"background:#001d6c;color:#fff;padding:10px 12px;border-radius:6px;margin:8px 0;font-weight:600;\">\n",
    "5.1.1 — Sampler overview & where options live\n",
    "</div>"
   ]
  },
  {
   "cell_type": "markdown",
   "id": "eed4171b",
   "metadata": {},
   "source": [
    "**Overview**  \n",
    "- `SamplerV2` returns **shot-based bitstring distributions** (probabilities/counts + metadata).\n",
    "- **Defaults** live on `sampler.options`; per-execution overrides go in `run(...)`.\n",
    "**Tip:** Construct → set defaults → `run()` with PUBs → inspect `.result()`."
   ]
  },
  {
   "cell_type": "markdown",
   "id": "ba42226b",
   "metadata": {},
   "source": [
    "**Example Code: Basics**"
   ]
  },
  {
   "cell_type": "code",
   "execution_count": 2,
   "id": "33c4ed7c",
   "metadata": {},
   "outputs": [
    {
     "name": "stdout",
     "output_type": "stream",
     "text": [
      "SamplerPubResult(data=DataBin(meas=BitArray(<shape=(), num_shots=4096, num_bits=2>)), metadata={'circuit_metadata': {}})\n"
     ]
    }
   ],
   "source": [
    "# Explanation: minimal pattern (requires qiskit & qiskit-ibm-runtime)\n",
    "from qiskit import QuantumCircuit, transpile\n",
    "from qiskit_ibm_runtime import QiskitRuntimeService, SamplerV2, Options\n",
    "\n",
    "service = QiskitRuntimeService() \n",
    "# Pick any available backend you have access to (real device or simulator):\n",
    "# backend = service.backends()[1]  # e.g., \"ibm_sherbrooke\" for a device, if you have access\n",
    "# print('the backends available are', service.backends())\n",
    "# print('using backend ', backend)\n",
    "qc = QuantumCircuit(2)\n",
    "qc.h(0); qc.cx(0,1); qc.measure_all()\n",
    "\n",
    "# 🔧 Make the circuit match the backend’s target\n",
    "qc_native = transpile(qc, backend=backend, optimization_level=1)\n",
    "\n",
    "sampler = SamplerV2(mode=backend)           # no Options(default_shots=...) here\n",
    "job = sampler.run([qc_native], shots=4096)  # <-- set shots per call\n",
    "res = job.result()\n",
    "print(res[0])"
   ]
  },
  {
   "cell_type": "markdown",
   "id": "9f715fdb",
   "metadata": {},
   "source": [
    "\n",
    "\n",
    "---\n",
    "\n"
   ]
  },
  {
   "cell_type": "markdown",
   "id": "37955f58",
   "metadata": {},
   "source": [
    "<div style=\"background:#001d6c;color:#fff;padding:10px 12px;border-radius:6px;margin:8px 0;font-weight:600;\">\n",
    "5.1.2 — Setting & overriding options (workflow)\n",
    "</div>"
   ]
  },
  {
   "cell_type": "markdown",
   "id": "dd46682e",
   "metadata": {},
   "source": [
    "**Workflow**  \n",
    "1) Choose backend/session  →  2) `SamplerV2()`  →  3) set `sampler.options`  →  4) override selectively in `run()`."
   ]
  },
  {
   "cell_type": "markdown",
   "id": "3c6c2bb2",
   "metadata": {},
   "source": [
    "**Example Code: Defaults vs. Per‑run Override**"
   ]
  },
  {
   "cell_type": "code",
   "execution_count": 10,
   "id": "9d4a6641-fdf6-41e9-a65d-43dc60365687",
   "metadata": {},
   "outputs": [
    {
     "name": "stdout",
     "output_type": "stream",
     "text": [
      "Simulators: []\n",
      "Devices: ['ibm_brisbane', 'ibm_torino']\n",
      "Using backend: ibm_brisbane\n"
     ]
    },
    {
     "name": "stderr",
     "output_type": "stream",
     "text": [
      "/var/folders/1g/pjkrsvtx455c4cm1_j7xrnz00000gp/T/ipykernel_26577/753434617.py:29: DeprecationWarning: The class ``qiskit.circuit.library.iqp.IQP`` is deprecated as of Qiskit 2.1. It will be removed in Qiskit 3.0. Use the qiskit.circuit.library.iqp function instead.\n",
      "  circuit: QuantumCircuit = IQP(mat)\n"
     ]
    }
   ],
   "source": [
    "import numpy as np\n",
    "from qiskit import QuantumCircuit, transpile\n",
    "from qiskit.quantum_info import random_hermitian\n",
    "from qiskit.circuit.library import IQP\n",
    "from qiskit.transpiler.preset_passmanagers import generate_preset_pass_manager\n",
    "from qiskit_ibm_runtime import QiskitRuntimeService, SamplerV2\n",
    "\n",
    "# --- config ---\n",
    "n_qubits = 50\n",
    "shots = 20_000\n",
    "\n",
    "# --- pick a backend you actually have access to ---\n",
    "service = QiskitRuntimeService()\n",
    "sims = service.backends(simulator=True)\n",
    "devs = service.backends(simulator=False)\n",
    "print(\"Simulators:\", [b.name for b in sims])\n",
    "print(\"Devices:\",    [b.name for b in devs])\n",
    "PREFERRED = [\"simulator_mps\", \"ibmq_qasm_simulator\", \"simulator_statevector\"]\n",
    "by_name = {b.name: b for b in sims}\n",
    "backend = next((by_name[n] for n in PREFERRED if n in by_name), sims[0] if sims else devs[0])\n",
    "print(\"Using backend:\", backend.name)\n",
    "\n",
    "# --- build a real symmetric matrix for IQP (qiskit 2.x: random_hermitian -> Operator) ---\n",
    "H = random_hermitian(n_qubits, seed=1234)\n",
    "A = np.asarray(getattr(H, \"data\", H.to_matrix()))          # complex ndarray\n",
    "mat = np.real((A + A.T.conj()) / 2.0)                      # real symmetric (n x n)\n",
    "\n",
    "# --- IQP circuit and measurements ---\n",
    "circuit: QuantumCircuit = IQP(mat)\n",
    "circuit = circuit.measure_all(inplace=False)\n",
    "\n",
    "# --- target-strict transpilation to the selected backend ---\n",
    "pm = generate_preset_pass_manager(backend=backend, optimization_level=1)\n",
    "isa_circuit = pm.run(circuit)\n",
    "\n",
    "# --- run with SamplerV2 (IBM Runtime) ---\n",
    "sampler = SamplerV2(mode=backend)\n",
    "res = sampler.run([isa_circuit], shots=shots).result()\n",
    "\n",
    "# # --- compute <Z^{⊗n}> from the distribution ---\n",
    "# # res[0] is typically dict-like; fall back to .data if needed\n",
    "# dist = res[0] if isinstance(res[0], dict) else getattr(res[0], \"data\", res[0])\n",
    "# exp_val = sum(((-1) ** s.count(\"1\")) * p for s, p in dist.items())\n",
    "\n",
    "# print(f\" > Expectation value (from Sampler): {exp_val}\")\n",
    "# try:\n",
    "#     print(f\" > Metadata: {res[0].metadata}\")\n",
    "# except Exception:\n",
    "#     pass\n"
   ]
  },
  {
   "cell_type": "code",
   "execution_count": 12,
   "id": "a14e0b1f-dca1-4f51-8e43-0379e2e1c22b",
   "metadata": {},
   "outputs": [
    {
     "name": "stdout",
     "output_type": "stream",
     "text": [
      ">>> Circuit ops (ISA): OrderedDict({'rz': 909, 'sx': 638, 'ecr': 312, 'x': 61, 'measure': 50, 'barrier': 1})\n",
      "res is  PrimitiveResult([SamplerPubResult(data=DataBin(meas=BitArray(<shape=(), num_shots=20000, num_bits=50>)), metadata={'circuit_metadata': {}})], metadata={'execution': {'execution_spans': ExecutionSpans([DoubleSliceSpan(<start='2025-10-07 21:03:15', stop='2025-10-07 21:03:22', size=20000>)])}, 'version': 2})\n"
     ]
    }
   ],
   "source": [
    "print(f\">>> Circuit ops (ISA): {isa_circuit.count_ops()}\")\n",
    "print('res is ', res)"
   ]
  },
  {
   "cell_type": "code",
   "execution_count": 3,
   "id": "c50f55c8",
   "metadata": {},
   "outputs": [
    {
     "ename": "IBMInputValueError",
     "evalue": "'The instruction h on qubits (0,) is not supported by the target system. Circuits that do not match the target hardware definition are no longer supported after March 4, 2024. See the transpilation documentation (https://quantum.cloud.ibm.com/docs/guides/transpile) for instructions to transform circuits and the primitive examples (https://quantum.cloud.ibm.com/docs/guides/primitives-examples) to see this coupled with operator transformations.'",
     "output_type": "error",
     "traceback": [
      "\u001b[31m---------------------------------------------------------------------------\u001b[39m",
      "\u001b[31mIBMInputValueError\u001b[39m                        Traceback (most recent call last)",
      "\u001b[36mCell\u001b[39m\u001b[36m \u001b[39m\u001b[32mIn[3]\u001b[39m\u001b[32m, line 10\u001b[39m\n\u001b[32m      7\u001b[39m sampler.options.twirling.enable_gates = \u001b[38;5;28;01mTrue\u001b[39;00m\n\u001b[32m      9\u001b[39m \u001b[38;5;66;03m# Per-job override (temporarily disable twirling for this run)\u001b[39;00m\n\u001b[32m---> \u001b[39m\u001b[32m10\u001b[39m job = \u001b[43msampler\u001b[49m\u001b[43m.\u001b[49m\u001b[43mrun\u001b[49m\u001b[43m(\u001b[49m\u001b[43m[\u001b[49m\u001b[43mqc\u001b[49m\u001b[43m]\u001b[49m\u001b[43m,\u001b[49m\u001b[43m \u001b[49m\u001b[43mshots\u001b[49m\u001b[43m=\u001b[49m\u001b[32;43m1024\u001b[39;49m\u001b[43m)\u001b[49m\n\u001b[32m     11\u001b[39m \u001b[38;5;66;03m# , options={'twirling': {'enable': False}})\u001b[39;00m\n\u001b[32m     12\u001b[39m \u001b[38;5;28mprint\u001b[39m(\u001b[33m'\u001b[39m\u001b[33mJob submitted with per-run override; check results to confirm.\u001b[39m\u001b[33m'\u001b[39m)\n",
      "\u001b[36mFile \u001b[39m\u001b[32m/opt/homebrew/anaconda3/envs/qiskit2x/lib/python3.12/site-packages/qiskit_ibm_runtime/sampler.py:111\u001b[39m, in \u001b[36mSamplerV2.run\u001b[39m\u001b[34m(self, pubs, shots)\u001b[39m\n\u001b[32m    107\u001b[39m coerced_pubs = [SamplerPub.coerce(pub, shots) \u001b[38;5;28;01mfor\u001b[39;00m pub \u001b[38;5;129;01min\u001b[39;00m pubs]\n\u001b[32m    109\u001b[39m validate_classical_registers(coerced_pubs)\n\u001b[32m--> \u001b[39m\u001b[32m111\u001b[39m \u001b[38;5;28;01mreturn\u001b[39;00m \u001b[38;5;28;43mself\u001b[39;49m\u001b[43m.\u001b[49m\u001b[43m_run\u001b[49m\u001b[43m(\u001b[49m\u001b[43mcoerced_pubs\u001b[49m\u001b[43m)\u001b[49m\n",
      "\u001b[36mFile \u001b[39m\u001b[32m/opt/homebrew/anaconda3/envs/qiskit2x/lib/python3.12/site-packages/qiskit_ibm_runtime/base_primitive.py:149\u001b[39m, in \u001b[36mBasePrimitiveV2._run\u001b[39m\u001b[34m(self, pubs)\u001b[39m\n\u001b[32m    147\u001b[39m \u001b[38;5;28;01mfor\u001b[39;00m pub \u001b[38;5;129;01min\u001b[39;00m pubs:\n\u001b[32m    148\u001b[39m     \u001b[38;5;28;01mif\u001b[39;00m \u001b[38;5;28mgetattr\u001b[39m(\u001b[38;5;28mself\u001b[39m._backend, \u001b[33m\"\u001b[39m\u001b[33mtarget\u001b[39m\u001b[33m\"\u001b[39m, \u001b[38;5;28;01mNone\u001b[39;00m) \u001b[38;5;129;01mand\u001b[39;00m \u001b[38;5;129;01mnot\u001b[39;00m is_simulator(\u001b[38;5;28mself\u001b[39m._backend):\n\u001b[32m--> \u001b[39m\u001b[32m149\u001b[39m         \u001b[43mvalidate_isa_circuits\u001b[49m\u001b[43m(\u001b[49m\u001b[43m[\u001b[49m\u001b[43mpub\u001b[49m\u001b[43m.\u001b[49m\u001b[43mcircuit\u001b[49m\u001b[43m]\u001b[49m\u001b[43m,\u001b[49m\u001b[43m \u001b[49m\u001b[38;5;28;43mself\u001b[39;49m\u001b[43m.\u001b[49m\u001b[43m_backend\u001b[49m\u001b[43m.\u001b[49m\u001b[43mtarget\u001b[49m\u001b[43m)\u001b[49m\n\u001b[32m    151\u001b[39m     \u001b[38;5;28;01mif\u001b[39;00m \u001b[38;5;28misinstance\u001b[39m(\u001b[38;5;28mself\u001b[39m._backend, IBMBackend):\n\u001b[32m    152\u001b[39m         \u001b[38;5;28mself\u001b[39m._backend.check_faulty(pub.circuit)\n",
      "\u001b[36mFile \u001b[39m\u001b[32m/opt/homebrew/anaconda3/envs/qiskit2x/lib/python3.12/site-packages/qiskit_ibm_runtime/utils/validations.py:96\u001b[39m, in \u001b[36mvalidate_isa_circuits\u001b[39m\u001b[34m(circuits, target)\u001b[39m\n\u001b[32m     94\u001b[39m message = is_isa_circuit(circuit, target)\n\u001b[32m     95\u001b[39m \u001b[38;5;28;01mif\u001b[39;00m message:\n\u001b[32m---> \u001b[39m\u001b[32m96\u001b[39m     \u001b[38;5;28;01mraise\u001b[39;00m IBMInputValueError(\n\u001b[32m     97\u001b[39m         message\n\u001b[32m     98\u001b[39m         + \u001b[33m\"\u001b[39m\u001b[33m Circuits that do not match the target hardware definition are no longer \u001b[39m\u001b[33m\"\u001b[39m\n\u001b[32m     99\u001b[39m         \u001b[33m\"\u001b[39m\u001b[33msupported after March 4, 2024. See the transpilation documentation \u001b[39m\u001b[33m\"\u001b[39m\n\u001b[32m    100\u001b[39m         \u001b[33m\"\u001b[39m\u001b[33m(https://quantum.cloud.ibm.com/docs/guides/transpile) for instructions \u001b[39m\u001b[33m\"\u001b[39m\n\u001b[32m    101\u001b[39m         \u001b[33m\"\u001b[39m\u001b[33mto transform circuits and the primitive examples \u001b[39m\u001b[33m\"\u001b[39m\n\u001b[32m    102\u001b[39m         \u001b[33m\"\u001b[39m\u001b[33m(https://quantum.cloud.ibm.com/docs/guides/primitives-examples) to see \u001b[39m\u001b[33m\"\u001b[39m\n\u001b[32m    103\u001b[39m         \u001b[33m\"\u001b[39m\u001b[33mthis coupled with operator transformations.\u001b[39m\u001b[33m\"\u001b[39m\n\u001b[32m    104\u001b[39m     )\n",
      "\u001b[31mIBMInputValueError\u001b[39m: 'The instruction h on qubits (0,) is not supported by the target system. Circuits that do not match the target hardware definition are no longer supported after March 4, 2024. See the transpilation documentation (https://quantum.cloud.ibm.com/docs/guides/transpile) for instructions to transform circuits and the primitive examples (https://quantum.cloud.ibm.com/docs/guides/primitives-examples) to see this coupled with operator transformations.'"
     ]
    }
   ],
   "source": [
    "from qiskit_ibm_runtime import QiskitRuntimeService, SamplerV2\n",
    "sampler = SamplerV2(mode=backend)\n",
    "# Set defaults on the live sampler\n",
    "sampler.options.default_shots = 2048\n",
    "sampler.options.dynamical_decoupling.enable = True\n",
    "sampler.options.dynamical_decoupling.sequence_type = 'XY4'\n",
    "sampler.options.twirling.enable_gates = True\n",
    "\n",
    "# Per-job override (temporarily disable twirling for this run)\n",
    "job = sampler.run([qc], shots=1024)\n",
    "# , options={'twirling': {'enable': False}})\n",
    "print('Job submitted with per-run override; check results to confirm.')"
   ]
  },
  {
   "cell_type": "markdown",
   "id": "37288668",
   "metadata": {},
   "source": [
    "\n",
    "\n",
    "---\n",
    "\n"
   ]
  },
  {
   "cell_type": "markdown",
   "id": "69751918",
   "metadata": {},
   "source": [
    "<div style=\"background:#001d6c;color:#fff;padding:10px 12px;border-radius:6px;margin:8px 0;font-weight:600;\">\n",
    "5.1.3 — Shots & measurement return\n",
    "</div>"
   ]
  },
  {
   "cell_type": "markdown",
   "id": "54565329",
   "metadata": {},
   "source": [
    "- Control shots globally (`sampler.options.default_shots`) or per call (`run(shots=...)`).\n",
    "- Results expose counts/probabilities keyed by bitstrings plus metadata.\n",
    "**Exam focus:** how to change shot count; how to read the result object."
   ]
  },
  {
   "cell_type": "markdown",
   "id": "be5509ae",
   "metadata": {},
   "source": [
    "**Example Code: Reading Results**"
   ]
  },
  {
   "cell_type": "code",
   "execution_count": null,
   "id": "97f99329",
   "metadata": {},
   "outputs": [],
   "source": [
    "job = sampler.run([qc], shots=4096)\n",
    "result = job.result()\n",
    "try:\n",
    "    dist0 = result[0]\n",
    "    print('Top items:', list(dist0.items())[:5])\n",
    "except Exception as e:\n",
    "    print('Result shape differs by version:', e)"
   ]
  },
  {
   "cell_type": "markdown",
   "id": "4e2acad9",
   "metadata": {},
   "source": [
    "\n",
    "\n",
    "---\n",
    "\n"
   ]
  },
  {
   "cell_type": "markdown",
   "id": "ca68e18c",
   "metadata": {},
   "source": [
    "<div style=\"background:#001d6c;color:#fff;padding:10px 12px;border-radius:6px;margin:8px 0;font-weight:600;\">\n",
    "5.1.4 — Dynamical decoupling (DD)\n",
    "</div>"
   ]
  },
  {
   "cell_type": "markdown",
   "id": "d420b285",
   "metadata": {},
   "source": [
    "**Concept**  \n",
    "DD inserts idle-time pulses to mitigate dephasing. Enable via `sampler.options.dynamical_decoupling.enable=True` and select a sequence (e.g., `XY4`). **Backend support required.**"
   ]
  },
  {
   "cell_type": "markdown",
   "id": "11783594",
   "metadata": {},
   "source": [
    "**Example Code: Enable DD**"
   ]
  },
  {
   "cell_type": "code",
   "execution_count": null,
   "id": "3e89fc63",
   "metadata": {},
   "outputs": [],
   "source": [
    "sampler.options.dynamical_decoupling.enable = True\n",
    "sampler.options.dynamical_decoupling.sequence_type = 'XY4'\n",
    "print('DD enabled with XY4 (if backend supports).')"
   ]
  },
  {
   "cell_type": "markdown",
   "id": "f068ec3c",
   "metadata": {},
   "source": [
    "\n",
    "\n",
    "---\n",
    "\n"
   ]
  },
  {
   "cell_type": "markdown",
   "id": "d8fbcac2",
   "metadata": {},
   "source": [
    "<div style=\"background:#001d6c;color:#fff;padding:10px 12px;border-radius:6px;margin:8px 0;font-weight:600;\">\n",
    "5.1.5 — Twirling\n",
    "</div>"
   ]
  },
  {
   "cell_type": "markdown",
   "id": "169805b3",
   "metadata": {},
   "source": [
    "**Concept**  \n",
    "Pauli twirling randomizes coherent errors, making them effectively stochastic and easier to mitigate. Often **combinable with DD**, depending on backend."
   ]
  },
  {
   "cell_type": "markdown",
   "id": "c62203d7",
   "metadata": {},
   "source": [
    "**Example Code: Enable Twirling**"
   ]
  },
  {
   "cell_type": "code",
   "execution_count": null,
   "id": "3b0277fe",
   "metadata": {},
   "outputs": [],
   "source": [
    "sampler.options.twirling.enable = True\n",
    "print('Twirling enabled (subject to backend support).')"
   ]
  },
  {
   "cell_type": "markdown",
   "id": "39d82b61",
   "metadata": {},
   "source": [
    "\n",
    "\n",
    "---\n",
    "\n"
   ]
  },
  {
   "cell_type": "markdown",
   "id": "f0e61929",
   "metadata": {},
   "source": [
    "<div style=\"background:#001d6c;color:#fff;padding:10px 12px;border-radius:6px;margin:8px 0;font-weight:600;\">\n",
    "5.1.6 — Backend/simulator notes & quick validation\n",
    "</div>"
   ]
  },
  {
   "cell_type": "markdown",
   "id": "f356d6ea",
   "metadata": {},
   "source": [
    "- Many options (DD, twirling) impact **hardware** runs; local ideal simulators may not reflect changes.\n",
    "- To simulate realistically, mirror target device noise/coupling.\n",
    "- **Validation idea:** run with/without DD/twirling and compare distributions."
   ]
  },
  {
   "cell_type": "markdown",
   "id": "fece047b",
   "metadata": {},
   "source": [
    "**Example Code: A/B Toggle Scaffold**"
   ]
  },
  {
   "cell_type": "code",
   "execution_count": null,
   "id": "c23005f4",
   "metadata": {},
   "outputs": [],
   "source": [
    "def run_with_options(enable_dd, enable_twirling, shots=2048):\n",
    "    sampler.options.dynamical_decoupling.enable = enable_dd\n",
    "    sampler.options.twirling.enable = enable_twirling\n",
    "    job = sampler.run([qc], shots=shots)\n",
    "    return job.result()\n",
    "# r0 = run_with_options(False, False)\n",
    "# r1 = run_with_options(True, False)\n",
    "# r2 = run_with_options(False, True)\n",
    "# r3 = run_with_options(True, True)\n",
    "print('Toggle sets prepared; uncomment to compare distributions.')"
   ]
  },
  {
   "cell_type": "markdown",
   "id": "a871eb03",
   "metadata": {},
   "source": [
    "\n",
    "\n",
    "---\n",
    "\n"
   ]
  },
  {
   "cell_type": "markdown",
   "id": "048a567b",
   "metadata": {},
   "source": [
    "<div style=\"background:#001d6c;color:#fff;padding:10px 12px;border-radius:6px;margin:8px 0;font-weight:600;\">\n",
    "5.1.7 — Sample Exam‑Style Questions\n",
    "</div>"
   ]
  },
  {
   "cell_type": "markdown",
   "id": "4d901451",
   "metadata": {},
   "source": [
    "Provide brief context before each question, as in the client template. Answers are listed after the questions.\n"
   ]
  },
  {
   "cell_type": "markdown",
   "id": "8f037551",
   "metadata": {},
   "source": [
    "\n",
    "**Q1 (5.1.1)** In which place do default sampler options live?  \n",
    "A. PUB only  \n",
    "B. `sampler.options`  \n",
    "C. Backend config  \n",
    "D. `run()` only\n",
    "\n",
    "**Q2 (5.1.1)** What does the sampler conceptually return?  \n",
    "A. Statevector  \n",
    "B. Eigenvalues  \n",
    "C. Bitstring distribution  \n",
    "D. Unitary\n",
    "\n",
    "**Q3 (5.1.2)** Correct workflow?  \n",
    "A. run() → set options → backend  \n",
    "B. backend → sampler → set defaults → run()  \n",
    "C. set defaults → sampler → run()  \n",
    "D. sampler → run() → set defaults\n",
    "\n",
    "**Q4 (5.1.2)** How to tweak behavior for one job?  \n",
    "A. Edit calibrations  \n",
    "B. Pass overrides in `run(...)`  \n",
    "C. Reinstall  \n",
    "D. Not possible\n",
    "\n",
    "**Q5 (5.1.3)** Change shots for a single job via:  \n",
    "A. `sampler.options.default_shots`  \n",
    "B. `run(shots=...)`  \n",
    "C. `sampler.options.time_limit`  \n",
    "D. PUB parameters\n",
    "\n",
    "**Q6 (5.1.3)** The result object typically exposes:  \n",
    "A. Unitary  \n",
    "B. Counts/probabilities  \n",
    "C. Bloch vectors  \n",
    "D. Cal data only\n",
    "\n",
    "**Q7 (5.1.4)** DD primarily mitigates:  \n",
    "A. Sampling variance  \n",
    "B. Idle-time dephasing  \n",
    "C. Queue wait  \n",
    "D. Transpilation time\n",
    "\n",
    "**Q8 (5.1.4)** A common DD sequence:  \n",
    "A. HZH  \n",
    "B. XY4  \n",
    "C. T-echo  \n",
    "D. SWAP3\n",
    "\n",
    "**Q9 (5.1.5)** Twirling is for:  \n",
    "A. Increase crosstalk  \n",
    "B. Randomize coherent errors  \n",
    "C. Remove readout errors  \n",
    "D. Double shots\n",
    "\n",
    "**Q10 (5.1.5)** DD and twirling can be:  \n",
    "A. Mutually exclusive  \n",
    "B. Combined (backend-dependent)  \n",
    "C. Simulator-only  \n",
    "D. Stabilizer-only\n",
    "\n",
    "**Q11 (5.1.6)** True statement:  \n",
    "A. DD/twirling always visible on ideal sim  \n",
    "B. Often require hardware support  \n",
    "C. Shots ignored on hardware  \n",
    "D. Noise cannot be mirrored\n",
    "\n",
    "**Q12 (5.1.6)** Quick validation:  \n",
    "A. Compare runs with/without DD/twirling  \n",
    "B. Check CPU temp  \n",
    "C. Change optimizer  \n",
    "D. Alter qubit frequency\n",
    "\n",
    "**Answers:** 1‑B, 2‑C, 3‑B, 4‑B, 5‑B, 6‑B, 7‑B, 8‑B, 9‑B, 10‑B, 11‑B, 12‑A\n"
   ]
  },
  {
   "cell_type": "markdown",
   "id": "d8ff31c8",
   "metadata": {},
   "source": [
    "\n",
    "\n",
    "---\n",
    "\n"
   ]
  },
  {
   "cell_type": "markdown",
   "id": "189596ae",
   "metadata": {},
   "source": [
    "**Summary**  \n",
    "Default vs per‑run options, shots & results, DD & twirling concepts, and practical validation on hardware vs. simulator."
   ]
  }
 ],
 "metadata": {
  "kernelspec": {
   "display_name": "Python (qiskit2x)",
   "language": "python",
   "name": "qiskit2x"
  },
  "language_info": {
   "codemirror_mode": {
    "name": "ipython",
    "version": 3
   },
   "file_extension": ".py",
   "mimetype": "text/x-python",
   "name": "python",
   "nbconvert_exporter": "python",
   "pygments_lexer": "ipython3",
   "version": "3.12.9"
  }
 },
 "nbformat": 4,
 "nbformat_minor": 5
}
