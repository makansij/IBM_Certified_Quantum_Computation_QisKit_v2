{
 "cells": [
  {
   "cell_type": "code",
   "execution_count": 1,
   "id": "0302d04b-73c3-4168-a5e4-85f3d672d3ae",
   "metadata": {},
   "outputs": [
    {
     "name": "stdout",
     "output_type": "stream",
     "text": [
      "Python full: 3.12.11 | packaged by Anaconda, Inc. | (main, Jun  5 2025, 08:03:38) [Clang 14.0.6 ]\n",
      "Python tuple: sys.version_info(major=3, minor=12, micro=11, releaselevel='final', serial=0)\n",
      "Python short: 3.12.11\n",
      "Executable: /opt/homebrew/anaconda3/envs/qiskit2x/bin/python\n"
     ]
    }
   ],
   "source": [
    "import numpy as np\n",
    "import sys, platform\n",
    "import numpy as np\n",
    "from qiskit.circuit.library import iqp\n",
    "from qiskit.transpiler import generate_preset_pass_manager\n",
    "from qiskit.quantum_info import SparsePauliOp, random_hermitian\n",
    "from qiskit_ibm_runtime import QiskitRuntimeService, EstimatorV2 as Estimator\n",
    "\n",
    "print(\"Python full:\", sys.version)          # e.g. '3.12.5 (main, ...)'\n",
    "print(\"Python tuple:\", sys.version_info)     # e.g. sys.version_info(major=3, minor=12, micro=5, ...)\n",
    "print(\"Python short:\", platform.python_version())  # e.g. '3.12.5'\n",
    "print(\"Executable:\", sys.executable)         # path to the kernel's python\n"
   ]
  },
  {
   "cell_type": "code",
   "execution_count": 2,
   "id": "a3699c21-f06f-48c0-bad0-3b82d2aa095e",
   "metadata": {},
   "outputs": [
    {
     "name": "stdout",
     "output_type": "stream",
     "text": [
      "Saved IBM Quantum Platform account.\n"
     ]
    }
   ],
   "source": [
    "QiskitRuntimeService.save_account(\n",
    "    channel='ibm_quantum_platform',\n",
    "    token='RH-RO4uf1A9A4A7LkJsTBw27L2RH4BqAIodMBiZS0QyI',\n",
    "    set_as_default=True,\n",
    "    overwrite=True,\n",
    ")\n",
    "print(\"Saved IBM Quantum Platform account.\")\n"
   ]
  },
  {
   "cell_type": "code",
   "execution_count": 3,
   "id": "d8f92acb-64d0-4f67-8983-9820c900f5ca",
   "metadata": {},
   "outputs": [
    {
     "name": "stderr",
     "output_type": "stream",
     "text": [
      "qiskit_runtime_service._resolve_cloud_instances:WARNING:2025-09-21 22:27:45,870: Default instance not set. Searching all available instances.\n"
     ]
    },
    {
     "name": "stdout",
     "output_type": "stream",
     "text": [
      "the backends available are:  [<IBMBackend('ibm_brisbane')>, <IBMBackend('ibm_torino')>]\n",
      " > Expectation value: -0.03662109375\n",
      " > Metadata: {'shots': 4096, 'target_precision': 0.015625, 'circuit_metadata': {}, 'resilience': {}, 'num_randomizations': 32}\n"
     ]
    }
   ],
   "source": [
    "n_qubits = 50\n",
    " \n",
    "service = QiskitRuntimeService()\n",
    "print('the backends available are: ', service.backends())\n",
    "backend = service.backends()[0]\n",
    "\n",
    " \n",
    "mat = np.real(random_hermitian(n_qubits, seed=1234))\n",
    "circuit = iqp(mat)\n",
    "observable = SparsePauliOp(\"Z\" * 50)\n",
    " \n",
    "pm = generate_preset_pass_manager(backend=backend, optimization_level=1)\n",
    "isa_circuit = pm.run(circuit)\n",
    "isa_observable = observable.apply_layout(isa_circuit.layout)\n",
    " \n",
    "estimator = Estimator(mode=backend)\n",
    "job = estimator.run([(isa_circuit, isa_observable)])\n",
    "result = job.result()\n",
    " \n",
    "print(f\" > Expectation value: {result[0].data.evs}\")\n",
    "print(f\" > Metadata: {result[0].metadata}\")\n"
   ]
  },
  {
   "cell_type": "code",
   "execution_count": 4,
   "id": "361e9c82-6a1b-4f8b-8988-f275075adf4c",
   "metadata": {},
   "outputs": [
    {
     "data": {
      "text/plain": [
       "<IBMBackend('ibm_brisbane')>"
      ]
     },
     "execution_count": 4,
     "metadata": {},
     "output_type": "execute_result"
    }
   ],
   "source": [
    "backend"
   ]
  },
  {
   "cell_type": "code",
   "execution_count": 1,
   "id": "9a957d39-39d4-46c1-bb7a-f2412f8635a2",
   "metadata": {},
   "outputs": [
    {
     "ename": "ModuleNotFoundError",
     "evalue": "No module named 'qiskit.tools'",
     "output_type": "error",
     "traceback": [
      "\u001b[31m---------------------------------------------------------------------------\u001b[39m",
      "\u001b[31mModuleNotFoundError\u001b[39m                       Traceback (most recent call last)",
      "\u001b[36mCell\u001b[39m\u001b[36m \u001b[39m\u001b[32mIn[1]\u001b[39m\u001b[32m, line 1\u001b[39m\n\u001b[32m----> \u001b[39m\u001b[32m1\u001b[39m \u001b[38;5;28;01mimport\u001b[39;00m\u001b[38;5;250m \u001b[39m\u001b[34;01mqiskit\u001b[39;00m\u001b[34;01m.\u001b[39;00m\u001b[34;01mtools\u001b[39;00m\u001b[34;01m.\u001b[39;00m\u001b[34;01mjupyter\u001b[39;00m\n\u001b[32m      2\u001b[39m get_ipython().run_line_magic(\u001b[33m'\u001b[39m\u001b[33mqiskit_version_table\u001b[39m\u001b[33m'\u001b[39m, \u001b[33m'\u001b[39m\u001b[33m'\u001b[39m)\n",
      "\u001b[31mModuleNotFoundError\u001b[39m: No module named 'qiskit.tools'"
     ]
    }
   ],
   "source": [
    "import qiskit.tools.jupyter\n",
    "%qiskit_version_table"
   ]
  },
  {
   "cell_type": "code",
   "execution_count": 4,
   "id": "36daf3ae-e7ec-4328-99b3-40bcd65f2db0",
   "metadata": {},
   "outputs": [
    {
     "name": "stdout",
     "output_type": "stream",
     "text": [
      "2.2.0\n"
     ]
    }
   ],
   "source": [
    "import qiskit\n",
    "print(qiskit.__version__)"
   ]
  },
  {
   "cell_type": "code",
   "execution_count": null,
   "id": "bb191d1e-09c1-41c5-a8e2-9c6683ab41d8",
   "metadata": {},
   "outputs": [],
   "source": []
  }
 ],
 "metadata": {
  "kernelspec": {
   "display_name": "Python (qiskit2x)",
   "language": "python",
   "name": "qiskit2x"
  },
  "language_info": {
   "codemirror_mode": {
    "name": "ipython",
    "version": 3
   },
   "file_extension": ".py",
   "mimetype": "text/x-python",
   "name": "python",
   "nbconvert_exporter": "python",
   "pygments_lexer": "ipython3",
   "version": "3.12.11"
  }
 },
 "nbformat": 4,
 "nbformat_minor": 5
}
