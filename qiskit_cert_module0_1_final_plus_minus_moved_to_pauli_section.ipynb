{
 "cells": [
  {
   "cell_type": "code",
   "execution_count": 1,
   "id": "7325603e",
   "metadata": {},
   "outputs": [],
   "source": [
    "import numpy as np"
   ]
  },
  {
   "cell_type": "markdown",
   "id": "bee60b26",
   "metadata": {},
   "source": [
    "# Qiskit Certification Prep - Module 0.1: Single-Qubit Operations"
   ]
  },
  {
   "cell_type": "markdown",
   "id": "500fa59e",
   "metadata": {},
   "source": [
    "## Section 0.1.1: Pauli Gates\n",
    "\n",
    "Pauli gates are the basic quantum logic gates. Their matrix representations and actions are:\n",
    "\n",
    "- **X (NOT gate)**:\n",
    "  $$X = \\begin{bmatrix} 0 & 1 \\\\ 1 & 0 \\end{bmatrix}$$\n",
    "  Swaps $|0⟩$ and $|1⟩$\n",
    "\n",
    "- **Y**:\n",
    "  $$Y = \\begin{bmatrix} 0 & -i \\\\ i & 0 \\end{bmatrix}$$\n",
    "  Applies a bit and phase flip\n",
    "\n",
    "- **Z**:\n",
    "  $$Z = \\begin{bmatrix} 1 & 0 \\\\ 0 & -1 \\end{bmatrix}$$\n",
    "  Flips the phase of $|1⟩$"
   ]
  },
  {
   "cell_type": "code",
   "execution_count": 13,
   "id": "ffb679d6",
   "metadata": {},
   "outputs": [
    {
     "data": {
      "image/png": "[encoded data removed]",
      "text/plain": [
       "<Figure size 185.453x117.056 with 1 Axes>"
      ]
     },
     "execution_count": 13,
     "metadata": {},
     "output_type": "execute_result"
    },
    {
     "data": {
      "image/png": "[encoded data removed]",
      "text/plain": [
       "<Figure size 185.453x117.056 with 1 Axes>"
      ]
     },
     "metadata": {},
     "output_type": "display_data"
    }
   ],
   "source": [
    "from qiskit import QuantumCircuit\n",
    "qc = QuantumCircuit(1)\n",
    "qc.x(0)\n",
    "qc.draw('mpl')"
   ]
  },
  {
   "cell_type": "code",
   "execution_count": 3,
   "id": "c6c41116",
   "metadata": {},
   "outputs": [
    {
     "data": {
      "image/png": "[encoded data removed]",
      "text/plain": [
       "<Figure size 185.453x117.056 with 1 Axes>"
      ]
     },
     "execution_count": 3,
     "metadata": {},
     "output_type": "execute_result"
    },
    {
     "data": {
      "image/png": "[encoded data removed]",
      "text/plain": [
       "<Figure size 185.453x117.056 with 1 Axes>"
      ]
     },
     "metadata": {},
     "output_type": "display_data"
    }
   ],
   "source": [
    "qc = QuantumCircuit(1)\n",
    "qc.y(0)\n",
    "qc.draw('mpl')"
   ]
  },
  {
   "cell_type": "code",
   "execution_count": 4,
   "id": "65f04965",
   "metadata": {},
   "outputs": [
    {
     "data": {
      "image/png": "[encoded data removed]",
      "text/plain": [
       "<Figure size 185.453x117.056 with 1 Axes>"
      ]
     },
     "execution_count": 4,
     "metadata": {},
     "output_type": "execute_result"
    },
    {
     "data": {
      "image/png": "[encoded data removed]",
      "text/plain": [
       "<Figure size 185.453x117.056 with 1 Axes>"
      ]
     },
     "metadata": {},
     "output_type": "display_data"
    }
   ],
   "source": [
    "qc = QuantumCircuit(1)\n",
    "qc.z(0)\n",
    "qc.draw('mpl')"
   ]
  },
  {
   "cell_type": "markdown",
   "id": "df3f34ce",
   "metadata": {},
   "source": [
    "### Action of Pauli Gates on Basis States"
   ]
  },
  {
   "cell_type": "code",
   "execution_count": 5,
   "id": "7b931a4a",
   "metadata": {},
   "outputs": [
    {
     "name": "stdout",
     "output_type": "stream",
     "text": [
      "X on |+⟩ → Statevector([0.70710678+0.j, 0.70710678+0.j],\n",
      "            dims=(2,))\n",
      "X on |−⟩ → Statevector([-0.70710678+0.j,  0.70710678+0.j],\n",
      "            dims=(2,))\n"
     ]
    }
   ],
   "source": [
    "from qiskit import QuantumCircuit\n",
    "from qiskit.quantum_info import Statevector\n",
    "\n",
    "# Define |+⟩ and |−⟩ statevectors\n",
    "plus = Statevector([1/2**0.5, 1/2**0.5])\n",
    "minus = Statevector([1/2**0.5, -1/2**0.5])\n",
    "\n",
    "# Create the X gate circuit\n",
    "qc_x = QuantumCircuit(1)\n",
    "qc_x.x(0)\n",
    "\n",
    "# Evolve using .to_instruction()\n",
    "plus_result = plus.evolve(qc_x.to_instruction())\n",
    "minus_result = minus.evolve(qc_x.to_instruction())\n",
    "\n",
    "print(\"X on |+⟩ →\", plus_result)\n",
    "print(\"X on |−⟩ →\", minus_result)"
   ]
  },
  {
   "cell_type": "markdown",
   "id": "6f107aa9",
   "metadata": {},
   "source": [
    "### The $|+⟩$ and $|−⟩$ States\n",
    "\n",
    "These are important quantum states often used when working with the Hadamard gate and measurement in the X-basis:\n",
    "\n",
    "- $|+⟩ = \\frac{1}{\\sqrt{2}}(|0⟩ + |1⟩)$\n",
    "- $|−⟩ = \\frac{1}{\\sqrt{2}}(|0⟩ - |1⟩)$\n",
    "\n",
    "They form an **orthonormal basis**, just like $|0⟩$ and $|1⟩$, and are the eigenstates of the Hadamard gate."
   ]
  },
  {
   "cell_type": "markdown",
   "id": "c2fe5e19",
   "metadata": {},
   "source": [
    "### Identity: X = H Z H"
   ]
  },
  {
   "cell_type": "code",
   "execution_count": 6,
   "id": "5c354074",
   "metadata": {},
   "outputs": [
    {
     "name": "stdout",
     "output_type": "stream",
     "text": [
      "Equivalent state:\n",
      "Statevector([-2.23711432e-17+0.j,  1.00000000e+00+0.j],\n",
      "            dims=(2,))\n",
      "Statevector([0.+0.j, 1.+0.j],\n",
      "            dims=(2,))\n"
     ]
    }
   ],
   "source": [
    "qc1 = QuantumCircuit(1)\n",
    "qc1.h(0)\n",
    "qc1.z(0)\n",
    "qc1.h(0)\n",
    "\n",
    "qc2 = QuantumCircuit(1)\n",
    "qc2.x(0)\n",
    "\n",
    "print(\"Equivalent state:\")\n",
    "print(Statevector.from_label('0').evolve(qc1))\n",
    "print(Statevector.from_label('0').evolve(qc2))"
   ]
  },
  {
   "cell_type": "markdown",
   "id": "51e5d0a9",
   "metadata": {},
   "source": [
    "## Section 0.1.2: Rotation Gates\n",
    "\n",
    "- **RX(θ)**:\n",
    "  $$RX(\\theta) = \\begin{bmatrix} \\cos(\\theta/2) & -i\\sin(\\theta/2) \\\\ -i\\sin(\\theta/2) & \\cos(\\theta/2) \\end{bmatrix}$$\n",
    "\n",
    "- **RY(θ)**:\n",
    "  $$RY(\\theta) = \\begin{bmatrix} \\cos(\\theta/2) & -\\sin(\\theta/2) \\\\ \\sin(\\theta/2) & \\cos(\\theta/2) \\end{bmatrix}$$\n",
    "\n",
    "- **RZ(θ)**:\n",
    "  $$RZ(\\theta) = \\begin{bmatrix} 1 & 0 \\\\ 0 & e^{-i\\theta} \\end{bmatrix}$$"
   ]
  },
  {
   "cell_type": "markdown",
   "id": "8b5ea4ce",
   "metadata": {},
   "source": [
    "### Advanced Example: Rotation Gate Composition\n",
    "\n",
    "You can compose multiple rotation gates. For example, two Rx(π/2) gates in a row are equivalent to Rx(π):\n",
    "\n",
    "$$ R_x(\\theta) = e^{-i \\theta X / 2} $$\n",
    "\n",
    "Applying $R_x(\\pi/2)$ twice is the same as $R_x(\\pi)$ up to global phase.\n",
    "\n",
    "This can be verified with Qiskit:"
   ]
  },
  {
   "cell_type": "code",
   "execution_count": 7,
   "id": "91a710d1",
   "metadata": {},
   "outputs": [
    {
     "name": "stdout",
     "output_type": "stream",
     "text": [
      "Are the two final states equal (up to global phase)? True\n"
     ]
    }
   ],
   "source": [
    "from qiskit import QuantumCircuit\n",
    "from qiskit.quantum_info import Statevector\n",
    "\n",
    "qc1 = QuantumCircuit(1)\n",
    "qc1.rx(np.pi/2, 0)\n",
    "qc1.rx(np.pi/2, 0)\n",
    "state1 = Statevector.from_instruction(qc1)\n",
    "\n",
    "qc2 = QuantumCircuit(1)\n",
    "qc2.rx(np.pi, 0)\n",
    "state2 = Statevector.from_instruction(qc2)\n",
    "\n",
    "print(\"Are the two final states equal (up to global phase)?\",\n",
    "      state1.equiv(state2))"
   ]
  },
  {
   "cell_type": "code",
   "execution_count": 8,
   "id": "708d27a2",
   "metadata": {},
   "outputs": [
    {
     "data": {
      "image/png": "[encoded data removed]",
      "text/plain": [
       "<Figure size 185.453x117.056 with 1 Axes>"
      ]
     },
     "execution_count": 8,
     "metadata": {},
     "output_type": "execute_result"
    },
    {
     "data": {
      "image/png": "[encoded data removed]",
      "text/plain": [
       "<Figure size 185.453x117.056 with 1 Axes>"
      ]
     },
     "metadata": {},
     "output_type": "display_data"
    }
   ],
   "source": [
    "from numpy import pi\n",
    "qc = QuantumCircuit(1)\n",
    "qc.rx(pi/2, 0)\n",
    "qc.draw('mpl')"
   ]
  },
  {
   "cell_type": "code",
   "execution_count": 9,
   "id": "f8c7294b",
   "metadata": {},
   "outputs": [
    {
     "data": {
      "image/png": "[encoded data removed]",
      "text/plain": [
       "<Figure size 185.453x117.056 with 1 Axes>"
      ]
     },
     "execution_count": 9,
     "metadata": {},
     "output_type": "execute_result"
    },
    {
     "data": {
      "image/png": "[encoded data removed]",
      "text/plain": [
       "<Figure size 185.453x117.056 with 1 Axes>"
      ]
     },
     "metadata": {},
     "output_type": "display_data"
    }
   ],
   "source": [
    "qc = QuantumCircuit(1)\n",
    "qc.ry(pi, 0)  # Equivalent to Y gate\n",
    "qc.draw('mpl')"
   ]
  },
  {
   "cell_type": "code",
   "execution_count": 10,
   "id": "ab93c7a0",
   "metadata": {},
   "outputs": [
    {
     "data": {
      "image/png": "[encoded data removed]",
      "text/plain": [
       "<Figure size 185.453x117.056 with 1 Axes>"
      ]
     },
     "execution_count": 10,
     "metadata": {},
     "output_type": "execute_result"
    },
    {
     "data": {
      "image/png": "[encoded data removed]",
      "text/plain": [
       "<Figure size 185.453x117.056 with 1 Axes>"
      ]
     },
     "metadata": {},
     "output_type": "display_data"
    }
   ],
   "source": [
    "qc = QuantumCircuit(1)\n",
    "qc.rz(pi/4, 0)\n",
    "qc.draw('mpl')"
   ]
  },
  {
   "cell_type": "markdown",
   "id": "18f7c7cb",
   "metadata": {},
   "source": [
    "## Section 0.1.3: Hadamard Gate\n",
    "\n",
    "The **Hadamard gate (H)** creates a superposition:\n",
    "\n",
    "$$H = \\frac{1}{\\sqrt{2}} \\begin{bmatrix} 1 & 1 \\\\ 1 & -1 \\end{bmatrix}$$\n",
    "\n",
    "- $H|0⟩ = |+⟩$\n",
    "- $H|1⟩ = |−⟩$"
   ]
  },
  {
   "cell_type": "code",
   "execution_count": 11,
   "id": "83e6d52f",
   "metadata": {},
   "outputs": [
    {
     "data": {
      "image/png": "[encoded data removed]",
      "text/plain": [
       "<Figure size 185.453x117.056 with 1 Axes>"
      ]
     },
     "execution_count": 11,
     "metadata": {},
     "output_type": "execute_result"
    },
    {
     "data": {
      "image/png": "[encoded data removed]",
      "text/plain": [
       "<Figure size 185.453x117.056 with 1 Axes>"
      ]
     },
     "metadata": {},
     "output_type": "display_data"
    }
   ],
   "source": [
    "qc = QuantumCircuit(1)\n",
    "qc.h(0)\n",
    "qc.draw('mpl')"
   ]
  },
  {
   "cell_type": "markdown",
   "id": "d0aa486a",
   "metadata": {},
   "source": [
    "## Section 0.1.4: Useful Gate Identities and Algebra\n",
    "\n",
    "### Properties of the Hadamard Gate:\n",
    "- **Hermitian**: $H = H^\\dagger$\n",
    "- **Unitary**: $H^\\dagger H = I$\n",
    "\n",
    "### Common Identities:\n",
    "- $X = HZH$\n",
    "- $Z = HXH$\n",
    "- $H^2 = I$\n",
    "- $X^2 = Y^2 = Z^2 = I$\n",
    "- $XYZ = iI$  → So $-iXYZ = I$\n",
    "\n",
    "### Commutation / Anticommutation:\n",
    "- $ZX = -XZ$\n",
    "- $YX = -XY$\n",
    "- $ZY = -YZ$\n",
    "\n",
    "These identities arise from the non-commutative nature of quantum gates and are fundamental to quantum algorithms and error correction."
   ]
  },
  {
   "cell_type": "markdown",
   "id": "54338eaa",
   "metadata": {},
   "source": [
    "### Action of X on $|+⟩$ and $|−⟩$ States\n",
    "\n",
    "The $|+⟩$ and $|−⟩$ states are defined as:\n",
    "- $|+⟩ = \\frac{1}{\\sqrt{2}}(|0⟩ + |1⟩)$\n",
    "- $|−⟩ = \\frac{1}{\\sqrt{2}}(|0⟩ - |1⟩)$\n",
    "\n",
    "These are eigenstates of the Hadamard gate and are important for understanding quantum algorithms and measurement in different bases."
   ]
  },
  {
   "cell_type": "code",
   "execution_count": 12,
   "id": "fd9067cc",
   "metadata": {},
   "outputs": [
    {
     "name": "stdout",
     "output_type": "stream",
     "text": [
      "X on |+⟩ → Statevector([0.70710678+0.j, 0.70710678+0.j],\n",
      "            dims=(2,))\n",
      "X on |−⟩ → Statevector([-0.70710678+0.j,  0.70710678+0.j],\n",
      "            dims=(2,))\n"
     ]
    },
    {
     "name": "stderr",
     "output_type": "stream",
     "text": [
      "/Users/jordanmakansi/mamba/envs/qiskit-cert-intel/lib/python3.9/site-packages/qiskit/quantum_info/operators/operator.py:479: DeprecationWarning: `product` is deprecated as of NumPy 1.25.0, and will be removed in NumPy 2.0. Please use `prod` instead.\n",
      "  op = self.compose(mat, qargs=qargs)\n",
      "/Users/jordanmakansi/mamba/envs/qiskit-cert-intel/lib/python3.9/site-packages/qiskit/quantum_info/operators/operator.py:479: DeprecationWarning: `product` is deprecated as of NumPy 1.25.0, and will be removed in NumPy 2.0. Please use `prod` instead.\n",
      "  op = self.compose(mat, qargs=qargs)\n"
     ]
    }
   ],
   "source": [
    "from qiskit.quantum_info import Statevector, Operator\n",
    "from qiskit import QuantumCircuit\n",
    "\n",
    "# Define |+⟩ and |−⟩ statevectors\n",
    "plus = Statevector([1/2**0.5, 1/2**0.5])\n",
    "minus = Statevector([1/2**0.5, -1/2**0.5])\n",
    "\n",
    "# Create the X gate circuit\n",
    "qc_x = QuantumCircuit(1)\n",
    "qc_x.x(0)\n",
    "op_x = Operator(qc_x)\n",
    "\n",
    "# Evolve the states\n",
    "print(\"X on |+⟩ →\", plus.evolve(op_x))\n",
    "print(\"X on |−⟩ →\", minus.evolve(op_x))"
   ]
  },
  {
   "cell_type": "markdown",
   "id": "fe597b26",
   "metadata": {},
   "source": [
    "## Practice Questions\n",
    "\n",
    "**Q1.** Which of the following gate sequences is equivalent to the identity operation (up to global phase)?\n",
    "- A. $H X H Z H X H$\n",
    "- B. $X Z X Z$\n",
    "- C. $Y Y$\n",
    "- D. $X Y Z$\n",
    "\n",
    "**Q2.** Suppose you start with the state $|+⟩$. Which of the following gates will transform it to $|0⟩$?\n",
    "- A. $H$\n",
    "- B. $X$\n",
    "- C. $H Z$\n",
    "- D. $Z H$\n",
    "\n",
    "**Q3.** Which of the following statements is true about the commutation of gates?\n",
    "- A. $ZX = XZ$\n",
    "- B. $ZY = -YZ$\n",
    "- C. $XY = -YX$\n",
    "- D. $XZ = ZY$\n",
    "\n",
    "**Q4.** Which of the following expressions is equivalent to applying $X$ followed by $Z$ to a qubit?\n",
    "- A. $XZ$\n",
    "- B. $-ZX$\n",
    "- C. $H Y H$\n",
    "- D. $Y$\n",
    "\n",
    "**Q5.** Which of the following is equivalent to applying $R_x(\\pi)$?\n",
    "- A. $X$\n",
    "- B. $H Z H$\n",
    "- C. Two $R_x(\\pi/2)$ gates in sequence\n",
    "- D. $Z X Z$"
   ]
  },
  {
   "cell_type": "markdown",
   "id": "7c1969e7",
   "metadata": {},
   "source": [
    "### Answer Key\n",
    "- Q1: C\n",
    "- Q2: A\n",
    "- Q3: B\n",
    "- Q4: B\n",
    "- Q5: C"
   ]
  }
 ],
 "metadata": {
  "kernelspec": {
   "display_name": "Python (qiskit2x)",
   "language": "python",
   "name": "qiskit2x"
  },
  "language_info": {
   "codemirror_mode": {
    "name": "ipython",
    "version": 3
   },
   "file_extension": ".py",
   "mimetype": "text/x-python",
   "name": "python",
   "nbconvert_exporter": "python",
   "pygments_lexer": "ipython3",
   "version": "3.12.11"
  }
 },
 "nbformat": 4,
 "nbformat_minor": 5
}
