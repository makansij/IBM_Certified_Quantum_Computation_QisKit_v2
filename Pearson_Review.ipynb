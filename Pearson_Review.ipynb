{
 "cells": [
  {
   "cell_type": "code",
   "execution_count": 1,
   "id": "0302d04b-73c3-4168-a5e4-85f3d672d3ae",
   "metadata": {},
   "outputs": [
    {
     "name": "stdout",
     "output_type": "stream",
     "text": [
      "Python full: 3.12.9 | packaged by conda-forge | (main, Mar  4 2025, 22:44:42) [Clang 18.1.8 ]\n",
      "Python tuple: sys.version_info(major=3, minor=12, micro=9, releaselevel='final', serial=0)\n",
      "Python short: 3.12.9\n",
      "Executable: /opt/homebrew/anaconda3/envs/qiskit2x/bin/python\n"
     ]
    }
   ],
   "source": [
    "import numpy as np\n",
    "import sys, platform\n",
    "import numpy as np\n",
    "from qiskit.circuit.library import iqp\n",
    "from qiskit.transpiler import generate_preset_pass_manager\n",
    "from qiskit.quantum_info import SparsePauliOp, random_hermitian, Pauli\n",
    "from qiskit_ibm_runtime import QiskitRuntimeService, EstimatorV2 as Estimator\n",
    "\n",
    "print(\"Python full:\", sys.version)          # e.g. '3.12.5 (main, ...)'\n",
    "print(\"Python tuple:\", sys.version_info)     # e.g. sys.version_info(major=3, minor=12, micro=5, ...)\n",
    "print(\"Python short:\", platform.python_version())  # e.g. '3.12.5'\n",
    "print(\"Executable:\", sys.executable)         # path to the kernel's python\n"
   ]
  },
  {
   "cell_type": "code",
   "execution_count": 2,
   "id": "d8f92acb-64d0-4f67-8983-9820c900f5ca",
   "metadata": {},
   "outputs": [],
   "source": [
    "## PUBs: These are the things you pass into the \"run\" method of the primitives:"
   ]
  },
  {
   "cell_type": "code",
   "execution_count": 3,
   "id": "32fc2fe3-970f-4619-86a7-71cb027b3399",
   "metadata": {},
   "outputs": [
    {
     "name": "stderr",
     "output_type": "stream",
     "text": [
      "/opt/homebrew/anaconda3/envs/qiskit2x/lib/python3.12/site-packages/qiskit_ibm_runtime/qiskit_runtime_service.py:837: UserWarning: The backend ibm_brisbane currently has a status of maintenance.\n",
      "  warnings.warn(\n"
     ]
    },
    {
     "ename": "KeyboardInterrupt",
     "evalue": "",
     "output_type": "error",
     "traceback": [
      "\u001b[31m---------------------------------------------------------------------------\u001b[39m",
      "\u001b[31mKeyboardInterrupt\u001b[39m                         Traceback (most recent call last)",
      "\u001b[36mCell\u001b[39m\u001b[36m \u001b[39m\u001b[32mIn[3]\u001b[39m\u001b[32m, line 31\u001b[39m\n\u001b[32m     29\u001b[39m sampler = SamplerV2(mode=backend)             \u001b[38;5;66;03m# or SamplerV2() for some simulator modes\u001b[39;00m\n\u001b[32m     30\u001b[39m job = sampler.run(pubs)                       \u001b[38;5;66;03m# you can also pass shots=... here globally\u001b[39;00m\n\u001b[32m---> \u001b[39m\u001b[32m31\u001b[39m result = \u001b[43mjob\u001b[49m\u001b[43m.\u001b[49m\u001b[43mresult\u001b[49m\u001b[43m(\u001b[49m\u001b[43m)\u001b[49m\n\u001b[32m     33\u001b[39m \u001b[38;5;66;03m# 5) Inspect results (shape and accessors may vary by minor bb; this prints a readable summary)\u001b[39;00m\n\u001b[32m     34\u001b[39m \u001b[38;5;28;01mfor\u001b[39;00m i, pub_res \u001b[38;5;129;01min\u001b[39;00m \u001b[38;5;28menumerate\u001b[39m(result):\n",
      "\u001b[36mFile \u001b[39m\u001b[32m/opt/homebrew/anaconda3/envs/qiskit2x/lib/python3.12/site-packages/qiskit_ibm_runtime/runtime_job_v2.py:133\u001b[39m, in \u001b[36mRuntimeJobV2.result\u001b[39m\u001b[34m(self, timeout, decoder)\u001b[39m\n\u001b[32m    118\u001b[39m \u001b[38;5;250m\u001b[39m\u001b[33;03m\"\"\"Return the results of the job.\u001b[39;00m\n\u001b[32m    119\u001b[39m \n\u001b[32m    120\u001b[39m \u001b[33;03mArgs:\u001b[39;00m\n\u001b[32m   (...)\u001b[39m\u001b[32m    130\u001b[39m \u001b[33;03m    RuntimeInvalidStateError: If the job was cancelled, and attempting to retrieve result.\u001b[39;00m\n\u001b[32m    131\u001b[39m \u001b[33;03m\"\"\"\u001b[39;00m\n\u001b[32m    132\u001b[39m _decoder = decoder \u001b[38;5;129;01mor\u001b[39;00m \u001b[38;5;28mself\u001b[39m._final_result_decoder\n\u001b[32m--> \u001b[39m\u001b[32m133\u001b[39m \u001b[38;5;28;43mself\u001b[39;49m\u001b[43m.\u001b[49m\u001b[43mwait_for_final_state\u001b[49m\u001b[43m(\u001b[49m\u001b[43mtimeout\u001b[49m\u001b[43m=\u001b[49m\u001b[43mtimeout\u001b[49m\u001b[43m)\u001b[49m\n\u001b[32m    134\u001b[39m \u001b[38;5;28;01mif\u001b[39;00m \u001b[38;5;28mself\u001b[39m._status == \u001b[33m\"\u001b[39m\u001b[33mERROR\u001b[39m\u001b[33m\"\u001b[39m:\n\u001b[32m    135\u001b[39m     error_message = \u001b[38;5;28mself\u001b[39m._reason \u001b[38;5;28;01mif\u001b[39;00m \u001b[38;5;28mself\u001b[39m._reason \u001b[38;5;28;01melse\u001b[39;00m \u001b[38;5;28mself\u001b[39m._error_message\n",
      "\u001b[36mFile \u001b[39m\u001b[32m/opt/homebrew/anaconda3/envs/qiskit2x/lib/python3.12/site-packages/qiskit_ibm_runtime/runtime_job_v2.py:252\u001b[39m, in \u001b[36mRuntimeJobV2.wait_for_final_state\u001b[39m\u001b[34m(self, timeout)\u001b[39m\n\u001b[32m    248\u001b[39m             \u001b[38;5;28;01mraise\u001b[39;00m RuntimeJobTimeoutError(\n\u001b[32m    249\u001b[39m                 \u001b[33mf\u001b[39m\u001b[33m\"\u001b[39m\u001b[33mTimed out waiting for job to complete after \u001b[39m\u001b[38;5;132;01m{\u001b[39;00mtimeout\u001b[38;5;132;01m}\u001b[39;00m\u001b[33m secs.\u001b[39m\u001b[33m\"\u001b[39m\n\u001b[32m    250\u001b[39m             )\n\u001b[32m    251\u001b[39m         time.sleep(\u001b[32m0.1\u001b[39m)\n\u001b[32m--> \u001b[39m\u001b[32m252\u001b[39m         status = \u001b[38;5;28;43mself\u001b[39;49m\u001b[43m.\u001b[49m\u001b[43mstatus\u001b[49m\u001b[43m(\u001b[49m\u001b[43m)\u001b[49m\n\u001b[32m    253\u001b[39m \u001b[38;5;28;01mexcept\u001b[39;00m futures.TimeoutError:\n\u001b[32m    254\u001b[39m     \u001b[38;5;28;01mraise\u001b[39;00m RuntimeJobTimeoutError(\n\u001b[32m    255\u001b[39m         \u001b[33mf\u001b[39m\u001b[33m\"\u001b[39m\u001b[33mTimed out waiting for job to complete after \u001b[39m\u001b[38;5;132;01m{\u001b[39;00mtimeout\u001b[38;5;132;01m}\u001b[39;00m\u001b[33m secs.\u001b[39m\u001b[33m\"\u001b[39m\n\u001b[32m    256\u001b[39m     )\n",
      "\u001b[36mFile \u001b[39m\u001b[32m/opt/homebrew/anaconda3/envs/qiskit2x/lib/python3.12/site-packages/qiskit_ibm_runtime/runtime_job_v2.py:169\u001b[39m, in \u001b[36mRuntimeJobV2.status\u001b[39m\u001b[34m(self)\u001b[39m\n\u001b[32m    163\u001b[39m \u001b[38;5;28;01mdef\u001b[39;00m\u001b[38;5;250m \u001b[39m\u001b[34mstatus\u001b[39m(\u001b[38;5;28mself\u001b[39m) -> JobStatus:\n\u001b[32m    164\u001b[39m \u001b[38;5;250m    \u001b[39m\u001b[33;03m\"\"\"Return the status of the job.\u001b[39;00m\n\u001b[32m    165\u001b[39m \n\u001b[32m    166\u001b[39m \u001b[33;03m    Returns:\u001b[39;00m\n\u001b[32m    167\u001b[39m \u001b[33;03m        Status of this job.\u001b[39;00m\n\u001b[32m    168\u001b[39m \u001b[33;03m    \"\"\"\u001b[39;00m\n\u001b[32m--> \u001b[39m\u001b[32m169\u001b[39m     \u001b[38;5;28;43mself\u001b[39;49m\u001b[43m.\u001b[49m\u001b[43m_set_status_and_error_message\u001b[49m\u001b[43m(\u001b[49m\u001b[43m)\u001b[49m\n\u001b[32m    170\u001b[39m     \u001b[38;5;28;01mreturn\u001b[39;00m \u001b[38;5;28mself\u001b[39m._status\n",
      "\u001b[36mFile \u001b[39m\u001b[32m/opt/homebrew/anaconda3/envs/qiskit2x/lib/python3.12/site-packages/qiskit_ibm_runtime/base_runtime_job.py:211\u001b[39m, in \u001b[36mBaseRuntimeJob._set_status_and_error_message\u001b[39m\u001b[34m(self)\u001b[39m\n\u001b[32m    209\u001b[39m \u001b[38;5;250m\u001b[39m\u001b[33;03m\"\"\"Fetch and set status and error message.\"\"\"\u001b[39;00m\n\u001b[32m    210\u001b[39m \u001b[38;5;28;01mif\u001b[39;00m \u001b[38;5;28mself\u001b[39m._status \u001b[38;5;129;01mnot\u001b[39;00m \u001b[38;5;129;01min\u001b[39;00m \u001b[38;5;28mself\u001b[39m.JOB_FINAL_STATES:\n\u001b[32m--> \u001b[39m\u001b[32m211\u001b[39m     response = \u001b[38;5;28;43mself\u001b[39;49m\u001b[43m.\u001b[49m\u001b[43m_api_client\u001b[49m\u001b[43m.\u001b[49m\u001b[43mjob_get\u001b[49m\u001b[43m(\u001b[49m\u001b[43mjob_id\u001b[49m\u001b[43m=\u001b[49m\u001b[38;5;28;43mself\u001b[39;49m\u001b[43m.\u001b[49m\u001b[43mjob_id\u001b[49m\u001b[43m(\u001b[49m\u001b[43m)\u001b[49m\u001b[43m)\u001b[49m\n\u001b[32m    212\u001b[39m     \u001b[38;5;28mself\u001b[39m._set_status(response)\n\u001b[32m    213\u001b[39m     \u001b[38;5;28mself\u001b[39m._set_error_message(response)\n",
      "\u001b[36mFile \u001b[39m\u001b[32m/opt/homebrew/anaconda3/envs/qiskit2x/lib/python3.12/site-packages/qiskit_ibm_runtime/api/clients/runtime.py:105\u001b[39m, in \u001b[36mRuntimeClient.job_get\u001b[39m\u001b[34m(self, job_id, exclude_params)\u001b[39m\n\u001b[32m     96\u001b[39m \u001b[38;5;28;01mdef\u001b[39;00m\u001b[38;5;250m \u001b[39m\u001b[34mjob_get\u001b[39m(\u001b[38;5;28mself\u001b[39m, job_id: \u001b[38;5;28mstr\u001b[39m, exclude_params: \u001b[38;5;28mbool\u001b[39m = \u001b[38;5;28;01mTrue\u001b[39;00m) -> Dict:\n\u001b[32m     97\u001b[39m \u001b[38;5;250m    \u001b[39m\u001b[33;03m\"\"\"Get job data.\u001b[39;00m\n\u001b[32m     98\u001b[39m \n\u001b[32m     99\u001b[39m \u001b[33;03m    Args:\u001b[39;00m\n\u001b[32m   (...)\u001b[39m\u001b[32m    103\u001b[39m \u001b[33;03m        JSON response.\u001b[39;00m\n\u001b[32m    104\u001b[39m \u001b[33;03m    \"\"\"\u001b[39;00m\n\u001b[32m--> \u001b[39m\u001b[32m105\u001b[39m     response = \u001b[38;5;28;43mself\u001b[39;49m\u001b[43m.\u001b[49m\u001b[43m_api\u001b[49m\u001b[43m.\u001b[49m\u001b[43mprogram_job\u001b[49m\u001b[43m(\u001b[49m\u001b[43mjob_id\u001b[49m\u001b[43m)\u001b[49m\u001b[43m.\u001b[49m\u001b[43mget\u001b[49m\u001b[43m(\u001b[49m\u001b[43mexclude_params\u001b[49m\u001b[43m=\u001b[49m\u001b[43mexclude_params\u001b[49m\u001b[43m)\u001b[49m\n\u001b[32m    106\u001b[39m     logger.debug(\u001b[33m\"\u001b[39m\u001b[33mRuntime job get response: \u001b[39m\u001b[38;5;132;01m%s\u001b[39;00m\u001b[33m\"\u001b[39m, response)\n\u001b[32m    107\u001b[39m     \u001b[38;5;28;01mreturn\u001b[39;00m response\n",
      "\u001b[36mFile \u001b[39m\u001b[32m/opt/homebrew/anaconda3/envs/qiskit2x/lib/python3.12/site-packages/qiskit_ibm_runtime/api/rest/program_job.py:59\u001b[39m, in \u001b[36mProgramJob.get\u001b[39m\u001b[34m(self, exclude_params)\u001b[39m\n\u001b[32m     56\u001b[39m \u001b[38;5;28;01mif\u001b[39;00m exclude_params:\n\u001b[32m     57\u001b[39m     payload[\u001b[33m\"\u001b[39m\u001b[33mexclude_params\u001b[39m\u001b[33m\"\u001b[39m] = \u001b[33m\"\u001b[39m\u001b[33mtrue\u001b[39m\u001b[33m\"\u001b[39m\n\u001b[32m---> \u001b[39m\u001b[32m59\u001b[39m \u001b[38;5;28;01mreturn\u001b[39;00m \u001b[38;5;28;43mself\u001b[39;49m\u001b[43m.\u001b[49m\u001b[43msession\u001b[49m\u001b[43m.\u001b[49m\u001b[43mget\u001b[49m\u001b[43m(\u001b[49m\n\u001b[32m     60\u001b[39m \u001b[43m    \u001b[49m\u001b[38;5;28;43mself\u001b[39;49m\u001b[43m.\u001b[49m\u001b[43mget_url\u001b[49m\u001b[43m(\u001b[49m\u001b[33;43m\"\u001b[39;49m\u001b[33;43mself\u001b[39;49m\u001b[33;43m\"\u001b[39;49m\u001b[43m)\u001b[49m\u001b[43m,\u001b[49m\u001b[43m \u001b[49m\u001b[43mparams\u001b[49m\u001b[43m=\u001b[49m\u001b[43mpayload\u001b[49m\u001b[43m,\u001b[49m\u001b[43m \u001b[49m\u001b[43mheaders\u001b[49m\u001b[43m=\u001b[49m\u001b[38;5;28;43mself\u001b[39;49m\u001b[43m.\u001b[49m\u001b[43m_HEADER_JSON_ACCEPT\u001b[49m\n\u001b[32m     61\u001b[39m \u001b[43m\u001b[49m\u001b[43m)\u001b[49m.json(\u001b[38;5;28mcls\u001b[39m=RuntimeDecoder)\n",
      "\u001b[36mFile \u001b[39m\u001b[32m/opt/homebrew/anaconda3/envs/qiskit2x/lib/python3.12/site-packages/requests/sessions.py:602\u001b[39m, in \u001b[36mSession.get\u001b[39m\u001b[34m(self, url, **kwargs)\u001b[39m\n\u001b[32m    594\u001b[39m \u001b[38;5;250m\u001b[39m\u001b[33mr\u001b[39m\u001b[33;03m\"\"\"Sends a GET request. Returns :class:`Response` object.\u001b[39;00m\n\u001b[32m    595\u001b[39m \n\u001b[32m    596\u001b[39m \u001b[33;03m:param url: URL for the new :class:`Request` object.\u001b[39;00m\n\u001b[32m    597\u001b[39m \u001b[33;03m:param \\*\\*kwargs: Optional arguments that ``request`` takes.\u001b[39;00m\n\u001b[32m    598\u001b[39m \u001b[33;03m:rtype: requests.Response\u001b[39;00m\n\u001b[32m    599\u001b[39m \u001b[33;03m\"\"\"\u001b[39;00m\n\u001b[32m    601\u001b[39m kwargs.setdefault(\u001b[33m\"\u001b[39m\u001b[33mallow_redirects\u001b[39m\u001b[33m\"\u001b[39m, \u001b[38;5;28;01mTrue\u001b[39;00m)\n\u001b[32m--> \u001b[39m\u001b[32m602\u001b[39m \u001b[38;5;28;01mreturn\u001b[39;00m \u001b[38;5;28;43mself\u001b[39;49m\u001b[43m.\u001b[49m\u001b[43mrequest\u001b[49m\u001b[43m(\u001b[49m\u001b[33;43m\"\u001b[39;49m\u001b[33;43mGET\u001b[39;49m\u001b[33;43m\"\u001b[39;49m\u001b[43m,\u001b[49m\u001b[43m \u001b[49m\u001b[43murl\u001b[49m\u001b[43m,\u001b[49m\u001b[43m \u001b[49m\u001b[43m*\u001b[49m\u001b[43m*\u001b[49m\u001b[43mkwargs\u001b[49m\u001b[43m)\u001b[49m\n",
      "\u001b[36mFile \u001b[39m\u001b[32m/opt/homebrew/anaconda3/envs/qiskit2x/lib/python3.12/site-packages/qiskit_ibm_runtime/api/session.py:328\u001b[39m, in \u001b[36mRetrySession.request\u001b[39m\u001b[34m(self, method, url, bare, **kwargs)\u001b[39m\n\u001b[32m    326\u001b[39m \u001b[38;5;28;01mtry\u001b[39;00m:\n\u001b[32m    327\u001b[39m     \u001b[38;5;28mself\u001b[39m._log_request_info(final_url, method, kwargs)\n\u001b[32m--> \u001b[39m\u001b[32m328\u001b[39m     response = \u001b[38;5;28;43msuper\u001b[39;49m\u001b[43m(\u001b[49m\u001b[43m)\u001b[49m\u001b[43m.\u001b[49m\u001b[43mrequest\u001b[49m\u001b[43m(\u001b[49m\u001b[43mmethod\u001b[49m\u001b[43m,\u001b[49m\u001b[43m \u001b[49m\u001b[43mfinal_url\u001b[49m\u001b[43m,\u001b[49m\u001b[43m \u001b[49m\u001b[43mheaders\u001b[49m\u001b[43m=\u001b[49m\u001b[43mheaders\u001b[49m\u001b[43m,\u001b[49m\u001b[43m \u001b[49m\u001b[43m*\u001b[49m\u001b[43m*\u001b[49m\u001b[43mkwargs\u001b[49m\u001b[43m)\u001b[49m\n\u001b[32m    329\u001b[39m     response.raise_for_status()\n\u001b[32m    330\u001b[39m \u001b[38;5;28;01mexcept\u001b[39;00m RequestException \u001b[38;5;28;01mas\u001b[39;00m ex:\n\u001b[32m    331\u001b[39m     \u001b[38;5;66;03m# Wrap the requests exceptions into a IBM Q custom one, for\u001b[39;00m\n\u001b[32m    332\u001b[39m     \u001b[38;5;66;03m# compatibility.\u001b[39;00m\n",
      "\u001b[36mFile \u001b[39m\u001b[32m/opt/homebrew/anaconda3/envs/qiskit2x/lib/python3.12/site-packages/requests/sessions.py:589\u001b[39m, in \u001b[36mSession.request\u001b[39m\u001b[34m(self, method, url, params, data, headers, cookies, files, auth, timeout, allow_redirects, proxies, hooks, stream, verify, cert, json)\u001b[39m\n\u001b[32m    584\u001b[39m send_kwargs = {\n\u001b[32m    585\u001b[39m     \u001b[33m\"\u001b[39m\u001b[33mtimeout\u001b[39m\u001b[33m\"\u001b[39m: timeout,\n\u001b[32m    586\u001b[39m     \u001b[33m\"\u001b[39m\u001b[33mallow_redirects\u001b[39m\u001b[33m\"\u001b[39m: allow_redirects,\n\u001b[32m    587\u001b[39m }\n\u001b[32m    588\u001b[39m send_kwargs.update(settings)\n\u001b[32m--> \u001b[39m\u001b[32m589\u001b[39m resp = \u001b[38;5;28;43mself\u001b[39;49m\u001b[43m.\u001b[49m\u001b[43msend\u001b[49m\u001b[43m(\u001b[49m\u001b[43mprep\u001b[49m\u001b[43m,\u001b[49m\u001b[43m \u001b[49m\u001b[43m*\u001b[49m\u001b[43m*\u001b[49m\u001b[43msend_kwargs\u001b[49m\u001b[43m)\u001b[49m\n\u001b[32m    591\u001b[39m \u001b[38;5;28;01mreturn\u001b[39;00m resp\n",
      "\u001b[36mFile \u001b[39m\u001b[32m/opt/homebrew/anaconda3/envs/qiskit2x/lib/python3.12/site-packages/requests/sessions.py:703\u001b[39m, in \u001b[36mSession.send\u001b[39m\u001b[34m(self, request, **kwargs)\u001b[39m\n\u001b[32m    700\u001b[39m start = preferred_clock()\n\u001b[32m    702\u001b[39m \u001b[38;5;66;03m# Send the request\u001b[39;00m\n\u001b[32m--> \u001b[39m\u001b[32m703\u001b[39m r = \u001b[43madapter\u001b[49m\u001b[43m.\u001b[49m\u001b[43msend\u001b[49m\u001b[43m(\u001b[49m\u001b[43mrequest\u001b[49m\u001b[43m,\u001b[49m\u001b[43m \u001b[49m\u001b[43m*\u001b[49m\u001b[43m*\u001b[49m\u001b[43mkwargs\u001b[49m\u001b[43m)\u001b[49m\n\u001b[32m    705\u001b[39m \u001b[38;5;66;03m# Total elapsed time of the request (approximately)\u001b[39;00m\n\u001b[32m    706\u001b[39m elapsed = preferred_clock() - start\n",
      "\u001b[36mFile \u001b[39m\u001b[32m/opt/homebrew/anaconda3/envs/qiskit2x/lib/python3.12/site-packages/requests/adapters.py:644\u001b[39m, in \u001b[36mHTTPAdapter.send\u001b[39m\u001b[34m(self, request, stream, timeout, verify, cert, proxies)\u001b[39m\n\u001b[32m    641\u001b[39m     timeout = TimeoutSauce(connect=timeout, read=timeout)\n\u001b[32m    643\u001b[39m \u001b[38;5;28;01mtry\u001b[39;00m:\n\u001b[32m--> \u001b[39m\u001b[32m644\u001b[39m     resp = \u001b[43mconn\u001b[49m\u001b[43m.\u001b[49m\u001b[43murlopen\u001b[49m\u001b[43m(\u001b[49m\n\u001b[32m    645\u001b[39m \u001b[43m        \u001b[49m\u001b[43mmethod\u001b[49m\u001b[43m=\u001b[49m\u001b[43mrequest\u001b[49m\u001b[43m.\u001b[49m\u001b[43mmethod\u001b[49m\u001b[43m,\u001b[49m\n\u001b[32m    646\u001b[39m \u001b[43m        \u001b[49m\u001b[43murl\u001b[49m\u001b[43m=\u001b[49m\u001b[43murl\u001b[49m\u001b[43m,\u001b[49m\n\u001b[32m    647\u001b[39m \u001b[43m        \u001b[49m\u001b[43mbody\u001b[49m\u001b[43m=\u001b[49m\u001b[43mrequest\u001b[49m\u001b[43m.\u001b[49m\u001b[43mbody\u001b[49m\u001b[43m,\u001b[49m\n\u001b[32m    648\u001b[39m \u001b[43m        \u001b[49m\u001b[43mheaders\u001b[49m\u001b[43m=\u001b[49m\u001b[43mrequest\u001b[49m\u001b[43m.\u001b[49m\u001b[43mheaders\u001b[49m\u001b[43m,\u001b[49m\n\u001b[32m    649\u001b[39m \u001b[43m        \u001b[49m\u001b[43mredirect\u001b[49m\u001b[43m=\u001b[49m\u001b[38;5;28;43;01mFalse\u001b[39;49;00m\u001b[43m,\u001b[49m\n\u001b[32m    650\u001b[39m \u001b[43m        \u001b[49m\u001b[43massert_same_host\u001b[49m\u001b[43m=\u001b[49m\u001b[38;5;28;43;01mFalse\u001b[39;49;00m\u001b[43m,\u001b[49m\n\u001b[32m    651\u001b[39m \u001b[43m        \u001b[49m\u001b[43mpreload_content\u001b[49m\u001b[43m=\u001b[49m\u001b[38;5;28;43;01mFalse\u001b[39;49;00m\u001b[43m,\u001b[49m\n\u001b[32m    652\u001b[39m \u001b[43m        \u001b[49m\u001b[43mdecode_content\u001b[49m\u001b[43m=\u001b[49m\u001b[38;5;28;43;01mFalse\u001b[39;49;00m\u001b[43m,\u001b[49m\n\u001b[32m    653\u001b[39m \u001b[43m        \u001b[49m\u001b[43mretries\u001b[49m\u001b[43m=\u001b[49m\u001b[38;5;28;43mself\u001b[39;49m\u001b[43m.\u001b[49m\u001b[43mmax_retries\u001b[49m\u001b[43m,\u001b[49m\n\u001b[32m    654\u001b[39m \u001b[43m        \u001b[49m\u001b[43mtimeout\u001b[49m\u001b[43m=\u001b[49m\u001b[43mtimeout\u001b[49m\u001b[43m,\u001b[49m\n\u001b[32m    655\u001b[39m \u001b[43m        \u001b[49m\u001b[43mchunked\u001b[49m\u001b[43m=\u001b[49m\u001b[43mchunked\u001b[49m\u001b[43m,\u001b[49m\n\u001b[32m    656\u001b[39m \u001b[43m    \u001b[49m\u001b[43m)\u001b[49m\n\u001b[32m    658\u001b[39m \u001b[38;5;28;01mexcept\u001b[39;00m (ProtocolError, \u001b[38;5;167;01mOSError\u001b[39;00m) \u001b[38;5;28;01mas\u001b[39;00m err:\n\u001b[32m    659\u001b[39m     \u001b[38;5;28;01mraise\u001b[39;00m \u001b[38;5;167;01mConnectionError\u001b[39;00m(err, request=request)\n",
      "\u001b[36mFile \u001b[39m\u001b[32m/opt/homebrew/anaconda3/envs/qiskit2x/lib/python3.12/site-packages/urllib3/connectionpool.py:787\u001b[39m, in \u001b[36mHTTPConnectionPool.urlopen\u001b[39m\u001b[34m(self, method, url, body, headers, retries, redirect, assert_same_host, timeout, pool_timeout, release_conn, chunked, body_pos, preload_content, decode_content, **response_kw)\u001b[39m\n\u001b[32m    784\u001b[39m response_conn = conn \u001b[38;5;28;01mif\u001b[39;00m \u001b[38;5;129;01mnot\u001b[39;00m release_conn \u001b[38;5;28;01melse\u001b[39;00m \u001b[38;5;28;01mNone\u001b[39;00m\n\u001b[32m    786\u001b[39m \u001b[38;5;66;03m# Make the request on the HTTPConnection object\u001b[39;00m\n\u001b[32m--> \u001b[39m\u001b[32m787\u001b[39m response = \u001b[38;5;28;43mself\u001b[39;49m\u001b[43m.\u001b[49m\u001b[43m_make_request\u001b[49m\u001b[43m(\u001b[49m\n\u001b[32m    788\u001b[39m \u001b[43m    \u001b[49m\u001b[43mconn\u001b[49m\u001b[43m,\u001b[49m\n\u001b[32m    789\u001b[39m \u001b[43m    \u001b[49m\u001b[43mmethod\u001b[49m\u001b[43m,\u001b[49m\n\u001b[32m    790\u001b[39m \u001b[43m    \u001b[49m\u001b[43murl\u001b[49m\u001b[43m,\u001b[49m\n\u001b[32m    791\u001b[39m \u001b[43m    \u001b[49m\u001b[43mtimeout\u001b[49m\u001b[43m=\u001b[49m\u001b[43mtimeout_obj\u001b[49m\u001b[43m,\u001b[49m\n\u001b[32m    792\u001b[39m \u001b[43m    \u001b[49m\u001b[43mbody\u001b[49m\u001b[43m=\u001b[49m\u001b[43mbody\u001b[49m\u001b[43m,\u001b[49m\n\u001b[32m    793\u001b[39m \u001b[43m    \u001b[49m\u001b[43mheaders\u001b[49m\u001b[43m=\u001b[49m\u001b[43mheaders\u001b[49m\u001b[43m,\u001b[49m\n\u001b[32m    794\u001b[39m \u001b[43m    \u001b[49m\u001b[43mchunked\u001b[49m\u001b[43m=\u001b[49m\u001b[43mchunked\u001b[49m\u001b[43m,\u001b[49m\n\u001b[32m    795\u001b[39m \u001b[43m    \u001b[49m\u001b[43mretries\u001b[49m\u001b[43m=\u001b[49m\u001b[43mretries\u001b[49m\u001b[43m,\u001b[49m\n\u001b[32m    796\u001b[39m \u001b[43m    \u001b[49m\u001b[43mresponse_conn\u001b[49m\u001b[43m=\u001b[49m\u001b[43mresponse_conn\u001b[49m\u001b[43m,\u001b[49m\n\u001b[32m    797\u001b[39m \u001b[43m    \u001b[49m\u001b[43mpreload_content\u001b[49m\u001b[43m=\u001b[49m\u001b[43mpreload_content\u001b[49m\u001b[43m,\u001b[49m\n\u001b[32m    798\u001b[39m \u001b[43m    \u001b[49m\u001b[43mdecode_content\u001b[49m\u001b[43m=\u001b[49m\u001b[43mdecode_content\u001b[49m\u001b[43m,\u001b[49m\n\u001b[32m    799\u001b[39m \u001b[43m    \u001b[49m\u001b[43m*\u001b[49m\u001b[43m*\u001b[49m\u001b[43mresponse_kw\u001b[49m\u001b[43m,\u001b[49m\n\u001b[32m    800\u001b[39m \u001b[43m\u001b[49m\u001b[43m)\u001b[49m\n\u001b[32m    802\u001b[39m \u001b[38;5;66;03m# Everything went great!\u001b[39;00m\n\u001b[32m    803\u001b[39m clean_exit = \u001b[38;5;28;01mTrue\u001b[39;00m\n",
      "\u001b[36mFile \u001b[39m\u001b[32m/opt/homebrew/anaconda3/envs/qiskit2x/lib/python3.12/site-packages/urllib3/connectionpool.py:534\u001b[39m, in \u001b[36mHTTPConnectionPool._make_request\u001b[39m\u001b[34m(self, conn, method, url, body, headers, retries, timeout, chunked, response_conn, preload_content, decode_content, enforce_content_length)\u001b[39m\n\u001b[32m    532\u001b[39m \u001b[38;5;66;03m# Receive the response from the server\u001b[39;00m\n\u001b[32m    533\u001b[39m \u001b[38;5;28;01mtry\u001b[39;00m:\n\u001b[32m--> \u001b[39m\u001b[32m534\u001b[39m     response = \u001b[43mconn\u001b[49m\u001b[43m.\u001b[49m\u001b[43mgetresponse\u001b[49m\u001b[43m(\u001b[49m\u001b[43m)\u001b[49m\n\u001b[32m    535\u001b[39m \u001b[38;5;28;01mexcept\u001b[39;00m (BaseSSLError, \u001b[38;5;167;01mOSError\u001b[39;00m) \u001b[38;5;28;01mas\u001b[39;00m e:\n\u001b[32m    536\u001b[39m     \u001b[38;5;28mself\u001b[39m._raise_timeout(err=e, url=url, timeout_value=read_timeout)\n",
      "\u001b[36mFile \u001b[39m\u001b[32m/opt/homebrew/anaconda3/envs/qiskit2x/lib/python3.12/site-packages/urllib3/connection.py:565\u001b[39m, in \u001b[36mHTTPConnection.getresponse\u001b[39m\u001b[34m(self)\u001b[39m\n\u001b[32m    562\u001b[39m _shutdown = \u001b[38;5;28mgetattr\u001b[39m(\u001b[38;5;28mself\u001b[39m.sock, \u001b[33m\"\u001b[39m\u001b[33mshutdown\u001b[39m\u001b[33m\"\u001b[39m, \u001b[38;5;28;01mNone\u001b[39;00m)\n\u001b[32m    564\u001b[39m \u001b[38;5;66;03m# Get the response from http.client.HTTPConnection\u001b[39;00m\n\u001b[32m--> \u001b[39m\u001b[32m565\u001b[39m httplib_response = \u001b[38;5;28;43msuper\u001b[39;49m\u001b[43m(\u001b[49m\u001b[43m)\u001b[49m\u001b[43m.\u001b[49m\u001b[43mgetresponse\u001b[49m\u001b[43m(\u001b[49m\u001b[43m)\u001b[49m\n\u001b[32m    567\u001b[39m \u001b[38;5;28;01mtry\u001b[39;00m:\n\u001b[32m    568\u001b[39m     assert_header_parsing(httplib_response.msg)\n",
      "\u001b[36mFile \u001b[39m\u001b[32m/opt/homebrew/anaconda3/envs/qiskit2x/lib/python3.12/http/client.py:1430\u001b[39m, in \u001b[36mHTTPConnection.getresponse\u001b[39m\u001b[34m(self)\u001b[39m\n\u001b[32m   1428\u001b[39m \u001b[38;5;28;01mtry\u001b[39;00m:\n\u001b[32m   1429\u001b[39m     \u001b[38;5;28;01mtry\u001b[39;00m:\n\u001b[32m-> \u001b[39m\u001b[32m1430\u001b[39m         \u001b[43mresponse\u001b[49m\u001b[43m.\u001b[49m\u001b[43mbegin\u001b[49m\u001b[43m(\u001b[49m\u001b[43m)\u001b[49m\n\u001b[32m   1431\u001b[39m     \u001b[38;5;28;01mexcept\u001b[39;00m \u001b[38;5;167;01mConnectionError\u001b[39;00m:\n\u001b[32m   1432\u001b[39m         \u001b[38;5;28mself\u001b[39m.close()\n",
      "\u001b[36mFile \u001b[39m\u001b[32m/opt/homebrew/anaconda3/envs/qiskit2x/lib/python3.12/http/client.py:331\u001b[39m, in \u001b[36mHTTPResponse.begin\u001b[39m\u001b[34m(self)\u001b[39m\n\u001b[32m    329\u001b[39m \u001b[38;5;66;03m# read until we get a non-100 response\u001b[39;00m\n\u001b[32m    330\u001b[39m \u001b[38;5;28;01mwhile\u001b[39;00m \u001b[38;5;28;01mTrue\u001b[39;00m:\n\u001b[32m--> \u001b[39m\u001b[32m331\u001b[39m     version, status, reason = \u001b[38;5;28;43mself\u001b[39;49m\u001b[43m.\u001b[49m\u001b[43m_read_status\u001b[49m\u001b[43m(\u001b[49m\u001b[43m)\u001b[49m\n\u001b[32m    332\u001b[39m     \u001b[38;5;28;01mif\u001b[39;00m status != CONTINUE:\n\u001b[32m    333\u001b[39m         \u001b[38;5;28;01mbreak\u001b[39;00m\n",
      "\u001b[36mFile \u001b[39m\u001b[32m/opt/homebrew/anaconda3/envs/qiskit2x/lib/python3.12/http/client.py:292\u001b[39m, in \u001b[36mHTTPResponse._read_status\u001b[39m\u001b[34m(self)\u001b[39m\n\u001b[32m    291\u001b[39m \u001b[38;5;28;01mdef\u001b[39;00m\u001b[38;5;250m \u001b[39m\u001b[34m_read_status\u001b[39m(\u001b[38;5;28mself\u001b[39m):\n\u001b[32m--> \u001b[39m\u001b[32m292\u001b[39m     line = \u001b[38;5;28mstr\u001b[39m(\u001b[38;5;28;43mself\u001b[39;49m\u001b[43m.\u001b[49m\u001b[43mfp\u001b[49m\u001b[43m.\u001b[49m\u001b[43mreadline\u001b[49m\u001b[43m(\u001b[49m\u001b[43m_MAXLINE\u001b[49m\u001b[43m \u001b[49m\u001b[43m+\u001b[49m\u001b[43m \u001b[49m\u001b[32;43m1\u001b[39;49m\u001b[43m)\u001b[49m, \u001b[33m\"\u001b[39m\u001b[33miso-8859-1\u001b[39m\u001b[33m\"\u001b[39m)\n\u001b[32m    293\u001b[39m     \u001b[38;5;28;01mif\u001b[39;00m \u001b[38;5;28mlen\u001b[39m(line) > _MAXLINE:\n\u001b[32m    294\u001b[39m         \u001b[38;5;28;01mraise\u001b[39;00m LineTooLong(\u001b[33m\"\u001b[39m\u001b[33mstatus line\u001b[39m\u001b[33m\"\u001b[39m)\n",
      "\u001b[36mFile \u001b[39m\u001b[32m/opt/homebrew/anaconda3/envs/qiskit2x/lib/python3.12/socket.py:720\u001b[39m, in \u001b[36mSocketIO.readinto\u001b[39m\u001b[34m(self, b)\u001b[39m\n\u001b[32m    718\u001b[39m \u001b[38;5;28;01mwhile\u001b[39;00m \u001b[38;5;28;01mTrue\u001b[39;00m:\n\u001b[32m    719\u001b[39m     \u001b[38;5;28;01mtry\u001b[39;00m:\n\u001b[32m--> \u001b[39m\u001b[32m720\u001b[39m         \u001b[38;5;28;01mreturn\u001b[39;00m \u001b[38;5;28;43mself\u001b[39;49m\u001b[43m.\u001b[49m\u001b[43m_sock\u001b[49m\u001b[43m.\u001b[49m\u001b[43mrecv_into\u001b[49m\u001b[43m(\u001b[49m\u001b[43mb\u001b[49m\u001b[43m)\u001b[49m\n\u001b[32m    721\u001b[39m     \u001b[38;5;28;01mexcept\u001b[39;00m timeout:\n\u001b[32m    722\u001b[39m         \u001b[38;5;28mself\u001b[39m._timeout_occurred = \u001b[38;5;28;01mTrue\u001b[39;00m\n",
      "\u001b[36mFile \u001b[39m\u001b[32m/opt/homebrew/anaconda3/envs/qiskit2x/lib/python3.12/ssl.py:1251\u001b[39m, in \u001b[36mSSLSocket.recv_into\u001b[39m\u001b[34m(self, buffer, nbytes, flags)\u001b[39m\n\u001b[32m   1247\u001b[39m     \u001b[38;5;28;01mif\u001b[39;00m flags != \u001b[32m0\u001b[39m:\n\u001b[32m   1248\u001b[39m         \u001b[38;5;28;01mraise\u001b[39;00m \u001b[38;5;167;01mValueError\u001b[39;00m(\n\u001b[32m   1249\u001b[39m           \u001b[33m\"\u001b[39m\u001b[33mnon-zero flags not allowed in calls to recv_into() on \u001b[39m\u001b[38;5;132;01m%s\u001b[39;00m\u001b[33m\"\u001b[39m %\n\u001b[32m   1250\u001b[39m           \u001b[38;5;28mself\u001b[39m.\u001b[34m__class__\u001b[39m)\n\u001b[32m-> \u001b[39m\u001b[32m1251\u001b[39m     \u001b[38;5;28;01mreturn\u001b[39;00m \u001b[38;5;28;43mself\u001b[39;49m\u001b[43m.\u001b[49m\u001b[43mread\u001b[49m\u001b[43m(\u001b[49m\u001b[43mnbytes\u001b[49m\u001b[43m,\u001b[49m\u001b[43m \u001b[49m\u001b[43mbuffer\u001b[49m\u001b[43m)\u001b[49m\n\u001b[32m   1252\u001b[39m \u001b[38;5;28;01melse\u001b[39;00m:\n\u001b[32m   1253\u001b[39m     \u001b[38;5;28;01mreturn\u001b[39;00m \u001b[38;5;28msuper\u001b[39m().recv_into(buffer, nbytes, flags)\n",
      "\u001b[36mFile \u001b[39m\u001b[32m/opt/homebrew/anaconda3/envs/qiskit2x/lib/python3.12/ssl.py:1103\u001b[39m, in \u001b[36mSSLSocket.read\u001b[39m\u001b[34m(self, len, buffer)\u001b[39m\n\u001b[32m   1101\u001b[39m \u001b[38;5;28;01mtry\u001b[39;00m:\n\u001b[32m   1102\u001b[39m     \u001b[38;5;28;01mif\u001b[39;00m buffer \u001b[38;5;129;01mis\u001b[39;00m \u001b[38;5;129;01mnot\u001b[39;00m \u001b[38;5;28;01mNone\u001b[39;00m:\n\u001b[32m-> \u001b[39m\u001b[32m1103\u001b[39m         \u001b[38;5;28;01mreturn\u001b[39;00m \u001b[38;5;28;43mself\u001b[39;49m\u001b[43m.\u001b[49m\u001b[43m_sslobj\u001b[49m\u001b[43m.\u001b[49m\u001b[43mread\u001b[49m\u001b[43m(\u001b[49m\u001b[38;5;28;43mlen\u001b[39;49m\u001b[43m,\u001b[49m\u001b[43m \u001b[49m\u001b[43mbuffer\u001b[49m\u001b[43m)\u001b[49m\n\u001b[32m   1104\u001b[39m     \u001b[38;5;28;01melse\u001b[39;00m:\n\u001b[32m   1105\u001b[39m         \u001b[38;5;28;01mreturn\u001b[39;00m \u001b[38;5;28mself\u001b[39m._sslobj.read(\u001b[38;5;28mlen\u001b[39m)\n",
      "\u001b[31mKeyboardInterrupt\u001b[39m: "
     ]
    }
   ],
   "source": [
    "## PUBs for the SamplerV2:\n",
    "# Qiskit v2.x — SamplerV2 PUB example\n",
    "from qiskit import QuantumCircuit\n",
    "from qiskit.circuit import Parameter\n",
    "from qiskit.transpiler.preset_passmanagers import generate_preset_pass_manager\n",
    "from qiskit_ibm_runtime import QiskitRuntimeService, SamplerV2\n",
    "\n",
    "# 1) Make a small parametric circuit (must include measurements for Sampler)\n",
    "theta = Parameter(\"θ\")\n",
    "qc = QuantumCircuit(2)\n",
    "qc.ry(theta, 0)\n",
    "qc.cx(0, 1)\n",
    "qc.measure_all()\n",
    "\n",
    "# 2) Pick a backend and map to its ISA\n",
    "service = QiskitRuntimeService()               # requires your IBM Quantum credentials configured\n",
    "backend = service.backends()[0]                # pick any accessible backend (sim or device)\n",
    "pm = generate_preset_pass_manager(backend=backend, optimization_level=1)\n",
    "isa_circ = pm.run(qc)                          # ISA-mapped circuit\n",
    "\n",
    "# 3) Build iterable of PUBs (each is a tuple)\n",
    "#    Here we sweep θ over two values in one PUB and set per-PUB shots.\n",
    "pubs = [\n",
    "    (isa_circ, [0.0, 1.234], 2000),           # PUB #1\n",
    "    (isa_circ, [2.468], 4000),                # PUB #2\n",
    "]\n",
    "\n",
    "# 4) Run\n",
    "sampler = SamplerV2(mode=backend)             # or SamplerV2() for some simulator modes\n",
    "job = sampler.run(pubs)                       # you can also pass shots=... here globally\n",
    "result = job.result()\n",
    "\n",
    "# 5) Inspect results (shape and accessors may vary by minor bb; this prints a readable summary)\n",
    "for i, pub_res in enumerate(result):\n",
    "    print(f\"\\nPUB {i} summary:\")\n",
    "    print(pub_res)                            # prints distribution/metadata per PUB\n"
   ]
  },
  {
   "cell_type": "code",
   "execution_count": 12,
   "id": "febc5a60-c0a6-4022-af8e-a699553c5465",
   "metadata": {},
   "outputs": [
    {
     "name": "stdout",
     "output_type": "stream",
     "text": [
      "2 0\n",
      "0\n"
     ]
    }
   ],
   "source": [
    "from math import pi\n",
    "from qiskit import QuantumCircuit\n",
    "from qiskit.circuit import Parameter\n",
    "\n",
    "θ = Parameter(\"θ\")\n",
    "φ = Parameter(\"φ\")\n",
    "\n",
    "qc = QuantumCircuit(1)\n",
    "qc.ry(θ, 0)        # uses θ\n",
    "qc.rz(φ, 0)        # uses φ\n",
    "\n",
    "bound = qc.assign_parameters({θ: 0.0, φ: pi/2}, inplace=False)\n",
    "print(len(qc.parameters), len(bound.parameters))\n",
    "\n",
    "# After assigning parameters, they become values.  \"parameters\" only counds free parameters that haven't been assigned. s\n",
    "qc.assign_parameters({θ: 0.0, φ: pi/2}, inplace=True)\n",
    "print(len(qc.parameters))\n"
   ]
  },
  {
   "cell_type": "code",
   "execution_count": null,
   "id": "d4338bec-b834-4cf9-8b43-b8d849736f07",
   "metadata": {},
   "outputs": [],
   "source": [
    "job = sampler.run(pubs, shots=1000)\n",
    "prim_res = job.result()            # sequence of SamplerPubResult, len == len(pubs)\n",
    "\n",
    "pub0 = prim_res[0]                 # SamplerPubResult for PUB #0\n",
    "\n",
    "# A) Counts from the default register (often named \"meas\")\n",
    "counts = pub0.data.meas.get_counts()  # -> dict like {'00': 517, '11': 483}\n"
   ]
  },
  {
   "cell_type": "code",
   "execution_count": null,
   "id": "6c797520-8a4d-4cfd-bbf3-90e80fd4465b",
   "metadata": {},
   "outputs": [],
   "source": [
    "print(counts)"
   ]
  },
  {
   "cell_type": "code",
   "execution_count": null,
   "id": "859c24b2-0af3-4290-b1e5-ca6e0205b61e",
   "metadata": {},
   "outputs": [],
   "source": [
    "# Imagine this was your PUB result for a 2-qubit circuit with a single classical register \"meas\"\n",
    "pub = result[0]                     # SamplerPubResult for PUB #0, run with shots=8\n",
    "\n",
    "# Raw, per-shot outcomes (chronological): one string per shot\n",
    "bitshots = pub.data.meas.get_bitstrings()\n",
    "print(bitshots)\n",
    "# Example output (WILL vary run-to-run):\n",
    "# ['00','01','00','00','11','00','01','00']\n",
    "#  ^0   ^1   ^2   ^3   ^4   ^5   ^6   ^7\n",
    "# shot0 shot1 shot2 ...\n",
    "\n",
    "# Aggregated histogram (orderless counts of unique outcomes):\n",
    "# counts = pub.data.meas.get_counts()\n",
    "# print(counts)\n",
    "# {'00': 5, '01': 2, '11': 1}\n"
   ]
  },
  {
   "cell_type": "code",
   "execution_count": null,
   "id": "54bb71ac-7cd9-4611-851d-6ea957e93f81",
   "metadata": {},
   "outputs": [],
   "source": [
    "import numpy as np\n",
    "# θ across 2 rows, φ across 4 columns:\n",
    "theta = np.array([0.0, 0.8]).reshape(2,1)          # (2,1)\n",
    "phi   = np.array([0.0, 0.2, 0.4, 0.6]).reshape(1,4) # (1,4)\n",
    "Θ = np.broadcast_to(theta, (2,4))\n",
    "Φ = np.broadcast_to(phi,   (2,4))\n",
    "param_grid = np.stack([Θ, Φ], axis=-1)              # (2,4,2) -> last axis is [θ, φ]\n",
    "\n",
    "pubs = [(isa_circ, param_grid, 512)]\n",
    "res = sampler.run(pubs).result()\n",
    "print(res[0].data.meas)\n",
    "# BitArray(<shape=(2, 4), num_shots=512, num_bits=3>)\n"
   ]
  },
  {
   "cell_type": "code",
   "execution_count": null,
   "id": "614818ef-d9a1-4341-8955-5e407a8d6996",
   "metadata": {},
   "outputs": [],
   "source": [
    "from qiskit import QuantumCircuit\n",
    "\n",
    "qc = QuantumCircuit(2, 2)   # 2 qubits, 2 classical bits\n",
    "# Implicitly creates one QuantumRegister (size 2) and one ClassicalRegister (size 2)\n",
    "\n",
    "# 1) The whole classical register (size 2)\n",
    "creg = qc.cregs[0]          # ClassicalRegister\n",
    "print(creg, len(creg))      # e.g., \"c(2) 2\"\n",
    "\n",
    "# 2) A single classical bit: index 1 (the second bit)\n",
    "cbit1 = qc.clbits[1]        # Clbit\n",
    "print(cbit1)                # e.g., \"c[1]\"\n",
    "\n",
    "# Using them with if_test:\n",
    "#   - per-bit condition:\n",
    "# with qc.if_test((cbit1, 1)):\n",
    "#     qc.x(0)\n",
    "#\n",
    "#   - multi-bit condition on the whole register:\n",
    "# with qc.if_test((creg, 0b10)):   # matches bit pattern '10' (c[1]=1, c[0]=0)\n",
    "#     qc.x(0)\n"
   ]
  },
  {
   "cell_type": "code",
   "execution_count": null,
   "id": "fa31a564-4882-4d09-b06e-62e8aad7e60a",
   "metadata": {},
   "outputs": [],
   "source": [
    "qc = QuantumCircuit(2,2)\n",
    "qc.h(0)\n",
    "qc.measure([0,1],[0,1])\n",
    "with qc.if_test((qc.clbits[0], 1)):\n",
    "    qc.x(0)"
   ]
  },
  {
   "cell_type": "code",
   "execution_count": null,
   "id": "b653e3f0-836d-4297-8311-0164aec272b6",
   "metadata": {},
   "outputs": [],
   "source": [
    "qc.t(0)"
   ]
  },
  {
   "cell_type": "code",
   "execution_count": null,
   "id": "09042773-d374-4591-a2d8-24cd6cff177b",
   "metadata": {},
   "outputs": [],
   "source": [
    "qc.tdg(0)"
   ]
  },
  {
   "cell_type": "code",
   "execution_count": null,
   "id": "afb946df-2665-4b2b-946c-49456115db9e",
   "metadata": {},
   "outputs": [],
   "source": [
    "qc.draw()"
   ]
  },
  {
   "cell_type": "code",
   "execution_count": null,
   "id": "ceb3f6be-07d0-4a0d-ae39-e08da0714f16",
   "metadata": {},
   "outputs": [],
   "source": [
    "from qiskit import QuantumCircuit\n",
    "\n",
    "qc = QuantumCircuit(2)\n",
    "\n",
    "# Create |Φ+> = (|00> + |11>)/√2\n",
    "qc.h(0)\n",
    "qc.cx(0, 1)\n",
    "\n",
    "# Apply Z on qubit 0 using only H and X:  Z = H X H\n",
    "qc.h(0); qc.x(0); qc.h(0)\n",
    "\n",
    "qc.draw('mpl')\n"
   ]
  },
  {
   "cell_type": "markdown",
   "id": "3fcc2d31-3738-4e5a-b89d-289b7ad78d1d",
   "metadata": {},
   "source": [
    "## Parameter"
   ]
  },
  {
   "cell_type": "code",
   "execution_count": null,
   "id": "40e6e251-80e7-41c7-801a-a0957484f441",
   "metadata": {},
   "outputs": [],
   "source": [
    "from qiskit.quantum_info import Pauli\n",
    "from qiskit.circuit import Parameter, ParameterVector\n",
    "from qiskit import QuantumCircuit\n",
    "from qiskit_ibm_runtime import QiskitRuntimeService \n",
    "\n",
    "theta = Parameter('theta')\n",
    "phi = Parameter('phi')\n",
    "qc = QuantumCircuit(2, 2)\n",
    "qc.ry(theta,0)\n",
    "qc.rz(phi,0)\n",
    "qc.rx(phi+theta,0)\n",
    "print(qc.parameters)\n",
    "qc.draw('mpl')\n",
    "\n",
    "# produce 2 separate, bound circuits\n",
    "\n",
    "#Case A\n",
    "theta_val=0.0\n",
    "phi_val = np.pi/2\n",
    "qc_A=qc.assign_parameters({theta: theta_val, phi: phi_val}, inplace=False)\n",
    "display(qc_A.draw('mpl'))\n",
    "\n",
    "#Case B\n",
    "theta_val= np.pi/4\n",
    "phi_val = np.pi/4\n",
    "qc_B=qc.assign_parameters({theta: theta_val, phi: phi_val}, inplace=False)\n",
    "display(qc_B.draw('mpl'))\n"
   ]
  },
  {
   "cell_type": "code",
   "execution_count": null,
   "id": "a090c335-8067-4494-8d54-eb2aab61d1fa",
   "metadata": {},
   "outputs": [],
   "source": [
    "### how to use \"qc.assign_parameters\"\n",
    "from qiskit.circuit import QuantumCircuit, Parameter\n",
    " \n",
    "# create the parameter\n",
    "phi = Parameter(\"phi\")\n",
    "qc = QuantumCircuit(1)\n",
    "\n",
    "# parameterize the rotation\n",
    "qc.rx(phi, 0)\n",
    "qc.draw(\"mpl\")\n",
    " \n",
    "# bind the parameters after circuit to create a bound circuit\n",
    "bc = qc.assign_parameters({phi: 3.14})\n",
    "bc.measure_all()\n",
    "bc.draw(\"mpl\")"
   ]
  },
  {
   "cell_type": "markdown",
   "id": "907f2f60-5ed8-43f8-9192-32b2694ade1d",
   "metadata": {},
   "source": [
    "### ParameterVector"
   ]
  },
  {
   "cell_type": "code",
   "execution_count": null,
   "id": "6307133e-05bf-4d62-953c-330086dd1458",
   "metadata": {},
   "outputs": [],
   "source": [
    "qc = QuantumCircuit(2)\n",
    "\n",
    "theta_vec=ParameterVector('theta', 3)\n",
    "# theta_vec=[0.1, 0.3, 0.5]\n",
    "qc.ry(theta_vec[0],0)\n",
    "qc.rz(theta_vec[1],0)\n",
    "qc.rx(theta_vec[2],1)\n",
    "qc.ry(theta_vec[0] - theta_vec[2], 1)\n",
    "display(qc.draw('mpl'))\n",
    "print(qc.parameters)\n",
    "\n",
    "# Create 2 bound circuits\n",
    "qc_A=qc.assign_parameters({theta_vec[0]:0.0, theta_vec[1]:np.pi/2, theta_vec[2]:np.pi/4}, inplace=False)\n",
    "qc_B=qc.assign_parameters({theta_vec:[np.pi/6, np.pi/3, np.pi/2]}, inplace=False)\n",
    "print(qc_A.parameters)\n",
    "print(qc_B.parameters)\n"
   ]
  },
  {
   "cell_type": "code",
   "execution_count": null,
   "id": "5dbf150a-92b3-4a98-983c-f12e577713c7",
   "metadata": {},
   "outputs": [],
   "source": [
    "display(qc_A.draw('mpl'))"
   ]
  },
  {
   "cell_type": "code",
   "execution_count": null,
   "id": "fa1c35c6-9169-421a-a781-6cf797e5954f",
   "metadata": {},
   "outputs": [],
   "source": [
    "display(qc_B.draw('mpl'))"
   ]
  },
  {
   "cell_type": "code",
   "execution_count": null,
   "id": "ff99e9e2-3c9f-4fa7-b9d6-c7e211874084",
   "metadata": {},
   "outputs": [],
   "source": [
    "## Using Estimator\n",
    "\n",
    "from qiskit import QuantumCircuit\n",
    "from qiskit.circuit import QuantumRegister, ClassicalRegister, Parameter, ParameterVector\n",
    "from qiskit.quantum_info import Pauli, SparsePauliOp\n",
    "from qiskit_ibm_runtime import QiskitRuntimeService, EstimatorV2, SamplerV2\n",
    "\n",
    "qr=QuantumRegister(3, 'myreg')\n",
    "cr=ClassicalRegister(3, 'creg_a')\n",
    "qc=QuantumCircuit(qr, cr)\n",
    "# qc.h(2)\n",
    "# qc.measure(qr,cr)\n",
    "# with qc.if_test((cr[2], 1)) as else_:\n",
    "#     qc.z(1)\n",
    "# with else_:\n",
    "#     qc.h(1)\n",
    "\n",
    "display(qc.draw('mpl'))\n",
    "sv=QiskitRuntimeService()\n",
    "backend=sv.backends()[0]\n",
    "pm=generate_preset_pass_manager(backend=backend, optimization_level=3)\n",
    "obs=SparsePauliOp('XII')\n",
    "cir_isa=pm.run(qc)\n",
    "print('cir_isa is of type', type(cir_isa))\n",
    "obs_isa=obs.apply_layout(cir_isa.layout)\n",
    "\n",
    "PUB1=(cir_isa, obs_isa, [], 4)\n",
    "\n",
    "# estimator=EstimatorV2(mode=backend,shots=4000)\n",
    "estimator=EstimatorV2(mode=backend)\n",
    "# job=estimator.run([(cir_isa, obs_isa)])\n",
    "job=estimator.run([(cir_isa, obs_isa, None, 0.04)])\n",
    "results=job.result()\n",
    "\n",
    "print(results[0].data)"
   ]
  },
  {
   "cell_type": "code",
   "execution_count": null,
   "id": "03c9aa2d-f457-4a27-b721-147b798a9bf9",
   "metadata": {},
   "outputs": [],
   "source": [
    "## Sampler"
   ]
  },
  {
   "cell_type": "code",
   "execution_count": 9,
   "id": "8e454347-c9aa-429c-978e-89c467885d42",
   "metadata": {},
   "outputs": [
    {
     "data": {
      "image/png": "[encoded data removed]",
      "text/plain": [
       "<Figure size 237.002x367.889 with 1 Axes>"
      ]
     },
     "metadata": {},
     "output_type": "display_data"
    },
    {
     "name": "stdout",
     "output_type": "stream",
     "text": [
      "DataBin(evs=np.ndarray(<shape=(), dtype=float64>), stds=np.ndarray(<shape=(), dtype=float64>))\n"
     ]
    }
   ],
   "source": [
    "## Estimator - using Aer\n",
    "from qiskit import QuantumCircuit\n",
    "from qiskit.circuit import QuantumRegister, ClassicalRegister, Parameter, ParameterVector\n",
    "from qiskit.quantum_info import Pauli, SparsePauliOp\n",
    "# from qiskit_ibm_runtime import QiskitRuntimeService, EstimatorV2, SamplerV2\n",
    "from qiskit_aer.primitives import EstimatorV2, SamplerV2\n",
    "\n",
    "qr=QuantumRegister(3, 'myreg')\n",
    "cr=ClassicalRegister(3, 'creg_a')\n",
    "qc=QuantumCircuit(qr, cr)\n",
    "\n",
    "display(qc.draw('mpl'))\n",
    "# sv=QiskitRuntimeService()\n",
    "# backend=sv.backends()[0]\n",
    "# pm=generate_preset_pass_manager(backend=backend, optimization_level=3)#  aer\n",
    "obs=SparsePauliOp('XII')\n",
    "# cir_isa=pm.run(qc) #aer\n",
    "# print('cir_isa is of type', type(cir_isa)) # aer\n",
    "# obs_isa=obs.apply_layout(cir_isa.layout) #aer\n",
    "\n",
    "cir_isa = qc\n",
    "obs_isa = obs\n",
    "PUB1 = (cir_isa, obs_isa, [], 0.04)\n",
    "\n",
    "# estimator=EstimatorV2(mode=backend,shots=4000)\n",
    "estimator=EstimatorV2()\n",
    "# job=estimator.run([(cir_isa, obs_isa)])\n",
    "# job=estimator.run([(cir_isa, obs_isa, None, 0.04)])\n",
    "job=estimator.run([PUB1])\n",
    "results=job.result()\n",
    "\n",
    "print(results[0].data)"
   ]
  },
  {
   "cell_type": "code",
   "execution_count": null,
   "id": "94751854-cb1e-4652-a54b-4a5512656694",
   "metadata": {},
   "outputs": [],
   "source": []
  }
 ],
 "metadata": {
  "kernelspec": {
   "display_name": "Python (qiskit2x)",
   "language": "python",
   "name": "qiskit2x"
  },
  "language_info": {
   "codemirror_mode": {
    "name": "ipython",
    "version": 3
   },
   "file_extension": ".py",
   "mimetype": "text/x-python",
   "name": "python",
   "nbconvert_exporter": "python",
   "pygments_lexer": "ipython3",
   "version": "3.12.9"
  }
 },
 "nbformat": 4,
 "nbformat_minor": 5
}
