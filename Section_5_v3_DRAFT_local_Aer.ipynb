{
 "cells": [
  {
   "cell_type": "markdown",
   "metadata": {
    "id": "5WjiORp9CM5o"
   },
   "source": [
    "**Section 5.1: Set sampler primitive options such as dynamical decoupling**\n",
    "\n",
    "This notebook demonstrates how to set options for the SamplerV2 primitive in Qiskit IBM Runtime, focusing on error mitigation techniques like dynamical decoupling and Pauli twirling, as well as shot control. These options are key for the certification exam, particularly for TASK 5.1.\n",
    "\n",
    "Note: This notebook assumes you have a valid IBM Quantum account.\n",
    "\n",
    "Replace token = \"your_api_token\" with your actual token when running.\n",
    "\n",
    "Replace instance= \"your_istance\" with your instance\n",
    "\n",
    "Options like dynamical decoupling and twirling are hardware-dependent and have no effect on ideal simulators.\n"
   ]
  },
  {
   "cell_type": "markdown",
   "metadata": {},
   "source": [
    "## Local Execution Mode (AerSimulator)\n",
    "\n",
    "This version of the notebook has been modified to **run locally** using **`qiskit_aer.AerSimulator`** with **Qiskit 2.2.x** syntax.\n",
    "\n",
    "- All cloud `QiskitRuntimeService` calls are commented out.\n",
    "- Use the helper functions defined below:\n",
    "  - `transpile_for(circ)` — routes/optimizes for a Fake backend if available (e.g., FakeBrisbane), else the simulator.\n",
    "  - `run_counts(circ, shots=4000)` — executes on the local Aer simulator and returns a `dict` of counts.\n",
    "- If you need device-like noise, the notebook will attempt to attach a noise model from a Fake backend.\n",
    "- Where the original code used `SamplerV2`/`EstimatorV2`, prefer:\n",
    "  - **Sampling (histograms):** `run_counts(...)`\n",
    "  - **Expectations:** basis-rotate to Z and compute from counts (utility functions available on request).\n"
   ]
  },
  {
   "cell_type": "code",
   "execution_count": 1,
   "metadata": {},
   "outputs": [],
   "source": [
    "# === Local Simulation Setup (Aer, Qiskit 2.2.x) ===\n",
    "from qiskit import transpile\n",
    "from qiskit_aer import AerSimulator\n",
    "from qiskit_aer.noise import NoiseModel\n",
    "\n",
    "# Try to use a fake device snapshot for routing and noise\n",
    "try:\n",
    "    from qiskit_ibm_runtime.fake_provider import FakeBrisbane\n",
    "    _fake_backend = FakeBrisbane()\n",
    "except Exception:\n",
    "    try:\n",
    "        from qiskit.providers.fake_provider import FakeBrisbane\n",
    "        _fake_backend = FakeBrisbane()\n",
    "    except Exception:\n",
    "        _fake_backend = None\n",
    "\n",
    "if _fake_backend is not None:\n",
    "    _noise = NoiseModel.from_backend(_fake_backend)\n",
    "    aer_backend = AerSimulator(noise_model=_noise, basis_gates=_noise.basis_gates)\n",
    "else:\n",
    "    aer_backend = AerSimulator()\n",
    "\n",
    "def transpile_for(circ):\n",
    "    target = _fake_backend if _fake_backend is not None else aer_backend\n",
    "    return transpile(circ, backend=target, optimization_level=2)\n",
    "\n",
    "def run_counts(circ, shots=4000):\n",
    "    tc = transpile_for(circ)\n",
    "    job = aer_backend.run(tc, shots=shots)\n",
    "    return job.result().get_counts()\n"
   ]
  },
  {
   "cell_type": "code",
   "execution_count": 2,
   "metadata": {},
   "outputs": [
    {
     "name": "stdout",
     "output_type": "stream",
     "text": [
      "Local Aer counts: {'01': 35, '10': 14, '00': 992, '11': 959}\n"
     ]
    }
   ],
   "source": [
    "# Quick demo: Bell state locally on Aer\n",
    "from qiskit import QuantumCircuit\n",
    "bell = QuantumCircuit(2, 2)\n",
    "bell.h(0); bell.cx(0,1); bell.measure([0,1],[0,1])\n",
    "counts = run_counts(bell, shots=2000)\n",
    "print(\"Local Aer counts:\", counts)\n"
   ]
  },
  {
   "cell_type": "code",
   "execution_count": 3,
   "metadata": {
    "colab": {
     "base_uri": "https://localhost:8080/"
    },
    "id": "vYw2eycfEDYq",
    "outputId": "b541414e-7dec-4dde-f0bc-1e4073e4a791"
   },
   "outputs": [],
   "source": [
    "# Install the other packages via pip\n",
    "# !pip install qiskit==2.2.0 qiskit-ibm-runtime==0.41.1 qiskit-aer==0.17.2"
   ]
  },
  {
   "cell_type": "code",
   "execution_count": 5,
   "metadata": {
    "colab": {
     "base_uri": "https://localhost:8080/"
    },
    "id": "3e_cAnJ4CSNs",
    "outputId": "c6d2a978-bc65-447f-fa2c-bba227902547"
   },
   "outputs": [
    {
     "ename": "NameError",
     "evalue": "name 'backend' is not defined",
     "output_type": "error",
     "traceback": [
      "\u001b[31m---------------------------------------------------------------------------\u001b[39m",
      "\u001b[31mNameError\u001b[39m                                 Traceback (most recent call last)",
      "\u001b[36mCell\u001b[39m\u001b[36m \u001b[39m\u001b[32mIn[5]\u001b[39m\u001b[32m, line 25\u001b[39m\n\u001b[32m     22\u001b[39m qc.measure_all()\n\u001b[32m     24\u001b[39m \u001b[38;5;66;03m# Transpile to ISA circuit\u001b[39;00m\n\u001b[32m---> \u001b[39m\u001b[32m25\u001b[39m pm = generate_preset_pass_manager(optimization_level=\u001b[32m1\u001b[39m, backend=\u001b[43mbackend\u001b[49m)\n\u001b[32m     26\u001b[39m isa_qc = pm.run(qc)\n",
      "\u001b[31mNameError\u001b[39m: name 'backend' is not defined"
     ]
    }
   ],
   "source": [
    "import os\n",
    "from qiskit import QuantumCircuit\n",
    "from qiskit.transpiler.preset_passmanagers import generate_preset_pass_manager\n",
    "# from qiskit_ibm_runtime import QiskitRuntimeService, SamplerV2 as Sampler  # (disabled for local Aer)\n",
    "\n",
    "# # Initialize service\n",
    "# service = QiskitRuntimeService(\n",
    "#     channel=\"ibm_cloud\",\n",
    "#     token=\"your_api_token\",\n",
    "#     instance=\"your_istance\"\n",
    "# )\n",
    "\n",
    "\n",
    "# Select a real backend\n",
    "# backend = service.least_busy(operational=True, simulator=False)  # (disabled)\n",
    "# print(f\"Using backend: {backend.name}\")\n",
    "\n",
    "# # Create a simple Bell circuit for demonstration\n",
    "# qc = QuantumCircuit(2)\n",
    "# qc.h(0)\n",
    "# qc.cx(0, 1)\n",
    "# qc.measure_all()\n",
    "\n",
    "# # Transpile to ISA circuit\n",
    "# pm = generate_preset_pass_manager(optimization_level=1, backend=backend)\n",
    "# isa_qc = pm.run(qc)"
   ]
  },
  {
   "cell_type": "markdown",
   "metadata": {
    "id": "HPSMaFjPCWKk"
   },
   "source": [
    "**5.1.1 Sampler overview & where options live**\n",
    "\n",
    "The SamplerV2 primitive samples quantum circuits and returns quasi-probability distributions over measurement outcomes. It is useful for estimating probabilities from circuits with measurements.\n",
    "Options are set on the sampler.options object.\n",
    "Defaults can be set there, and overridden per-run\n",
    "if needed.Key options include:\n",
    "default_shots: Number of circuit executions (default: 4096).\n",
    "dynamical_decoupling: For idle error mitigation (hardware-only).\n",
    "twirling: For Pauli twirling to randomize coherent errors (hardware-only).\n",
    "\n",
    "These are accessed via sampler.options.<category>.<attribute>.\n",
    "\n"
   ]
  },
  {
   "cell_type": "code",
   "execution_count": null,
   "metadata": {
    "colab": {
     "base_uri": "https://localhost:8080/"
    },
    "id": "-S-oJmUMCjRB",
    "outputId": "849fd6a7-3f57-4255-bd00-491b5847e1f7"
   },
   "outputs": [],
   "source": [
    "sampler = Sampler(mode=backend)\n",
    "print(sampler.options)"
   ]
  },
  {
   "cell_type": "markdown",
   "metadata": {
    "id": "JymCp4BvCnwh"
   },
   "source": [
    "**5.1.2 Setting & overriding options (workflow)**\n",
    "\n",
    "Typical workflow:\n",
    "\n",
    "1.   Select backend or open a session.\n",
    "2.   Instantiate SamplerV2 with the backend/session\n",
    "3.   Set default options on sampler.options.\n",
    "4.   Run the primitive, overriding if needed."
   ]
  },
  {
   "cell_type": "code",
   "execution_count": null,
   "metadata": {
    "colab": {
     "base_uri": "https://localhost:8080/"
    },
    "id": "QvMcogLwCu56",
    "outputId": "6e82167c-93a4-4758-d2eb-d1115dd1d766"
   },
   "outputs": [],
   "source": [
    "# Instantiate Sampler\n",
    "sampler = Sampler(mode=backend)\n",
    "\n",
    "# Set defaults\n",
    "sampler.options.default_shots = 2048\n",
    "sampler.options.dynamical_decoupling.enable = True\n",
    "\n",
    "# Run with defaults\n",
    "job_default = # sampler.run([isa_qc])  # (disabled: use run_counts on a transpiled circuit)\n",
    "print(job_default.job_id())\n",
    "\n",
    "# Override for a specific run\n",
    "job_override = # sampler.run([isa_qc], shots=1024)  # (disabled: use run_counts on a transpiled circuit)  # Overrides default_shots\n",
    "print(job_override.job_id())"
   ]
  },
  {
   "cell_type": "markdown",
   "metadata": {
    "id": "EbGEMsdFCzMs"
   },
   "source": [
    "**5.1.3 Shots & measurement return**\n",
    "\n",
    "default_shots controls how many times the circuit is executed, affecting statistical variance in the probability distribution.\n",
    "\n",
    "Higher shots reduce variance but increase runtime/cost.\n",
    "\n",
    "Results are returned as PrimitiveResult with SamplerPubResult, containing quasi-distributions (dict of bitstrings to probabilities).\n",
    "\n"
   ]
  },
  {
   "cell_type": "code",
   "execution_count": null,
   "metadata": {
    "colab": {
     "base_uri": "https://localhost:8080/"
    },
    "id": "POqGwBSTC44k",
    "outputId": "1a90cee2-08d3-4303-eef1-852eb8067c62"
   },
   "outputs": [],
   "source": [
    "# Set shots\n",
    "sampler.options.default_shots = 4000\n",
    "\n",
    "# Run\n",
    "job = # sampler.run([isa_qc])  # (disabled: use run_counts on a transpiled circuit)\n",
    "result = job.result()\n",
    "\n",
    "# Access distribution\n",
    "dist = result[0].data.meas.get_counts()  # Counts; for probabilities, use quasi_dists[0]\n",
    "print(dist)"
   ]
  },
  {
   "cell_type": "markdown",
   "metadata": {
    "id": "rJ5goKaSDDqU"
   },
   "source": [
    "Note: On ideal simulator, Bell state gives ~50% '00', 50% '11'. On hardware, noise causes small probabilities for '01', '10'. More shots decrease variance in estimates.\n",
    "\n"
   ]
  },
  {
   "cell_type": "markdown",
   "metadata": {
    "id": "H6XqCyLZDHEA"
   },
   "source": [
    "**5.1.4 Dynamical decoupling (DD)**\n",
    "\n",
    "DD mitigates idle qubit errors by inserting pulse sequences (e.g., XY4) during idle periods.\n",
    "\n",
    "Enable with dynamical_decoupling.enable = True.\n",
    "\n",
    "Select sequence with sequence_type (e.g., 'XY4').\n",
    "\n",
    "Only affects hardware; no effect on ideal simulators."
   ]
  },
  {
   "cell_type": "code",
   "execution_count": null,
   "metadata": {
    "colab": {
     "base_uri": "https://localhost:8080/"
    },
    "id": "h3fvW53eDMXU",
    "outputId": "766b19b1-4d32-4353-929c-f25de830ea85"
   },
   "outputs": [],
   "source": [
    "# Enable DD with XY4\n",
    "sampler.options.dynamical_decoupling.enable = True\n",
    "sampler.options.dynamical_decoupling.sequence_type = \"XY4\"\n",
    "sampler.options.dynamical_decoupling.extra_slack_distribution = \"middle\"\n",
    "sampler.options.dynamical_decoupling.scheduling_method = \"alap\"\n",
    "\n",
    "# Run on hardware\n",
    "job_dd = # sampler.run([isa_qc])  # (disabled: use run_counts on a transpiled circuit)\n",
    "result_dd = job_dd.result()\n",
    "dist_dd = result_dd[0].data.meas.get_counts()\n",
    "print(dist_dd)"
   ]
  },
  {
   "cell_type": "markdown",
   "metadata": {
    "id": "1ntGrWJtDW-V"
   },
   "source": [
    "Compare distributions with and without DD: DD should show reduced errors (higher counts at '00' and '11').\n",
    "\n"
   ]
  },
  {
   "cell_type": "markdown",
   "metadata": {
    "id": "gb9-vDuvDakm"
   },
   "source": [
    "**5.1.5 TwirlingPauli**\n",
    "\n",
    "twirling randomizes coherent errors into stochastic Pauli noise, making it easier to mitigate.\n",
    "\n",
    "Enable gate twirling with twirling.enable_gates = True.\n",
    "\n",
    "Can combine with DD.\n",
    "\n",
    "Backend-dependent; affects hardware more.\n",
    "\n",
    "It increases circuit variants (randomizations), distributing shots across them, which can average out coherent errors and lead to a more symmetric noise distribution.\n",
    "\n"
   ]
  },
  {
   "cell_type": "code",
   "execution_count": null,
   "metadata": {
    "colab": {
     "base_uri": "https://localhost:8080/"
    },
    "id": "xQuvLqAUDejo",
    "outputId": "dc9e2e2c-5036-4c1b-eb5f-06f325dd1530"
   },
   "outputs": [],
   "source": [
    "# Enable twirling\n",
    "sampler.options.twirling.enable_gates = True\n",
    "sampler.options.twirling.enable_measure = False  # Optional; measure twirling\n",
    "sampler.options.twirling.strategy = \"active-accum\"\n",
    "sampler.options.twirling.num_randomizations = \"auto\"  # Or specific int for control\n",
    "\n",
    "# Combine with DD\n",
    "sampler.options.dynamical_decoupling.enable = True\n",
    "\n",
    "# Run\n",
    "job_twirl = # sampler.run([isa_qc])  # (disabled: use run_counts on a transpiled circuit)\n",
    "result_twirl = job_twirl.result()\n",
    "dist_twirl = result_twirl[0].data.meas.get_counts()\n",
    "print(dist_twirl)"
   ]
  },
  {
   "cell_type": "markdown",
   "metadata": {
    "id": "qE0e6BR6Dg-A"
   },
   "source": [
    "With twirling enabled, the distribution may show reduced bias from coherent errors, with error probabilities more evenly spread.\n",
    "\n"
   ]
  },
  {
   "cell_type": "markdown",
   "metadata": {
    "id": "EG3pX9E4Dlb4"
   },
   "source": [
    "**5.1.6 Backend/simulator notes & quick validation**\n",
    "\n",
    "Many options (DD, twirling) are hardware-only in effect; on ideal simulators, they have no observable impact.\n",
    "\n",
    "For realistic simulation, use fake backends with noise models to mimic hardware behavior.\n",
    "\n",
    "Validate settings by printing sampler.options before running or checking job metadata after.\n",
    "\n"
   ]
  },
  {
   "cell_type": "code",
   "execution_count": null,
   "metadata": {
    "colab": {
     "base_uri": "https://localhost:8080/"
    },
    "id": "jgdJwLLLDpGI",
    "outputId": "a6163b66-d8f4-4ccd-bb33-f590fb24c316"
   },
   "outputs": [],
   "source": [
    "import numpy as np\n",
    "from qiskit import QuantumCircuit\n",
    "from qiskit_aer import AerSimulator\n",
    "from qiskit_aer.noise import NoiseModel\n",
    "# The correct primitive import for Aer simulations\n",
    "from qiskit_aer.primitives import Sampler\n",
    "from qiskit.transpiler.preset_passmanagers import generate_preset_pass_manager\n",
    "# Use a standard fake backend for demonstration\n",
    "from qiskit_ibm_runtime.fake_provider import FakeManilaV2\n",
    "\n",
    "\n",
    "# --- SETUP: Define Backend and Circuit ---\n",
    "# Initialize the fake backend (required for noise model)\n",
    "fake_backend = FakeManilaV2()\n",
    "\n",
    "# Define a simple 2-qubit circuit (Bell state)\n",
    "qc = QuantumCircuit(2, 2)\n",
    "qc.h(0)\n",
    "qc.cx(0, 1)\n",
    "qc.measure([0, 1], [0, 1])\n",
    "\n",
    "print(f\"Original Circuit Qubits: {qc.num_qubits}\")\n",
    "\n",
    "\n",
    "# --- PART 1: Define the noisy Aer Simulator ---\n",
    "# We keep the configuration of the custom simulator.\n",
    "noise_model = NoiseModel.from_backend(fake_backend)\n",
    "sim_backend = AerSimulator(\n",
    "    noise_model=noise_model,\n",
    "    basis_gates=fake_backend.basis_gates,\n",
    "    coupling_map=fake_backend.coupling_map\n",
    ")\n",
    "\n",
    "# --- CRITICAL FIX ---\n",
    "# Instantiate Sampler *without* the 'backend' argument, as suggested by the previous error.\n",
    "sampler_fake = Sampler()\n",
    "\n",
    "\n",
    "# --- PART 2: Transpile the circuit ---\n",
    "# Transpile the circuit specifically for the fake backend's architecture\n",
    "pm_fake = generate_preset_pass_manager(optimization_level=1, backend=fake_backend)\n",
    "isa_qc_fake = pm_fake.run(qc)\n",
    "\n",
    "print(f\"Transpiled Circuit Qubits: {isa_qc_fake.num_qubits}\")\n",
    "\n",
    "\n",
    "# --- PART 3: Set options and Run ---\n",
    "# Set shots option. For Aer Sampler, 'shots' is the standard key.\n",
    "sampler_fake.options.shots = 2048\n",
    "\n",
    "# Run the job with the transpiled circuit\n",
    "job_fake = sampler_fake.run([isa_qc_fake])\n",
    "\n",
    "# FIX: Use .quasi_dists[0] to get the quasi-probability distribution\n",
    "# from the SamplerResult, which is the V1 primitive's expected output.\n",
    "result = job_fake.result()\n",
    "dist_fake = result.quasi_dists[0]\n",
    "\n",
    "print(\"\\n--- Simulation Result ---\")\n",
    "# The result here is a QuasiDistribution (a dict-like object where values are floats)\n",
    "print(f\"Result Quasi-Probabilities (Noisy): {dist_fake}\")"
   ]
  },
  {
   "cell_type": "markdown",
   "metadata": {
    "id": "Za9hsN85DszS"
   },
   "source": [
    "For real hardware, use job.status() to monitor and job.result() to retrieve.\n",
    "\n"
   ]
  },
  {
   "cell_type": "markdown",
   "metadata": {
    "id": "8zvVXBUTZXip"
   },
   "source": [
    "**5.1.7 Sample Multiple Choice Questions**\n",
    "\n",
    "**(5.1.1) Q1.** You construct a Bell state and sample with `SamplerV2` using 4000 default shots. Which distribution is most plausible on hardware?  \n",
    "A. Equal probabilities for `00,01,10,11`  \n",
    "B. Peaks at `00` and `11`, small counts at `01`/`10`  \n",
    "C. Only `00` occurs  \n",
    "D. Only `11` occurs  \n",
    "<details><summary>Answer & rationales</summary>\n",
    "\n",
    "- **Correct: B.** Ideal Bell ⇒ `00`/`11`; noise populates `01`/`10` slightly.  \n",
    "- A: Equal over all 4 would imply a different circuit/state.  \n",
    "- C/D: Single outcome would require measurement or state-prep that collapses fully.\n",
    "</details>\n",
    "\n",
    "**(5.1.1) Q2.** Where do you set default values that apply to subsequent sampler runs?  \n",
    "A. In each circuit object  \n",
    "B. In `sampler.options`  \n",
    "C. In `QuantumCircuit.metadata`  \n",
    "D. In the `run()` call’s `metadata`  \n",
    "<details><summary>Answer & rationales</summary>\n",
    "\n",
    "- **Correct: B.** Defaults live on `sampler.options`.  \n",
    "- A/C/D: Do not set sampler execution defaults.\n",
    "</details>\n",
    "\n",
    "**(5.1.2) Q3.** You set `sampler.options.default_shots = 2048`. What does this affect?  \n",
    "A. The number of qubits measured  \n",
    "B. The number of shots per circuit unless overridden  \n",
    "C. The number of DD pulses inserted  \n",
    "D. The basis in which measurements are performed  \n",
    "<details><summary>Answer & rationales</summary>\n",
    "\n",
    "- **Correct: B.** Controls total repetitions.  \n",
    "- A: Qubit count is circuit-defined.  \n",
    "- C: DD pulses are controlled by DD options, not `default_shots`.  \n",
    "- D: Basis is controlled by measurement/circuit, not shot count.\n",
    "</details>\n",
    "\n",
    "**(5.1.2) Q4.** Best lightweight way to confirm your default applies?  \n",
    "A. Print `sampler.options` before running  \n",
    "B. Reboot the kernel  \n",
    "C. Check transpiler logs  \n",
    "D. Increase optimization level  \n",
    "<details><summary>Answer & rationales</summary>\n",
    "\n",
    "- **Correct: A.** Echo options.  \n",
    "- B/C/D: Not related to sampler defaults visibility.\n",
    "</details>\n",
    "\n",
    "**(5.1.3) Q5.** If you raise `default_shots` from 200 to 20000, what happens to variance in estimated probabilities?  \n",
    "A. Increases  \n",
    "B. Decreases  \n",
    "C. Unchanged  \n",
    "D. Randomly flips bitstrings  \n",
    "<details><summary>Answer & rationales</summary>\n",
    "\n",
    "- **Correct: B.** More shots ⇒ lower statistical variance.  \n",
    "- A/C/D: Do not reflect shot-based sampling behavior.\n",
    "</details>\n",
    "\n",
    "**(5.1.3) Q6.** Which description matches shot-based sampler output?  \n",
    "A. A single fidelity number  \n",
    "B. Mapping from bitstrings to counts/probabilities  \n",
    "C. A device temperature log  \n",
    "D. OpenQASM only  \n",
    "<details><summary>Answer & rationales</summary>\n",
    "\n",
    "- **Correct: B.** Sampler returns distributions over outcomes.  \n",
    "- A/C/D: Not the sampler’s output format.\n",
    "</details>\n",
    "\n",
    "**(5.1.4) Q7.** Enabling DD (XY4) primarily:  \n",
    "A. Changes measurement basis  \n",
    "B. Mitigates idle errors using calibrated pulse sequences  \n",
    "C. Optimizes transpilation time  \n",
    "D. Reduces shot usage  \n",
    "<details><summary>Answer & rationales</summary>\n",
    "\n",
    "- **Correct: B.** DD suppresses decoherence during idle periods.  \n",
    "- A/C/D: Not the purpose of DD.\n",
    "</details>\n",
    "\n",
    "**(5.1.4) Q8.** On an ideal simulator, enabling DD typically:  \n",
    "A. Dramatically changes outcome histograms  \n",
    "B. Has no observable effect  \n",
    "C. Forces an error  \n",
    "D. Doubles shots automatically  \n",
    "<details><summary>Answer & rationales</summary>\n",
    "\n",
    "- **Correct: B.** No physical noise ⇒ no DD effect.  \n",
    "- A/C/D: Incorrect.\n",
    "</details>\n",
    "\n",
    "**(5.1.5) Q9.** Pauli twirling is mainly used to:  \n",
    "A. Randomize coherent errors into stochastic ones  \n",
    "B. Eliminate all noise  \n",
    "C. Guarantee zero error on hardware  \n",
    "D. Speed up compilation  \n",
    "<details><summary>Answer & rationales</summary>\n",
    "\n",
    "- **Correct: A.** Twirling averages out coherent error directions.  \n",
    "- B/C/D: Overstatements or unrelated.\n",
    "</details>\n",
    "\n",
    "**(5.1.5) Q10.** DD and twirling can be:  \n",
    "A. Never combined  \n",
    "B. Combined, depending on backend support  \n",
    "C. Combined only on simulators  \n",
    "D. Combined only with zero shots  \n",
    "<details><summary>Answer & rationales</summary>\n",
    "\n",
    "- **Correct: B.** They are compatible depending on backend.  \n",
    "- A/C/D: Incorrect constraints.\n",
    "</details>\n",
    "\n",
    "**(5.1.6) Q11.** Which is most accurate?  \n",
    "A. All options affect sim and hardware equally  \n",
    "B. Many options are **hardware‑only** in effect  \n",
    "C. Options are ignored on hardware  \n",
    "D. Options are cosmetic only  \n",
    "<details><summary>Answer & rationales</summary>\n",
    "\n",
    "- **Correct: B.** DD/twirling effects are hardware/noise dependent.  \n",
    "- A/C/D: Incorrect.\n",
    "</details>\n",
    "\n",
    "**(5.1.6) Q12.** When simulating to mimic hardware behavior, best practice is to:  \n",
    "A. Use seed 0  \n",
    "B. Mirror the device’s coupling map and noise model  \n",
    "C. Disable measurements  \n",
    "D. Run 1 shot  \n",
    "<details><summary>Answer & rationales</summary>\n",
    "\n",
    "- **Correct: B.** Device mirroring yields realistic behavior.  \n",
    "- A/C/D: Not sufficient or relevant.\n",
    "</details>"
   ]
  }
 ],
 "metadata": {
  "colab": {
   "provenance": []
  },
  "kernelspec": {
   "display_name": "Python (qiskit2x)",
   "language": "python",
   "name": "qiskit2x"
  },
  "language_info": {
   "codemirror_mode": {
    "name": "ipython",
    "version": 3
   },
   "file_extension": ".py",
   "mimetype": "text/x-python",
   "name": "python",
   "nbconvert_exporter": "python",
   "pygments_lexer": "ipython3",
   "version": "3.12.9"
  }
 },
 "nbformat": 4,
 "nbformat_minor": 4
}
