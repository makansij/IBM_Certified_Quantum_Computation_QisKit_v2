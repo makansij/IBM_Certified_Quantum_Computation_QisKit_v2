{
 "cells": [
  {
   "cell_type": "markdown",
   "id": "1956abdd",
   "metadata": {},
   "source": [
    "# Qiskit Certification Prep - Module 1: Quantum Circuit Operations"
   ]
  },
  {
   "cell_type": "code",
   "execution_count": 1,
   "id": "210a4d8b-75fa-4e62-872f-dbd05dba0838",
   "metadata": {},
   "outputs": [],
   "source": [
    "import qiskit\n",
    "import numpy as np\n",
    "# from qiskit import QuantumCircuit, QuantumRegister, ClassicalRegister, execute, IBMQ\n",
    "from qiskit import QuantumCircuit, QuantumRegister, ClassicalRegister\n",
    "from qiskit.visualization import circuit_drawer"
   ]
  },
  {
   "cell_type": "markdown",
   "id": "8a6c1efd-ea31-4eba-b9c9-1cc2e33c374e",
   "metadata": {},
   "source": [
    "## Section 0: Drawing circuits"
   ]
  },
  {
   "cell_type": "markdown",
   "id": "96d41b66-8d59-4961-abc3-846a0cbb2e9c",
   "metadata": {},
   "source": [
    "*Drawing circuits:*\n",
    "This is the first skill we'll learn because it'll help learn everything else in this section.\n",
    "There are 2 options for drawing circuits: \n",
    "\n",
    "1). mpl \n",
    "\n",
    "2). text "
   ]
  },
  {
   "cell_type": "markdown",
   "id": "d090a32f-5bd4-4a7a-9ed5-ea17f44b9df0",
   "metadata": {},
   "source": [
    "**mpl:**\n",
    "- requires matplotlib to be installed"
   ]
  },
  {
   "cell_type": "code",
   "execution_count": 2,
   "id": "e139f1e9-bc9e-492b-ac47-5f748a005639",
   "metadata": {},
   "outputs": [
    {
     "data": {
      "image/png": "[encoded data removed]",
      "text/plain": [
       "<Figure size 162.08x284.278 with 1 Axes>"
      ]
     },
     "execution_count": 2,
     "metadata": {},
     "output_type": "execute_result"
    }
   ],
   "source": [
    "qc = QuantumCircuit(3)\n",
    "qc.draw(output ='mpl') # mpl -> matplotlib"
   ]
  },
  {
   "cell_type": "markdown",
   "id": "e82d1e92-6d2c-447e-934a-923c1ef2fecd",
   "metadata": {},
   "source": [
    "**Text**"
   ]
  },
  {
   "cell_type": "code",
   "execution_count": 3,
   "id": "e827aefd-e465-40c9-9ef4-1eda060b3746",
   "metadata": {},
   "outputs": [
    {
     "data": {
      "text/html": [
       "<pre style=\"word-wrap: normal;white-space: pre;background: #fff0;line-height: 1.1;font-family: &quot;Courier New&quot;,Courier,monospace\">     \n",
       "q_0: \n",
       "     \n",
       "q_1: \n",
       "     \n",
       "q_2: \n",
       "     </pre>"
      ],
      "text/plain": [
       "     \n",
       "q_0: \n",
       "     \n",
       "q_1: \n",
       "     \n",
       "q_2: \n",
       "     "
      ]
     },
     "execution_count": 3,
     "metadata": {},
     "output_type": "execute_result"
    }
   ],
   "source": [
    "qc = QuantumCircuit(3)\n",
    "qc.draw(output = 'text')"
   ]
  },
  {
   "cell_type": "markdown",
   "id": "c243e42a",
   "metadata": {},
   "source": [
    "## Section 1: Creating Circuits\n",
    "\n",
    "### Different ways to create a circuit with 2 qubits and 2 classical bits\n",
    "\n",
    "| Method | Code |\n",
    "|--------|------|\n",
    "| Basic constructor | `qc = QuantumCircuit(2, 2)` |\n",
    "| Using registers | `qr = QuantumRegister(2); cr = ClassicalRegister(2); qc = QuantumCircuit(qr, cr)` |\n",
    "| Named registers | `qr = QuantumRegister(2, 'q'); cr = ClassicalRegister(2, 'c'); qc = QuantumCircuit(qr, cr)` "
   ]
  },
  {
   "cell_type": "code",
   "execution_count": 4,
   "id": "98224af6",
   "metadata": {},
   "outputs": [
    {
     "data": {
      "image/png": "[encoded data removed]",
      "text/plain": [
       "<Figure size 161.878x284.278 with 1 Axes>"
      ]
     },
     "execution_count": 4,
     "metadata": {},
     "output_type": "execute_result"
    }
   ],
   "source": [
    "from qiskit import QuantumCircuit, QuantumRegister, ClassicalRegister\n",
    "\n",
    "qr = QuantumRegister(2, name='q')\n",
    "cr = ClassicalRegister(2, name='c')\n",
    "qc = QuantumCircuit(qr, cr)\n",
    "qc.draw('mpl')"
   ]
  },
  {
   "cell_type": "markdown",
   "id": "357b5228",
   "metadata": {},
   "source": [
    "## Section 2: Gates and Measurements\n",
    "\n",
    "### Different ways to apply gates and measure qubits\n",
    "\n",
    "Most examples here use a 2-qubit circuit for consistency, but many operations (like applying H or measurement) work for circuits of size 1 or more.\n",
    "\n",
    "| Operation | No. of Qubits Applied to | Method 1 | Method 2 |\n",
    "|-----------|---------------|----------|----------|\n",
    "| Apply H to qubit 0 | 1+ qubits (shown here for 1 qubit) | `qc.h(0)` | `qc.append(HGate(), [0])` |\n",
    "| Apply CX from 0 to 1 | 2 qubits | `qc.cx(0, 1)` | `qc.append(CXGate(), [0, 1])` |\n",
    "| Measure qubits to classical bits | 1+ qubits (shown here for 2 qubits) | `qc.measure([0,1], [0,1])` | `qc.measure_all()` |"
   ]
  },
  {
   "cell_type": "code",
   "execution_count": 5,
   "id": "3287a66c",
   "metadata": {},
   "outputs": [
    {
     "data": {
      "image/png": "[encoded data removed]",
      "text/plain": [
       "<Figure size 454.517x284.278 with 1 Axes>"
      ]
     },
     "execution_count": 5,
     "metadata": {},
     "output_type": "execute_result"
    }
   ],
   "source": [
    "qc.h(0)\n",
    "qc.cx(0, 1)\n",
    "qc.measure([0,1], [0,1])\n",
    "qc.draw('mpl')"
   ]
  },
  {
   "cell_type": "markdown",
   "id": "1ce54195",
   "metadata": {},
   "source": [
    "## Section 3: Circuit Properties\n",
    "\n",
    "### Ways to inspect circuit characteristics\n",
    "\n",
    "| Property | Code |\n",
    "|----------|------|\n",
    "| Gate counts | `qc.count_ops()` |\n",
    "| Circuit depth | `qc.depth()` |\n",
    "| Number of qubits | `qc.num_qubits` |\n",
    "| Circuit width | `qc.width()` "
   ]
  },
  {
   "cell_type": "code",
   "execution_count": 6,
   "id": "d21eccdc",
   "metadata": {},
   "outputs": [
    {
     "name": "stdout",
     "output_type": "stream",
     "text": [
      "Depth: 3\n",
      "Width: 4\n",
      "Operations: OrderedDict({'measure': 2, 'h': 1, 'cx': 1})\n"
     ]
    }
   ],
   "source": [
    "print(\"Depth:\", qc.depth())\n",
    "print(\"Width:\", qc.width())\n",
    "print(\"Operations:\", qc.count_ops())"
   ]
  },
  {
   "cell_type": "markdown",
   "id": "b4fad198",
   "metadata": {},
   "source": [
    "## Section 4: Subcircuits\n",
    "\n",
    "### Ways to build and reuse subcircuits\n",
    "\n",
    "| Operation | Code |\n",
    "|-----------|------|\n",
    "| Define subcircuit | `sub = QuantumCircuit(2); sub.h(0); sub.cx(0, 1)` |\n",
    "| Append subcircuit | `qc.append(sub.to_instruction(), [0, 1])` |\n",
    "| Reuse with name | `QuantumCircuit(2, name='sub')` "
   ]
  },
  {
   "cell_type": "code",
   "execution_count": 7,
   "id": "edfd3e7d",
   "metadata": {},
   "outputs": [
    {
     "data": {
      "image/png": "[encoded data removed]",
      "text/plain": [
       "<Figure size 705.35x284.278 with 1 Axes>"
      ]
     },
     "execution_count": 7,
     "metadata": {},
     "output_type": "execute_result"
    }
   ],
   "source": [
    "sub = QuantumCircuit(2, name=\"sub\")\n",
    "sub.h(0)\n",
    "sub.cx(0, 1)\n",
    "qc.append(sub.to_instruction(), [0, 1])\n",
    "qc.measure([0,1], [0,1])\n",
    "qc.draw('mpl')"
   ]
  },
  {
   "cell_type": "markdown",
   "id": "515db53a",
   "metadata": {},
   "source": [
    "## Section 5: Exporting and Importing QASM\n",
    "\n",
    "### Exporting and importing circuit definitions\n",
    "Assume that `qc` is an instance of class `QuantumCircuit`\n",
    "\n",
    "| Task | Code |\n",
    "|------|------|\n",
    "| Export QASM | `qasm3_str = dumps(qc)                # serialize to OpenQASM 3. Returns a string` |\n",
    "| Import from string | `qc_from_qasm3 = loads(qasm3_str)  # parse back into a QuantumCircuit` |\n",
    "| Import from file | `qc = qasm3.load(\"path/to/your_file.qasm\")   # reads from a .qasm file` "
   ]
  },
  {
   "cell_type": "code",
   "execution_count": 8,
   "id": "aec137f9-eae2-4878-abe4-ac9a55a1c49e",
   "metadata": {},
   "outputs": [
    {
     "name": "stdout",
     "output_type": "stream",
     "text": [
      "OPENQASM 3.0;\n",
      "include \"stdgates.inc\";\n",
      "bit[2] c;\n",
      "qubit[2] q;\n",
      "h q[0];\n",
      "cx q[0], q[1];\n",
      "c[0] = measure q[0];\n",
      "c[1] = measure q[1];\n",
      " ...\n",
      "\n"
     ]
    },
    {
     "data": {
      "image/png": "[encoded data removed]",
      "text/plain": [
       "<Figure size 454.517x284.278 with 1 Axes>"
      ]
     },
     "execution_count": 8,
     "metadata": {},
     "output_type": "execute_result"
    }
   ],
   "source": [
    "from qiskit import QuantumCircuit\n",
    "\n",
    "# example circuit\n",
    "qc = QuantumCircuit(2, 2)\n",
    "qc.h(0)\n",
    "qc.cx(0, 1)\n",
    "qc.measure([0, 1], [0, 1])\n",
    "\n",
    "# --- OpenQASM 3 round-trip ---\n",
    "from qiskit.qasm3 import dumps, loads\n",
    "\n",
    "qasm3_str = dumps(qc)                # serialize to OpenQASM 3. Returns a string\n",
    "print(qasm3_str[:300], \"...\\n\")      # preview\n",
    "\n",
    "qc_from_qasm3 = loads(qasm3_str)     # parse back into a QuantumCircuit\n",
    "\n",
    "# visualize (mpl requires matplotlib)\n",
    "qc_from_qasm3.draw(\"mpl\")\n"
   ]
  },
  {
   "cell_type": "markdown",
   "id": "f11728ab",
   "metadata": {},
   "source": [
    "## Section 6: Try It Yourself Prompts\n",
    "\n",
    "### Exercises for students to practice\n",
    "\n",
    "1. Add a `t` gate to qubit 1 and redraw the circuit.\n",
    "2. Create a new 3-qubit circuit and apply a Toffoli gate (`ccx`).\n",
    "3. Export the circuit to QASM and re-import it. Verify equality.\n",
    "4. Use `count_ops()` and interpret the results.\n",
    "5. Replace a subcircuit with a different one."
   ]
  },
  {
   "cell_type": "markdown",
   "id": "f2fda0be-741b-44a1-a047-ed778784c268",
   "metadata": {},
   "source": [
    "### Multiple Choice Questions"
   ]
  },
  {
   "cell_type": "markdown",
   "id": "8a5b9959-a82d-496a-bc0c-258ca553975f",
   "metadata": {},
   "source": [
    "You are given the circuit (Qiskit uses **0-based** qubit indexing):\n",
    "\n",
    "```\n",
    "from qiskit import QuantumCircuit\n",
    "qc = QuantumCircuit(2)\n",
    "qc.h(0)\n",
    "qc.cx(0, 1)\n",
    "```\n",
    "\n",
    "Which of the following adds a T gate to the first qubit?"
   ]
  },
  {
   "cell_type": "markdown",
   "id": "015f46eb-276b-4f5b-8096-c0f7ad9657b3",
   "metadata": {},
   "source": [
    "A)\n",
    "```\n",
    "qc.t(1)\n",
    "qc.draw(\"mpl\")\n",
    "```\n",
    "\n",
    "B)\n",
    "```\n",
    "qc.t(0)\n",
    "qc.draw(\"mpl\")\n",
    "```\n",
    "\n",
    "C)\n",
    "```\n",
    "qc.s(1)\n",
    "qc.draw(\"mpl\")\n",
    "```\n",
    "\n",
    "D)\n",
    "```\n",
    "qc.tdg(1)\n",
    "qc.draw(\"mpl\")\n",
    "```\n",
    "<details>\n",
    "<summary><strong>Answer</strong></summary>\n",
    "\n",
    "B.\n",
    "</details>"
   ]
  },
  {
   "cell_type": "markdown",
   "id": "b6a60cbb",
   "metadata": {},
   "source": [
    "### Multiple Choice Question: Create a 3-qubit circuit and apply a Toffoli (CCX)\n",
    "\n",
    "Task: “Create a new 3-qubit circuit and apply a Toffoli gate (controls on qubits 0 and 1, target on qubit 2). Then redraw the circuit.” \n",
    "Which code correctly accomplishes this?\n",
    "\n",
    "- A.\n",
    "```\n",
    " from qiskit import QuantumCircuit\n",
    " qc = QuantumCircuit(3)\n",
    " qc.ccx(0, 1, 2)\n",
    " qc.draw(\"mpl\")\n",
    "```\n",
    "\n",
    "- B.\n",
    "```\n",
    " from qiskit import QuantumCircuit\n",
    " qc = QuantumCircuit(2)\n",
    " qc.ccx(0, 1, 1) # not enough qubits; invalid\n",
    " qc.draw(\"mpl\")\n",
    "``` \n",
    "\n",
    "- C.\n",
    "```\n",
    " from qiskit import QuantumCircuit\n",
    " qc = QuantumCircuit(3)\n",
    " qc.ccx(0, 2, 1) # wrong target (target should be qubit 2)\n",
    " qc.draw(\"mpl\")\n",
    "```\n",
    "\n",
    "- D.\n",
    "```\n",
    " from qiskit import QuantumCircuit\n",
    " qc = QuantumCircuit(3)\n",
    " qc.cx(0, 1); qc.cx(1, 2) # not a Toffoli; just two CNOTs\n",
    " qc.draw(\"mpl\")\n",
    "```\n",
    "\n",
    "<details>\n",
    "<summary><strong>Answer</strong></summary>\n",
    "\n",
    "A. \n",
    "Creates a 3-qubit circuit and applies ccx(0, 1, 2) with controls on qubits 0 & 1 and target on qubit 2. \n",
    "B has only 2 qubits (and invalid ccx indices). \n",
    "C uses the wrong target qubit. \n",
    "D applies two CNOTs, not a Toffoli.\n",
    "</details>\n"
   ]
  },
  {
   "cell_type": "markdown",
   "id": "6a71617f",
   "metadata": {},
   "source": [
    "### Multiple Choice Question: Export a circuit to QASM and re-import it\n",
    "\n",
    "Task: “Export a circuit to QASM and re-import it.” \n",
    "Assume you already have a QuantumCircuit named qc. Which snippet correctly exports the circuit to OpenQASM 3 and re-imports it into a new QuantumCircuit?\n",
    "\n",
    "- A.\n",
    "```\n",
    "from qiskit.qasm3 import dumps, loads\n",
    "s = dumps(qc)\n",
    "qc2 = loads(s)\n",
    "qc2.draw(\"mpl\")\n",
    "```\n",
    "\n",
    "- B.\n",
    "```\n",
    "qasm_str = qc.qasm()\n",
    "from qiskit import QuantumCircuit\n",
    "qc2 = QuantumCircuit.from_qasm_str(qasm_str)\n",
    "qc2.draw(\"mpl\")\n",
    "```\n",
    "\n",
    "- C.\n",
    "```\n",
    "from qiskit.qasm3 import dumps\n",
    "from qiskit import QuantumCircuit\n",
    "s = dumps(qc)\n",
    "qc2 = QuantumCircuit.from_qasm_str(s)  \n",
    "qc2.draw(\"mpl\")\n",
    "```\n",
    "\n",
    "- D.\n",
    "```\n",
    "import qiskit.qasm3 as qasm3\n",
    "qc2 = qasm3.loads(\"my_circuit.qasm\")\n",
    "qc2.draw(\"mpl\")\n",
    "```\n",
    "\n",
    "<details>\n",
    "<summary><strong>Answer</strong></summary>\n",
    "\n",
    "A. It uses the OpenQASM 3 exporter/importer pair dumps(...)/loads(...). \n",
    "B. uses the legacy OpenQASM 2 API (qc.qasm() / from_qasm_str). \n",
    "C. mismatches OQ3 export with an OQ2 loader. \n",
    "D. passes a file path to loads() (which expects QASM text); file-based import would be:\n",
    "```\n",
    "import qiskit.qasm3 as qasm3\n",
    "qc2 = qasm3.load(\"path.qasm\")\n",
    "```\n",
    "</details>\n"
   ]
  },
  {
   "cell_type": "markdown",
   "id": "0ad274e2-7743-4f74-a0fe-37224b1d44bd",
   "metadata": {},
   "source": [
    "### Answers\n",
    "1) A"
   ]
  },
  {
   "cell_type": "code",
   "execution_count": null,
   "id": "3a10f008-757f-4d02-8609-289ec0eca1c8",
   "metadata": {},
   "outputs": [],
   "source": []
  }
 ],
 "metadata": {
  "kernelspec": {
   "display_name": "Python (qiskit2x)",
   "language": "python",
   "name": "qiskit2x"
  },
  "language_info": {
   "codemirror_mode": {
    "name": "ipython",
    "version": 3
   },
   "file_extension": ".py",
   "mimetype": "text/x-python",
   "name": "python",
   "nbconvert_exporter": "python",
   "pygments_lexer": "ipython3",
   "version": "3.12.11"
  }
 },
 "nbformat": 4,
 "nbformat_minor": 5
}
