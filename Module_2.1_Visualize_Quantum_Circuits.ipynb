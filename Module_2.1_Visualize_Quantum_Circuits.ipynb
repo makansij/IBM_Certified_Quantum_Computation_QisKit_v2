{
 "cells": [
  {
   "cell_type": "markdown",
   "id": "1956abdd",
   "metadata": {},
   "source": [
    "# Qiskit Certification Prep - Module 1: Quantum Circuit Operations"
   ]
  },
  {
   "cell_type": "code",
   "execution_count": 4,
   "id": "210a4d8b-75fa-4e62-872f-dbd05dba0838",
   "metadata": {},
   "outputs": [
    {
     "name": "stderr",
     "output_type": "stream",
     "text": [
      "/var/folders/1g/pjkrsvtx455c4cm1_j7xrnz00000gp/T/ipykernel_35438/3761376563.py:1: FutureWarning: The `qiskit` package is not installed, only `qiskit-terra` is installed. Starting in Qiskit 1.0.0 only the `qiskit` package will be published. Migrate any requirements files still using `qiskit-terra` to use `qiskit` instead. See https://qisk.it/1-0-packaging-migration for more detail.\n",
      "  import qiskit\n"
     ]
    }
   ],
   "source": [
    "import qiskit\n",
    "import numpy as np\n",
    "# from qiskit import QuantumCircuit, QuantumRegister, ClassicalRegister, execute, IBMQ\n",
    "from qiskit import QuantumCircuit, QuantumRegister, ClassicalRegister\n",
    "from qiskit.visualization import circuit_drawer"
   ]
  },
  {
   "cell_type": "markdown",
   "id": "8a6c1efd-ea31-4eba-b9c9-1cc2e33c374e",
   "metadata": {},
   "source": [
    "## Section 0: Drawing circuits"
   ]
  },
  {
   "cell_type": "markdown",
   "id": "96d41b66-8d59-4961-abc3-846a0cbb2e9c",
   "metadata": {},
   "source": [
    "*Drawing circuits:*\n",
    "This is the first skill we'll learn because it'll help learn everything else in this section.\n",
    "There are 2 options for drawing circuits: \n",
    "\n",
    "1). mpl \n",
    "\n",
    "2). text "
   ]
  },
  {
   "cell_type": "markdown",
   "id": "d090a32f-5bd4-4a7a-9ed5-ea17f44b9df0",
   "metadata": {},
   "source": [
    "**mpl:**\n",
    "- requires matplotlib to be installed"
   ]
  },
  {
   "cell_type": "code",
   "execution_count": 5,
   "id": "e139f1e9-bc9e-492b-ac47-5f748a005639",
   "metadata": {},
   "outputs": [
    {
     "name": "stderr",
     "output_type": "stream",
     "text": [
      "/opt/homebrew/anaconda3/envs/qiskit-cert/lib/python3.10/site-packages/qiskit/visualization/circuit/matplotlib.py:266: FutureWarning: The default matplotlib drawer scheme will be changed to \"iqp\" in a following release. To silence this warning, specify the current default explicitly as style=\"clifford\", or the new default as style=\"iqp\".\n",
      "  self._style, def_font_ratio = load_style(self._style)\n"
     ]
    },
    {
     "data": {
      "image/png": "[encoded data removed]",
      "text/plain": [
       "<Figure size 162.08x284.278 with 1 Axes>"
      ]
     },
     "execution_count": 5,
     "metadata": {},
     "output_type": "execute_result"
    }
   ],
   "source": [
    "qc = QuantumCircuit(3)\n",
    "qc.draw(output ='mpl') # mpl -> matplotlib"
   ]
  },
  {
   "cell_type": "markdown",
   "id": "e82d1e92-6d2c-447e-934a-923c1ef2fecd",
   "metadata": {},
   "source": [
    "**Text**"
   ]
  },
  {
   "cell_type": "code",
   "execution_count": 6,
   "id": "e827aefd-e465-40c9-9ef4-1eda060b3746",
   "metadata": {},
   "outputs": [
    {
     "data": {
      "text/html": [
       "<pre style=\"word-wrap: normal;white-space: pre;background: #fff0;line-height: 1.1;font-family: &quot;Courier New&quot;,Courier,monospace\">     \n",
       "q_0: \n",
       "     \n",
       "q_1: \n",
       "     \n",
       "q_2: \n",
       "     </pre>"
      ],
      "text/plain": [
       "     \n",
       "q_0: \n",
       "     \n",
       "q_1: \n",
       "     \n",
       "q_2: \n",
       "     "
      ]
     },
     "execution_count": 6,
     "metadata": {},
     "output_type": "execute_result"
    }
   ],
   "source": [
    "qc = QuantumCircuit(3)\n",
    "qc.draw(output = 'text')"
   ]
  },
  {
   "cell_type": "markdown",
   "id": "c243e42a",
   "metadata": {},
   "source": [
    "## Section 1: Creating Circuits\n",
    "\n",
    "### Different ways to create a circuit with 2 qubits and 2 classical bits\n",
    "\n",
    "| Method | Code |\n",
    "|--------|------|\n",
    "| Basic constructor | `qc = QuantumCircuit(2, 2)` |\n",
    "| Using registers | `qr = QuantumRegister(2); cr = ClassicalRegister(2); qc = QuantumCircuit(qr, cr)` |\n",
    "| Named registers | `qr = QuantumRegister(2, 'q'); cr = ClassicalRegister(2, 'c'); qc = QuantumCircuit(qr, cr)` "
   ]
  },
  {
   "cell_type": "code",
   "execution_count": 1,
   "id": "98224af6",
   "metadata": {},
   "outputs": [
    {
     "data": {
      "image/png": "[encoded data removed]",
      "text/plain": [
       "<Figure size 161.878x284.278 with 1 Axes>"
      ]
     },
     "execution_count": 1,
     "metadata": {},
     "output_type": "execute_result"
    }
   ],
   "source": [
    "from qiskit import QuantumCircuit, QuantumRegister, ClassicalRegister\n",
    "\n",
    "qr = QuantumRegister(2, name='q')\n",
    "cr = ClassicalRegister(2, name='c')\n",
    "qc = QuantumCircuit(qr, cr)\n",
    "qc.draw('mpl')"
   ]
  },
  {
   "cell_type": "markdown",
   "id": "357b5228",
   "metadata": {},
   "source": [
    "## Section 2: Gates and Measurements\n",
    "\n",
    "### Different ways to apply gates and measure qubits\n",
    "\n",
    "Most examples here use a 2-qubit circuit for consistency, but many operations (like applying H or measurement) work for circuits of size 1 or more.\n",
    "\n",
    "| Operation | No. of Qubits Applied to | Method 1 | Method 2 |\n",
    "|-----------|---------------|----------|----------|\n",
    "| Apply H to qubit 0 | 1+ qubits (shown here for 1 qubit) | `qc.h(0)` | `qc.append(HGate(), [0])` |\n",
    "| Apply CX from 0 to 1 | 2 qubits | `qc.cx(0, 1)` | `qc.append(CXGate(), [0, 1])` |\n",
    "| Measure qubits to classical bits | 1+ qubits (shown here for 2 qubits) | `qc.measure([0,1], [0,1])` | `qc.measure_all()` |"
   ]
  },
  {
   "cell_type": "code",
   "execution_count": 2,
   "id": "3287a66c",
   "metadata": {},
   "outputs": [
    {
     "data": {
      "image/png": "[encoded data removed]",
      "text/plain": [
       "<Figure size 454.517x284.278 with 1 Axes>"
      ]
     },
     "execution_count": 2,
     "metadata": {},
     "output_type": "execute_result"
    }
   ],
   "source": [
    "qc.h(0)\n",
    "qc.cx(0, 1)\n",
    "qc.measure([0,1], [0,1])\n",
    "qc.draw('mpl')"
   ]
  },
  {
   "cell_type": "markdown",
   "id": "1ce54195",
   "metadata": {},
   "source": [
    "## Section 3: Circuit Properties\n",
    "\n",
    "### Ways to inspect circuit characteristics\n",
    "\n",
    "| Property | Code |\n",
    "|----------|------|\n",
    "| Gate counts | `qc.count_ops()` |\n",
    "| Circuit depth | `qc.depth()` |\n",
    "| Number of qubits | `qc.num_qubits` |\n",
    "| Circuit width | `qc.width()` "
   ]
  },
  {
   "cell_type": "code",
   "execution_count": 3,
   "id": "d21eccdc",
   "metadata": {},
   "outputs": [
    {
     "name": "stdout",
     "output_type": "stream",
     "text": [
      "Depth: 3\n",
      "Width: 4\n",
      "Operations: OrderedDict([('measure', 2), ('h', 1), ('cx', 1)])\n"
     ]
    }
   ],
   "source": [
    "print(\"Depth:\", qc.depth())\n",
    "print(\"Width:\", qc.width())\n",
    "print(\"Operations:\", qc.count_ops())"
   ]
  },
  {
   "cell_type": "markdown",
   "id": "b4fad198",
   "metadata": {},
   "source": [
    "## Section 4: Subcircuits\n",
    "\n",
    "### Ways to build and reuse subcircuits\n",
    "\n",
    "| Operation | Code |\n",
    "|-----------|------|\n",
    "| Define subcircuit | `sub = QuantumCircuit(2); sub.h(0); sub.cx(0, 1)` |\n",
    "| Append subcircuit | `qc.append(sub.to_instruction(), [0, 1])` |\n",
    "| Reuse with name | `QuantumCircuit(2, name='sub')` "
   ]
  },
  {
   "cell_type": "code",
   "execution_count": 4,
   "id": "edfd3e7d",
   "metadata": {},
   "outputs": [
    {
     "data": {
      "image/png": "[encoded data removed]",
      "text/plain": [
       "<Figure size 705.35x284.278 with 1 Axes>"
      ]
     },
     "execution_count": 4,
     "metadata": {},
     "output_type": "execute_result"
    }
   ],
   "source": [
    "sub = QuantumCircuit(2, name=\"sub\")\n",
    "sub.h(0)\n",
    "sub.cx(0, 1)\n",
    "qc.append(sub.to_instruction(), [0, 1])\n",
    "qc.measure([0,1], [0,1])\n",
    "qc.draw('mpl')"
   ]
  },
  {
   "cell_type": "markdown",
   "id": "515db53a",
   "metadata": {},
   "source": [
    "## Section 5: Exporting and Importing QASM\n",
    "\n",
    "### Exporting and importing circuit definitions\n",
    "\n",
    "| Task | Code |\n",
    "|------|------|\n",
    "| Export QASM | `qc.qasm()` |\n",
    "| Import from string | `QuantumCircuit.from_qasm_str(qasm_str)` |\n",
    "| Import from file | `QuantumCircuit.from_qasm_file('filename.qasm')` "
   ]
  },
  {
   "cell_type": "code",
   "execution_count": 5,
   "id": "bfc5f6b3",
   "metadata": {},
   "outputs": [
    {
     "name": "stdout",
     "output_type": "stream",
     "text": [
      "OPENQASM 2.0;\n",
      "include \"qelib1.inc\";\n",
      "gate sub q0,q1 { h q0; cx q0,q1; }\n",
      "qreg q[2];\n",
      "creg c[2];\n",
      "h q[0];\n",
      "cx q[0],q[1];\n",
      "measure q[0] -> c[0];\n",
      "measure q[1] -> c[1];\n",
      "sub q[0],q[1];\n",
      "measure q[0] -> c[0];\n",
      "measure q[1] -> c[1];\n",
      " ...\n"
     ]
    },
    {
     "data": {
      "image/png": "[encoded data removed]",
      "text/plain": [
       "<Figure size 705.35x284.278 with 1 Axes>"
      ]
     },
     "execution_count": 5,
     "metadata": {},
     "output_type": "execute_result"
    }
   ],
   "source": [
    "qasm_str = qc.qasm()\n",
    "print(qasm_str[:300], \"...\")\n",
    "qc_from_qasm = QuantumCircuit.from_qasm_str(qasm_str)\n",
    "qc_from_qasm.draw('mpl')"
   ]
  },
  {
   "cell_type": "markdown",
   "id": "f11728ab",
   "metadata": {},
   "source": [
    "## Section 6: Try It Yourself Prompts\n",
    "\n",
    "### Exercises for students to practice\n",
    "\n",
    "1. Add a `t` gate to qubit 1 and redraw the circuit.\n",
    "2. Create a new 3-qubit circuit and apply a Toffoli gate (`ccx`).\n",
    "3. Export the circuit to QASM and re-import it. Verify equality.\n",
    "4. Use `count_ops()` and interpret the results.\n",
    "5. Replace a subcircuit with a different one."
   ]
  },
  {
   "cell_type": "code",
   "execution_count": 6,
   "id": "b80dcde6",
   "metadata": {},
   "outputs": [],
   "source": [
    "# Start your solution here"
   ]
  },
  {
   "cell_type": "code",
   "execution_count": null,
   "id": "cfd5cd03-b980-4eeb-999a-2164ac8ded37",
   "metadata": {},
   "outputs": [],
   "source": []
  }
 ],
 "metadata": {
  "kernelspec": {
   "display_name": "Python 3.10 (Qiskit-Cert)",
   "language": "python",
   "name": "qiskit-cert"
  },
  "language_info": {
   "codemirror_mode": {
    "name": "ipython",
    "version": 3
   },
   "file_extension": ".py",
   "mimetype": "text/x-python",
   "name": "python",
   "nbconvert_exporter": "python",
   "pygments_lexer": "ipython3",
   "version": "3.10.13"
  }
 },
 "nbformat": 4,
 "nbformat_minor": 5
}
