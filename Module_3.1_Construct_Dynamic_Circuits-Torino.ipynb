{
 "cells": [
  {
   "cell_type": "markdown",
   "id": "511ad003",
   "metadata": {},
   "source": [
    "# Module 3.1: Construct Dynamic Circuits  \n",
    "\n",
    "> Task 3.1 from the IBM Qiskit v2.x Study Guide.  \n",
    "> Sub-topics: `if_test`, `if_else`, `for_loop`, `while_loop`.  \n",
    "\n",
    "**References**  \n",
    "- IBM Docs: Classical Feedforward & Control Flow  \n",
    "  https://quantum.cloud.ibm.com/docs/en/guides/classical-feedforward-and-control-flow  \n",
    "- Fake backend choice: `FakeFractionalBackend` supports `if_else` and `while_loop`."
   ]
  },
  {
   "cell_type": "code",
   "execution_count": 1,
   "id": "f552dd7e",
   "metadata": {},
   "outputs": [
    {
     "name": "stdout",
     "output_type": "stream",
     "text": [
      "Python : 3.12.9\n",
      "Qiskit  : 2.2.1\n",
      "qiskit-ibm-runtime : 0.41.1\n"
     ]
    }
   ],
   "source": [
    "# Metadata: print versions at runtime.\n",
    "import qiskit, sys\n",
    "from qiskit_ibm_runtime import __version__ as ibm_runtime_version\n",
    "from qiskit.visualization import plot_histogram\n",
    "\n",
    "print(\"Python :\", sys.version.split()[0])\n",
    "print(\"Qiskit  :\", qiskit.__version__)\n",
    "print(\"qiskit-ibm-runtime :\", ibm_runtime_version)\n",
    "\n",
    "# Minimal imports used across this notebook\n",
    "from qiskit import QuantumCircuit, ClassicalRegister, QuantumRegister, generate_preset_pass_manager\n",
    "from qiskit_ibm_runtime import SamplerV2, QiskitRuntimeService\n",
    "import numpy as np\n",
    "rng = np.random.default_rng(12345)"
   ]
  },
  {
   "cell_type": "markdown",
   "id": "3bfe29ca-3a8b-440a-af0c-9561acf7b908",
   "metadata": {},
   "source": [
    "To see which of your backends support dynamic circuits:"
   ]
  },
  {
   "cell_type": "code",
   "execution_count": 2,
   "id": "db421946-eca8-475e-bd40-994846e793ec",
   "metadata": {},
   "outputs": [
    {
     "name": "stdout",
     "output_type": "stream",
     "text": [
      "[<IBMBackend('ibm_brisbane')>, <IBMBackend('ibm_torino')>]\n"
     ]
    }
   ],
   "source": [
    "service = QiskitRuntimeService()\n",
    "dc_backends = service.backends(dynamic_circuits=True)\n",
    "print(dc_backends)"
   ]
  },
  {
   "cell_type": "markdown",
   "id": "1535c43c",
   "metadata": {},
   "source": [
    "## 1) Conceptual Overview  \n",
    "\n",
    "Dynamic circuits allow real-time classical control within a quantum program.  \n",
    "They enable mid-circuit measurement and conditional branching.  \n",
    "\n",
    "**Key ideas**  \n",
    "- *Classical feedforward:* Measure a qubit and use the result to control later ops.  \n",
    "- *Control flow:* Use constructs like `if_test`, `if_else`, `for_loop`, and  \n",
    "  `while_loop` to branch and iterate at runtime.  \n",
    "- *Execution model:* Qiskit lowers control flow into OpenQASM 3 with classical  \n",
    "  conditions evaluated on device."
   ]
  },
  {
   "cell_type": "markdown",
   "id": "6c06d49b",
   "metadata": {},
   "source": [
    "## 2) Hands-on Examples (baseline)  \n",
    "\n",
    "We use a fake backend that supports dynamic circuits to build and run examples  \n",
    "via `SamplerV2`. We always transpile with  \n",
    "`generate_preset_pass_manager(backend=...)` before `run`."
   ]
  },
  {
   "cell_type": "code",
   "execution_count": 3,
   "id": "c92f7afc",
   "metadata": {},
   "outputs": [
    {
     "data": {
      "text/plain": [
       "{'1': 14, '0': 16}"
      ]
     },
     "execution_count": 3,
     "metadata": {},
     "output_type": "execute_result"
    }
   ],
   "source": [
    "qc0 = QuantumCircuit(1, 1, name=\"baseline\")\n",
    "qc0.h(0)\n",
    "qc0.measure(0, 0)\n",
    "from qiskit_ibm_runtime.fake_provider import FakeFractionalBackend\n",
    "\n",
    "# Helper for transpiling with preset PM and running safely.\n",
    "backend = FakeFractionalBackend()\n",
    "\n",
    "pm = generate_preset_pass_manager(backend=backend, optimization_level=1)\n",
    "cir_isa = pm.run(qc0)\n",
    "\n",
    "sampler = SamplerV2(mode=backend)  # v2.x API\n",
    "job = sampler.run([cir_isa], shots=30)\n",
    "results = job.result()\n",
    "results[0].join_data().get_counts()"
   ]
  },
  {
   "cell_type": "markdown",
   "id": "298e8505",
   "metadata": {},
   "source": [
    "## 3) Focused Exam-style Skills (Task 3.1)  \n",
    "\n",
    "Each sub-module introduces one control-flow method with:  \n",
    "- A short explanation and doc links.  \n",
    "- A minimal executable example.  \n",
    "- A quick exercise."
   ]
  },
  {
   "cell_type": "markdown",
   "id": "f5ed6490",
   "metadata": {},
   "source": [
    "### 3.1.0  `if_test` — measured condition controls a block  \n",
    "\n",
    "**Docs**  \n",
    "- https://quantum.cloud.ibm.com/docs/en/guides/classical-feedforward-and-control-flow  \n",
    "\n",
    "**Idea**  \n",
    "Measure qubit $q_0$ into classical $c_0$, then if $c_0=1$ apply an $X$ to $q_1$."
   ]
  },
  {
   "cell_type": "code",
   "execution_count": 4,
   "id": "2a17270f",
   "metadata": {},
   "outputs": [
    {
     "data": {
      "image/png": "[encoded data removed]",
      "text/plain": [
       "<Figure size 538.128x284.278 with 1 Axes>"
      ]
     },
     "execution_count": 4,
     "metadata": {},
     "output_type": "execute_result"
    }
   ],
   "source": [
    "from qiskit import QuantumCircuit, ClassicalRegister, QuantumRegister\n",
    "\n",
    "q = QuantumRegister(2, \"q\")\n",
    "c = ClassicalRegister(2, \"c\")\n",
    "qc_if = QuantumCircuit(q, c, name=\"if_test_demo\")\n",
    "\n",
    "qc_if.h(q[0])               # Put q0 into superposition\n",
    "qc_if.measure(q[0], c[0])   # Mid-circuit measurement\n",
    "\n",
    "with qc_if.if_test((c[0], 1)):\n",
    "    qc_if.x(q[1])           # Apply X to q1 only if c0 == 1\n",
    "\n",
    "qc_if.measure(q[1], c[1])\n",
    "\n",
    "qc_if.draw(output=\"mpl\")"
   ]
  },
  {
   "cell_type": "code",
   "execution_count": 5,
   "id": "7f579aa6-0a5b-48fe-be04-22efde6b0b1a",
   "metadata": {},
   "outputs": [
    {
     "data": {
      "image/png": "[encoded data removed]",
      "text/plain": [
       "<Figure size 640x480 with 1 Axes>"
      ]
     },
     "execution_count": 5,
     "metadata": {},
     "output_type": "execute_result"
    }
   ],
   "source": [
    "backend = FakeFractionalBackend()\n",
    "pm = generate_preset_pass_manager(backend=backend, optimization_level=1)\n",
    "cir_isa = pm.run(qc_if)\n",
    "\n",
    "# --- run with SamplerV2 and build counts ---\n",
    "sampler = SamplerV2(mode=backend)\n",
    "job = sampler.run([cir_isa], shots=200)\n",
    "res = job.result()\n",
    "pub = res[0]  # SamplerPubResult for our single circuit\n",
    "\n",
    "# Robust way to aggregate per-shot data into counts:\n",
    "counts = pub.join_data().get_counts()\n",
    "\n",
    "# --- plot histogram ---\n",
    "plot_histogram(counts)\n"
   ]
  },
  {
   "cell_type": "markdown",
   "id": "1f4fb0d7",
   "metadata": {},
   "source": [
    "**Exercise**  \n",
    "Change the first gate to `rx(np.pi/3, q[0])` and predict whether the probability  \n",
    "of measuring `c0=1` increases or decreases compared to `h(q0)`. Then run."
   ]
  },
  {
   "cell_type": "markdown",
   "id": "677928e9",
   "metadata": {},
   "source": [
    "### 3.1.1  `if_else` — two-way branching  \n",
    "\n",
    "**Docs**  \n",
    "- https://quantum.cloud.ibm.com/docs/en/guides/classical-feedforward-and-control-flow  \n",
    "\n",
    "**Idea**  \n",
    "Measure $q_0$ into $c_0$. If $c_0=1$ apply $H$ to $q_1$, else apply $X$."
   ]
  },
  {
   "cell_type": "code",
   "execution_count": 6,
   "id": "77c1473e-11a6-4263-b161-93416c1a4ffe",
   "metadata": {},
   "outputs": [
    {
     "data": {
      "text/plain": [
       "<qiskit.circuit.instructionset.InstructionSet at 0x15a63dc60>"
      ]
     },
     "execution_count": 6,
     "metadata": {},
     "output_type": "execute_result"
    }
   ],
   "source": [
    "q = QuantumRegister(2, \"q\")\n",
    "c = ClassicalRegister(2, \"c\")\n",
    "qc_ie = QuantumCircuit(q, c, name=\"if_else_demo\")\n",
    "\n",
    "qc_ie.h(q[0])\n",
    "qc_ie.measure(q[0], c[0])\n",
    "\n",
    "with qc_ie.if_test((c[0], 1)) as else_:\n",
    "    qc_ie.h(q[1])\n",
    "with else_:\n",
    "    qc_ie.x(q[1])\n",
    "\n",
    "qc_ie.measure(q[1], c[1])\n"
   ]
  },
  {
   "cell_type": "code",
   "execution_count": 7,
   "id": "ce6bbab5-8434-4b2d-9f74-a8cbf369d98f",
   "metadata": {},
   "outputs": [
    {
     "data": {
      "image/png": "[encoded data removed]",
      "text/plain": [
       "<Figure size 640x480 with 1 Axes>"
      ]
     },
     "execution_count": 7,
     "metadata": {},
     "output_type": "execute_result"
    }
   ],
   "source": [
    "backend = FakeFractionalBackend()\n",
    "pm = generate_preset_pass_manager(backend=backend, optimization_level=1)\n",
    "cir_isa = pm.run(qc_ie)\n",
    "\n",
    "# --- run with SamplerV2 and build counts ---\n",
    "sampler = SamplerV2(mode=backend)\n",
    "job = sampler.run([cir_isa], shots=200)\n",
    "res = job.result()\n",
    "pub = res[0]  # SamplerPubResult for our single circuit\n",
    "\n",
    "# Robust way to aggregate per-shot data into counts:\n",
    "counts = pub.join_data().get_counts()\n",
    "\n",
    "# --- plot histogram ---\n",
    "plot_histogram(counts)\n"
   ]
  },
  {
   "cell_type": "markdown",
   "id": "1922e6fa",
   "metadata": {},
   "source": [
    "**Exercise**  \n",
    "Swap the operations in the branches (`H` and `X`). Run again and compare the  \n",
    "distribution of `c1`."
   ]
  },
  {
   "cell_type": "markdown",
   "id": "d7534c2b",
   "metadata": {},
   "source": [
    "### 3.1.2  `for_loop` — static repetition with runtime semantics  \n",
    "\n",
    "**Docs and Notes**  \n",
    "- https://quantum.cloud.ibm.com/docs/en/guides/classical-feedforward-and-control-flow\n",
    "- Note that `for_loop` does not work on all hardware.  In this notebook, we'll use Aer to implement circuits that use the `for_loop` functionality.\n",
    "\n",
    "**Idea**  \n",
    "Apply $R_x(\\theta)$ three times to $q_0$ using a `for_loop`. For example,  \n",
    "three applications of $R_x(\\pi/4)$ yield a net rotation of $3\\pi/4$."
   ]
  },
  {
   "cell_type": "code",
   "execution_count": 8,
   "id": "c16bc258",
   "metadata": {},
   "outputs": [
    {
     "data": {
      "text/plain": [
       "<qiskit.circuit.instructionset.InstructionSet at 0x15a66cd90>"
      ]
     },
     "execution_count": 8,
     "metadata": {},
     "output_type": "execute_result"
    }
   ],
   "source": [
    "q = QuantumRegister(1, \"q\")\n",
    "c = ClassicalRegister(1, \"c\")\n",
    "qc_for = QuantumCircuit(q, c, name=\"for_loop_demo\")\n",
    "\n",
    "theta = np.pi/4\n",
    "with qc_for.for_loop(range(3)):\n",
    "    qc_for.rx(theta, q[0])\n",
    "\n",
    "qc_for.measure(q[0], c[0])\n"
   ]
  },
  {
   "cell_type": "code",
   "execution_count": 9,
   "id": "ab0a53af-fdb2-4031-9b41-eeaceab95cf1",
   "metadata": {},
   "outputs": [
    {
     "data": {
      "image/png": "[encoded data removed]",
      "text/plain": [
       "<Figure size 640x480 with 1 Axes>"
      ]
     },
     "execution_count": 9,
     "metadata": {},
     "output_type": "execute_result"
    }
   ],
   "source": [
    "from qiskit_aer.primitives import SamplerV2\n",
    "\n",
    "sampler = SamplerV2()\n",
    "cir_isa = qc_for\n",
    "\n",
    "job = sampler.run([cir_isa], shots=200)\n",
    "res = job.result()\n",
    "pub = res[0]  # SamplerPubResult for our single circuit\n",
    "\n",
    "# Robust way to aggregate per-shot data into counts:\n",
    "counts = pub.join_data().get_counts()\n",
    "\n",
    "# --- plot histogram ---\n",
    "plot_histogram(counts)\n"
   ]
  },
  {
   "cell_type": "markdown",
   "id": "c8a70ff1",
   "metadata": {},
   "source": [
    "**Exercise**  \n",
    "Change `range(3)` to `range(4)` with the same $\\theta=\\pi/4$. What outcome do you  \n",
    "expect for the measurement? Verify."
   ]
  },
  {
   "cell_type": "markdown",
   "id": "8ddde72d",
   "metadata": {},
   "source": [
    "### 3.1.3  `while_loop` — repeat until classical condition flips  \n",
    "\n",
    "**Docs**  \n",
    "- https://quantum.cloud.ibm.com/docs/en/guides/classical-feedforward-and-control-flow  \n",
    "\n",
    "**Idea**  \n",
    "Initialize $q_0=\\lvert 0\\rangle$. While classical bit $c_0=0$, apply $X$ then  \n",
    "re-measure. This will flip $q_0$ once then exit."
   ]
  },
  {
   "cell_type": "code",
   "execution_count": 11,
   "id": "281a39dc",
   "metadata": {},
   "outputs": [
    {
     "name": "stdout",
     "output_type": "stream",
     "text": [
      "          ┌─┐┌───────── ┌───┐┌─┐ ───────┐ \n",
      "  q: ─|0>─┤M├┤ While-0  ┤ X ├┤M├  End-0 ├─\n",
      "          └╥┘└────╥──── └───┘└╥┘ ───────┘ \n",
      "           ║ ┌────╨────┐      ║           \n",
      "c: 1/══════╩═╡ c_0=0x0 ╞══════╩═══════════\n",
      "           0 └─────────┘      0           \n"
     ]
    }
   ],
   "source": [
    "q = QuantumRegister(1, \"q\")\n",
    "c = ClassicalRegister(1, \"c\")\n",
    "qc_while = QuantumCircuit(q, c, name=\"while_loop_demo\")\n",
    "\n",
    "qc_while.reset(q[0])\n",
    "qc_while.measure(q[0], c[0])\n",
    "\n",
    "with qc_while.while_loop((c[0], 0)):\n",
    "    qc_while.x(q[0])\n",
    "    qc_while.measure(q[0], c[0])\n",
    "\n",
    "print(qc_while.draw(output=\"text\"))"
   ]
  },
  {
   "cell_type": "code",
   "execution_count": 13,
   "id": "90051950-7cb0-4f90-beab-34171cd4cf21",
   "metadata": {},
   "outputs": [
    {
     "data": {
      "image/png": "[encoded data removed]",
      "text/plain": [
       "<Figure size 640x480 with 1 Axes>"
      ]
     },
     "execution_count": 13,
     "metadata": {},
     "output_type": "execute_result"
    }
   ],
   "source": [
    "from qiskit_ibm_runtime.fake_provider import FakeFractionalBackend\n",
    "from qiskit_ibm_runtime import SamplerV2\n",
    "\n",
    "backend = FakeFractionalBackend()\n",
    "pm = generate_preset_pass_manager(backend=backend, optimization_level=1)\n",
    "cir_isa = pm.run(qc_while)\n",
    "\n",
    "# --- run with SamplerV2 and build counts ---\n",
    "sampler = SamplerV2(mode=backend)\n",
    "job = sampler.run([cir_isa], shots=200)\n",
    "res = job.result()\n",
    "pub = res[0]  # SamplerPubResult for our single circuit\n",
    "\n",
    "# Robust way to aggregate per-shot data into counts:\n",
    "counts = pub.join_data().get_counts()\n",
    "\n",
    "# --- plot histogram ---\n",
    "plot_histogram(counts)\n"
   ]
  },
  {
   "cell_type": "markdown",
   "id": "c0419d92",
   "metadata": {},
   "source": [
    "**Exercise**  \n",
    "Insert `h(q[0])` before the first measurement and reason about the number of loop  \n",
    "iterations. Will it always terminate in one pass? Explain after running."
   ]
  },
  {
   "cell_type": "markdown",
   "id": "27009764-5737-4850-973d-de155f0e2474",
   "metadata": {},
   "source": [
    "### 3.1.4 Limitations on Dynamic Circuits\n",
    "\n",
    "Some Terminology:\n",
    "- \"broadcast\" : a single transfer of unique classical data.  \n",
    "- \"broadcasted bits\": the number of classical bits being transferred\n",
    "\n",
    "There are limitations on both:\n",
    "- If you broadcast 60 bits each time, then the job can have approximately **300 broadcasts.**\n",
    "- If you broadcast one bit each time, however, then the job can have **2400 broadcasts.**"
   ]
  },
  {
   "cell_type": "code",
   "execution_count": 14,
   "id": "09c4e5b5-f86e-454a-bade-4f50d14411d6",
   "metadata": {},
   "outputs": [],
   "source": [
    "from qiskit import QuantumCircuit, QuantumRegister, ClassicalRegister\n",
    "q = QuantumRegister(1); cs = [ClassicalRegister(1) for _ in range(20)]\n",
    "qc = QuantumCircuit(q, *cs)\n",
    "for cr in cs:\n",
    "    qc.measure(q[0], cr[0])\n",
    "    with qc.if_test((cr[0], 1)): qc.x(q[0])   # ❌ many broadcasts"
   ]
  },
  {
   "cell_type": "code",
   "execution_count": 15,
   "id": "dcec29a1-75d5-4b78-a05e-8ddb10e0934d",
   "metadata": {},
   "outputs": [],
   "source": [
    "q = QuantumRegister(1); c = ClassicalRegister(8)\n",
    "qc = QuantumCircuit(q, c)\n",
    "qc.measure(q[0], c[0])\n",
    "with qc.if_test((c[0], 1)): qc.x(q[0])       # ✅ same reg, 1 bit\n",
    "with qc.if_test((c, 0b00000001)): qc.h(q[0]) # ✅ ≤32-bit compare\n"
   ]
  },
  {
   "cell_type": "markdown",
   "id": "4c3fe4f9-d105-4b31-9762-a8b9580d495d",
   "metadata": {},
   "source": [
    "#### Operand width too large (>32 bits)"
   ]
  },
  {
   "cell_type": "code",
   "execution_count": 16,
   "id": "de65591b-8428-40de-b9f6-0932063d0b7c",
   "metadata": {},
   "outputs": [],
   "source": [
    "q = QuantumRegister(40); c = ClassicalRegister(40)\n",
    "qc = QuantumCircuit(q, c); qc.measure(q, c)\n",
    "with qc.if_test((c, 123456)): qc.x(q[0])     # ❌ >32 bits\n"
   ]
  },
  {
   "cell_type": "code",
   "execution_count": 17,
   "id": "2d31267a-d192-4e97-b16a-2b2318538ae3",
   "metadata": {},
   "outputs": [],
   "source": [
    "with qc.if_test((c[5], 1)): qc.x(q[0])       # ✅ single-bit predicate\n"
   ]
  },
  {
   "cell_type": "code",
   "execution_count": 18,
   "id": "54946bae-75c6-4300-a5f6-e3acd40b6af6",
   "metadata": {},
   "outputs": [],
   "source": [
    "# The above circuits won't error unless they are actually submitted to IBM's QPU processors\n",
    "#  Try running the above circuits on a QPU on your own to see that they result in error."
   ]
  },
  {
   "cell_type": "markdown",
   "id": "930d1ebd-61c1-4010-925a-a2ea0353f54b",
   "metadata": {},
   "source": [
    "#### Nested conditions"
   ]
  },
  {
   "cell_type": "code",
   "execution_count": 19,
   "id": "bfb5277e-a858-48da-a806-1b636220b96a",
   "metadata": {},
   "outputs": [],
   "source": [
    "q = QuantumRegister(2); c = ClassicalRegister(2)\n",
    "qc = QuantumCircuit(q, c); qc.measure(q, c)\n",
    "with qc.if_test((c[0], 1)):\n",
    "    with qc.if_test((c[1], 1)): qc.x(q[0])   # ❌ nested\n"
   ]
  },
  {
   "cell_type": "markdown",
   "id": "7eaf60c8-60e7-47e8-8212-c6cf1164cf75",
   "metadata": {},
   "source": [
    "#### No measure inside condition "
   ]
  },
  {
   "cell_type": "code",
   "execution_count": 20,
   "id": "44f2101b-2396-40e4-a50a-30e7f98166fb",
   "metadata": {},
   "outputs": [],
   "source": [
    "q = QuantumRegister(1); c = ClassicalRegister(1)\n",
    "qc = QuantumCircuit(q, c); qc.measure(q[0], c[0])\n",
    "with qc.if_test((c[0], 1)): qc.measure(q[0], c[0])  # ❌ not allowed\n"
   ]
  },
  {
   "cell_type": "markdown",
   "id": "6525c596-4895-4b07-b673-921d7230b708",
   "metadata": {},
   "source": [
    "#### No arithmetic inside condition"
   ]
  },
  {
   "cell_type": "code",
   "execution_count": 21,
   "id": "b3927344-2f3e-4702-9e0b-907ce9c1f2c3",
   "metadata": {},
   "outputs": [
    {
     "data": {
      "text/plain": [
       "<qiskit.circuit.instructionset.InstructionSet at 0x15a447730>"
      ]
     },
     "execution_count": 21,
     "metadata": {},
     "output_type": "execute_result"
    }
   ],
   "source": [
    "from qiskit import QuantumCircuit, QuantumRegister, ClassicalRegister\n",
    "q = QuantumRegister(3); c = ClassicalRegister(3)\n",
    "qc = QuantumCircuit(q, c); qc.measure(q, c)\n",
    "\n",
    "### ============= uncomment for error ============= ####\n",
    "# ❌ INVALID: attempting arithmetic/logic in the condition (parity of c[0], c[1])\n",
    "# cbits aren’t integers; predicates must be (bit, val) or (register, int<=32 bits)\n",
    "# with qc.if_test(((c[0], 1) ^ (c[1], 1)) == 1):  # will raise a TypeError at build time\n",
    "#     qc.x(q[2])\n"
   ]
  },
  {
   "cell_type": "markdown",
   "id": "f5c84319-102c-4bfa-b1bf-2f2f4678402f",
   "metadata": {},
   "source": [
    "### 3.1.5  Multiple Choice Questions (5 items)  "
   ]
  },
  {
   "cell_type": "markdown",
   "id": "e7cb3b68",
   "metadata": {},
   "source": [
    "\n",
    "\n",
    "**Q1.** In `if_test((c0, 1))`, what is checked at runtime?  \n",
    "A. The quantum state of qubit 0 equals $\\lvert 1\\rangle$.  \n",
    "B. The classical bit `c0` stores value 1.  \n",
    "C. The last operation on qubit 0 was `x`.  \n",
    "D. The circuit depth exceeds 1.  \n",
    "\n",
    "**Q2.** Which snippet best implements *two-way* branching based on `c0`?  \n",
    "A. `with qc.if_test((c0,1)): qc.x(0)`  \n",
    "B. `with qc.if_test((c0,1)) as else_: qc.x(0); with else_: qc.z(0)`  \n",
    "C. `with qc.for_loop(range(2)): qc.x(0)`  \n",
    "D. `with qc.while_loop((c0,1)): qc.x(0)`  \n",
    "\n",
    "**Q3.** Consider the loop below with $\\theta=\\pi/6$:  \n",
    "```python\n",
    "with qc.for_loop(range(6)):\n",
    "    qc.rx(theta, 0)\n",
    "```  \n",
    "What is the net rotation about $X$ (mod $2\\pi$)?  \n",
    "A. $\\pi/6$  \n",
    "B. $\\pi/2$  \n",
    "C. $\\pi$  \n",
    "D. $2\\pi$  \n",
    "\n",
    "**Q4.** Which statement about `while_loop` is most accurate?  \n",
    "A. It is unrolled at transpile-time to a fixed number of iterations.  \n",
    "B. It evaluates a classical condition during execution and may terminate early.  \n",
    "C. It requires an `if_else` inside to terminate.  \n",
    "D. It cannot include measurements.  \n",
    "\n",
    "**Q5.** You must transpile before `run`. Which approach fits the Study Guide  \n",
    "best for this notebook?  \n",
    "A. `tqc = transpile(qc, basis_gates=['cx','rz'])`  \n",
    "B. `pm = generate_preset_pass_manager(backend); tqc = pm.run(qc)`  \n",
    "C. `tqc = qc` because primitives transpile internally.  \n",
    "D. No transpilation is needed on fake backends.  \n",
    "\n",
    "<details>\n",
    "<summary><b>Answer Key</b></summary>\n",
    "\n",
    "- Q1: **B**  \n",
    "- Q2: **B**  \n",
    "- Q3: **C** (six times $\\pi/6$ equals $\\pi$)  \n",
    "- Q4: **B**  \n",
    "- Q5: **B**  \n",
    "\n",
    "</details>"
   ]
  },
  {
   "cell_type": "code",
   "execution_count": null,
   "id": "f3ffeee6-9bdc-4b49-b786-2dc379f69ecb",
   "metadata": {},
   "outputs": [],
   "source": []
  }
 ],
 "metadata": {
  "kernelspec": {
   "display_name": "Python (qiskit2x)",
   "language": "python",
   "name": "qiskit2x"
  },
  "language_info": {
   "codemirror_mode": {
    "name": "ipython",
    "version": 3
   },
   "file_extension": ".py",
   "mimetype": "text/x-python",
   "name": "python",
   "nbconvert_exporter": "python",
   "pygments_lexer": "ipython3",
   "version": "3.12.9"
  }
 },
 "nbformat": 4,
 "nbformat_minor": 5
}
