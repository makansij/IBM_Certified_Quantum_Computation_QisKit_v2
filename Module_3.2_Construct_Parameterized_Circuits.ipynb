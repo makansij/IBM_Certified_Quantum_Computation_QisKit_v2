{
 "cells": [
  {
   "cell_type": "markdown",
   "id": "59057c6b",
   "metadata": {},
   "source": [
    "# Module 3.2 Add-on: `circuit.parameters` shows only unassigned symbols  "
   ]
  },
  {
   "cell_type": "code",
   "execution_count": 1,
   "id": "94cb19d5",
   "metadata": {},
   "outputs": [
    {
     "name": "stdout",
     "output_type": "stream",
     "text": [
      "Python: 3.12.9\n",
      "Qiskit: 2.2.0\n",
      "qiskit-ibm-runtime: 0.41.1\n"
     ]
    }
   ],
   "source": [
    "\n",
    "# Metadata\n",
    "import sys, platform\n",
    "from importlib.metadata import version, PackageNotFoundError\n",
    "def safe_ver(pkg):\n",
    "    try:\n",
    "        return version(pkg)\n",
    "    except PackageNotFoundError:\n",
    "        return \"not installed\"\n",
    "print(\"Python:\", sys.version.split()[0])\n",
    "print(\"Qiskit:\", safe_ver(\"qiskit\"))\n",
    "print(\"qiskit-ibm-runtime:\", safe_ver(\"qiskit-ibm-runtime\"))\n"
   ]
  },
  {
   "cell_type": "code",
   "execution_count": 2,
   "id": "19b76fa3",
   "metadata": {},
   "outputs": [],
   "source": [
    "\n",
    "from qiskit import QuantumCircuit\n",
    "from qiskit.circuit import ParameterVector\n",
    "from qiskit.quantum_info import SparsePauliOp\n",
    "from qiskit.transpiler.preset_passmanagers import generate_preset_pass_manager\n",
    "from qiskit_ibm_runtime import EstimatorV2\n",
    "from qiskit_ibm_runtime.fake_provider import FakeSherbrooke\n",
    "\n",
    "backend = FakeSherbrooke()\n"
   ]
  },
  {
   "cell_type": "markdown",
   "id": "dbec9e78",
   "metadata": {},
   "source": [
    "\n",
    "## Demonstration  \n",
    "\n",
    "- We create a circuit using only a subset of symbols from a `ParameterVector`.  \n",
    "`circuit.parameters` lists the **unassigned** symbols still present. After  \n",
    "`assign_parameters(..., inplace=True)`, the set becomes empty if all used  \n",
    "symbols were bound.\n",
    "- We will also show that you cannot assign parameters that are not used in the circuit."
   ]
  },
  {
   "cell_type": "code",
   "execution_count": 5,
   "id": "30109c2a",
   "metadata": {},
   "outputs": [
    {
     "name": "stdout",
     "output_type": "stream",
     "text": [
      "Before assignment, cir.parameters should show theta[0] and theta[1]:\n",
      "['theta[0]', 'theta[1]']\n",
      "\n",
      "After in-place assignment, cir.parameters should be empty:\n",
      "[]\n"
     ]
    }
   ],
   "source": [
    "\n",
    "theta = ParameterVector('theta', 3)  # theta[0], theta[1], theta[2]\n",
    "phi = ParameterVector('phi', 2)      # not used here\n",
    "\n",
    "cir = QuantumCircuit(2, 2)\n",
    "cir.h(0)\n",
    "cir.rx(theta[0], 0)   # uses theta[0]\n",
    "cir.ry(theta[1], 1)   # uses theta[1]\n",
    "\n",
    "print(\"Before assignment, cir.parameters should show theta[0] and theta[1]:\")\n",
    "print(sorted(p.name for p in cir.parameters))\n",
    "\n",
    "# ---- Uncomment to show error ----\n",
    "# Try to assign all entries of 'theta' using vector-as-key mapping \n",
    "# cir.assign_parameters({theta: [0.1, 0.1, 0.1]}, inplace=True)  \n",
    "\n",
    "cir.assign_parameters({theta[0]: 0.1, theta[1]:0.1}, inplace=True)  \n",
    "\n",
    "print(\"\\nAfter in-place assignment, cir.parameters should be empty:\")\n",
    "print(sorted(p.name for p in cir.parameters))\n"
   ]
  },
  {
   "cell_type": "markdown",
   "id": "f8ee417f-0b84-4b89-b7b3-3924c5f3098a",
   "metadata": {},
   "source": [
    "Notice that even though we did not use `theta[2]` it doesn't appear when we print   \n",
    "`cir.parameters` because only parameters that are used in the circuit are printed."
   ]
  },
  {
   "cell_type": "markdown",
   "id": "a04edd7b",
   "metadata": {},
   "source": [
    "\n",
    "## Optional: compile and evaluate with `EstimatorV2`  \n",
    "\n",
    "We compile with a preset pass manager targeting a fake backend and run one shot  \n",
    "of `EstimatorV2` to confirm everything is concrete (no remaining symbols).  "
   ]
  },
  {
   "cell_type": "code",
   "execution_count": null,
   "id": "acb6e18b",
   "metadata": {},
   "outputs": [],
   "source": [
    "\n",
    "pm = generate_preset_pass_manager(backend=backend, optimization_level=1)\n",
    "cir_isa = pm.run(cir)\n",
    "\n",
    "obs = SparsePauliOp('XX')\n",
    "obs_isa = obs.apply_layout(cir_isa.layout)\n",
    "\n",
    "pub = (cir_isa, obs_isa, None, 0.003)\n",
    "estimator = EstimatorV2(mode=backend)\n",
    "job = estimator.run([pub], shots=1024, precision=0.5)\n",
    "res = job.result()\n",
    "print(\"Estimator run complete. Metadata keys:\", list(res[0].metadata.keys()))\n"
   ]
  }
 ],
 "metadata": {
  "kernelspec": {
   "display_name": "Python (qiskit2x)",
   "language": "python",
   "name": "qiskit2x"
  },
  "language_info": {
   "codemirror_mode": {
    "name": "ipython",
    "version": 3
   },
   "file_extension": ".py",
   "mimetype": "text/x-python",
   "name": "python",
   "nbconvert_exporter": "python",
   "pygments_lexer": "ipython3",
   "version": "3.12.9"
  }
 },
 "nbformat": 4,
 "nbformat_minor": 5
}
