{
 "cells": [
  {
   "cell_type": "markdown",
   "id": "59057c6b",
   "metadata": {},
   "source": [
    "# Module 3.2 Add-on: `circuit.parameters` shows only unassigned symbols  "
   ]
  },
  {
   "cell_type": "code",
   "execution_count": 1,
   "id": "94cb19d5",
   "metadata": {},
   "outputs": [
    {
     "name": "stdout",
     "output_type": "stream",
     "text": [
      "Python: 3.12.9\n",
      "Qiskit: 2.2.0\n",
      "qiskit-ibm-runtime: 0.41.1\n"
     ]
    }
   ],
   "source": [
    "\n",
    "# Metadata\n",
    "import sys, platform\n",
    "from importlib.metadata import version, PackageNotFoundError\n",
    "def safe_ver(pkg):\n",
    "    try:\n",
    "        return version(pkg)\n",
    "    except PackageNotFoundError:\n",
    "        return \"not installed\"\n",
    "print(\"Python:\", sys.version.split()[0])\n",
    "print(\"Qiskit:\", safe_ver(\"qiskit\"))\n",
    "print(\"qiskit-ibm-runtime:\", safe_ver(\"qiskit-ibm-runtime\"))\n"
   ]
  },
  {
   "cell_type": "code",
   "execution_count": 2,
   "id": "19b76fa3",
   "metadata": {},
   "outputs": [],
   "source": [
    "\n",
    "# Imports (Qiskit 2.x APIs)\n",
    "from math import pi\n",
    "from qiskit import QuantumCircuit, transpile\n",
    "from qiskit.circuit import Parameter, ParameterVector\n",
    "from qiskit.quantum_info import SparsePauliOp\n",
    "from qiskit.transpiler.preset_passmanagers import generate_preset_pass_manager\n",
    "from qiskit_ibm_runtime import SamplerV2, EstimatorV2\n",
    "from qiskit_ibm_runtime.fake_provider import FakeSherbrooke\n",
    "\n",
    "backend = FakeSherbrooke()\n"
   ]
  },
  {
   "cell_type": "markdown",
   "id": "c1c4a741-4d76-483c-aed2-702a9404763c",
   "metadata": {},
   "source": [
    "\n",
    "## Conceptual Overview  \n",
    "\n",
    "`Parameter` is a scalar symbol; `ParameterVector` is an ordered collection of  \n",
    "symbols. `assign_parameters` binds symbolic parameters to numeric values (or to  \n",
    "other symbols). It accepts dictionaries (including vector-as-key), or a sequence  \n",
    "aligned to the circuit's parameter order. The `inplace` flag chooses whether to  \n",
    "modify the circuit or return a new one.  \n",
    "\n",
    "Always compile the bound circuit for the target backend (here a fake backend)  \n",
    "before running `SamplerV2`/`EstimatorV2`.  "
   ]
  },
  {
   "cell_type": "markdown",
   "id": "e54966fd-9c2f-4010-9e4c-cf87cfef108a",
   "metadata": {},
   "source": [
    "\n",
    "### 3.2.0  Create and bind a single `Parameter`  \n",
    "\n",
    "**Docs:**  \n",
    "- Parameter:  \n",
    "https://quantum.cloud.ibm.com/docs/en/api/qiskit/qiskit.circuit.Parameter  "
   ]
  },
  {
   "cell_type": "markdown",
   "id": "76f03378-6b02-4467-b189-cf2009cf282e",
   "metadata": {},
   "source": [
    "Notice parameters may be used more than once, and not all parameters need to be used"
   ]
  },
  {
   "cell_type": "code",
   "execution_count": 3,
   "id": "e8b572b5-9fea-41a3-a5f9-69100c614402",
   "metadata": {},
   "outputs": [
    {
     "data": {
      "text/html": [
       "<pre style=\"word-wrap: normal;white-space: pre;background: #fff0;line-height: 1.1;font-family: &quot;Courier New&quot;,Courier,monospace\">        ┌───────┐┌─────────┐ ░ ┌─┐\n",
       "     q: ┤ Rx(φ) ├┤ Ry(φ/2) ├─░─┤M├\n",
       "        └───────┘└─────────┘ ░ └╥┘\n",
       "meas: 1/════════════════════════╩═\n",
       "                                0 </pre>"
      ],
      "text/plain": [
       "        ┌───────┐┌─────────┐ ░ ┌─┐\n",
       "     q: ┤ Rx(φ) ├┤ Ry(φ/2) ├─░─┤M├\n",
       "        └───────┘└─────────┘ ░ └╥┘\n",
       "meas: 1/════════════════════════╩═\n",
       "                                0 "
      ]
     },
     "execution_count": 3,
     "metadata": {},
     "output_type": "execute_result"
    }
   ],
   "source": [
    "from qiskit.circuit import Parameter\n",
    "from math import pi\n",
    "phi = Parameter(\"φ\")\n",
    "g = Parameter(\"g\")\n",
    "qc = QuantumCircuit(1)\n",
    "qc.rx(phi, 0)\n",
    "qc.ry(phi/2, 0)\n",
    "qc.measure_all()\n",
    "qc.draw()"
   ]
  },
  {
   "cell_type": "markdown",
   "id": "41780b7c-d98c-427e-8513-26ff06ab5707",
   "metadata": {},
   "source": [
    "\n",
    "### 3.2.1  Build structured families with `ParameterVector`  \n",
    "\n",
    "**Docs:**  \n",
    "- ParameterVector:  \n",
    "  https://quantum.cloud.ibm.com/docs/en/api/qiskit/qiskit.circuit.ParameterVector\n",
    "- ParameterVector can be used to assign vectors of values as parameters.  It's a more convenient way to manage many parameters at once."
   ]
  },
  {
   "cell_type": "code",
   "execution_count": 4,
   "id": "0713e254-ccb1-45b9-a728-ec196f6e6245",
   "metadata": {},
   "outputs": [
    {
     "name": "stdout",
     "output_type": "stream",
     "text": [
      "{'0': 500, '1': 12}\n"
     ]
    }
   ],
   "source": [
    "\n",
    "vec = ParameterVector(\"θ\", 2)\n",
    "qc = QuantumCircuit(1)\n",
    "qc.ry(vec[0], 0)\n",
    "qc.rz(vec[1], 0)\n",
    "qc.measure_all()\n",
    "\n",
    "assign_map = {vec[0]: 0.2, vec[1]: 0.1}\n",
    "bqc = qc.assign_parameters(assign_map)\n",
    "tqc = transpile(bqc, backend)\n",
    "sampler = SamplerV2(mode=backend)\n",
    "job = sampler.run([tqc], shots=512)\n",
    "results = job.result()\n",
    "print(results[0].data.meas.get_counts())\n"
   ]
  },
  {
   "cell_type": "markdown",
   "id": "dbec9e78",
   "metadata": {},
   "source": [
    "\n",
    "## 3.2.3 Assigning Parameters\n",
    "\n",
    "- We create a circuit using only a subset of symbols from a `ParameterVector`.  \n",
    "`circuit.parameters` lists the **unassigned** symbols still present. After  \n",
    "`assign_parameters(..., inplace=True)`, the set becomes empty if all used  \n",
    "symbols were bound.\n",
    "- We will also show that you cannot assign parameters that are not used in the circuit.\n",
    "- There are three ways to assign parameters via `assign_parameters` method:\n",
    "1)  `assign_parameters` with a dictionary (scalar keys)\n",
    "2)  `assign_parameters` using a `ParameterVector` as the key\n",
    "3)  `assign_parameters` with a positional sequence  (same order as they were created)"
   ]
  },
  {
   "cell_type": "markdown",
   "id": "a77c31ad-40bc-4648-bfcb-6783f8ebd7df",
   "metadata": {},
   "source": [
    "\n",
    "### 3.2.3.1  `assign_parameters` with a dictionary (scalar keys)  \n",
    "\n",
    "Map each `Parameter` to a numeric value. This is explicit and common.  "
   ]
  },
  {
   "cell_type": "code",
   "execution_count": 5,
   "id": "9c3830e8-a8f1-4f0d-8821-f4d299e81988",
   "metadata": {},
   "outputs": [
    {
     "name": "stdout",
     "output_type": "stream",
     "text": [
      "params now: []\n"
     ]
    }
   ],
   "source": [
    "\n",
    "θ, ϕ = Parameter(\"θ\"), Parameter(\"φ\")\n",
    "qc = QuantumCircuit(1)\n",
    "qc.rx(θ, 0)\n",
    "qc.rz(ϕ, 0)\n",
    "qc.measure_all()\n",
    "\n",
    "mapped = qc.assign_parameters({θ: 0.3, ϕ: 0.15})\n",
    "print(\"params now:\", sorted(p.name for p in mapped.parameters))\n",
    "\n"
   ]
  },
  {
   "cell_type": "markdown",
   "id": "39353469-e7db-4e7f-9421-454322015f0b",
   "metadata": {},
   "source": [
    "\n",
    "### 3.2.3.2  `assign_parameters` using a `ParameterVector` as the key  "
   ]
  },
  {
   "cell_type": "code",
   "execution_count": 6,
   "id": "82c8f2c5-ce91-407d-97cb-dc4a0b162b55",
   "metadata": {},
   "outputs": [
    {
     "name": "stdout",
     "output_type": "stream",
     "text": [
      "Remaining unbound params: []\n"
     ]
    }
   ],
   "source": [
    "\n",
    "thetas = ParameterVector(\"θ\", 3)\n",
    "qc = QuantumCircuit(1)\n",
    "qc.rx(thetas[0], 0)\n",
    "qc.ry(thetas[1], 0)\n",
    "qc.rz(thetas[2], 0)\n",
    "qc.measure_all()\n",
    "\n",
    "mapped = qc.assign_parameters({thetas: [0.1, 0.2, 0.3]})\n",
    "print(\"Remaining unbound params:\", sorted(p.name for p in mapped.parameters))"
   ]
  },
  {
   "cell_type": "markdown",
   "id": "d71ffc9f-6ba9-4587-b8c9-7a11e0732590",
   "metadata": {},
   "source": [
    "\n",
    "### 3.2.3.3  `assign_parameters` with a positional sequence  "
   ]
  },
  {
   "cell_type": "code",
   "execution_count": 7,
   "id": "df95b446-5b36-4bab-baf5-bb6e32868f69",
   "metadata": {},
   "outputs": [
    {
     "name": "stdout",
     "output_type": "stream",
     "text": [
      "Parameter order: ['a', 'b']\n",
      "After assign: []\n"
     ]
    }
   ],
   "source": [
    "\n",
    "a, b = Parameter(\"a\"), Parameter(\"b\")\n",
    "qc = QuantumCircuit(1)\n",
    "qc.ry(a, 0)\n",
    "qc.rz(b, 0)\n",
    "qc.measure_all()\n",
    "\n",
    "print(\"Parameter order:\", [p.name for p in qc.parameters])\n",
    "mapped = qc.assign_parameters([0.25, 0.5])  # a -> 0.25, b -> 0.5\n",
    "print(\"After assign:\", sorted(p.name for p in mapped.parameters))"
   ]
  },
  {
   "cell_type": "markdown",
   "id": "c7064c76-72a9-4831-9c9b-1a325ba8bc9e",
   "metadata": {},
   "source": [
    "## 3.2.4  `inplace` argument: return-new vs modify-in-place  \n",
    "\n",
    "`inplace` keyword may be used to return a copy of the circuit  \n",
    "if set to `False`.  If set to `True`, then nothing is returned   \n",
    "and the circuit is overwritten (modified in place)."
   ]
  },
  {
   "cell_type": "code",
   "execution_count": 8,
   "id": "30109c2a",
   "metadata": {},
   "outputs": [
    {
     "name": "stdout",
     "output_type": "stream",
     "text": [
      "Before assignment, cir.parameters should show theta[0] and theta[1]:\n",
      "['theta[0]', 'theta[1]']\n",
      "\n",
      "After in-place assignment, cir.parameters should be empty:\n",
      "[]\n"
     ]
    }
   ],
   "source": [
    "\n",
    "theta = ParameterVector('theta', 3)  # theta[0], theta[1], theta[2]\n",
    "phi = ParameterVector('phi', 2)      # not used here\n",
    "\n",
    "cir = QuantumCircuit(2, 2)\n",
    "cir.h(0)\n",
    "cir.rx(theta[0], 0)   # uses theta[0]\n",
    "cir.ry(theta[1], 1)   # uses theta[1]\n",
    "\n",
    "print(\"Before assignment, cir.parameters should show theta[0] and theta[1]:\")\n",
    "print(sorted(p.name for p in cir.parameters))\n",
    "\n",
    "# ---- Uncomment to show error ----\n",
    "# Try to assign all entries of 'theta' using vector-as-key mapping \n",
    "# cir.assign_parameters({theta: [0.1, 0.1, 0.1]}, inplace=True)  \n",
    "\n",
    "cir.assign_parameters({theta[0]: 0.1, theta[1]:0.1}, inplace=True)  \n",
    "\n",
    "print(\"\\nAfter in-place assignment, cir.parameters should be empty:\")\n",
    "print(sorted(p.name for p in cir.parameters))\n"
   ]
  },
  {
   "cell_type": "markdown",
   "id": "f8ee417f-0b84-4b89-b7b3-3924c5f3098a",
   "metadata": {},
   "source": [
    "Notice that even though we did not use `theta[2]` it doesn't appear when we print   \n",
    "`cir.parameters` because only parameters that are used in the circuit are printed."
   ]
  },
  {
   "cell_type": "markdown",
   "id": "9943298f-8d0a-4861-9409-1e2b04b388ed",
   "metadata": {},
   "source": [
    "### **Common pitfalls**\n",
    "\n",
    "- The `ParameterVector` constructor takes as input in this order:\n",
    "  `ParameterVector(<name>, <size>)`.\n",
    "- This is in contrast to `QuantumRegister` which takes as input:\n",
    "  `QuantumRegister(<size>, <name)`.\n"
   ]
  },
  {
   "cell_type": "markdown",
   "id": "4a296f90-e9df-493c-8319-9a76267eaec8",
   "metadata": {},
   "source": [
    "## 3.2.5 ParameterExpression\n",
    "- A ParameterExpression is a symbolic algebraic expression built  \n",
    "from one or more Parameters (e.g., 2*theta + phi) that you can  \n",
    "place anywhere a numeric gate parameter would go.\n",
    "\n",
    "- It lets you encode relationships/constraints between angles  \n",
    "(shared values, linear combos, offsets), so binding a few base  \n",
    "parameters consistently updates all dependent places in the circuit.\n",
    "\n",
    "- You can partially bind it (remaining symbols stay symbolic) or fully  \n",
    "bind it to a number; this supports workflows like template circuits,\n",
    " variational forms, and parameter tying across layers.\n",
    "\n",
    "**Docs:**  \n",
    "- ParameterExpression:  \n",
    "https://quantum.cloud.ibm.com/docs/en/api/qiskit/qiskit.circuit.ParameterExpression  \n",
    "\n",
    "A `ParameterExpression` represents symbolic algebra over parameters, e.g.  \n",
    "$\\alpha = 2\\theta + \\phi$. Bind the constituent parameters to evaluate the  \n",
    "expression numerically.  "
   ]
  },
  {
   "cell_type": "code",
   "execution_count": 9,
   "id": "b3004dcc-7771-4a9f-9dd4-f9945b50791d",
   "metadata": {},
   "outputs": [
    {
     "name": "stdout",
     "output_type": "stream",
     "text": [
      "Unbound: ['θ', 'φ']\n",
      "After partial bind: ['φ']\n",
      "After full bind: []\n"
     ]
    }
   ],
   "source": [
    "\n",
    "theta = Parameter(\"θ\"); phi = Parameter(\"φ\")\n",
    "alpha = 2*theta + phi\n",
    "beta  = theta/2 - phi\n",
    "qc = QuantumCircuit(1)\n",
    "qc.rx(alpha, 0); qc.rz(beta, 0); qc.measure_all()\n",
    "print(\"Unbound:\", sorted(p.name for p in qc.parameters))\n",
    "pqc = qc.assign_parameters({theta: 0.4})\n",
    "print(\"After partial bind:\", sorted(p.name for p in pqc.parameters))\n",
    "fbqc = qc.assign_parameters({theta: 0.4, phi: 0.1})\n",
    "print(\"After full bind:\", sorted(p.name for p in fbqc.parameters))\n"
   ]
  },
  {
   "cell_type": "markdown",
   "id": "7909be85-dfeb-4dca-8263-1ab6216c0df3",
   "metadata": {},
   "source": [
    "\n",
    "### Example 1 — `.assign`: replace one parameter with a number or expression  "
   ]
  },
  {
   "cell_type": "code",
   "execution_count": 11,
   "id": "d8d28860-c8b3-46bd-90d8-33326aff64bd",
   "metadata": {},
   "outputs": [
    {
     "name": "stdout",
     "output_type": "stream",
     "text": [
      "alpha parameters: ['θ', 'φ']\n",
      "\n",
      "alpha.assign(theta, 0.3): 0.6 + φ\n",
      "remaining params: ['φ']\n",
      "\n",
      "alpha.assign(phi, theta/2): 2.5*θ\n",
      "remaining params: ['θ']\n",
      "\n",
      "alpha.assign(...).assign(...): 1.1\n",
      "numeric via float(...): 1.1\n"
     ]
    }
   ],
   "source": [
    "\n",
    "from qiskit.circuit import Parameter\n",
    "\n",
    "# α = 2*θ + φ\n",
    "theta, phi = Parameter(\"θ\"), Parameter(\"φ\")\n",
    "alpha = 2*theta + phi\n",
    "\n",
    "print(\"alpha parameters:\", sorted(p.name for p in alpha.parameters))\n",
    "\n",
    "# Replace θ with a numeric constant\n",
    "alpha_num = alpha.assign(theta, 0.3)\n",
    "print(\"\\nalpha.assign(theta, 0.3):\", alpha_num)\n",
    "print(\"remaining params:\", sorted(p.name for p in alpha_num.parameters))\n",
    "\n",
    "# Replace φ with another expression, e.g., φ -> (θ/2)\n",
    "alpha_expr = alpha.assign(phi, theta/2)\n",
    "print(\"\\nalpha.assign(phi, theta/2):\", alpha_expr)\n",
    "print(\"remaining params:\", sorted(p.name for p in alpha_expr.parameters))\n",
    "\n",
    "# You can chain assigns\n",
    "alpha_chain = alpha.assign(theta, 0.5).assign(phi, 0.1)\n",
    "print(\"\\nalpha.assign(...).assign(...):\", alpha_chain)\n",
    "try:\n",
    "    print(\"numeric via float(...):\", float(alpha_chain))\n",
    "except Exception as e:\n",
    "    print(\"could not cast to float:\", e)\n"
   ]
  },
  {
   "cell_type": "markdown",
   "id": "171f9a4e-a1e8-4db8-b873-e8f065bc4793",
   "metadata": {},
   "source": [
    "\n",
    "### Example 2 — `.subs`: replace parameters by other expressions (possibly  symbolic)  "
   ]
  },
  {
   "cell_type": "code",
   "execution_count": 12,
   "id": "96f21786-cff4-46b4-b8b6-4e5911e7d2e1",
   "metadata": {},
   "outputs": [
    {
     "name": "stdout",
     "output_type": "stream",
     "text": [
      "beta parameters: ['θ', 'φ']\n",
      "\n",
      "beta.subs({θ: φ+0.2, φ: θ-0.1}): 3*(0.2 + φ) + (-2)*(-0.1 + θ)\n",
      "remaining params: ['θ', 'φ']\n",
      "\n",
      "after bind mapping {θ: 0.4, φ: 0.1} -> 0.30000000000000004\n",
      "numeric via float(...): 0.30000000000000004\n"
     ]
    }
   ],
   "source": [
    "\n",
    "# β = 3*θ - 2*φ\n",
    "theta, phi = Parameter(\"θ\"), Parameter(\"φ\")\n",
    "beta = 3*theta - 2*phi\n",
    "print(\"beta parameters:\", sorted(p.name for p in beta.parameters))\n",
    "\n",
    "# Map θ -> (φ + 0.2), φ -> (θ - 0.1). This swaps symbols with offset, still symbolic.\n",
    "beta_swapped = beta.subs({theta: phi + 0.2, phi: theta - 0.1})\n",
    "print(\"\\nbeta.subs({θ: φ+0.2, φ: θ-0.1}):\", beta_swapped)\n",
    "print(\"remaining params:\", sorted(p.name for p in beta_swapped.parameters))\n",
    "\n",
    "# Now fully bind via .bind on the resulting expression\n",
    "beta_bound = beta_swapped.bind({theta: 0.4, phi: 0.1})\n",
    "print(\"\\nafter bind mapping {θ: 0.4, φ: 0.1} ->\", beta_bound)\n",
    "try:\n",
    "    print(\"numeric via float(...):\", float(beta_bound))\n",
    "except Exception as e:\n",
    "    print(\"could not cast to float:\", e)\n"
   ]
  },
  {
   "cell_type": "markdown",
   "id": "f3093158-d782-4be1-b6cf-1a8a82b6c01d",
   "metadata": {},
   "source": [
    "\n",
    "### Example 3 — Use assigned/substituted expressions inside a circuit  "
   ]
  },
  {
   "cell_type": "code",
   "execution_count": 14,
   "id": "225f6bb7-d89b-4ec3-85a0-c6d0173cbb37",
   "metadata": {},
   "outputs": [],
   "source": [
    "\n",
    "from qiskit import QuantumCircuit, transpile\n",
    "from qiskit_ibm_runtime.fake_provider import FakeSherbrooke\n",
    "from qiskit_ibm_runtime import SamplerV2\n",
    "\n",
    "backend = FakeSherbrooke()\n",
    "\n",
    "θ, φ = Parameter(\"θ\"), Parameter(\"φ\")\n",
    "expr = 2*θ + φ\n",
    "expr = expr.assign(θ, φ/2)        # 2*(φ/2) + φ = 2*φ\n",
    "expr = expr.subs({φ: θ + 0.1})    # 2*(θ+0.1) = 2θ + 0.2\n",
    "\n",
    "qc = QuantumCircuit(1)\n",
    "qc.ry(expr, 0)\n",
    "qc.measure_all()\n",
    "\n",
    "# Bind θ and run\n",
    "bqc = qc.assign_parameters({θ: 0.3})\n",
    "tqc = transpile(bqc, backend)\n",
    "res = SamplerV2(mode=backend).run([tqc], shots=256).result()"
   ]
  },
  {
   "cell_type": "markdown",
   "id": "a04edd7b",
   "metadata": {},
   "source": [
    "\n",
    "## 3.2.7 Basic Multiple Choice Questions  \n",
    "\n",
    "**Q1.** Which call creates `θ[0]`, `θ[1]`, `θ[2]`?  \n",
    "A. `[Parameter('θ')]*3`  \n",
    "B. `ParameterVector('θ', 3)`  \n",
    "C. `Parameter('θ', 3)`  \n",
    "D. `ParameterVector(3, 'θ')`  \n",
    "\n",
    "**Q2.** What does `inplace=True` do for `assign_parameters`?  \n",
    "A. Returns a new circuit.  \n",
    "B. Modifies the circuit and typically returns `None`.  \n",
    "C. Throws unless all parameters are bound.  \n",
    "D. Has no effect.  \n",
    "\n",
    "**Q3.** Which mapping binds all entries of a vector at once?  \n",
    "A. `{θ: [0.1, 0.2, 0.3]}` where `θ = ParameterVector('θ', 3)`  \n",
    "B. `{θ[0]: [0.1, 0.2, 0.3]}`  \n",
    "C. `{θ: 0.1}`  \n",
    "D. `[0.1, 0.2, 0.3, 0.4]`  \n",
    "\n",
    "<details>  \n",
    "<summary><b>Answer Key</b></summary>  \n",
    "\n",
    "Q1: B  \n",
    "Q2: B  \n",
    "Q3: A  \n",
    "\n",
    "</details>  "
   ]
  },
  {
   "cell_type": "markdown",
   "id": "c54255fc-10e2-43d9-96b1-c481671ddbf1",
   "metadata": {},
   "source": [
    "## 3.2.8 Advanced Multiple Choice Questions\n",
    "\n",
    "**Q1.** Given the code snippet below, what is the most likely output?\n",
    "```python\n",
    "from qiskit.circuit import QuantumCircuit, Parameter, ParameterVector\n",
    "\n",
    "th  = ParameterVector('th', 3)    # th[0], th[1], th[2]\n",
    "phi = Parameter('phi')\n",
    "\n",
    "qc = QuantumCircuit(1)\n",
    "qc.rx(th[2], 0)\n",
    "qc.rz(phi, 0)\n",
    "qc.ry(th[0], 0)\n",
    "\n",
    "vals = [0.1, 0.2, 0.3]\n",
    "bound = qc.assign_parameters(vals)\n",
    "print([op.operation.params[0] for op in bound.data])  # gate parameters in gate order\n",
    "```\n",
    "A. [0.3, 0.1, 0.2]\n",
    "\n",
    "B. [0.1, 0.2, 0.3]\n",
    "\n",
    "C. [0.2, 0.3, 0.1]\n",
    "\n",
    "D. Raises an exception because vals is not a dict\n",
    "\n",
    "**Q3**. Which statement about `assign_parameters` is correct?\n",
    "\n",
    "A. When passed a list/array, values are bound in the order gates  \n",
    "were added to the circuit.  \n",
    "\n",
    "B. With `inplace=True`, the circuit is modified and   \n",
    "the method typically returns None.  \n",
    "\n",
    "C. A mapping with a `ParameterVector` key cannot be   \n",
    "used unless the vector appears in every gate.  \n",
    "\n",
    "D. Using `flat_input=True` allows string keys like  \n",
    "'theta' or 'theta[0]' in the mapping."
   ]
  },
  {
   "cell_type": "markdown",
   "id": "772672ad-256c-4c57-8c47-c69198dd163a",
   "metadata": {},
   "source": [
    "<details>\n",
    "<summary><b>Answer Key with Brief Explanations</b></summary>\n",
    "\n",
    "**Q1: A**\n",
    "\n",
    "* **Why A:** Lists bind by parameter order (not gate order); mapping is `phi→0.1`, `th[0]→0.2`, `th[2]→0.3`, so gate-order print is `[0.3, 0.1, 0.2]`.\n",
    "* **Not B/C:** Assume binding follows gate order or wrong mapping.\n",
    "* **Not D:** Lists are valid for `assign_parameters`.\n",
    "\n",
    "**Q2: A**\n",
    "\n",
    "* **Why A:** `expr.parameters` contains `x`, `t[0]`, `t[1]`; sorting their names yields that list.\n",
    "* **Not B:** Vectors contribute elements, not a single `'t'`.\n",
    "* **Not C/D:** Parameters are present; not just `x` and not empty.\n",
    "\n",
    "**Q3: B**\n",
    "\n",
    "* **Why B:** `inplace=True` mutates the circuit and usually returns `None`.  Modifies the circuit inplace.\n",
    "* **Not A:** List binding uses parameter order, not gate order.\n",
    "* **Not C:** You can bind a whole vector with one mapping entry.\n",
    "* **Not D:** `flat_input=True` requires `Parameter` keys, not strings.\n",
    "\n",
    "</details>\n",
    "\n",
    "\n",
    "</details> "
   ]
  },
  {
   "cell_type": "code",
   "execution_count": null,
   "id": "f64886fe-7784-4754-9488-82a135ddeaa2",
   "metadata": {},
   "outputs": [],
   "source": []
  }
 ],
 "metadata": {
  "kernelspec": {
   "display_name": "Python (qiskit2x)",
   "language": "python",
   "name": "qiskit2x"
  },
  "language_info": {
   "codemirror_mode": {
    "name": "ipython",
    "version": 3
   },
   "file_extension": ".py",
   "mimetype": "text/x-python",
   "name": "python",
   "nbconvert_exporter": "python",
   "pygments_lexer": "ipython3",
   "version": "3.12.9"
  }
 },
 "nbformat": 4,
 "nbformat_minor": 5
}
