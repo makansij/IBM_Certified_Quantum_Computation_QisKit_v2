{
 "cells": [
  {
   "cell_type": "markdown",
   "id": "59057c6b",
   "metadata": {},
   "source": [
    "# Module 3.2 Add-on: `circuit.parameters` shows only unassigned symbols  "
   ]
  },
  {
   "cell_type": "code",
   "execution_count": 25,
   "id": "94cb19d5",
   "metadata": {},
   "outputs": [
    {
     "name": "stdout",
     "output_type": "stream",
     "text": [
      "Python: 3.12.9\n",
      "Qiskit: 2.2.0\n",
      "qiskit-ibm-runtime: 0.41.1\n"
     ]
    }
   ],
   "source": [
    "\n",
    "# Metadata\n",
    "import sys, platform\n",
    "from importlib.metadata import version, PackageNotFoundError\n",
    "def safe_ver(pkg):\n",
    "    try:\n",
    "        return version(pkg)\n",
    "    except PackageNotFoundError:\n",
    "        return \"not installed\"\n",
    "print(\"Python:\", sys.version.split()[0])\n",
    "print(\"Qiskit:\", safe_ver(\"qiskit\"))\n",
    "print(\"qiskit-ibm-runtime:\", safe_ver(\"qiskit-ibm-runtime\"))\n"
   ]
  },
  {
   "cell_type": "code",
   "execution_count": 26,
   "id": "19b76fa3",
   "metadata": {},
   "outputs": [],
   "source": [
    "\n",
    "# Imports (Qiskit 2.x APIs)\n",
    "from math import pi\n",
    "from qiskit import QuantumCircuit, transpile\n",
    "from qiskit.circuit import Parameter, ParameterVector\n",
    "from qiskit.quantum_info import SparsePauliOp\n",
    "from qiskit.transpiler.preset_passmanagers import generate_preset_pass_manager\n",
    "from qiskit_ibm_runtime import SamplerV2, EstimatorV2\n",
    "from qiskit_ibm_runtime.fake_provider import FakeSherbrooke\n",
    "\n",
    "backend = FakeSherbrooke()\n"
   ]
  },
  {
   "cell_type": "markdown",
   "id": "c1c4a741-4d76-483c-aed2-702a9404763c",
   "metadata": {},
   "source": [
    "\n",
    "## Conceptual Overview  \n",
    "\n",
    "`Parameter` is a scalar symbol; `ParameterVector` is an ordered collection of  \n",
    "symbols. `assign_parameters` binds symbolic parameters to numeric values (or to  \n",
    "other symbols). It accepts dictionaries (including vector-as-key), or a sequence  \n",
    "aligned to the circuit's parameter order. The `inplace` flag chooses whether to  \n",
    "modify the circuit or return a new one.  \n",
    "\n",
    "Always compile the bound circuit for the target backend (here a fake backend)  \n",
    "before running `SamplerV2`/`EstimatorV2`.  "
   ]
  },
  {
   "cell_type": "markdown",
   "id": "e54966fd-9c2f-4010-9e4c-cf87cfef108a",
   "metadata": {},
   "source": [
    "\n",
    "### 3.2.0  Create and bind a single `Parameter`  \n",
    "\n",
    "**Docs:**  \n",
    "- Parameter:  \n",
    "https://quantum.cloud.ibm.com/docs/en/api/qiskit/qiskit.circuit.Parameter  "
   ]
  },
  {
   "cell_type": "markdown",
   "id": "76f03378-6b02-4467-b189-cf2009cf282e",
   "metadata": {},
   "source": [
    "Notice parameters may be used more than once, and not all parameters need to be used"
   ]
  },
  {
   "cell_type": "code",
   "execution_count": 27,
   "id": "e8b572b5-9fea-41a3-a5f9-69100c614402",
   "metadata": {},
   "outputs": [
    {
     "data": {
      "text/html": [
       "<pre style=\"word-wrap: normal;white-space: pre;background: #fff0;line-height: 1.1;font-family: &quot;Courier New&quot;,Courier,monospace\">        ┌───────┐┌─────────┐ ░ ┌─┐\n",
       "     q: ┤ Rx(φ) ├┤ Ry(φ/2) ├─░─┤M├\n",
       "        └───────┘└─────────┘ ░ └╥┘\n",
       "meas: 1/════════════════════════╩═\n",
       "                                0 </pre>"
      ],
      "text/plain": [
       "        ┌───────┐┌─────────┐ ░ ┌─┐\n",
       "     q: ┤ Rx(φ) ├┤ Ry(φ/2) ├─░─┤M├\n",
       "        └───────┘└─────────┘ ░ └╥┘\n",
       "meas: 1/════════════════════════╩═\n",
       "                                0 "
      ]
     },
     "execution_count": 27,
     "metadata": {},
     "output_type": "execute_result"
    }
   ],
   "source": [
    "from qiskit.circuit import Parameter\n",
    "from math import pi\n",
    "phi = Parameter(\"φ\")\n",
    "g = Parameter(\"g\")\n",
    "qc = QuantumCircuit(1)\n",
    "qc.rx(phi, 0)\n",
    "qc.ry(phi/2, 0)\n",
    "qc.measure_all()\n",
    "qc.draw()"
   ]
  },
  {
   "cell_type": "markdown",
   "id": "41780b7c-d98c-427e-8513-26ff06ab5707",
   "metadata": {},
   "source": [
    "\n",
    "### 3.2.1  Build structured families with `ParameterVector`  \n",
    "\n",
    "**Docs:**  \n",
    "- ParameterVector:  \n",
    "  https://quantum.cloud.ibm.com/docs/en/api/qiskit/qiskit.circuit.ParameterVector\n",
    "- ParameterVector can be used to assign vectors of values as parameters.  It's a more convenient way to manage many parameters at once."
   ]
  },
  {
   "cell_type": "code",
   "execution_count": 29,
   "id": "0713e254-ccb1-45b9-a728-ec196f6e6245",
   "metadata": {},
   "outputs": [
    {
     "name": "stdout",
     "output_type": "stream",
     "text": [
      "{'0': 507, '1': 5}\n"
     ]
    }
   ],
   "source": [
    "\n",
    "vec = ParameterVector(\"θ\", 2)a\n",
    "qc = QuantumCircuit(1)\n",
    "qc.ry(vec[0], 0)\n",
    "qc.rz(vec[1], 0)\n",
    "qc.measure_all()\n",
    "\n",
    "assign_map = {vec[0]: 0.2, vec[1]: 0.1}\n",
    "bqc = qc.assign_parameters(assign_map)\n",
    "tqc = transpile(bqc, backend)\n",
    "sampler = SamplerV2(mode=backend)\n",
    "job = sampler.run([tqc], shots=512)\n",
    "results = job.result()\n",
    "print(results[0].data.meas.get_counts())\n"
   ]
  },
  {
   "cell_type": "markdown",
   "id": "dbec9e78",
   "metadata": {},
   "source": [
    "\n",
    "## 3.2.3 Assigning Parameters\n",
    "\n",
    "- We create a circuit using only a subset of symbols from a `ParameterVector`.  \n",
    "`circuit.parameters` lists the **unassigned** symbols still present. After  \n",
    "`assign_parameters(..., inplace=True)`, the set becomes empty if all used  \n",
    "symbols were bound.\n",
    "- We will also show that you cannot assign parameters that are not used in the circuit.\n",
    "- There are three ways to assign parameters via `assign_parameters` method:\n",
    "1)  `assign_parameters` with a dictionary (scalar keys)\n",
    "2)  `assign_parameters` using a `ParameterVector` as the key\n",
    "3)  `assign_parameters` with a positional sequence  (same order as they were created)"
   ]
  },
  {
   "cell_type": "markdown",
   "id": "a77c31ad-40bc-4648-bfcb-6783f8ebd7df",
   "metadata": {},
   "source": [
    "\n",
    "### 3.2.3.1  `assign_parameters` with a dictionary (scalar keys)  \n",
    "\n",
    "Map each `Parameter` to a numeric value. This is explicit and common.  "
   ]
  },
  {
   "cell_type": "code",
   "execution_count": 31,
   "id": "9c3830e8-a8f1-4f0d-8821-f4d299e81988",
   "metadata": {},
   "outputs": [
    {
     "name": "stdout",
     "output_type": "stream",
     "text": [
      "params now: []\n"
     ]
    }
   ],
   "source": [
    "\n",
    "θ, ϕ = Parameter(\"θ\"), Parameter(\"φ\")\n",
    "qc = QuantumCircuit(1)\n",
    "qc.rx(θ, 0)\n",
    "qc.rz(ϕ, 0)\n",
    "qc.measure_all()\n",
    "\n",
    "mapped = qc.assign_parameters({θ: 0.3, ϕ: 0.15})\n",
    "print(\"params now:\", sorted(p.name for p in mapped.parameters))\n",
    "\n"
   ]
  },
  {
   "cell_type": "markdown",
   "id": "39353469-e7db-4e7f-9421-454322015f0b",
   "metadata": {},
   "source": [
    "\n",
    "### 3.2.3.2  `assign_parameters` using a `ParameterVector` as the key  "
   ]
  },
  {
   "cell_type": "code",
   "execution_count": 32,
   "id": "82c8f2c5-ce91-407d-97cb-dc4a0b162b55",
   "metadata": {},
   "outputs": [
    {
     "name": "stdout",
     "output_type": "stream",
     "text": [
      "Remaining unbound params: []\n"
     ]
    }
   ],
   "source": [
    "\n",
    "thetas = ParameterVector(\"θ\", 3)\n",
    "qc = QuantumCircuit(1)\n",
    "qc.rx(thetas[0], 0)\n",
    "qc.ry(thetas[1], 0)\n",
    "qc.rz(thetas[2], 0)\n",
    "qc.measure_all()\n",
    "\n",
    "mapped = qc.assign_parameters({thetas: [0.1, 0.2, 0.3]})\n",
    "print(\"Remaining unbound params:\", sorted(p.name for p in mapped.parameters))"
   ]
  },
  {
   "cell_type": "markdown",
   "id": "d71ffc9f-6ba9-4587-b8c9-7a11e0732590",
   "metadata": {},
   "source": [
    "\n",
    "### 3.2.3.3  `assign_parameters` with a positional sequence  "
   ]
  },
  {
   "cell_type": "code",
   "execution_count": 34,
   "id": "df95b446-5b36-4bab-baf5-bb6e32868f69",
   "metadata": {},
   "outputs": [
    {
     "name": "stdout",
     "output_type": "stream",
     "text": [
      "Parameter order: ['a', 'b']\n",
      "After assign: []\n"
     ]
    }
   ],
   "source": [
    "\n",
    "a, b = Parameter(\"a\"), Parameter(\"b\")\n",
    "qc = QuantumCircuit(1)\n",
    "qc.ry(a, 0)\n",
    "qc.rz(b, 0)\n",
    "qc.measure_all()\n",
    "\n",
    "print(\"Parameter order:\", [p.name for p in qc.parameters])\n",
    "mapped = qc.assign_parameters([0.25, 0.5])  # a -> 0.25, b -> 0.5\n",
    "print(\"After assign:\", sorted(p.name for p in mapped.parameters))"
   ]
  },
  {
   "cell_type": "markdown",
   "id": "c7064c76-72a9-4831-9c9b-1a325ba8bc9e",
   "metadata": {},
   "source": [
    "## 3.2.4  `inplace` argument: return-new vs modify-in-place  \n",
    "\n",
    "`inplace` keyword may be used to return a copy of the circuit  \n",
    "if set to `False`.  If set to `True`, then nothing is returned   \n",
    "and the circuit is overwritten (modified in place)."
   ]
  },
  {
   "cell_type": "code",
   "execution_count": 6,
   "id": "30109c2a",
   "metadata": {},
   "outputs": [
    {
     "name": "stdout",
     "output_type": "stream",
     "text": [
      "Before assignment, cir.parameters should show theta[0] and theta[1]:\n",
      "['theta[0]', 'theta[1]']\n",
      "\n",
      "After in-place assignment, cir.parameters should be empty:\n",
      "[]\n"
     ]
    }
   ],
   "source": [
    "\n",
    "theta = ParameterVector('theta', 3)  # theta[0], theta[1], theta[2]\n",
    "phi = ParameterVector('phi', 2)      # not used here\n",
    "\n",
    "cir = QuantumCircuit(2, 2)\n",
    "cir.h(0)\n",
    "cir.rx(theta[0], 0)   # uses theta[0]\n",
    "cir.ry(theta[1], 1)   # uses theta[1]\n",
    "\n",
    "print(\"Before assignment, cir.parameters should show theta[0] and theta[1]:\")\n",
    "print(sorted(p.name for p in cir.parameters))\n",
    "\n",
    "# ---- Uncomment to show error ----\n",
    "# Try to assign all entries of 'theta' using vector-as-key mapping \n",
    "# cir.assign_parameters({theta: [0.1, 0.1, 0.1]}, inplace=True)  \n",
    "\n",
    "cir.assign_parameters({theta[0]: 0.1, theta[1]:0.1}, inplace=True)  \n",
    "\n",
    "print(\"\\nAfter in-place assignment, cir.parameters should be empty:\")\n",
    "print(sorted(p.name for p in cir.parameters))\n"
   ]
  },
  {
   "cell_type": "markdown",
   "id": "f8ee417f-0b84-4b89-b7b3-3924c5f3098a",
   "metadata": {},
   "source": [
    "Notice that even though we did not use `theta[2]` it doesn't appear when we print   \n",
    "`cir.parameters` because only parameters that are used in the circuit are printed."
   ]
  },
  {
   "cell_type": "markdown",
   "id": "9943298f-8d0a-4861-9409-1e2b04b388ed",
   "metadata": {},
   "source": [
    "### **Common pitfalls**\n",
    "\n",
    "- The `ParameterVector` constructor takes as input in this order:\n",
    "  `ParameterVector(<name>, <size>)`.\n",
    "- This is in contrast to `QuantumRegister` which takes as input:\n",
    "  `QuantumRegister(<size>, <name)`.\n"
   ]
  },
  {
   "cell_type": "markdown",
   "id": "a04edd7b",
   "metadata": {},
   "source": [
    "\n",
    "## 3.2.5 Multiple Choice Questions  \n",
    "\n",
    "**Q1.** Which call creates `θ[0]`, `θ[1]`, `θ[2]`?  \n",
    "A. `[Parameter('θ')]*3`  \n",
    "B. `ParameterVector('θ', 3)`  \n",
    "C. `Parameter('θ', 3)`  \n",
    "D. `ParameterVector(3, 'θ')`  \n",
    "\n",
    "**Q2.** What does `inplace=True` do for `assign_parameters`?  \n",
    "A. Returns a new circuit.  \n",
    "B. Modifies the circuit and typically returns `None`.  \n",
    "C. Throws unless all parameters are bound.  \n",
    "D. Has no effect.  \n",
    "\n",
    "**Q3.** Which mapping binds all entries of a vector at once?  \n",
    "A. `{θ: [0.1, 0.2, 0.3]}` where `θ = ParameterVector('θ', 3)`  \n",
    "B. `{θ[0]: [0.1, 0.2, 0.3]}`  \n",
    "C. `{θ: 0.1}`  \n",
    "D. `[0.1, 0.2, 0.3, 0.4]`  \n",
    "\n",
    "<details>  \n",
    "<summary><b>Answer Key</b></summary>  \n",
    "\n",
    "Q1: B  \n",
    "Q2: B  \n",
    "Q3: A  \n",
    "\n",
    "</details>  "
   ]
  },
  {
   "cell_type": "code",
   "execution_count": null,
   "id": "a3f062c1-433f-4f5c-9a80-d83ff85f9aa0",
   "metadata": {},
   "outputs": [],
   "source": []
  }
 ],
 "metadata": {
  "kernelspec": {
   "display_name": "Python (qiskit2x)",
   "language": "python",
   "name": "qiskit2x"
  },
  "language_info": {
   "codemirror_mode": {
    "name": "ipython",
    "version": 3
   },
   "file_extension": ".py",
   "mimetype": "text/x-python",
   "name": "python",
   "nbconvert_exporter": "python",
   "pygments_lexer": "ipython3",
   "version": "3.12.9"
  }
 },
 "nbformat": 4,
 "nbformat_minor": 5
}
