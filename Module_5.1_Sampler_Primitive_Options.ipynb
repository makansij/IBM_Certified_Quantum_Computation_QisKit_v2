{
 "cells": [
  {
   "cell_type": "markdown",
   "id": "470c0dc9",
   "metadata": {},
   "source": [
    "<div style=\"background:#0f62fe;color:#fff;padding:14px 16px;border-radius:8px;margin:8px 0;font-weight:700;\">\n",
    "Module 5.1 — Sampler Primitive Options\n",
    "</div>"
   ]
  },
  {
   "cell_type": "markdown",
   "id": "fc48f2dc",
   "metadata": {},
   "source": [
    "**Learning Objectives**\n",
    "\n",
    "- Identify what `SamplerV2` returns and where options are set.\n",
    "- Set default options on `sampler.options` and override per `run()`.\n",
    "- Control **shots** and read the result object.\n",
    "- Configure **Dynamical Decoupling (DD)** and **Pauli Twirling** (backend-dependent).\n",
    "- Validate settings and understand simulator vs. hardware behavior."
   ]
  },
  {
   "cell_type": "markdown",
   "id": "541009e7",
   "metadata": {},
   "source": [
    "\n",
    "\n",
    "---\n",
    "\n"
   ]
  },
  {
   "cell_type": "markdown",
   "id": "d2f5d067",
   "metadata": {},
   "source": [
    "<div style=\"background:#001d6c;color:#fff;padding:10px 12px;border-radius:6px;margin:8px 0;font-weight:600;\">\n",
    "5.1.1 — Sampler overview & where options live\n",
    "</div>"
   ]
  },
  {
   "cell_type": "markdown",
   "id": "eed4171b",
   "metadata": {},
   "source": [
    "**Overview**  \n",
    "- `SamplerV2` returns **shot-based bitstring distributions** (probabilities/counts + metadata).\n",
    "- **Defaults** live on `sampler.options`; per-execution overrides go in `run(...)`.\n",
    "**Tip:** Construct → set defaults → `run()` with PUBs → inspect `.result()`."
   ]
  },
  {
   "cell_type": "markdown",
   "id": "ba42226b",
   "metadata": {},
   "source": [
    "**Example Code: Basics**"
   ]
  },
  {
   "cell_type": "code",
   "execution_count": 1,
   "id": "33c4ed7c",
   "metadata": {},
   "outputs": [
    {
     "ename": "ValueError",
     "evalue": "A backend or session must be specified.",
     "output_type": "error",
     "traceback": [
      "\u001b[31m---------------------------------------------------------------------------\u001b[39m",
      "\u001b[31mValueError\u001b[39m                                Traceback (most recent call last)",
      "\u001b[36mCell\u001b[39m\u001b[36m \u001b[39m\u001b[32mIn[1]\u001b[39m\u001b[32m, line 8\u001b[39m\n\u001b[32m      5\u001b[39m qc = QuantumCircuit(\u001b[32m2\u001b[39m)\n\u001b[32m      6\u001b[39m qc.h(\u001b[32m0\u001b[39m); qc.cx(\u001b[32m0\u001b[39m,\u001b[32m1\u001b[39m); qc.measure_all()\n\u001b[32m----> \u001b[39m\u001b[32m8\u001b[39m sampler = \u001b[43mSamplerV2\u001b[49m\u001b[43m(\u001b[49m\u001b[43m)\u001b[49m\n\u001b[32m      9\u001b[39m \u001b[38;5;28mprint\u001b[39m(\u001b[33m'\u001b[39m\u001b[33mDefault options (truncated):\u001b[39m\u001b[33m'\u001b[39m, sampler.options)\n\u001b[32m     11\u001b[39m pubs = [qc]\n",
      "\u001b[36mFile \u001b[39m\u001b[32m/opt/homebrew/anaconda3/envs/qiskit2x/lib/python3.12/site-packages/qiskit_ibm_runtime/sampler.py:87\u001b[39m, in \u001b[36mSamplerV2.__init__\u001b[39m\u001b[34m(self, mode, options)\u001b[39m\n\u001b[32m     84\u001b[39m BaseSamplerV2.\u001b[34m__init__\u001b[39m(\u001b[38;5;28mself\u001b[39m)\n\u001b[32m     85\u001b[39m Sampler.\u001b[34m__init__\u001b[39m(\u001b[38;5;28mself\u001b[39m)\n\u001b[32m---> \u001b[39m\u001b[32m87\u001b[39m \u001b[43mBasePrimitiveV2\u001b[49m\u001b[43m.\u001b[49m\u001b[34;43m__init__\u001b[39;49m\u001b[43m(\u001b[49m\u001b[38;5;28;43mself\u001b[39;49m\u001b[43m,\u001b[49m\u001b[43m \u001b[49m\u001b[43mmode\u001b[49m\u001b[43m=\u001b[49m\u001b[43mmode\u001b[49m\u001b[43m,\u001b[49m\u001b[43m \u001b[49m\u001b[43moptions\u001b[49m\u001b[43m=\u001b[49m\u001b[43moptions\u001b[49m\u001b[43m)\u001b[49m\n",
      "\u001b[36mFile \u001b[39m\u001b[32m/opt/homebrew/anaconda3/envs/qiskit2x/lib/python3.12/site-packages/qiskit_ibm_runtime/base_primitive.py:124\u001b[39m, in \u001b[36mBasePrimitiveV2.__init__\u001b[39m\u001b[34m(self, mode, options)\u001b[39m\n\u001b[32m    103\u001b[39m \u001b[38;5;28;01mdef\u001b[39;00m\u001b[38;5;250m \u001b[39m\u001b[34m__init__\u001b[39m(\n\u001b[32m    104\u001b[39m     \u001b[38;5;28mself\u001b[39m,\n\u001b[32m    105\u001b[39m     mode: Optional[Union[BackendV2, Session, Batch, \u001b[38;5;28mstr\u001b[39m]] = \u001b[38;5;28;01mNone\u001b[39;00m,\n\u001b[32m    106\u001b[39m     options: Optional[Union[Dict, OptionsT]] = \u001b[38;5;28;01mNone\u001b[39;00m,\n\u001b[32m    107\u001b[39m ):\n\u001b[32m    108\u001b[39m \u001b[38;5;250m    \u001b[39m\u001b[33;03m\"\"\"Initializes the primitive.\u001b[39;00m\n\u001b[32m    109\u001b[39m \n\u001b[32m    110\u001b[39m \u001b[33;03m    Args:\u001b[39;00m\n\u001b[32m   (...)\u001b[39m\u001b[32m    122\u001b[39m \u001b[33;03m        ValueError: Invalid arguments are given.\u001b[39;00m\n\u001b[32m    123\u001b[39m \u001b[33;03m    \"\"\"\u001b[39;00m\n\u001b[32m--> \u001b[39m\u001b[32m124\u001b[39m     \u001b[38;5;28mself\u001b[39m._mode, \u001b[38;5;28mself\u001b[39m._service, \u001b[38;5;28mself\u001b[39m._backend = \u001b[43m_get_mode_service_backend\u001b[49m\u001b[43m(\u001b[49m\u001b[43mmode\u001b[49m\u001b[43m)\u001b[49m\n\u001b[32m    125\u001b[39m     \u001b[38;5;28mself\u001b[39m._set_options(options)\n",
      "\u001b[36mFile \u001b[39m\u001b[32m/opt/homebrew/anaconda3/envs/qiskit2x/lib/python3.12/site-packages/qiskit_ibm_runtime/base_primitive.py:94\u001b[39m, in \u001b[36m_get_mode_service_backend\u001b[39m\u001b[34m(mode)\u001b[39m\n\u001b[32m     92\u001b[39m     \u001b[38;5;28;01mreturn\u001b[39;00m mode, service, backend\n\u001b[32m     93\u001b[39m \u001b[38;5;28;01melse\u001b[39;00m:\n\u001b[32m---> \u001b[39m\u001b[32m94\u001b[39m     \u001b[38;5;28;01mraise\u001b[39;00m \u001b[38;5;167;01mValueError\u001b[39;00m(\u001b[33m\"\u001b[39m\u001b[33mA backend or session must be specified.\u001b[39m\u001b[33m\"\u001b[39m)\n",
      "\u001b[31mValueError\u001b[39m: A backend or session must be specified."
     ]
    }
   ],
   "source": [
    "# Explanation: minimal pattern (requires qiskit & qiskit-ibm-runtime)\n",
    "from qiskit import QuantumCircuit\n",
    "from qiskit_ibm_runtime import SamplerV2\n",
    "\n",
    "qc = QuantumCircuit(2)\n",
    "qc.h(0); qc.cx(0,1); qc.measure_all()\n",
    "\n",
    "sampler = SamplerV2()\n",
    "print('Default options (truncated):', sampler.options)\n",
    "\n",
    "pubs = [qc]\n",
    "job = sampler.run(pubs)\n",
    "res = job.result()\n",
    "print('Result[0] distribution-like view (API shape may vary):', res[0])"
   ]
  },
  {
   "cell_type": "markdown",
   "id": "9f715fdb",
   "metadata": {},
   "source": [
    "\n",
    "\n",
    "---\n",
    "\n"
   ]
  },
  {
   "cell_type": "markdown",
   "id": "37955f58",
   "metadata": {},
   "source": [
    "<div style=\"background:#001d6c;color:#fff;padding:10px 12px;border-radius:6px;margin:8px 0;font-weight:600;\">\n",
    "5.1.2 — Setting & overriding options (workflow)\n",
    "</div>"
   ]
  },
  {
   "cell_type": "markdown",
   "id": "dd46682e",
   "metadata": {},
   "source": [
    "**Workflow**  \n",
    "1) Choose backend/session  →  2) `SamplerV2()`  →  3) set `sampler.options`  →  4) override selectively in `run()`."
   ]
  },
  {
   "cell_type": "markdown",
   "id": "3c6c2bb2",
   "metadata": {},
   "source": [
    "**Example Code: Defaults vs. Per‑run Override**"
   ]
  },
  {
   "cell_type": "code",
   "execution_count": null,
   "id": "c50f55c8",
   "metadata": {},
   "outputs": [],
   "source": [
    "from qiskit_ibm_runtime import SamplerV2\n",
    "sampler = SamplerV2()\n",
    "# Set defaults on the live sampler\n",
    "sampler.options.default_shots = 2048\n",
    "sampler.options.dynamical_decoupling.enable = True\n",
    "sampler.options.dynamical_decoupling.sequence_type = 'XY4'\n",
    "sampler.options.twirling.enable = True\n",
    "\n",
    "# Per-job override (temporarily disable twirling for this run)\n",
    "job = sampler.run([qc], shots=1024, options={'twirling': {'enable': False}})\n",
    "print('Job submitted with per-run override; check results to confirm.')"
   ]
  },
  {
   "cell_type": "markdown",
   "id": "37288668",
   "metadata": {},
   "source": [
    "\n",
    "\n",
    "---\n",
    "\n"
   ]
  },
  {
   "cell_type": "markdown",
   "id": "69751918",
   "metadata": {},
   "source": [
    "<div style=\"background:#001d6c;color:#fff;padding:10px 12px;border-radius:6px;margin:8px 0;font-weight:600;\">\n",
    "5.1.3 — Shots & measurement return\n",
    "</div>"
   ]
  },
  {
   "cell_type": "markdown",
   "id": "54565329",
   "metadata": {},
   "source": [
    "- Control shots globally (`sampler.options.default_shots`) or per call (`run(shots=...)`).\n",
    "- Results expose counts/probabilities keyed by bitstrings plus metadata.\n",
    "**Exam focus:** how to change shot count; how to read the result object."
   ]
  },
  {
   "cell_type": "markdown",
   "id": "be5509ae",
   "metadata": {},
   "source": [
    "**Example Code: Reading Results**"
   ]
  },
  {
   "cell_type": "code",
   "execution_count": null,
   "id": "97f99329",
   "metadata": {},
   "outputs": [],
   "source": [
    "job = sampler.run([qc], shots=4096)\n",
    "result = job.result()\n",
    "try:\n",
    "    dist0 = result[0]\n",
    "    print('Top items:', list(dist0.items())[:5])\n",
    "except Exception as e:\n",
    "    print('Result shape differs by version:', e)"
   ]
  },
  {
   "cell_type": "markdown",
   "id": "4e2acad9",
   "metadata": {},
   "source": [
    "\n",
    "\n",
    "---\n",
    "\n"
   ]
  },
  {
   "cell_type": "markdown",
   "id": "ca68e18c",
   "metadata": {},
   "source": [
    "<div style=\"background:#001d6c;color:#fff;padding:10px 12px;border-radius:6px;margin:8px 0;font-weight:600;\">\n",
    "5.1.4 — Dynamical decoupling (DD)\n",
    "</div>"
   ]
  },
  {
   "cell_type": "markdown",
   "id": "d420b285",
   "metadata": {},
   "source": [
    "**Concept**  \n",
    "DD inserts idle-time pulses to mitigate dephasing. Enable via `sampler.options.dynamical_decoupling.enable=True` and select a sequence (e.g., `XY4`). **Backend support required.**"
   ]
  },
  {
   "cell_type": "markdown",
   "id": "11783594",
   "metadata": {},
   "source": [
    "**Example Code: Enable DD**"
   ]
  },
  {
   "cell_type": "code",
   "execution_count": null,
   "id": "3e89fc63",
   "metadata": {},
   "outputs": [],
   "source": [
    "sampler.options.dynamical_decoupling.enable = True\n",
    "sampler.options.dynamical_decoupling.sequence_type = 'XY4'\n",
    "print('DD enabled with XY4 (if backend supports).')"
   ]
  },
  {
   "cell_type": "markdown",
   "id": "f068ec3c",
   "metadata": {},
   "source": [
    "\n",
    "\n",
    "---\n",
    "\n"
   ]
  },
  {
   "cell_type": "markdown",
   "id": "d8fbcac2",
   "metadata": {},
   "source": [
    "<div style=\"background:#001d6c;color:#fff;padding:10px 12px;border-radius:6px;margin:8px 0;font-weight:600;\">\n",
    "5.1.5 — Twirling\n",
    "</div>"
   ]
  },
  {
   "cell_type": "markdown",
   "id": "169805b3",
   "metadata": {},
   "source": [
    "**Concept**  \n",
    "Pauli twirling randomizes coherent errors, making them effectively stochastic and easier to mitigate. Often **combinable with DD**, depending on backend."
   ]
  },
  {
   "cell_type": "markdown",
   "id": "c62203d7",
   "metadata": {},
   "source": [
    "**Example Code: Enable Twirling**"
   ]
  },
  {
   "cell_type": "code",
   "execution_count": null,
   "id": "3b0277fe",
   "metadata": {},
   "outputs": [],
   "source": [
    "sampler.options.twirling.enable = True\n",
    "print('Twirling enabled (subject to backend support).')"
   ]
  },
  {
   "cell_type": "markdown",
   "id": "39d82b61",
   "metadata": {},
   "source": [
    "\n",
    "\n",
    "---\n",
    "\n"
   ]
  },
  {
   "cell_type": "markdown",
   "id": "f0e61929",
   "metadata": {},
   "source": [
    "<div style=\"background:#001d6c;color:#fff;padding:10px 12px;border-radius:6px;margin:8px 0;font-weight:600;\">\n",
    "5.1.6 — Backend/simulator notes & quick validation\n",
    "</div>"
   ]
  },
  {
   "cell_type": "markdown",
   "id": "f356d6ea",
   "metadata": {},
   "source": [
    "- Many options (DD, twirling) impact **hardware** runs; local ideal simulators may not reflect changes.\n",
    "- To simulate realistically, mirror target device noise/coupling.\n",
    "- **Validation idea:** run with/without DD/twirling and compare distributions."
   ]
  },
  {
   "cell_type": "markdown",
   "id": "fece047b",
   "metadata": {},
   "source": [
    "**Example Code: A/B Toggle Scaffold**"
   ]
  },
  {
   "cell_type": "code",
   "execution_count": null,
   "id": "c23005f4",
   "metadata": {},
   "outputs": [],
   "source": [
    "def run_with_options(enable_dd, enable_twirling, shots=2048):\n",
    "    sampler.options.dynamical_decoupling.enable = enable_dd\n",
    "    sampler.options.twirling.enable = enable_twirling\n",
    "    job = sampler.run([qc], shots=shots)\n",
    "    return job.result()\n",
    "# r0 = run_with_options(False, False)\n",
    "# r1 = run_with_options(True, False)\n",
    "# r2 = run_with_options(False, True)\n",
    "# r3 = run_with_options(True, True)\n",
    "print('Toggle sets prepared; uncomment to compare distributions.')"
   ]
  },
  {
   "cell_type": "markdown",
   "id": "a871eb03",
   "metadata": {},
   "source": [
    "\n",
    "\n",
    "---\n",
    "\n"
   ]
  },
  {
   "cell_type": "markdown",
   "id": "048a567b",
   "metadata": {},
   "source": [
    "<div style=\"background:#001d6c;color:#fff;padding:10px 12px;border-radius:6px;margin:8px 0;font-weight:600;\">\n",
    "5.1.7 — Sample Exam‑Style Questions\n",
    "</div>"
   ]
  },
  {
   "cell_type": "markdown",
   "id": "4d901451",
   "metadata": {},
   "source": [
    "Provide brief context before each question, as in the client template. Answers are listed after the questions.\n"
   ]
  },
  {
   "cell_type": "markdown",
   "id": "8f037551",
   "metadata": {},
   "source": [
    "\n",
    "**Q1 (5.1.1)** In which place do default sampler options live?  \n",
    "A. PUB only  \n",
    "B. `sampler.options`  \n",
    "C. Backend config  \n",
    "D. `run()` only\n",
    "\n",
    "**Q2 (5.1.1)** What does the sampler conceptually return?  \n",
    "A. Statevector  \n",
    "B. Eigenvalues  \n",
    "C. Bitstring distribution  \n",
    "D. Unitary\n",
    "\n",
    "**Q3 (5.1.2)** Correct workflow?  \n",
    "A. run() → set options → backend  \n",
    "B. backend → sampler → set defaults → run()  \n",
    "C. set defaults → sampler → run()  \n",
    "D. sampler → run() → set defaults\n",
    "\n",
    "**Q4 (5.1.2)** How to tweak behavior for one job?  \n",
    "A. Edit calibrations  \n",
    "B. Pass overrides in `run(...)`  \n",
    "C. Reinstall  \n",
    "D. Not possible\n",
    "\n",
    "**Q5 (5.1.3)** Change shots for a single job via:  \n",
    "A. `sampler.options.default_shots`  \n",
    "B. `run(shots=...)`  \n",
    "C. `sampler.options.time_limit`  \n",
    "D. PUB parameters\n",
    "\n",
    "**Q6 (5.1.3)** The result object typically exposes:  \n",
    "A. Unitary  \n",
    "B. Counts/probabilities  \n",
    "C. Bloch vectors  \n",
    "D. Cal data only\n",
    "\n",
    "**Q7 (5.1.4)** DD primarily mitigates:  \n",
    "A. Sampling variance  \n",
    "B. Idle-time dephasing  \n",
    "C. Queue wait  \n",
    "D. Transpilation time\n",
    "\n",
    "**Q8 (5.1.4)** A common DD sequence:  \n",
    "A. HZH  \n",
    "B. XY4  \n",
    "C. T-echo  \n",
    "D. SWAP3\n",
    "\n",
    "**Q9 (5.1.5)** Twirling is for:  \n",
    "A. Increase crosstalk  \n",
    "B. Randomize coherent errors  \n",
    "C. Remove readout errors  \n",
    "D. Double shots\n",
    "\n",
    "**Q10 (5.1.5)** DD and twirling can be:  \n",
    "A. Mutually exclusive  \n",
    "B. Combined (backend-dependent)  \n",
    "C. Simulator-only  \n",
    "D. Stabilizer-only\n",
    "\n",
    "**Q11 (5.1.6)** True statement:  \n",
    "A. DD/twirling always visible on ideal sim  \n",
    "B. Often require hardware support  \n",
    "C. Shots ignored on hardware  \n",
    "D. Noise cannot be mirrored\n",
    "\n",
    "**Q12 (5.1.6)** Quick validation:  \n",
    "A. Compare runs with/without DD/twirling  \n",
    "B. Check CPU temp  \n",
    "C. Change optimizer  \n",
    "D. Alter qubit frequency\n",
    "\n",
    "**Answers:** 1‑B, 2‑C, 3‑B, 4‑B, 5‑B, 6‑B, 7‑B, 8‑B, 9‑B, 10‑B, 11‑B, 12‑A\n"
   ]
  },
  {
   "cell_type": "markdown",
   "id": "d8ff31c8",
   "metadata": {},
   "source": [
    "\n",
    "\n",
    "---\n",
    "\n"
   ]
  },
  {
   "cell_type": "markdown",
   "id": "189596ae",
   "metadata": {},
   "source": [
    "**Summary**  \n",
    "Default vs per‑run options, shots & results, DD & twirling concepts, and practical validation on hardware vs. simulator."
   ]
  }
 ],
 "metadata": {
  "kernelspec": {
   "display_name": "Python (qiskit2x)",
   "language": "python",
   "name": "qiskit2x"
  },
  "language_info": {
   "codemirror_mode": {
    "name": "ipython",
    "version": 3
   },
   "file_extension": ".py",
   "mimetype": "text/x-python",
   "name": "python",
   "nbconvert_exporter": "python",
   "pygments_lexer": "ipython3",
   "version": "3.12.9"
  }
 },
 "nbformat": 4,
 "nbformat_minor": 5
}
