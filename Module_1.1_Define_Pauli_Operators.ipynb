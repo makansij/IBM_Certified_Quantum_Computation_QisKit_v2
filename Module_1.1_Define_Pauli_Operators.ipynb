{
 "cells": [
  {
   "cell_type": "code",
   "execution_count": 1,
   "id": "7325603e",
   "metadata": {},
   "outputs": [],
   "source": [
    "import numpy as np"
   ]
  },
  {
   "cell_type": "markdown",
   "id": "bee60b26",
   "metadata": {},
   "source": [
    "# Qiskit Certification Prep - Module 1.1: Define Pauli Operators"
   ]
  },
  {
   "cell_type": "markdown",
   "id": "500fa59e",
   "metadata": {},
   "source": [
    "## Section 1.1.0: Review from Module 0.1\n",
    "### Pauli Gates\n",
    "Pauli gates are the basic quantum logic gates. Their matrix representations and actions are:\n",
    "\n",
    "- **X (NOT gate)**:\n",
    "  $X = \\begin{bmatrix} 0 & 1 \\\\ 1 & 0 \\end{bmatrix}$\n",
    "  Swaps $|0⟩$ and $|1⟩$\n",
    "\n",
    "- **Y**:\n",
    "  $Y = \\begin{bmatrix} 0 & -i \\\\ i & 0 \\end{bmatrix}$\n",
    "  Applies a bit and phase flip\n",
    "\n",
    "- **Z**:\n",
    "  $Z = \\begin{bmatrix} 1 & 0 \\\\ 0 & -1 \\end{bmatrix}$\n",
    "  Flips the phase of $|1⟩$\n",
    "\n",
    "  "
   ]
  },
  {
   "cell_type": "markdown",
   "id": "d0aa486a",
   "metadata": {},
   "source": [
    "### Properties of the Hadamard Gate and Pauli Gates:\n",
    "For $\\sigma_i \\in \\{H, X, Y, Z\\}$\n",
    "- **Involutory**: $\\sigma_i^2 =I$\n",
    "- **Traceless**: $\\text{Tr} (\\sigma_i) =0$\n",
    "- **Hermitian**: $\\sigma_i = \\sigma_i^\\dagger$\n",
    "- **Unitary**: $\\sigma_i^\\dagger \\sigma_i = I$\n",
    "\n",
    "### Common Identities:\n",
    "- $X = HZH$\n",
    "- $Z = HXH$\n",
    "- $H^2 = I$\n",
    "- $X^2 = Y^2 = Z^2 = I$\n",
    "- $XYZ = iI$  → So $-iXYZ = I$\n",
    "\n",
    "### Commutation / Anticommutation:\n",
    "- $ZX = -XZ$\n",
    "- $YX = -XY$\n",
    "- $ZY = -YZ$\n",
    "\n",
    "These identities arise from the non-commutative nature of quantum gates and are fundamental to quantum algorithms and error correction."
   ]
  },
  {
   "cell_type": "markdown",
   "id": "ba3294d3-d261-41b5-bc06-fbcb0ccbf59e",
   "metadata": {},
   "source": [
    "## Section 1.1.1 Pauli class\n",
    "\n",
    "- Focus: `qiskit.quantum_info.Pauli` (tensor products of single-qubit Paulis with\n",
    "  a global phase).\n",
    "- IBM Docs: https://quantum.cloud.ibm.com/docs/en/api/qiskit/qiskit.quantum_info.Pauli\n",
    "- Methods we will cover:  \n",
    "  - `to_matrix`: unitary matrix representation.  \n",
    "  - `to_instruction`: circuit `Instruction` for `QuantumCircuit`.  \n",
    "  - `compose`: order-aware product to combine Paulis.  \n",
    "- Additional class: `qiskit.quantum_info.SparsePauliOp` for sparse linear\n",
    "  combinations of Paulis (e.g., Hamiltonians/observables).  \n",
    "- Goal: translate between strings ↔ matrices ↔ circuit instructions, compose\n",
    "  Paulis, and use `SparsePauliOp` efficiently.  \n"
   ]
  },
  {
   "cell_type": "markdown",
   "id": "4ff06fc1-bccd-4d64-88e7-17a08d753894",
   "metadata": {},
   "source": [
    "## Section 1.1.2 `Pauli.to_matrix` — quick explainer + example\n",
    "\n",
    "- What it does: `Pauli.to_matrix()` returns the dense unitary matrix\n",
    "  (NumPy `ndarray`) of a `Pauli` on $n$ qubits (shape $2^n \\times 2^n$).  \n",
    "- When to use:  \n",
    "  - To verify algebra (e.g., compare with a Kronecker product you built).  \n",
    "  - To compute overlaps/expectations with states (e.g., for small $n$).  \n",
    "- Notes: preserves the global phase encoded in the `Pauli`.  \n",
    "\n"
   ]
  },
  {
   "cell_type": "code",
   "execution_count": 2,
   "id": "a86a4045-984c-4502-a16f-3577d99a1f9b",
   "metadata": {},
   "outputs": [
    {
     "name": "stdout",
     "output_type": "stream",
     "text": [
      "Y matrix:\n",
      " [[0.+0.j 0.-1.j]\n",
      " [0.+1.j 0.+0.j]]\n",
      "Matches known Y? True\n",
      "\n",
      "XZ equals X⊗Z ? True\n",
      "\n",
      "Expectation <+|Z|+>: -2.2371143170757382e-17\n"
     ]
    }
   ],
   "source": [
    "### Minimal examples\n",
    "\n",
    "from qiskit.quantum_info import Pauli, Statevector\n",
    "import numpy as np\n",
    "\n",
    "# 1) Single-qubit example: check the matrix of 'Y'\n",
    "p_y = Pauli('Y')\n",
    "M_y = p_y.to_matrix()\n",
    "print(\"Y matrix:\\n\", M_y)\n",
    "\n",
    "# Cross-check with the known matrix\n",
    "Y_known = np.array([[0, -1j], [1j, 0]])\n",
    "print(\"Matches known Y?\", np.allclose(M_y, Y_known))\n",
    "\n",
    "# 2) Two-qubit example: 'XZ' equals X ⊗ Z\n",
    "p_xz = Pauli('XZ')\n",
    "M_xz = p_xz.to_matrix()\n",
    "X = np.array([[0, 1], [1, 0]])\n",
    "Z = np.array([[1, 0], [0, -1]])\n",
    "print(\"\\nXZ equals X⊗Z ?\", np.allclose(M_xz, np.kron(X, Z)))\n",
    "\n",
    "# 3) Use case: expectation ⟨+| Z |+⟩ = 0\n",
    "plus = Statevector.from_label('+')       # |+> = (|0> + |1>)/√2\n",
    "p_z = Pauli('Z')\n",
    "M_z = p_z.to_matrix()\n",
    "exp_plus_Z = (plus.data.conj().T @ M_z @ plus.data).real\n",
    "print(\"\\nExpectation <+|Z|+>:\", exp_plus_Z)\n",
    "\n"
   ]
  },
  {
   "cell_type": "markdown",
   "id": "b001901a-407a-49c8-984a-ec4290517eef",
   "metadata": {},
   "source": [
    "## Section 1.1.3 `Pauli.to_instruction` — quick explainer + use case\n",
    "\n",
    "- What it does: converts a `Pauli` into a circuit-level `Instruction`.  \n",
    "- Why it’s useful: lets you drop a multi-qubit Pauli directly into a\n",
    "  `QuantumCircuit`, then rely on transpilation to map it to the target backend.  \n",
    "- Returns: an `Instruction` with the correct qubit count and global phase.  \n",
    "- Typical workflow: build `Pauli` → `to_instruction()` → `QuantumCircuit.append`\n",
    "  → `transpile` for your backend.  \n"
   ]
  },
  {
   "cell_type": "markdown",
   "id": "dc3b6fc0-0bfd-4338-afc9-e804887759c1",
   "metadata": {},
   "source": [
    "The following example combines a few concepts we've seen before:\n",
    "- Qubit ordering convention in Qiskit\n",
    "- Rz(pi) is the same as the Pauli Z matrix\n",
    "- How to apply `to_instruction` and `evolve` methods in a quantum circuit"
   ]
  },
  {
   "cell_type": "code",
   "execution_count": 10,
   "id": "a5d34a6c-5e8b-481e-819d-af60e0deef3b",
   "metadata": {},
   "outputs": [
    {
     "name": "stdout",
     "output_type": "stream",
     "text": [
      "<class 'qiskit.circuit.library.generalized_gates.pauli.PauliGate'> 2 pauli\n",
      "     ┌────────────┐\n",
      "q_0: ┤0           ├\n",
      "     │  Pauli(XZ) │\n",
      "q_1: ┤1           ├\n",
      "     └────────────┘\n",
      "Same final state? True\n",
      "global phase: π/2\n",
      "          ┌───────┐\n",
      "q_0 -> 60 ┤ Rz(π) ├\n",
      "          └─┬───┬─┘\n",
      "q_1 -> 61 ──┤ X ├──\n",
      "            └───┘  \n"
     ]
    }
   ],
   "source": [
    "### Minimal example + backend mapping\n",
    "\n",
    "from qiskit.quantum_info import Pauli, Statevector\n",
    "from qiskit import QuantumCircuit, transpile\n",
    "from qiskit_ibm_runtime.fake_provider import FakeSherbrooke\n",
    "\n",
    "# 1) Build a 2-qubit Pauli and convert to an Instruction\n",
    "p = Pauli(\"XZ\")                # acts as X on q0 and Z on q1\n",
    "instr = p.to_instruction()\n",
    "print(type(instr), instr.num_qubits, instr.name)\n",
    "\n",
    "# 2) Use it in a circuit\n",
    "qc = QuantumCircuit(2, name=\"pauli_demo\")\n",
    "qc.append(instr, [0, 1])\n",
    "print(qc)\n",
    "\n",
    "# 3) Functional check: equals explicit X on q1 and Z on q0\n",
    "qc_explicit = QuantumCircuit(2)\n",
    "qc_explicit.x(1)\n",
    "qc_explicit.z(0)\n",
    "\n",
    "sv_in = Statevector.from_label(\"00\")\n",
    "sv_pauli = sv_in.evolve(qc)\n",
    "sv_explicit = sv_in.evolve(qc_explicit)\n",
    "print(\"Same final state?\", sv_pauli.equiv(sv_explicit))\n",
    "\n",
    "# 4) Transpile onto a (fake) backend to see native decomposition\n",
    "backend = FakeSherbrooke()\n",
    "t_qc = transpile(qc, backend)\n",
    "print(t_qc)\n"
   ]
  },
  {
   "cell_type": "markdown",
   "id": "d2bd19d6-c64b-44db-976a-90b4c8d760b9",
   "metadata": {},
   "source": [
    "## Section 1.1.4 `Pauli.compose` — quick explainer + use cases\n",
    "\n",
    "- What it does: algebraic product of two Paulis, returning a new `Pauli`.  \n",
    "- Order matters: by default `self.compose(other)` means `self @ other`.  \n",
    "- Use `front=True` to flip order: computes `other @ self`.  \n",
    "- Phases are tracked: products can acquire factors in `{±1, ±i}`.  \n",
    "- Supports subsets with `qargs` for multi-qubit targeting.  \n"
   ]
  },
  {
   "cell_type": "code",
   "execution_count": 11,
   "id": "f87e38df-1f59-498e-822d-e039c8b313d3",
   "metadata": {},
   "outputs": [
    {
     "name": "stdout",
     "output_type": "stream",
     "text": [
      "X ∘ Z  -> iY\n",
      "Z ∘ X  -> -iY\n",
      "X ∘ X  -> I\n"
     ]
    }
   ],
   "source": [
    "### Minimal examples (single-qubit)\n",
    "\n",
    "from qiskit.quantum_info import Pauli\n",
    "\n",
    "X, Y, Z, I = Pauli(\"X\"), Pauli(\"Y\"), Pauli(\"Z\"), Pauli(\"I\")\n",
    "\n",
    "# Default order: self @ other\n",
    "XZ = X.compose(Z)                 # equals XZ = -i Y\n",
    "ZX = Z.compose(X)                 # equals ZX = +i Y\n",
    "\n",
    "print(\"X ∘ Z  ->\", XZ)            # shows phase and label, e.g. '-iY'\n",
    "print(\"Z ∘ X  ->\", ZX)            # e.g. 'iY'\n",
    "\n",
    "# Sanity check: X ∘ X = I (no phase)\n",
    "print(\"X ∘ X  ->\", X.compose(X))  # 'I'\n"
   ]
  },
  {
   "cell_type": "markdown",
   "id": "aef0c061-9a2d-4388-a9d5-1421cac0cd7d",
   "metadata": {},
   "source": [
    "## Section 1.1.5 `qiskit.quantum_info.SparsePauliOp` — section overview + example\n",
    "\n",
    "- Reference docs:  \n",
    "  https://quantum.cloud.ibm.com/docs/en/api/qiskit/qiskit.quantum_info.SparsePauliOp  \n",
    "\n",
    "- What it is: a sparse *sum of Pauli strings* with complex coefficients.  \n",
    "  Each term is a `Pauli` label (e.g., `'ZI'`) with a coefficient `c ∈ ℂ`.  \n",
    "\n",
    "- Why it exists: compact, vectorized storage for operator algebra on many  \n",
    "  qubits (e.g., Hamiltonians and observables).  \n",
    "\n",
    "- Key differences vs `Pauli`:  \n",
    "  - `Pauli`: represents **one** Pauli string with a global phase.  \n",
    "  - `SparsePauliOp`: represents **∑ₖ cₖ Pₖ**, a *linear combination* of  \n",
    "    Pauli strings. Not necessarily unitary.  \n",
    "  - `Pauli.to_instruction()` exists (unitary); `SparsePauliOp` generally  \n",
    "    does **not** become a circuit instruction.  \n",
    "  - `SparsePauliOp` supports efficient algebra (`compose`, `simplify`,  \n",
    "    scalar multiply, addition) over many terms.  \n",
    "\n",
    "- Common constructors:  \n",
    "  - `SparsePauliOp.from_list([(label, coeff), ...])`  \n",
    "  - `SparsePauliOp(PauliList([...]), coeffs=...)`  \n",
    "\n",
    "- Typical uses:  \n",
    "  - Encode Hamiltonians (e.g., $H = Z ⊗ I + I ⊗ Z + 0.5 \\, X ⊗ X$).  \n",
    "  - Compute expectations on small states via `.to_matrix()`.  \n",
    "  - Algebraic transforms (commutation checks, grouping, simplification).  \n",
    "\n"
   ]
  },
  {
   "cell_type": "code",
   "execution_count": 7,
   "id": "a4d4da57-a8e3-4f1d-a266-cd291314d2c7",
   "metadata": {},
   "outputs": [
    {
     "name": "stdout",
     "output_type": "stream",
     "text": [
      "SparsePauliOp terms:\n",
      "SparsePauliOp(['ZI', 'IZ', 'XX'],\n",
      "              coeffs=[1. +0.j, 1. +0.j, 0.5+0.j])\n",
      "\n",
      "Dense matrix shape: (4, 4)\n",
      "⟨00|H|00⟩ = 2.0\n",
      "⟨++|H|++⟩ = 0.49999999999999994\n",
      "\n",
      "Scaled & simplified (coeffs doubled):\n",
      "SparsePauliOp(['ZI', 'IZ', 'XX'],\n",
      "              coeffs=[2.+0.j, 2.+0.j, 1.+0.j])\n"
     ]
    }
   ],
   "source": [
    "### Minimal, runnable example — Hamiltonian and expectation\n",
    "\n",
    "import numpy as np\n",
    "from qiskit.quantum_info import SparsePauliOp, Statevector\n",
    "\n",
    "# H = ZI + IZ + 0.5 XX on 2 qubits\n",
    "H = SparsePauliOp.from_list([\n",
    "    (\"ZI\", 1.0),\n",
    "    (\"IZ\", 1.0),\n",
    "    (\"XX\", 0.5),\n",
    "])\n",
    "\n",
    "print(\"SparsePauliOp terms:\")\n",
    "print(H)\n",
    "\n",
    "# Convert to a dense matrix (OK for small qubit counts)\n",
    "H_mat = H.to_matrix()\n",
    "print(\"\\nDense matrix shape:\", H_mat.shape)\n",
    "\n",
    "# Expectation on |00>\n",
    "psi = Statevector.from_label(\"00\").data   # numpy array\n",
    "exp_00 = np.vdot(psi, H_mat @ psi).real\n",
    "print(\"⟨00|H|00⟩ =\", exp_00)\n",
    "\n",
    "# Expectation on |++>\n",
    "plus2 = Statevector.from_label(\"++\").data\n",
    "exp_pp = np.vdot(plus2, H_mat @ plus2).real\n",
    "print(\"⟨++|H|++⟩ =\", exp_pp)\n",
    "\n",
    "# Algebra: scale and simplify\n",
    "H2 = (2.0 * H).simplify()\n",
    "print(\"\\nScaled & simplified (coeffs doubled):\")\n",
    "print(H2)\n",
    "\n"
   ]
  },
  {
   "cell_type": "markdown",
   "id": "5299caa9-b3ef-44b6-9792-48335793702e",
   "metadata": {},
   "source": [
    "## Section 1.1.6 Basic Multiple Choice Questions"
   ]
  },
  {
   "cell_type": "markdown",
   "id": "a2dd8e3e-5356-4201-9180-fb80e0902b86",
   "metadata": {},
   "source": [
    "## Section 1.1.7 Advanced Multiple Choice Questions"
   ]
  },
  {
   "cell_type": "code",
   "execution_count": null,
   "id": "891eaf31-e3d2-4e5a-8f8b-5922ef0cb691",
   "metadata": {},
   "outputs": [],
   "source": []
  }
 ],
 "metadata": {
  "kernelspec": {
   "display_name": "Python (qiskit2x)",
   "language": "python",
   "name": "qiskit2x"
  },
  "language_info": {
   "codemirror_mode": {
    "name": "ipython",
    "version": 3
   },
   "file_extension": ".py",
   "mimetype": "text/x-python",
   "name": "python",
   "nbconvert_exporter": "python",
   "pygments_lexer": "ipython3",
   "version": "3.12.9"
  }
 },
 "nbformat": 4,
 "nbformat_minor": 5
}
