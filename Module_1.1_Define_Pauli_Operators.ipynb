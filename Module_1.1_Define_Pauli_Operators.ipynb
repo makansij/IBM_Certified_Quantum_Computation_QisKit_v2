{
 "cells": [
  {
   "cell_type": "code",
   "execution_count": 1,
   "id": "7325603e",
   "metadata": {},
   "outputs": [],
   "source": [
    "import numpy as np"
   ]
  },
  {
   "cell_type": "markdown",
   "id": "bee60b26",
   "metadata": {},
   "source": [
    "# Qiskit Certification Prep - Module 1.1: Define Pauli Operators"
   ]
  },
  {
   "cell_type": "markdown",
   "id": "500fa59e",
   "metadata": {},
   "source": [
    "## Section 1.1.0: Review from Module 0.1\n",
    "### Pauli Gates\n",
    "Pauli gates are the basic quantum logic gates. Their matrix representations and actions are:\n",
    "\n",
    "- **X (NOT gate)**:\n",
    "  $X = \\begin{bmatrix} 0 & 1 \\\\ 1 & 0 \\end{bmatrix}$\n",
    "  Swaps $|0⟩$ and $|1⟩$\n",
    "\n",
    "- **Y**:\n",
    "  $Y = \\begin{bmatrix} 0 & -i \\\\ i & 0 \\end{bmatrix}$\n",
    "  Applies a bit and phase flip\n",
    "\n",
    "- **Z**:\n",
    "  $Z = \\begin{bmatrix} 1 & 0 \\\\ 0 & -1 \\end{bmatrix}$\n",
    "  Flips the phase of $|1⟩$\n",
    "\n",
    "  "
   ]
  },
  {
   "cell_type": "markdown",
   "id": "d0aa486a",
   "metadata": {},
   "source": [
    "### Properties of the Hadamard Gate and Pauli Gates:\n",
    "For $\\sigma_i \\in \\{H, X, Y, Z\\}$\n",
    "- **Involutory**: $\\sigma_i^2 =I$\n",
    "- **Traceless**: $\\text{Tr} (\\sigma_i) =0$\n",
    "- **Hermitian**: $\\sigma_i = \\sigma_i^\\dagger$\n",
    "- **Unitary**: $\\sigma_i^\\dagger \\sigma_i = I$\n",
    "\n",
    "### Common Identities:\n",
    "- $X = HZH$\n",
    "- $Z = HXH$\n",
    "- $H^2 = I$\n",
    "- $X^2 = Y^2 = Z^2 = I$\n",
    "- $XYZ = iI$  → So $-iXYZ = I$\n",
    "\n",
    "### Commutation / Anticommutation:\n",
    "- $ZX = -XZ$\n",
    "- $YX = -XY$\n",
    "- $ZY = -YZ$\n",
    "\n",
    "These identities arise from the non-commutative nature of quantum gates and are fundamental to quantum algorithms and error correction."
   ]
  },
  {
   "cell_type": "markdown",
   "id": "ba3294d3-d261-41b5-bc06-fbcb0ccbf59e",
   "metadata": {},
   "source": [
    "### Section 1.1.1 Pauli class\n",
    "\n",
    "- Focus: `qiskit.quantum_info.Pauli` (tensor products of single-qubit Paulis with\n",
    "  a global phase).\n",
    "- IBM Docs: https://quantum.cloud.ibm.com/docs/en/api/qiskit/qiskit.quantum_info.Pauli\n",
    "- Methods we will cover:  \n",
    "  - `to_matrix`: unitary matrix representation.  \n",
    "  - `to_instruction`: circuit `Instruction` for `QuantumCircuit`.  \n",
    "  - `compose`: order-aware product to combine Paulis.  \n",
    "- Additional class: `qiskit.quantum_info.SparsePauliOp` for sparse linear\n",
    "  combinations of Paulis (e.g., Hamiltonians/observables).  \n",
    "- Goal: translate between strings ↔ matrices ↔ circuit instructions, compose\n",
    "  Paulis, and use `SparsePauliOp` efficiently.  \n"
   ]
  },
  {
   "cell_type": "markdown",
   "id": "4ff06fc1-bccd-4d64-88e7-17a08d753894",
   "metadata": {},
   "source": [
    "## `Pauli.to_matrix` — quick explainer + example\n",
    "\n",
    "- What it does: `Pauli.to_matrix()` returns the dense unitary matrix\n",
    "  (NumPy `ndarray`) of a `Pauli` on $n$ qubits (shape $2^n \\times 2^n$).  \n",
    "- When to use:  \n",
    "  - To verify algebra (e.g., compare with a Kronecker product you built).  \n",
    "  - To compute overlaps/expectations with states (e.g., for small $n$).  \n",
    "- Notes: preserves the global phase encoded in the `Pauli`.  \n",
    "\n"
   ]
  },
  {
   "cell_type": "code",
   "execution_count": 2,
   "id": "a86a4045-984c-4502-a16f-3577d99a1f9b",
   "metadata": {},
   "outputs": [
    {
     "name": "stdout",
     "output_type": "stream",
     "text": [
      "Y matrix:\n",
      " [[0.+0.j 0.-1.j]\n",
      " [0.+1.j 0.+0.j]]\n",
      "Matches known Y? True\n",
      "\n",
      "XZ equals X⊗Z ? True\n",
      "\n",
      "Expectation <+|Z|+>: -2.2371143170757382e-17\n"
     ]
    }
   ],
   "source": [
    "### Minimal examples\n",
    "\n",
    "from qiskit.quantum_info import Pauli, Statevector\n",
    "import numpy as np\n",
    "\n",
    "# 1) Single-qubit example: check the matrix of 'Y'\n",
    "p_y = Pauli('Y')\n",
    "M_y = p_y.to_matrix()\n",
    "print(\"Y matrix:\\n\", M_y)\n",
    "\n",
    "# Cross-check with the known matrix\n",
    "Y_known = np.array([[0, -1j], [1j, 0]])\n",
    "print(\"Matches known Y?\", np.allclose(M_y, Y_known))\n",
    "\n",
    "# 2) Two-qubit example: 'XZ' equals X ⊗ Z\n",
    "p_xz = Pauli('XZ')\n",
    "M_xz = p_xz.to_matrix()\n",
    "X = np.array([[0, 1], [1, 0]])\n",
    "Z = np.array([[1, 0], [0, -1]])\n",
    "print(\"\\nXZ equals X⊗Z ?\", np.allclose(M_xz, np.kron(X, Z)))\n",
    "\n",
    "# 3) Use case: expectation ⟨+| Z |+⟩ = 0\n",
    "plus = Statevector.from_label('+')       # |+> = (|0> + |1>)/√2\n",
    "p_z = Pauli('Z')\n",
    "M_z = p_z.to_matrix()\n",
    "exp_plus_Z = (plus.data.conj().T @ M_z @ plus.data).real\n",
    "print(\"\\nExpectation <+|Z|+>:\", exp_plus_Z)\n",
    "\n"
   ]
  },
  {
   "cell_type": "code",
   "execution_count": null,
   "id": "6a9e152c-8407-4a20-8deb-34f4fc327ac2",
   "metadata": {},
   "outputs": [],
   "source": []
  }
 ],
 "metadata": {
  "kernelspec": {
   "display_name": "Python (qiskit2x)",
   "language": "python",
   "name": "qiskit2x"
  },
  "language_info": {
   "codemirror_mode": {
    "name": "ipython",
    "version": 3
   },
   "file_extension": ".py",
   "mimetype": "text/x-python",
   "name": "python",
   "nbconvert_exporter": "python",
   "pygments_lexer": "ipython3",
   "version": "3.12.9"
  }
 },
 "nbformat": 4,
 "nbformat_minor": 5
}
