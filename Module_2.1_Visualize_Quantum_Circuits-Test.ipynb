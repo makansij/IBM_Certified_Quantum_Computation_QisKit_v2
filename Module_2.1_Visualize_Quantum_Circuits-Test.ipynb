{
 "cells": [
  {
   "cell_type": "markdown",
   "id": "1956abdd",
   "metadata": {},
   "source": [
    "# Qiskit Certification Prep - Module 2.1: Visualize Quantum Circuits"
   ]
  },
  {
   "cell_type": "code",
   "execution_count": 1,
   "id": "210a4d8b-75fa-4e62-872f-dbd05dba0838",
   "metadata": {},
   "outputs": [],
   "source": [
    "import qiskit\n",
    "import numpy as np\n",
    "# from qiskit import QuantumCircuit, QuantumRegister, ClassicalRegister, execute, IBMQ\n",
    "from qiskit import QuantumCircuit, QuantumRegister, ClassicalRegister\n",
    "from qiskit.visualization import circuit_drawer"
   ]
  },
  {
   "cell_type": "markdown",
   "id": "8a6c1efd-ea31-4eba-b9c9-1cc2e33c374e",
   "metadata": {},
   "source": [
    "## Section 0: Drawing circuits"
   ]
  },
  {
   "cell_type": "markdown",
   "id": "96d41b66-8d59-4961-abc3-846a0cbb2e9c",
   "metadata": {},
   "source": [
    "*Drawing circuits:*\n",
    "This is the first skill we'll learn because it'll help learn everything else in this section.\n",
    "There are 2 options for drawing circuits: \n",
    "\n",
    "1). mpl \n",
    "\n",
    "2). text "
   ]
  },
  {
   "cell_type": "markdown",
   "id": "d090a32f-5bd4-4a7a-9ed5-ea17f44b9df0",
   "metadata": {},
   "source": [
    "**mpl:**\n",
    "- requires matplotlib to be installed"
   ]
  },
  {
   "cell_type": "code",
   "execution_count": 2,
   "id": "e139f1e9-bc9e-492b-ac47-5f748a005639",
   "metadata": {},
   "outputs": [
    {
     "data": {
      "text/html": [
       "<pre style=\"word-wrap: normal;white-space: pre;background: #fff0;line-height: 1.1;font-family: &quot;Courier New&quot;,Courier,monospace\">     \n",
       "q_0: \n",
       "     \n",
       "q_1: \n",
       "     \n",
       "q_2: \n",
       "     </pre>"
      ],
      "text/plain": [
       "     \n",
       "q_0: \n",
       "     \n",
       "q_1: \n",
       "     \n",
       "q_2: \n",
       "     "
      ]
     },
     "execution_count": 2,
     "metadata": {},
     "output_type": "execute_result"
    }
   ],
   "source": [
    "qc = QuantumCircuit(3)\n",
    "qc.draw() # mpl -> matplotlib"
   ]
  },
  {
   "cell_type": "markdown",
   "id": "e82d1e92-6d2c-447e-934a-923c1ef2fecd",
   "metadata": {},
   "source": [
    "**Text**"
   ]
  },
  {
   "cell_type": "code",
   "execution_count": 3,
   "id": "e827aefd-e465-40c9-9ef4-1eda060b3746",
   "metadata": {},
   "outputs": [
    {
     "data": {
      "text/html": [
       "<pre style=\"word-wrap: normal;white-space: pre;background: #fff0;line-height: 1.1;font-family: &quot;Courier New&quot;,Courier,monospace\">     \n",
       "q_0: \n",
       "     \n",
       "q_1: \n",
       "     \n",
       "q_2: \n",
       "     </pre>"
      ],
      "text/plain": [
       "     \n",
       "q_0: \n",
       "     \n",
       "q_1: \n",
       "     \n",
       "q_2: \n",
       "     "
      ]
     },
     "execution_count": 3,
     "metadata": {},
     "output_type": "execute_result"
    }
   ],
   "source": [
    "qc = QuantumCircuit(3)\n",
    "qc.draw(output = 'text')"
   ]
  },
  {
   "cell_type": "markdown",
   "id": "c243e42a",
   "metadata": {},
   "source": [
    "## Section 1: Creating Circuits\n",
    "\n",
    "### Different ways to create a circuit with 2 qubits and 2 classical bits\n",
    "\n",
    "| Method | Code |\n",
    "|--------|------|\n",
    "| Basic constructor | `qc = QuantumCircuit(2, 2)` |\n",
    "| Using registers | `qr = QuantumRegister(2); cr = ClassicalRegister(2); qc = QuantumCircuit(qr, cr)` |\n",
    "| Named registers | `qr = QuantumRegister(2, 'q'); cr = ClassicalRegister(2, 'c'); qc = QuantumCircuit(qr, cr)` "
   ]
  },
  {
   "cell_type": "code",
   "execution_count": 4,
   "id": "98224af6",
   "metadata": {},
   "outputs": [
    {
     "ename": "MissingOptionalLibraryError",
     "evalue": "\"The 'pylatexenc' library is required to use 'MatplotlibDrawer'. You can install it with 'pip install pylatexenc'.\"",
     "output_type": "error",
     "traceback": [
      "\u001b[31m---------------------------------------------------------------------------\u001b[39m",
      "\u001b[31mMissingOptionalLibraryError\u001b[39m               Traceback (most recent call last)",
      "\u001b[36mCell\u001b[39m\u001b[36m \u001b[39m\u001b[32mIn[4]\u001b[39m\u001b[32m, line 6\u001b[39m\n\u001b[32m      4\u001b[39m cr = ClassicalRegister(\u001b[32m2\u001b[39m, name=\u001b[33m'\u001b[39m\u001b[33mc\u001b[39m\u001b[33m'\u001b[39m)\n\u001b[32m      5\u001b[39m qc = QuantumCircuit(qr, cr)\n\u001b[32m----> \u001b[39m\u001b[32m6\u001b[39m \u001b[43mqc\u001b[49m\u001b[43m.\u001b[49m\u001b[43mdraw\u001b[49m\u001b[43m(\u001b[49m\u001b[33;43m'\u001b[39;49m\u001b[33;43mmpl\u001b[39;49m\u001b[33;43m'\u001b[39;49m\u001b[43m)\u001b[49m\n",
      "\u001b[36mFile \u001b[39m\u001b[32m/opt/homebrew/anaconda3/envs/qiskit-notebook/lib/python3.12/site-packages/qiskit/circuit/quantumcircuit.py:3943\u001b[39m, in \u001b[36mQuantumCircuit.draw\u001b[39m\u001b[34m(self, output, scale, filename, style, interactive, plot_barriers, reverse_bits, justify, vertical_compression, idle_wires, with_layout, fold, ax, initial_state, cregbundle, wire_order, expr_len, measure_arrows)\u001b[39m\n\u001b[32m   3940\u001b[39m \u001b[38;5;66;03m# pylint: disable=cyclic-import\u001b[39;00m\n\u001b[32m   3941\u001b[39m \u001b[38;5;28;01mfrom\u001b[39;00m\u001b[38;5;250m \u001b[39m\u001b[34;01mqiskit\u001b[39;00m\u001b[34;01m.\u001b[39;00m\u001b[34;01mvisualization\u001b[39;00m\u001b[38;5;250m \u001b[39m\u001b[38;5;28;01mimport\u001b[39;00m circuit_drawer\n\u001b[32m-> \u001b[39m\u001b[32m3943\u001b[39m \u001b[38;5;28;01mreturn\u001b[39;00m \u001b[43mcircuit_drawer\u001b[49m\u001b[43m(\u001b[49m\n\u001b[32m   3944\u001b[39m \u001b[43m    \u001b[49m\u001b[38;5;28;43mself\u001b[39;49m\u001b[43m,\u001b[49m\n\u001b[32m   3945\u001b[39m \u001b[43m    \u001b[49m\u001b[43mscale\u001b[49m\u001b[43m=\u001b[49m\u001b[43mscale\u001b[49m\u001b[43m,\u001b[49m\n\u001b[32m   3946\u001b[39m \u001b[43m    \u001b[49m\u001b[43mfilename\u001b[49m\u001b[43m=\u001b[49m\u001b[43mfilename\u001b[49m\u001b[43m,\u001b[49m\n\u001b[32m   3947\u001b[39m \u001b[43m    \u001b[49m\u001b[43mstyle\u001b[49m\u001b[43m=\u001b[49m\u001b[43mstyle\u001b[49m\u001b[43m,\u001b[49m\n\u001b[32m   3948\u001b[39m \u001b[43m    \u001b[49m\u001b[43moutput\u001b[49m\u001b[43m=\u001b[49m\u001b[43moutput\u001b[49m\u001b[43m,\u001b[49m\n\u001b[32m   3949\u001b[39m \u001b[43m    \u001b[49m\u001b[43minteractive\u001b[49m\u001b[43m=\u001b[49m\u001b[43minteractive\u001b[49m\u001b[43m,\u001b[49m\n\u001b[32m   3950\u001b[39m \u001b[43m    \u001b[49m\u001b[43mplot_barriers\u001b[49m\u001b[43m=\u001b[49m\u001b[43mplot_barriers\u001b[49m\u001b[43m,\u001b[49m\n\u001b[32m   3951\u001b[39m \u001b[43m    \u001b[49m\u001b[43mreverse_bits\u001b[49m\u001b[43m=\u001b[49m\u001b[43mreverse_bits\u001b[49m\u001b[43m,\u001b[49m\n\u001b[32m   3952\u001b[39m \u001b[43m    \u001b[49m\u001b[43mjustify\u001b[49m\u001b[43m=\u001b[49m\u001b[43mjustify\u001b[49m\u001b[43m,\u001b[49m\n\u001b[32m   3953\u001b[39m \u001b[43m    \u001b[49m\u001b[43mvertical_compression\u001b[49m\u001b[43m=\u001b[49m\u001b[43mvertical_compression\u001b[49m\u001b[43m,\u001b[49m\n\u001b[32m   3954\u001b[39m \u001b[43m    \u001b[49m\u001b[43midle_wires\u001b[49m\u001b[43m=\u001b[49m\u001b[43midle_wires\u001b[49m\u001b[43m,\u001b[49m\n\u001b[32m   3955\u001b[39m \u001b[43m    \u001b[49m\u001b[43mwith_layout\u001b[49m\u001b[43m=\u001b[49m\u001b[43mwith_layout\u001b[49m\u001b[43m,\u001b[49m\n\u001b[32m   3956\u001b[39m \u001b[43m    \u001b[49m\u001b[43mfold\u001b[49m\u001b[43m=\u001b[49m\u001b[43mfold\u001b[49m\u001b[43m,\u001b[49m\n\u001b[32m   3957\u001b[39m \u001b[43m    \u001b[49m\u001b[43max\u001b[49m\u001b[43m=\u001b[49m\u001b[43max\u001b[49m\u001b[43m,\u001b[49m\n\u001b[32m   3958\u001b[39m \u001b[43m    \u001b[49m\u001b[43minitial_state\u001b[49m\u001b[43m=\u001b[49m\u001b[43minitial_state\u001b[49m\u001b[43m,\u001b[49m\n\u001b[32m   3959\u001b[39m \u001b[43m    \u001b[49m\u001b[43mcregbundle\u001b[49m\u001b[43m=\u001b[49m\u001b[43mcregbundle\u001b[49m\u001b[43m,\u001b[49m\n\u001b[32m   3960\u001b[39m \u001b[43m    \u001b[49m\u001b[43mwire_order\u001b[49m\u001b[43m=\u001b[49m\u001b[43mwire_order\u001b[49m\u001b[43m,\u001b[49m\n\u001b[32m   3961\u001b[39m \u001b[43m    \u001b[49m\u001b[43mexpr_len\u001b[49m\u001b[43m=\u001b[49m\u001b[43mexpr_len\u001b[49m\u001b[43m,\u001b[49m\n\u001b[32m   3962\u001b[39m \u001b[43m    \u001b[49m\u001b[43mmeasure_arrows\u001b[49m\u001b[43m=\u001b[49m\u001b[43mmeasure_arrows\u001b[49m\u001b[43m,\u001b[49m\n\u001b[32m   3963\u001b[39m \u001b[43m\u001b[49m\u001b[43m)\u001b[49m\n",
      "\u001b[36mFile \u001b[39m\u001b[32m/opt/homebrew/anaconda3/envs/qiskit-notebook/lib/python3.12/site-packages/qiskit/visualization/circuit/circuit_visualization.py:350\u001b[39m, in \u001b[36mcircuit_drawer\u001b[39m\u001b[34m(circuit, scale, filename, style, output, interactive, plot_barriers, reverse_bits, justify, vertical_compression, idle_wires, with_layout, fold, ax, initial_state, cregbundle, wire_order, expr_len, measure_arrows)\u001b[39m\n\u001b[32m    335\u001b[39m     \u001b[38;5;28;01mreturn\u001b[39;00m _generate_latex_source(\n\u001b[32m    336\u001b[39m         circuit,\n\u001b[32m    337\u001b[39m         filename=filename,\n\u001b[32m   (...)\u001b[39m\u001b[32m    347\u001b[39m         wire_order=complete_wire_order,\n\u001b[32m    348\u001b[39m     )\n\u001b[32m    349\u001b[39m \u001b[38;5;28;01melif\u001b[39;00m output == \u001b[33m\"\u001b[39m\u001b[33mmpl\u001b[39m\u001b[33m\"\u001b[39m:\n\u001b[32m--> \u001b[39m\u001b[32m350\u001b[39m     image = \u001b[43m_matplotlib_circuit_drawer\u001b[49m\u001b[43m(\u001b[49m\n\u001b[32m    351\u001b[39m \u001b[43m        \u001b[49m\u001b[43mcircuit\u001b[49m\u001b[43m,\u001b[49m\n\u001b[32m    352\u001b[39m \u001b[43m        \u001b[49m\u001b[43mscale\u001b[49m\u001b[43m=\u001b[49m\u001b[43mscale\u001b[49m\u001b[43m,\u001b[49m\n\u001b[32m    353\u001b[39m \u001b[43m        \u001b[49m\u001b[43mfilename\u001b[49m\u001b[43m=\u001b[49m\u001b[43mfilename\u001b[49m\u001b[43m,\u001b[49m\n\u001b[32m    354\u001b[39m \u001b[43m        \u001b[49m\u001b[43mstyle\u001b[49m\u001b[43m=\u001b[49m\u001b[43mstyle\u001b[49m\u001b[43m,\u001b[49m\n\u001b[32m    355\u001b[39m \u001b[43m        \u001b[49m\u001b[43mplot_barriers\u001b[49m\u001b[43m=\u001b[49m\u001b[43mplot_barriers\u001b[49m\u001b[43m,\u001b[49m\n\u001b[32m    356\u001b[39m \u001b[43m        \u001b[49m\u001b[43mreverse_bits\u001b[49m\u001b[43m=\u001b[49m\u001b[43mreverse_bits\u001b[49m\u001b[43m,\u001b[49m\n\u001b[32m    357\u001b[39m \u001b[43m        \u001b[49m\u001b[43mjustify\u001b[49m\u001b[43m=\u001b[49m\u001b[43mjustify\u001b[49m\u001b[43m,\u001b[49m\n\u001b[32m    358\u001b[39m \u001b[43m        \u001b[49m\u001b[43midle_wires\u001b[49m\u001b[43m=\u001b[49m\u001b[43midle_wires\u001b[49m\u001b[43m,\u001b[49m\n\u001b[32m    359\u001b[39m \u001b[43m        \u001b[49m\u001b[43mwith_layout\u001b[49m\u001b[43m=\u001b[49m\u001b[43mwith_layout\u001b[49m\u001b[43m,\u001b[49m\n\u001b[32m    360\u001b[39m \u001b[43m        \u001b[49m\u001b[43mfold\u001b[49m\u001b[43m=\u001b[49m\u001b[43mfold\u001b[49m\u001b[43m,\u001b[49m\n\u001b[32m    361\u001b[39m \u001b[43m        \u001b[49m\u001b[43max\u001b[49m\u001b[43m=\u001b[49m\u001b[43max\u001b[49m\u001b[43m,\u001b[49m\n\u001b[32m    362\u001b[39m \u001b[43m        \u001b[49m\u001b[43minitial_state\u001b[49m\u001b[43m=\u001b[49m\u001b[43minitial_state\u001b[49m\u001b[43m,\u001b[49m\n\u001b[32m    363\u001b[39m \u001b[43m        \u001b[49m\u001b[43mcregbundle\u001b[49m\u001b[43m=\u001b[49m\u001b[43mcregbundle\u001b[49m\u001b[43m,\u001b[49m\n\u001b[32m    364\u001b[39m \u001b[43m        \u001b[49m\u001b[43mwire_order\u001b[49m\u001b[43m=\u001b[49m\u001b[43mcomplete_wire_order\u001b[49m\u001b[43m,\u001b[49m\n\u001b[32m    365\u001b[39m \u001b[43m        \u001b[49m\u001b[43mexpr_len\u001b[49m\u001b[43m=\u001b[49m\u001b[43mexpr_len\u001b[49m\u001b[43m,\u001b[49m\n\u001b[32m    366\u001b[39m \u001b[43m        \u001b[49m\u001b[43mmeasure_arrows\u001b[49m\u001b[43m=\u001b[49m\u001b[43mmeasure_arrows\u001b[49m\u001b[43m,\u001b[49m\n\u001b[32m    367\u001b[39m \u001b[43m    \u001b[49m\u001b[43m)\u001b[49m\n\u001b[32m    368\u001b[39m \u001b[38;5;28;01melse\u001b[39;00m:\n\u001b[32m    369\u001b[39m     \u001b[38;5;28;01mraise\u001b[39;00m VisualizationError(\n\u001b[32m    370\u001b[39m         \u001b[33mf\u001b[39m\u001b[33m\"\u001b[39m\u001b[33mInvalid output type \u001b[39m\u001b[38;5;132;01m{\u001b[39;00moutput\u001b[38;5;132;01m}\u001b[39;00m\u001b[33m selected. The only valid choices \u001b[39m\u001b[33m\"\u001b[39m\n\u001b[32m    371\u001b[39m         \u001b[33m\"\u001b[39m\u001b[33mare text, latex, latex_source, and mpl\u001b[39m\u001b[33m\"\u001b[39m\n\u001b[32m    372\u001b[39m     )\n",
      "\u001b[36mFile \u001b[39m\u001b[32m/opt/homebrew/anaconda3/envs/qiskit-notebook/lib/python3.12/site-packages/qiskit/visualization/circuit/circuit_visualization.py:742\u001b[39m, in \u001b[36m_matplotlib_circuit_drawer\u001b[39m\u001b[34m(circuit, scale, filename, style, plot_barriers, reverse_bits, justify, idle_wires, with_layout, fold, ax, initial_state, cregbundle, wire_order, expr_len, measure_arrows)\u001b[39m\n\u001b[32m    739\u001b[39m \u001b[38;5;28;01mif\u001b[39;00m fold \u001b[38;5;129;01mis\u001b[39;00m \u001b[38;5;28;01mNone\u001b[39;00m:\n\u001b[32m    740\u001b[39m     fold = \u001b[32m25\u001b[39m\n\u001b[32m--> \u001b[39m\u001b[32m742\u001b[39m qcd = \u001b[43m_matplotlib\u001b[49m\u001b[43m.\u001b[49m\u001b[43mMatplotlibDrawer\u001b[49m\u001b[43m(\u001b[49m\n\u001b[32m    743\u001b[39m \u001b[43m    \u001b[49m\u001b[43mqubits\u001b[49m\u001b[43m,\u001b[49m\n\u001b[32m    744\u001b[39m \u001b[43m    \u001b[49m\u001b[43mclbits\u001b[49m\u001b[43m,\u001b[49m\n\u001b[32m    745\u001b[39m \u001b[43m    \u001b[49m\u001b[43mnodes\u001b[49m\u001b[43m,\u001b[49m\n\u001b[32m    746\u001b[39m \u001b[43m    \u001b[49m\u001b[43mcircuit\u001b[49m\u001b[43m,\u001b[49m\n\u001b[32m    747\u001b[39m \u001b[43m    \u001b[49m\u001b[43mscale\u001b[49m\u001b[43m=\u001b[49m\u001b[43mscale\u001b[49m\u001b[43m,\u001b[49m\n\u001b[32m    748\u001b[39m \u001b[43m    \u001b[49m\u001b[43mstyle\u001b[49m\u001b[43m=\u001b[49m\u001b[43mstyle\u001b[49m\u001b[43m,\u001b[49m\n\u001b[32m    749\u001b[39m \u001b[43m    \u001b[49m\u001b[43mreverse_bits\u001b[49m\u001b[43m=\u001b[49m\u001b[43mreverse_bits\u001b[49m\u001b[43m,\u001b[49m\n\u001b[32m    750\u001b[39m \u001b[43m    \u001b[49m\u001b[43mplot_barriers\u001b[49m\u001b[43m=\u001b[49m\u001b[43mplot_barriers\u001b[49m\u001b[43m,\u001b[49m\n\u001b[32m    751\u001b[39m \u001b[43m    \u001b[49m\u001b[43mfold\u001b[49m\u001b[43m=\u001b[49m\u001b[43mfold\u001b[49m\u001b[43m,\u001b[49m\n\u001b[32m    752\u001b[39m \u001b[43m    \u001b[49m\u001b[43max\u001b[49m\u001b[43m=\u001b[49m\u001b[43max\u001b[49m\u001b[43m,\u001b[49m\n\u001b[32m    753\u001b[39m \u001b[43m    \u001b[49m\u001b[43minitial_state\u001b[49m\u001b[43m=\u001b[49m\u001b[43minitial_state\u001b[49m\u001b[43m,\u001b[49m\n\u001b[32m    754\u001b[39m \u001b[43m    \u001b[49m\u001b[43mcregbundle\u001b[49m\u001b[43m=\u001b[49m\u001b[43mcregbundle\u001b[49m\u001b[43m,\u001b[49m\n\u001b[32m    755\u001b[39m \u001b[43m    \u001b[49m\u001b[43mwith_layout\u001b[49m\u001b[43m=\u001b[49m\u001b[43mwith_layout\u001b[49m\u001b[43m,\u001b[49m\n\u001b[32m    756\u001b[39m \u001b[43m    \u001b[49m\u001b[43mexpr_len\u001b[49m\u001b[43m=\u001b[49m\u001b[43mexpr_len\u001b[49m\u001b[43m,\u001b[49m\n\u001b[32m    757\u001b[39m \u001b[43m    \u001b[49m\u001b[43mmeasure_arrows\u001b[49m\u001b[43m=\u001b[49m\u001b[43mmeasure_arrows\u001b[49m\u001b[43m,\u001b[49m\n\u001b[32m    758\u001b[39m \u001b[43m\u001b[49m\u001b[43m)\u001b[49m\n\u001b[32m    759\u001b[39m \u001b[38;5;28;01mreturn\u001b[39;00m qcd.draw(filename)\n",
      "\u001b[36mFile \u001b[39m\u001b[32m/opt/homebrew/anaconda3/envs/qiskit-notebook/lib/python3.12/site-packages/qiskit/utils/classtools.py:111\u001b[39m, in \u001b[36m_WrappedMethod.__get__.<locals>.out\u001b[39m\u001b[34m(*args, **kwargs)\u001b[39m\n\u001b[32m    108\u001b[39m \u001b[38;5;129m@functools\u001b[39m.wraps(method)\n\u001b[32m    109\u001b[39m \u001b[38;5;28;01mdef\u001b[39;00m\u001b[38;5;250m \u001b[39m\u001b[34mout\u001b[39m(*args, **kwargs):\n\u001b[32m    110\u001b[39m     \u001b[38;5;28;01mfor\u001b[39;00m callback \u001b[38;5;129;01min\u001b[39;00m \u001b[38;5;28mself\u001b[39m._before:\n\u001b[32m--> \u001b[39m\u001b[32m111\u001b[39m         \u001b[43mcallback\u001b[49m\u001b[43m.\u001b[49m\u001b[34;43m__get__\u001b[39;49m\u001b[43m(\u001b[49m\u001b[43mobj\u001b[49m\u001b[43m,\u001b[49m\u001b[43m \u001b[49m\u001b[43mobjtype\u001b[49m\u001b[43m)\u001b[49m\u001b[43m(\u001b[49m\u001b[43m*\u001b[49m\u001b[43margs\u001b[49m\u001b[43m,\u001b[49m\u001b[43m \u001b[49m\u001b[43m*\u001b[49m\u001b[43m*\u001b[49m\u001b[43mkwargs\u001b[49m\u001b[43m)\u001b[49m\n\u001b[32m    112\u001b[39m     retval = method(*args, **kwargs)\n\u001b[32m    113\u001b[39m     \u001b[38;5;28;01mfor\u001b[39;00m callback \u001b[38;5;129;01min\u001b[39;00m \u001b[38;5;28mself\u001b[39m._after:\n",
      "\u001b[36mFile \u001b[39m\u001b[32m/opt/homebrew/anaconda3/envs/qiskit-notebook/lib/python3.12/site-packages/qiskit/utils/lazy_tester.py:41\u001b[39m, in \u001b[36m_RequireNow.__call__\u001b[39m\u001b[34m(self, *_args, **_kwargs)\u001b[39m\n\u001b[32m     40\u001b[39m \u001b[38;5;28;01mdef\u001b[39;00m\u001b[38;5;250m \u001b[39m\u001b[34m__call__\u001b[39m(\u001b[38;5;28mself\u001b[39m, *_args, **_kwargs):\n\u001b[32m---> \u001b[39m\u001b[32m41\u001b[39m     \u001b[38;5;28;43mself\u001b[39;49m\u001b[43m.\u001b[49m\u001b[43m_tester\u001b[49m\u001b[43m.\u001b[49m\u001b[43mrequire_now\u001b[49m\u001b[43m(\u001b[49m\u001b[38;5;28;43mself\u001b[39;49m\u001b[43m.\u001b[49m\u001b[43m_feature\u001b[49m\u001b[43m)\u001b[49m\n",
      "\u001b[36mFile \u001b[39m\u001b[32m/opt/homebrew/anaconda3/envs/qiskit-notebook/lib/python3.12/site-packages/qiskit/utils/lazy_tester.py:221\u001b[39m, in \u001b[36mLazyDependencyManager.require_now\u001b[39m\u001b[34m(self, feature)\u001b[39m\n\u001b[32m    219\u001b[39m \u001b[38;5;28;01mif\u001b[39;00m \u001b[38;5;28mself\u001b[39m:\n\u001b[32m    220\u001b[39m     \u001b[38;5;28;01mreturn\u001b[39;00m\n\u001b[32m--> \u001b[39m\u001b[32m221\u001b[39m \u001b[38;5;28;01mraise\u001b[39;00m MissingOptionalLibraryError(\n\u001b[32m    222\u001b[39m     libname=\u001b[38;5;28mself\u001b[39m._name, name=feature, pip_install=\u001b[38;5;28mself\u001b[39m._install, msg=\u001b[38;5;28mself\u001b[39m._msg\n\u001b[32m    223\u001b[39m )\n",
      "\u001b[31mMissingOptionalLibraryError\u001b[39m: \"The 'pylatexenc' library is required to use 'MatplotlibDrawer'. You can install it with 'pip install pylatexenc'.\""
     ]
    }
   ],
   "source": [
    "from qiskit import QuantumCircuit, QuantumRegister, ClassicalRegister\n",
    "\n",
    "qr = QuantumRegister(2, name='q')\n",
    "cr = ClassicalRegister(2, name='c')\n",
    "qc = QuantumCircuit(qr, cr)\n",
    "qc.draw('mpl')"
   ]
  },
  {
   "cell_type": "markdown",
   "id": "ec0197f8-1e63-4564-96d3-14adae80d288",
   "metadata": {},
   "source": [
    "## Section 2: Constructing Multi-Qubit Quantum Registers\n",
    "\n",
    "\n",
    "Use `QuantumRegister` and `ClassicalRegister` to build registers and assemble them into a circuit.\n",
    "\n",
    "There are **three common methods** to create multi-qubit (and matching classical) registers in Qiskit:\n",
    "\n",
    "1. **Shorthand constructor**\n",
    "2. **Explicit register objects**\n",
    "3. **Create then add registers**\n",
    "\n",
    "All three methods produce equivalent circuits; choose the style that best suits your workflow."
   ]
  },
  {
   "cell_type": "code",
   "execution_count": null,
   "id": "c4c4cb4c-368b-4387-be9c-491f40f8a4c8",
   "metadata": {},
   "outputs": [],
   "source": [
    "from qiskit import QuantumCircuit, QuantumRegister, ClassicalRegister\n",
    "\n",
    "# Method 1: Shorthand constructor\n",
    "qc1 = QuantumCircuit(3, 3)\n",
    "print('Method 1:')\n",
    "display(qc1.draw('mpl'))"
   ]
  },
  {
   "cell_type": "code",
   "execution_count": null,
   "id": "fbb8ad38-4070-43ee-a7de-abdf762c99d5",
   "metadata": {},
   "outputs": [],
   "source": [
    "# Method 2: Explicit register objects\n",
    "qr = QuantumRegister(3, 'q')\n",
    "cr = ClassicalRegister(3, 'c')\n",
    "qc2 = QuantumCircuit(qr, cr)\n",
    "print('Method 2:')\n",
    "display(qc2.draw('mpl'))\n"
   ]
  },
  {
   "cell_type": "code",
   "execution_count": null,
   "id": "26ce9fc6-b891-45d6-a4ad-ee24e4071295",
   "metadata": {},
   "outputs": [],
   "source": [
    "# Method 3: Create and then add registers\n",
    "qr3 = QuantumRegister(3)\n",
    "cr3 = ClassicalRegister(3)\n",
    "qc3 = QuantumCircuit()\n",
    "qc3.add_register(qr3)\n",
    "qc3.add_register(cr3)\n",
    "print('Method 3:')\n",
    "display(qc3.draw('mpl'))"
   ]
  },
  {
   "cell_type": "markdown",
   "id": "357b5228",
   "metadata": {},
   "source": [
    "## Section 3: Gates and Measurements\n",
    "\n",
    "### Different ways to apply gates and measure qubits\n",
    "\n",
    "Most examples here use a 2-qubit circuit for consistency, but many operations (like applying H or measurement) work for circuits of size 1 or more.\n",
    "\n",
    "| Operation | No. of Qubits Applied to | Method 1 | Method 2 |\n",
    "|-----------|---------------|----------|----------|\n",
    "| Apply H to qubit 0 | 1+ qubits (shown here for 1 qubit) | `qc.h(0)` | `qc.append(HGate(), [0])` |\n",
    "| Apply CX from 0 to 1 | 2 qubits | `qc.cx(0, 1)` | `qc.append(CXGate(), [0, 1])` |\n",
    "| Measure qubits to classical bits | 1+ qubits (shown here for 2 qubits) | `qc.measure([0,1], [0,1])` | `qc.measure_all()` |"
   ]
  },
  {
   "cell_type": "code",
   "execution_count": null,
   "id": "3287a66c",
   "metadata": {},
   "outputs": [],
   "source": [
    "qc.h(0)\n",
    "qc.cx(0, 1)\n",
    "qc.measure([0,1], [0,1])\n",
    "qc.draw('mpl')"
   ]
  },
  {
   "cell_type": "markdown",
   "id": "1ce54195",
   "metadata": {},
   "source": [
    "## Section 4: Circuit Properties\n",
    "\n",
    "### Ways to inspect circuit characteristics\n",
    "\n",
    "| Property | Code |\n",
    "|----------|------|\n",
    "| Gate counts | `qc.count_ops()` |\n",
    "| Circuit depth | `qc.depth()` |\n",
    "| Number of qubits | `qc.num_qubits` |\n",
    "| Circuit width | `qc.width()` "
   ]
  },
  {
   "cell_type": "code",
   "execution_count": null,
   "id": "d21eccdc",
   "metadata": {},
   "outputs": [],
   "source": [
    "print(\"Depth:\", qc.depth())\n",
    "print(\"Width:\", qc.width())\n",
    "print(\"Operations:\", qc.count_ops())"
   ]
  },
  {
   "cell_type": "markdown",
   "id": "b4fad198",
   "metadata": {},
   "source": [
    "## Section 5: Subcircuits\n",
    "\n",
    "### Ways to build and reuse subcircuits\n",
    "\n",
    "| Operation | Code |\n",
    "|-----------|------|\n",
    "| Define subcircuit | `sub = QuantumCircuit(2); sub.h(0); sub.cx(0, 1)` |\n",
    "| Append subcircuit | `qc.append(sub.to_instruction(), [0, 1])` |\n",
    "| Reuse with name | `QuantumCircuit(2, name='sub')` "
   ]
  },
  {
   "cell_type": "code",
   "execution_count": null,
   "id": "edfd3e7d",
   "metadata": {},
   "outputs": [],
   "source": [
    "sub = QuantumCircuit(2, name=\"sub\")\n",
    "sub.h(0)\n",
    "sub.cx(0, 1)\n",
    "qc.append(sub.to_instruction(), [0, 1])\n",
    "qc.measure([0,1], [0,1])\n",
    "qc.draw('mpl')"
   ]
  },
  {
   "cell_type": "markdown",
   "id": "515db53a",
   "metadata": {},
   "source": [
    "## Section 6: Exporting and Importing QASM\n",
    "\n",
    "### Exporting and importing circuit definitions\n",
    "Assume that `qc` is an instance of class `QuantumCircuit`\n",
    "\n",
    "| Task | Code |\n",
    "|------|------|\n",
    "| Export QASM | `qasm3_str = dumps(qc)                # serialize to OpenQASM 3. Returns a string` |\n",
    "| Import from string | `qc_from_qasm3 = loads(qasm3_str)  # parse back into a QuantumCircuit` |\n",
    "| Import from file | `qc = load(\"path/to/your_file.qasm\")   # reads from a .qasm file` "
   ]
  },
  {
   "cell_type": "code",
   "execution_count": null,
   "id": "aec137f9-eae2-4878-abe4-ac9a55a1c49e",
   "metadata": {},
   "outputs": [],
   "source": [
    "from qiskit import QuantumCircuit\n",
    "\n",
    "# example circuit\n",
    "qc = QuantumCircuit(2, 2)\n",
    "qc.h(0)\n",
    "qc.cx(0, 1)\n",
    "qc.measure([0, 1], [0, 1])\n",
    "\n",
    "# --- OpenQASM 3 round-trip ---\n",
    "from qiskit.qasm3 import dumps, loads\n",
    "\n",
    "qasm3_str = dumps(qc)                # serialize to OpenQASM 3. Returns a string\n",
    "print(qasm3_str[:300], \"...\\n\")      # preview\n",
    "\n",
    "qc_from_qasm3 = loads(qasm3_str)     # parse back into a QuantumCircuit\n",
    "\n",
    "# visualize (mpl requires matplotlib)\n",
    "qc_from_qasm3.draw(\"mpl\")\n"
   ]
  },
  {
   "cell_type": "markdown",
   "id": "f11728ab",
   "metadata": {},
   "source": [
    "## Section 7: Try It Yourself Prompts\n",
    "\n",
    "### Exercises for students to practice\n",
    "\n",
    "1. Add a `t` gate to qubit 1 and redraw the circuit.\n",
    "2. Create a new 3-qubit circuit and apply a Toffoli gate (`ccx`).\n",
    "3. Export the circuit to QASM and re-import it. Verify equality.\n",
    "4. Use `count_ops()` and interpret the results.\n",
    "5. Replace a subcircuit with a different one."
   ]
  },
  {
   "cell_type": "markdown",
   "id": "f2fda0be-741b-44a1-a047-ed778784c268",
   "metadata": {},
   "source": [
    "### Multiple Choice Questions"
   ]
  },
  {
   "cell_type": "markdown",
   "id": "8a5b9959-a82d-496a-bc0c-258ca553975f",
   "metadata": {},
   "source": [
    "You are given the circuit (Qiskit uses **0-based** qubit indexing):\n",
    "\n",
    "```\n",
    "from qiskit import QuantumCircuit\n",
    "qc = QuantumCircuit(2)\n",
    "qc.h(0)\n",
    "qc.cx(0, 1)\n",
    "```\n",
    "\n",
    "Which of the following adds a T gate to the first qubit?"
   ]
  },
  {
   "cell_type": "markdown",
   "id": "015f46eb-276b-4f5b-8096-c0f7ad9657b3",
   "metadata": {},
   "source": [
    "A)\n",
    "```\n",
    "qc.t(1)\n",
    "qc.draw(\"mpl\")\n",
    "```\n",
    "\n",
    "B)\n",
    "```\n",
    "qc.t(0)\n",
    "qc.draw(\"mpl\")\n",
    "```\n",
    "\n",
    "C)\n",
    "```\n",
    "qc.s(1)\n",
    "qc.draw(\"mpl\")\n",
    "```\n",
    "\n",
    "D)\n",
    "```\n",
    "qc.tdg(1)\n",
    "qc.draw(\"mpl\")\n",
    "```\n",
    "<details>\n",
    "<summary><strong>Answer</strong></summary>\n",
    "\n",
    "B.\n",
    "</details>"
   ]
  },
  {
   "cell_type": "markdown",
   "id": "b6a60cbb",
   "metadata": {},
   "source": [
    "### Multiple Choice Question: Create a 3-qubit circuit and apply a Toffoli (CCX)\n",
    "\n",
    "Task: “Create a new 3-qubit circuit and apply a Toffoli gate (controls on qubits 0 and 1, target on qubit 2). Then redraw the circuit.” \n",
    "Which code correctly accomplishes this?\n",
    "\n",
    "- A.\n",
    "```\n",
    " from qiskit import QuantumCircuit\n",
    " qc = QuantumCircuit(3)\n",
    " qc.ccx(0, 1, 2)\n",
    " qc.draw(\"mpl\")\n",
    "```\n",
    "\n",
    "- B.\n",
    "```\n",
    " from qiskit import QuantumCircuit\n",
    " qc = QuantumCircuit(2)\n",
    " qc.ccx(0, 1, 1) # not enough qubits; invalid\n",
    " qc.draw(\"mpl\")\n",
    "``` \n",
    "\n",
    "- C.\n",
    "```\n",
    " from qiskit import QuantumCircuit\n",
    " qc = QuantumCircuit(3)\n",
    " qc.ccx(0, 2, 1) # wrong target (target should be qubit 2)\n",
    " qc.draw(\"mpl\")\n",
    "```\n",
    "\n",
    "- D.\n",
    "```\n",
    " from qiskit import QuantumCircuit\n",
    " qc = QuantumCircuit(3)\n",
    " qc.cx(0, 1); qc.cx(1, 2) # not a Toffoli; just two CNOTs\n",
    " qc.draw(\"mpl\")\n",
    "```\n",
    "\n",
    "<details>\n",
    "<summary><strong>Answer</strong></summary>\n",
    "\n",
    "A. \n",
    "Creates a 3-qubit circuit and applies ccx(0, 1, 2) with controls on qubits 0 & 1 and target on qubit 2. \n",
    "B has only 2 qubits (and invalid ccx indices). \n",
    "C uses the wrong target qubit. \n",
    "D applies two CNOTs, not a Toffoli.\n",
    "</details>\n"
   ]
  },
  {
   "cell_type": "markdown",
   "id": "6a71617f",
   "metadata": {},
   "source": [
    "### Multiple Choice Question: Export a circuit to QASM and re-import it\n",
    "\n",
    "Task: “Export a circuit to QASM and re-import it.” \n",
    "Assume you already have a QuantumCircuit named qc. Which snippet correctly exports the circuit to OpenQASM 3 and re-imports it into a new QuantumCircuit?\n",
    "\n",
    "- A.\n",
    "```\n",
    "from qiskit.qasm3 import dumps, loads\n",
    "s = dumps(qc)\n",
    "qc2 = loads(s)\n",
    "qc2.draw(\"mpl\")\n",
    "```\n",
    "\n",
    "- B.\n",
    "```\n",
    "qasm_str = qc.qasm()\n",
    "from qiskit import QuantumCircuit\n",
    "qc2 = QuantumCircuit.from_qasm_str(qasm_str)\n",
    "qc2.draw(\"mpl\")\n",
    "```\n",
    "\n",
    "- C.\n",
    "```\n",
    "from qiskit.qasm3 import dumps\n",
    "from qiskit import QuantumCircuit\n",
    "s = dumps(qc)\n",
    "qc2 = QuantumCircuit.from_qasm_str(s)  \n",
    "qc2.draw(\"mpl\")\n",
    "```\n",
    "\n",
    "- D.\n",
    "```\n",
    "import qiskit.qasm3 as qasm3\n",
    "qc2 = qasm3.loads(\"my_circuit.qasm\")\n",
    "qc2.draw(\"mpl\")\n",
    "```\n",
    "\n",
    "<details>\n",
    "<summary><strong>Answer</strong></summary>\n",
    "\n",
    "A. It uses the OpenQASM 3 exporter/importer pair dumps(...)/loads(...). \n",
    "B. uses the legacy OpenQASM 2 API (qc.qasm() / from_qasm_str). \n",
    "C. mismatches OQ3 export with an OQ2 loader. \n",
    "D. passes a file path to loads() (which expects QASM text); file-based import would be:\n",
    "```\n",
    "import qiskit.qasm3 as qasm3\n",
    "qc2 = qasm3.load(\"path.qasm\")\n",
    "```\n",
    "</details>\n"
   ]
  },
  {
   "cell_type": "markdown",
   "id": "e6d8d3f7",
   "metadata": {},
   "source": [
    "### Multiple Choice Question: Circuit depth with staggered CNOTs\n",
    "\n",
    "Task: Consider the following circuit. What is the depth of this circuit?\n",
    "\n",
    "```\n",
    "from qiskit import QuantumCircuit\n",
    "\n",
    "qc = QuantumCircuit(4)\n",
    "qc.h(0)\n",
    "qc.cx(0, 1)\n",
    "qc.cx(1, 2)\n",
    "qc.cx(2, 3)\n",
    "```\n",
    "\n",
    "- A. 2\n",
    "- B. 3\n",
    "- C. 4\n",
    "- D. 5\n",
    "\n",
    "<details>\n",
    "<summary><strong>Answer</strong></summary>\n",
    "\n",
    "C. 4 \n",
    "Layer 1: h(0) \n",
    "Layer 2: cx(0,1) \n",
    "Layer 3: cx(1,2) \n",
    "Layer 4: cx(2,3) \n",
    "Because each CNOT shares a qubit with the next, they cannot run in parallel; thus the depth is 4 (as returned by qc.depth()).\n",
    "</details>\n"
   ]
  },
  {
   "cell_type": "code",
   "execution_count": null,
   "id": "3a10f008-757f-4d02-8609-289ec0eca1c8",
   "metadata": {},
   "outputs": [],
   "source": []
  }
 ],
 "metadata": {
  "kernelspec": {
   "display_name": "Python (qiskit-notebook)",
   "language": "python",
   "name": "qiskit-notebook"
  },
  "language_info": {
   "codemirror_mode": {
    "name": "ipython",
    "version": 3
   },
   "file_extension": ".py",
   "mimetype": "text/x-python",
   "name": "python",
   "nbconvert_exporter": "python",
   "pygments_lexer": "ipython3",
   "version": "3.12.12"
  }
 },
 "nbformat": 4,
 "nbformat_minor": 5
}
