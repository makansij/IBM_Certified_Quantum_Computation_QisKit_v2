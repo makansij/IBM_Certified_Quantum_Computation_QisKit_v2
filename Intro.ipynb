{
 "cells": [
  {
   "cell_type": "code",
   "execution_count": 1,
   "id": "0302d04b-73c3-4168-a5e4-85f3d672d3ae",
   "metadata": {},
   "outputs": [
    {
     "name": "stdout",
     "output_type": "stream",
     "text": [
      "Python full: 3.12.11 | packaged by Anaconda, Inc. | (main, Jun  5 2025, 08:03:38) [Clang 14.0.6 ]\n",
      "Python tuple: sys.version_info(major=3, minor=12, micro=11, releaselevel='final', serial=0)\n",
      "Python short: 3.12.11\n",
      "Executable: /opt/homebrew/anaconda3/envs/qiskit2x/bin/python\n"
     ]
    }
   ],
   "source": [
    "import sys, platform\n",
    "print(\"Python full:\", sys.version)          # e.g. '3.12.5 (main, ...)'\n",
    "print(\"Python tuple:\", sys.version_info)     # e.g. sys.version_info(major=3, minor=12, micro=5, ...)\n",
    "print(\"Python short:\", platform.python_version())  # e.g. '3.12.5'\n",
    "print(\"Executable:\", sys.executable)         # path to the kernel's python\n"
   ]
  },
  {
   "cell_type": "code",
   "execution_count": 2,
   "id": "4ee41186-67f1-41f2-a31c-675b5f6bb9c4",
   "metadata": {},
   "outputs": [
    {
     "name": "stdout",
     "output_type": "stream",
     "text": [
      "qiskit: 2.2.0\n",
      "runtime: 0.41.1\n"
     ]
    }
   ],
   "source": [
    "import qiskit, qiskit_ibm_runtime\n",
    "print(\"qiskit:\", qiskit.__version__)\n",
    "print(\"runtime:\", qiskit_ibm_runtime.__version__)\n"
   ]
  },
  {
   "cell_type": "code",
   "execution_count": 3,
   "id": "a3699c21-f06f-48c0-bad0-3b82d2aa095e",
   "metadata": {},
   "outputs": [
    {
     "name": "stdout",
     "output_type": "stream",
     "text": [
      "Saved IBM Quantum Platform account.\n"
     ]
    }
   ],
   "source": [
    "qiskit_ibm_runtime.QiskitRuntimeService.save_account(\n",
    "    channel='ibm_quantum_platform',\n",
    "    token='RH-RO4uf1A9A4A7LkJsTBw27L2RH4BqAIodMBiZS0QyI',\n",
    "    set_as_default=True,\n",
    "    overwrite=True,\n",
    ")\n",
    "print(\"Saved IBM Quantum Platform account.\")\n"
   ]
  },
  {
   "cell_type": "code",
   "execution_count": 4,
   "id": "b455f664-a80d-44ea-99ed-f0137f906c8f",
   "metadata": {},
   "outputs": [
    {
     "name": "stderr",
     "output_type": "stream",
     "text": [
      "qiskit_runtime_service._resolve_cloud_instances:WARNING:2025-09-20 17:04:34,030: Default instance not set. Searching all available instances.\n"
     ]
    }
   ],
   "source": [
    "svc = qiskit_ibm_runtime.QiskitRuntimeService()  # loads your saved account\n",
    "\n"
   ]
  },
  {
   "cell_type": "code",
   "execution_count": 7,
   "id": "a484ea63-1bb8-4a45-8572-d930e0fc6c91",
   "metadata": {},
   "outputs": [
    {
     "name": "stdout",
     "output_type": "stream",
     "text": [
      "Using backend: ibm_torino\n"
     ]
    },
    {
     "ename": "ValueError",
     "evalue": "Invalid backend type <class 'str'>",
     "output_type": "error",
     "traceback": [
      "\u001b[31m---------------------------------------------------------------------------\u001b[39m",
      "\u001b[31mValueError\u001b[39m                                Traceback (most recent call last)",
      "\u001b[36mCell\u001b[39m\u001b[36m \u001b[39m\u001b[32mIn[7]\u001b[39m\u001b[32m, line 13\u001b[39m\n\u001b[32m     10\u001b[39m qc.h(\u001b[32m0\u001b[39m); qc.cx(\u001b[32m0\u001b[39m, \u001b[32m1\u001b[39m); qc.measure([\u001b[32m0\u001b[39m, \u001b[32m1\u001b[39m], [\u001b[32m0\u001b[39m, \u001b[32m1\u001b[39m])\n\u001b[32m     12\u001b[39m \u001b[38;5;66;03m# Run with Runtime V2\u001b[39;00m\n\u001b[32m---> \u001b[39m\u001b[32m13\u001b[39m \u001b[38;5;28;01mwith\u001b[39;00m \u001b[43mqiskit_ibm_runtime\u001b[49m\u001b[43m.\u001b[49m\u001b[43mSession\u001b[49m\u001b[43m(\u001b[49m\u001b[43mbackend\u001b[49m\u001b[43m=\u001b[49m\u001b[43mbackend_name\u001b[49m\u001b[43m)\u001b[49m \u001b[38;5;28;01mas\u001b[39;00m session:\n\u001b[32m     14\u001b[39m     job = qiskit_ibm_runtime.SamplerV2(session=session).run([qc], shots=\u001b[32m2048\u001b[39m, seed=\u001b[32m1234\u001b[39m)\n\u001b[32m     15\u001b[39m     \u001b[38;5;28mprint\u001b[39m(\u001b[33m\"\u001b[39m\u001b[33mJob ID:\u001b[39m\u001b[33m\"\u001b[39m, job.job_id())\n",
      "\u001b[36mFile \u001b[39m\u001b[32m/opt/homebrew/anaconda3/envs/qiskit2x/lib/python3.12/site-packages/qiskit_ibm_runtime/session.py:121\u001b[39m, in \u001b[36mSession.__init__\u001b[39m\u001b[34m(self, backend, max_time, create_new)\u001b[39m\n\u001b[32m    119\u001b[39m     \u001b[38;5;28mself\u001b[39m._backend = backend\n\u001b[32m    120\u001b[39m \u001b[38;5;28;01melse\u001b[39;00m:\n\u001b[32m--> \u001b[39m\u001b[32m121\u001b[39m     \u001b[38;5;28;01mraise\u001b[39;00m \u001b[38;5;167;01mValueError\u001b[39;00m(\u001b[33mf\u001b[39m\u001b[33m\"\u001b[39m\u001b[33mInvalid backend type \u001b[39m\u001b[38;5;132;01m{\u001b[39;00m\u001b[38;5;28mtype\u001b[39m(backend)\u001b[38;5;132;01m}\u001b[39;00m\u001b[33m\"\u001b[39m)\n\u001b[32m    123\u001b[39m \u001b[38;5;28mself\u001b[39m._max_time = (\n\u001b[32m    124\u001b[39m     max_time\n\u001b[32m    125\u001b[39m     \u001b[38;5;28;01mif\u001b[39;00m max_time \u001b[38;5;129;01mis\u001b[39;00m \u001b[38;5;28;01mNone\u001b[39;00m \u001b[38;5;129;01mor\u001b[39;00m \u001b[38;5;28misinstance\u001b[39m(max_time, \u001b[38;5;28mint\u001b[39m)\n\u001b[32m    126\u001b[39m     \u001b[38;5;28;01melse\u001b[39;00m hms_to_seconds(max_time, \u001b[33m\"\u001b[39m\u001b[33mInvalid max_time value: \u001b[39m\u001b[33m\"\u001b[39m)\n\u001b[32m    127\u001b[39m )\n\u001b[32m    129\u001b[39m \u001b[38;5;28;01mif\u001b[39;00m \u001b[38;5;28misinstance\u001b[39m(\u001b[38;5;28mself\u001b[39m._backend, IBMBackend):\n",
      "\u001b[31mValueError\u001b[39m: Invalid backend type <class 'str'>"
     ]
    }
   ],
   "source": [
    "# Pick a real device (or set one explicitly, e.g., backend_name = \"ibm_brisbane\")\n",
    "real = [b for b in svc.backends() if not getattr(b.configuration(), \"simulator\", False) and b.status().operational]\n",
    "if not real:\n",
    "    raise RuntimeError(\"No operational real backends available to your account.\")\n",
    "backend_name = sorted(real, key=lambda b: (b.status().pending_jobs, b.configuration().num_qubits))[0].name\n",
    "print(\"Using backend:\", backend_name)\n",
    "\n",
    "# Tiny Bell circuit with measurement\n",
    "qc = qiskit.QuantumCircuit(2, 2)\n",
    "qc.h(0); qc.cx(0, 1); qc.measure([0, 1], [0, 1])\n",
    "\n",
    "# Run with Runtime V2\n",
    "with qiskit_ibm_runtime.Session(backend=backend_name) as session:\n",
    "    job = qiskit_ibm_runtime.SamplerV2(session=session).run([qc], shots=2048, seed=1234)\n",
    "    print(\"Job ID:\", job.job_id())\n",
    "    res = job.result()\n",
    "\n",
    "counts = res[0].data.meas.get_counts()\n",
    "shots = sum(counts.values())\n",
    "print(\"Total shots:\", shots)\n",
    "print({k: counts[k] for k in sorted(counts, key=counts.get, reverse=True)[:4]})"
   ]
  },
  {
   "cell_type": "code",
   "execution_count": null,
   "id": "59f93ce8-9937-42db-be86-e765d77ad722",
   "metadata": {},
   "outputs": [],
   "source": [
    "# from qiskit_ibm_runtime import QiskitRuntimeService\n",
    "# print(\"Saved accounts:\", list(QiskitRuntimeService.saved_accounts().keys()))\n",
    "# for name, meta in QiskitRuntimeService.saved_accounts().items():\n",
    "#     print(name, \"=>\", {k: meta.get(k) for k in (\"channel\",\"instance\",\"is_default\")})\n"
   ]
  },
  {
   "cell_type": "code",
   "execution_count": null,
   "id": "ea569c62-73f3-4b43-9695-f487377aa2b0",
   "metadata": {},
   "outputs": [],
   "source": [
    "# for name in list(QiskitRuntimeService.saved_accounts().keys()):\n",
    "#     QiskitRuntimeService.delete_account(name=name)"
   ]
  },
  {
   "cell_type": "code",
   "execution_count": null,
   "id": "4f0101c4-64c2-4210-af51-b038015e2a50",
   "metadata": {},
   "outputs": [],
   "source": []
  }
 ],
 "metadata": {
  "kernelspec": {
   "display_name": "Python (qiskit2x)",
   "language": "python",
   "name": "qiskit2x"
  },
  "language_info": {
   "codemirror_mode": {
    "name": "ipython",
    "version": 3
   },
   "file_extension": ".py",
   "mimetype": "text/x-python",
   "name": "python",
   "nbconvert_exporter": "python",
   "pygments_lexer": "ipython3",
   "version": "3.12.11"
  }
 },
 "nbformat": 4,
 "nbformat_minor": 5
}
