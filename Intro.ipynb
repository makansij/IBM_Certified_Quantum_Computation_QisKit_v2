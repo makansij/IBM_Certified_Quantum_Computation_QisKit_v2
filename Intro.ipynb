{
 "cells": [
  {
   "cell_type": "code",
   "execution_count": 2,
   "id": "0302d04b-73c3-4168-a5e4-85f3d672d3ae",
   "metadata": {},
   "outputs": [
    {
     "name": "stdout",
     "output_type": "stream",
     "text": [
      "Python full: 3.12.11 | packaged by Anaconda, Inc. | (main, Jun  5 2025, 08:03:38) [Clang 14.0.6 ]\n",
      "Python tuple: sys.version_info(major=3, minor=12, micro=11, releaselevel='final', serial=0)\n",
      "Python short: 3.12.11\n",
      "Executable: /opt/homebrew/anaconda3/envs/qiskit2x/bin/python\n"
     ]
    }
   ],
   "source": [
    "import sys, platform\n",
    "print(\"Python full:\", sys.version)          # e.g. '3.12.5 (main, ...)'\n",
    "print(\"Python tuple:\", sys.version_info)     # e.g. sys.version_info(major=3, minor=12, micro=5, ...)\n",
    "print(\"Python short:\", platform.python_version())  # e.g. '3.12.5'\n",
    "print(\"Executable:\", sys.executable)         # path to the kernel's python\n"
   ]
  },
  {
   "cell_type": "code",
   "execution_count": 3,
   "id": "4ee41186-67f1-41f2-a31c-675b5f6bb9c4",
   "metadata": {},
   "outputs": [
    {
     "name": "stdout",
     "output_type": "stream",
     "text": [
      "qiskit: 2.2.0\n",
      "runtime: 0.41.1\n"
     ]
    }
   ],
   "source": [
    "import qiskit, qiskit_ibm_runtime\n",
    "print(\"qiskit:\", qiskit.__version__)\n",
    "print(\"runtime:\", qiskit_ibm_runtime.__version__)\n"
   ]
  },
  {
   "cell_type": "code",
   "execution_count": 4,
   "id": "a3699c21-f06f-48c0-bad0-3b82d2aa095e",
   "metadata": {},
   "outputs": [
    {
     "name": "stdout",
     "output_type": "stream",
     "text": [
      "Saved IBM Quantum Platform account.\n"
     ]
    }
   ],
   "source": [
    "from qiskit_ibm_runtime import QiskitRuntimeService\n",
    "\n",
    "QiskitRuntimeService.save_account(\n",
    "    channel=\"ibm_quantum_platform\",\n",
    "    token=\"iwtFvllG-Xzlu9b7235CWZ_-fG5X0dF4XS2lMudXuzyk\",\n",
    "    set_as_default=True,\n",
    "    overwrite=True,\n",
    ")\n",
    "print(\"Saved IBM Quantum Platform account.\")\n"
   ]
  },
  {
   "cell_type": "code",
   "execution_count": 7,
   "id": "7b6694f3-590c-4b18-be80-af053a731fd5",
   "metadata": {},
   "outputs": [
    {
     "name": "stdout",
     "output_type": "stream",
     "text": [
      "Saved account on ibm_quantum_platform.\n"
     ]
    }
   ],
   "source": [
    "from qiskit_ibm_runtime import QiskitRuntimeService\n",
    "\n",
    "# 1) Remove any saved accounts (clears the mismatch)\n",
    "for name in list(QiskitRuntimeService.saved_accounts().keys()):\n",
    "    QiskitRuntimeService.delete_account(name=name)\n",
    "\n",
    "# 2) Save your personal account on the Quantum Platform channel (no CRN)\n",
    "QiskitRuntimeService.save_account(\n",
    "    channel=\"ibm_quantum_platform\",\n",
    "    token=\"PASTE_YOUR_API_TOKEN_HERE\",\n",
    "    set_as_default=True,\n",
    "    overwrite=True,\n",
    ")\n",
    "print(\"Saved account on ibm_quantum_platform.\")\n"
   ]
  },
  {
   "cell_type": "code",
   "execution_count": null,
   "id": "16299014-45eb-4035-ad32-68cff52c2d22",
   "metadata": {},
   "outputs": [],
   "source": []
  }
 ],
 "metadata": {
  "kernelspec": {
   "display_name": "Python (qiskit2x)",
   "language": "python",
   "name": "qiskit2x"
  },
  "language_info": {
   "codemirror_mode": {
    "name": "ipython",
    "version": 3
   },
   "file_extension": ".py",
   "mimetype": "text/x-python",
   "name": "python",
   "nbconvert_exporter": "python",
   "pygments_lexer": "ipython3",
   "version": "3.12.11"
  }
 },
 "nbformat": 4,
 "nbformat_minor": 5
}
