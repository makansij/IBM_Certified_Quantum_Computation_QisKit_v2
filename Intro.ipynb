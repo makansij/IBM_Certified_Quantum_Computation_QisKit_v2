{
 "cells": [
  {
   "cell_type": "code",
   "execution_count": 8,
   "id": "0302d04b-73c3-4168-a5e4-85f3d672d3ae",
   "metadata": {},
   "outputs": [
    {
     "name": "stdout",
     "output_type": "stream",
     "text": [
      "Python full: 3.12.11 | packaged by Anaconda, Inc. | (main, Jun  5 2025, 08:03:38) [Clang 14.0.6 ]\n",
      "Python tuple: sys.version_info(major=3, minor=12, micro=11, releaselevel='final', serial=0)\n",
      "Python short: 3.12.11\n",
      "Executable: /opt/homebrew/anaconda3/envs/qiskit2x/bin/python\n"
     ]
    }
   ],
   "source": [
    "import numpy as np\n",
    "import sys, platform\n",
    "print(\"Python full:\", sys.version)          # e.g. '3.12.5 (main, ...)'\n",
    "print(\"Python tuple:\", sys.version_info)     # e.g. sys.version_info(major=3, minor=12, micro=5, ...)\n",
    "print(\"Python short:\", platform.python_version())  # e.g. '3.12.5'\n",
    "print(\"Executable:\", sys.executable)         # path to the kernel's python\n"
   ]
  },
  {
   "cell_type": "code",
   "execution_count": 9,
   "id": "4ee41186-67f1-41f2-a31c-675b5f6bb9c4",
   "metadata": {},
   "outputs": [
    {
     "name": "stdout",
     "output_type": "stream",
     "text": [
      "qiskit: 2.2.0\n",
      "runtime: 0.41.1\n"
     ]
    }
   ],
   "source": [
    "import qiskit, qiskit_ibm_runtime\n",
    "print(\"qiskit:\", qiskit.__version__)\n",
    "print(\"runtime:\", qiskit_ibm_runtime.__version__)\n"
   ]
  },
  {
   "cell_type": "code",
   "execution_count": 10,
   "id": "a3699c21-f06f-48c0-bad0-3b82d2aa095e",
   "metadata": {},
   "outputs": [
    {
     "name": "stdout",
     "output_type": "stream",
     "text": [
      "Saved IBM Quantum Platform account.\n"
     ]
    }
   ],
   "source": [
    "qiskit_ibm_runtime.QiskitRuntimeService.save_account(\n",
    "    channel='ibm_quantum_platform',\n",
    "    token='RH-RO4uf1A9A4A7LkJsTBw27L2RH4BqAIodMBiZS0QyI',\n",
    "    set_as_default=True,\n",
    "    overwrite=True,\n",
    ")\n",
    "print(\"Saved IBM Quantum Platform account.\")\n"
   ]
  },
  {
   "cell_type": "code",
   "execution_count": 11,
   "id": "b455f664-a80d-44ea-99ed-f0137f906c8f",
   "metadata": {},
   "outputs": [
    {
     "name": "stderr",
     "output_type": "stream",
     "text": [
      "qiskit_runtime_service._resolve_cloud_instances:WARNING:2025-09-20 21:48:34,073: Default instance not set. Searching all available instances.\n"
     ]
    }
   ],
   "source": [
    "svc = qiskit_ibm_runtime.QiskitRuntimeService()  # loads your saved account\n",
    "\n"
   ]
  },
  {
   "cell_type": "code",
   "execution_count": 12,
   "id": "8fc614ec-fcb7-46f6-a81c-b364d6f1cc9f",
   "metadata": {},
   "outputs": [
    {
     "data": {
      "text/plain": [
       "<QiskitRuntimeService>"
      ]
     },
     "execution_count": 12,
     "metadata": {},
     "output_type": "execute_result"
    }
   ],
   "source": [
    "svc"
   ]
  },
  {
   "cell_type": "code",
   "execution_count": 17,
   "id": "a484ea63-1bb8-4a45-8572-d930e0fc6c91",
   "metadata": {},
   "outputs": [
    {
     "name": "stdout",
     "output_type": "stream",
     "text": [
      "Using backend: ibm_torino\n"
     ]
    },
    {
     "ename": "QiskitBackendNotFoundError",
     "evalue": "'No backend matches the criteria.'",
     "output_type": "error",
     "traceback": [
      "\u001b[31m---------------------------------------------------------------------------\u001b[39m",
      "\u001b[31mQiskitBackendNotFoundError\u001b[39m                Traceback (most recent call last)",
      "\u001b[36mCell\u001b[39m\u001b[36m \u001b[39m\u001b[32mIn[17]\u001b[39m\u001b[32m, line 9\u001b[39m\n\u001b[32m      6\u001b[39m \u001b[38;5;28mprint\u001b[39m(\u001b[33m\"\u001b[39m\u001b[33mUsing backend:\u001b[39m\u001b[33m\"\u001b[39m, backend_name)\n\u001b[32m      7\u001b[39m \u001b[38;5;66;03m# backend = svc.get_backend(backend_name)\u001b[39;00m\n\u001b[32m----> \u001b[39m\u001b[32m9\u001b[39m backend = \u001b[43msvc\u001b[49m\u001b[43m.\u001b[49m\u001b[43mleast_busy\u001b[49m\u001b[43m(\u001b[49m\n\u001b[32m     10\u001b[39m \u001b[43m    \u001b[49m\u001b[43moperational\u001b[49m\u001b[43m=\u001b[49m\u001b[38;5;28;43;01mTrue\u001b[39;49;00m\u001b[43m,\u001b[49m\u001b[43m \u001b[49m\u001b[43msimulator\u001b[49m\u001b[43m=\u001b[49m\u001b[38;5;28;43;01mFalse\u001b[39;49;00m\u001b[43m,\u001b[49m\u001b[43m \u001b[49m\u001b[43mmin_num_qubits\u001b[49m\u001b[43m=\u001b[49m\u001b[32;43m2\u001b[39;49m\n\u001b[32m     11\u001b[39m \u001b[43m)\u001b[49m\n\u001b[32m     13\u001b[39m \u001b[38;5;66;03m# Tiny Bell circuit with measurement\u001b[39;00m\n\u001b[32m     14\u001b[39m qc = qiskit.QuantumCircuit(\u001b[32m2\u001b[39m, \u001b[32m2\u001b[39m)\n",
      "\u001b[36mFile \u001b[39m\u001b[32m/opt/homebrew/anaconda3/envs/qiskit2x/lib/python3.12/site-packages/qiskit_ibm_runtime/qiskit_runtime_service.py:1199\u001b[39m, in \u001b[36mQiskitRuntimeService.least_busy\u001b[39m\u001b[34m(self, min_num_qubits, instance, filters, **kwargs)\u001b[39m\n\u001b[32m   1197\u001b[39m     candidates = \u001b[38;5;28mlist\u001b[39m(\u001b[38;5;28mfilter\u001b[39m(\u001b[38;5;28;01mlambda\u001b[39;00m b: b[\u001b[33m\"\u001b[39m\u001b[33mqubits\u001b[39m\u001b[33m\"\u001b[39m] >= min_num_qubits, candidates))\n\u001b[32m   1198\u001b[39m \u001b[38;5;28;01mif\u001b[39;00m \u001b[38;5;129;01mnot\u001b[39;00m candidates:\n\u001b[32m-> \u001b[39m\u001b[32m1199\u001b[39m     \u001b[38;5;28;01mraise\u001b[39;00m QiskitBackendNotFoundError(\u001b[33m\"\u001b[39m\u001b[33mNo backend matches the criteria.\u001b[39m\u001b[33m\"\u001b[39m)\n\u001b[32m   1200\u001b[39m sorted_backends = \u001b[38;5;28msorted\u001b[39m(candidates, key=\u001b[38;5;28;01mlambda\u001b[39;00m b: b[\u001b[33m\"\u001b[39m\u001b[33mqueue_length\u001b[39m\u001b[33m\"\u001b[39m])\n\u001b[32m   1201\u001b[39m \u001b[38;5;28;01mfor\u001b[39;00m back \u001b[38;5;129;01min\u001b[39;00m sorted_backends:\n\u001b[32m   1202\u001b[39m     \u001b[38;5;66;03m# We don't know whether or not the backend has a valid config\u001b[39;00m\n",
      "\u001b[31mQiskitBackendNotFoundError\u001b[39m: 'No backend matches the criteria.'"
     ]
    }
   ],
   "source": [
    "# Pick a real device (or set one explicitly, e.g., backend_name = \"ibm_brisbane\")\n",
    "real = [b for b in svc.backends() if not getattr(b.configuration(), \"simulator\", False) and b.status().operational]\n",
    "if not real:\n",
    "    raise RuntimeError(\"No operational real backends available to your account.\")\n",
    "backend_name = sorted(real, key=lambda b: (b.status().pending_jobs, b.configuration().num_qubits))[0].name\n",
    "print(\"Using backend:\", backend_name)\n",
    "# backend = svc.get_backend(backend_name)\n",
    "\n",
    "backend = svc.least_busy(\n",
    "    operational=True, simulator=False, min_num_qubits=n_qubits\n",
    ")\n",
    " \n",
    "# Tiny Bell circuit with measurement\n",
    "qc = qiskit.QuantumCircuit(2, 2)\n",
    "qc.h(0); qc.cx(0, 1); qc.measure([0, 1], [0, 1])\n",
    "\n",
    "# # Run with Runtime V2\n",
    "# with qiskit_ibm_runtime.Session(backend=svc.backends()[0]) as session:\n",
    "#     job = qiskit_ibm_runtime.SamplerV2(session=session).run([qc], shots=2048, seed=1234)\n",
    "#     print(\"Job ID:\", job.job_id())\n",
    "#     res = job.result()\n",
    "\n",
    "# counts = res[0].data.meas.get_counts()\n",
    "# shots = sum(counts.values())\n",
    "# print(\"Total shots:\", shots)\n",
    "# print({k: counts[k] for k in sorted(counts, key=counts.get, reverse=True)[:4]})\n",
    "\n"
   ]
  },
  {
   "cell_type": "code",
   "execution_count": 14,
   "id": "64985f40-ba53-4805-9104-f21e2f6f956c",
   "metadata": {},
   "outputs": [
    {
     "ename": "NameError",
     "evalue": "name 'random_hermitian' is not defined",
     "output_type": "error",
     "traceback": [
      "\u001b[31m---------------------------------------------------------------------------\u001b[39m",
      "\u001b[31mNameError\u001b[39m                                 Traceback (most recent call last)",
      "\u001b[36mCell\u001b[39m\u001b[36m \u001b[39m\u001b[32mIn[14]\u001b[39m\u001b[32m, line 3\u001b[39m\n\u001b[32m      1\u001b[39m n_qubits = \u001b[32m50\u001b[39m\n\u001b[32m----> \u001b[39m\u001b[32m3\u001b[39m mat = np.real(\u001b[43mrandom_hermitian\u001b[49m(n_qubits, seed=\u001b[32m1234\u001b[39m))\n\u001b[32m      4\u001b[39m circuit = iqp(mat)\n\u001b[32m      5\u001b[39m observable = SparsePauliOp(\u001b[33m\"\u001b[39m\u001b[33mZ\u001b[39m\u001b[33m\"\u001b[39m * \u001b[32m50\u001b[39m)\n",
      "\u001b[31mNameError\u001b[39m: name 'random_hermitian' is not defined"
     ]
    }
   ],
   "source": [
    "n_qubits = 50\n",
    "\n",
    "mat = np.real(random_hermitian(n_qubits, seed=1234))\n",
    "circuit = iqp(mat)\n",
    "observable = SparsePauliOp(\"Z\" * 50)\n",
    " \n",
    "pm = generate_preset_pass_manager(backend=backend, optimization_level=1)\n",
    "isa_circuit = pm.run(circuit)\n",
    "isa_observable = observable.apply_layout(isa_circuit.layout)\n",
    " \n",
    "estimator = Estimator(mode=backend)\n",
    "job = estimator.run([(isa_circuit, isa_observable)])\n",
    "result = job.result()\n",
    " \n",
    "print(f\" > Expectation value: {result[0].data.evs}\")\n",
    "print(f\" > Metadata: {result[0].metadata}\")"
   ]
  },
  {
   "cell_type": "code",
   "execution_count": null,
   "id": "59f93ce8-9937-42db-be86-e765d77ad722",
   "metadata": {},
   "outputs": [],
   "source": [
    "# from qiskit_ibm_runtime import QiskitRuntimeService\n",
    "# print(\"Saved accounts:\", list(QiskitRuntimeService.saved_accounts().keys()))\n",
    "# for name, meta in QiskitRuntimeService.saved_accounts().items():\n",
    "#     print(name, \"=>\", {k: meta.get(k) for k in (\"channel\",\"instance\",\"is_default\")})\n"
   ]
  },
  {
   "cell_type": "code",
   "execution_count": null,
   "id": "ea569c62-73f3-4b43-9695-f487377aa2b0",
   "metadata": {},
   "outputs": [],
   "source": [
    "# for name in list(QiskitRuntimeService.saved_accounts().keys()):\n",
    "#     QiskitRuntimeService.delete_account(name=name)"
   ]
  },
  {
   "cell_type": "code",
   "execution_count": null,
   "id": "637d6d61-c652-4a5e-ba3d-314ceaee46b9",
   "metadata": {},
   "outputs": [],
   "source": []
  },
  {
   "cell_type": "code",
   "execution_count": null,
   "id": "4f0101c4-64c2-4210-af51-b038015e2a50",
   "metadata": {},
   "outputs": [],
   "source": [
    "real"
   ]
  },
  {
   "cell_type": "code",
   "execution_count": null,
   "id": "d8f92acb-64d0-4f67-8983-9820c900f5ca",
   "metadata": {},
   "outputs": [],
   "source": []
  }
 ],
 "metadata": {
  "kernelspec": {
   "display_name": "Python (qiskit2x)",
   "language": "python",
   "name": "qiskit2x"
  },
  "language_info": {
   "codemirror_mode": {
    "name": "ipython",
    "version": 3
   },
   "file_extension": ".py",
   "mimetype": "text/x-python",
   "name": "python",
   "nbconvert_exporter": "python",
   "pygments_lexer": "ipython3",
   "version": "3.12.11"
  }
 },
 "nbformat": 4,
 "nbformat_minor": 5
}
