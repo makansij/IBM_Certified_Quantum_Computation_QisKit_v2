{
 "cells": [
  {
   "cell_type": "code",
   "execution_count": 1,
   "id": "0302d04b-73c3-4168-a5e4-85f3d672d3ae",
   "metadata": {},
   "outputs": [
    {
     "name": "stdout",
     "output_type": "stream",
     "text": [
      "Python full: 3.12.11 | packaged by Anaconda, Inc. | (main, Jun  5 2025, 08:03:38) [Clang 14.0.6 ]\n",
      "Python tuple: sys.version_info(major=3, minor=12, micro=11, releaselevel='final', serial=0)\n",
      "Python short: 3.12.11\n",
      "Executable: /opt/homebrew/anaconda3/envs/qiskit2x/bin/python\n"
     ]
    }
   ],
   "source": [
    "import sys, platform\n",
    "print(\"Python full:\", sys.version)          # e.g. '3.12.5 (main, ...)'\n",
    "print(\"Python tuple:\", sys.version_info)     # e.g. sys.version_info(major=3, minor=12, micro=5, ...)\n",
    "print(\"Python short:\", platform.python_version())  # e.g. '3.12.5'\n",
    "print(\"Executable:\", sys.executable)         # path to the kernel's python\n"
   ]
  },
  {
   "cell_type": "code",
   "execution_count": 2,
   "id": "4ee41186-67f1-41f2-a31c-675b5f6bb9c4",
   "metadata": {},
   "outputs": [
    {
     "name": "stdout",
     "output_type": "stream",
     "text": [
      "qiskit: 2.2.0\n",
      "runtime: 0.41.1\n"
     ]
    }
   ],
   "source": [
    "import qiskit, qiskit_ibm_runtime\n",
    "print(\"qiskit:\", qiskit.__version__)\n",
    "print(\"runtime:\", qiskit_ibm_runtime.__version__)\n"
   ]
  },
  {
   "cell_type": "code",
   "execution_count": 3,
   "id": "a3699c21-f06f-48c0-bad0-3b82d2aa095e",
   "metadata": {},
   "outputs": [
    {
     "name": "stdout",
     "output_type": "stream",
     "text": [
      "Saved IBM Quantum Platform account.\n"
     ]
    }
   ],
   "source": [
    "from qiskit_ibm_runtime import QiskitRuntimeService\n",
    "\n",
    "QiskitRuntimeService.save_account(\n",
    "    channel=\"ibm_quantum_platform\",\n",
    "    token=\"iwtFvllG-Xzlu9b7235CWZ_-fG5X0dF4XS2lMudXuzyk\",\n",
    "    set_as_default=True,\n",
    "    overwrite=True,\n",
    ")\n",
    "print(\"Saved IBM Quantum Platform account.\")\n"
   ]
  },
  {
   "cell_type": "code",
   "execution_count": 4,
   "id": "7b6694f3-590c-4b18-be80-af053a731fd5",
   "metadata": {},
   "outputs": [],
   "source": [
    "# from qiskit_ibm_runtime import QiskitRuntimeService\n",
    "\n",
    "# 1) Remove any saved accounts (clears the mismatch)\n",
    "# for name in list(QiskitRuntimeService.saved_accounts().keys()):\n",
    "#     QiskitRuntimeService.delete_account(name=name)\n",
    "\n",
    "# # 2) Save your personal account on the Quantum Platform channel (no CRN)\n",
    "# QiskitRuntimeService.save_account(\n",
    "#     channel=\"ibm_quantum_platform\",\n",
    "#     token=\"PASTE_YOUR_API_TOKEN_HERE\",\n",
    "#     set_as_default=True,\n",
    "#     overwrite=True,\n",
    "# )\n",
    "# print(\"Saved account on ibm_quantum_platform.\")\n"
   ]
  },
  {
   "cell_type": "code",
   "execution_count": 5,
   "id": "16299014-45eb-4035-ad32-68cff52c2d22",
   "metadata": {},
   "outputs": [
    {
     "name": "stderr",
     "output_type": "stream",
     "text": [
      "qiskit_runtime_service._resolve_cloud_instances:WARNING:2025-09-20 13:32:51,606: Default instance not set. Searching all available instances.\n"
     ]
    },
    {
     "ename": "IBMInputValueError",
     "evalue": "'No matching instances found for the following filters: .'",
     "output_type": "error",
     "traceback": [
      "\u001b[31m---------------------------------------------------------------------------\u001b[39m",
      "\u001b[31mIBMInputValueError\u001b[39m                        Traceback (most recent call last)",
      "\u001b[36mCell\u001b[39m\u001b[36m \u001b[39m\u001b[32mIn[5]\u001b[39m\u001b[32m, line 8\u001b[39m\n\u001b[32m      5\u001b[39m \u001b[38;5;28;01mfrom\u001b[39;00m\u001b[38;5;250m \u001b[39m\u001b[34;01mqiskit\u001b[39;00m\u001b[38;5;250m \u001b[39m\u001b[38;5;28;01mimport\u001b[39;00m QuantumCircuit\n\u001b[32m      6\u001b[39m \u001b[38;5;28;01mfrom\u001b[39;00m\u001b[38;5;250m \u001b[39m\u001b[34;01mqiskit_ibm_runtime\u001b[39;00m\u001b[38;5;250m \u001b[39m\u001b[38;5;28;01mimport\u001b[39;00m QiskitRuntimeService, Session, SamplerV2\n\u001b[32m----> \u001b[39m\u001b[32m8\u001b[39m svc = \u001b[43mQiskitRuntimeService\u001b[49m\u001b[43m(\u001b[49m\u001b[43m)\u001b[49m  \u001b[38;5;66;03m# loads your saved account\u001b[39;00m\n\u001b[32m     10\u001b[39m \u001b[38;5;66;03m# Pick a real device (or set one explicitly, e.g., backend_name = \"ibm_brisbane\")\u001b[39;00m\n\u001b[32m     11\u001b[39m real = [b \u001b[38;5;28;01mfor\u001b[39;00m b \u001b[38;5;129;01min\u001b[39;00m svc.backends() \u001b[38;5;28;01mif\u001b[39;00m \u001b[38;5;129;01mnot\u001b[39;00m \u001b[38;5;28mgetattr\u001b[39m(b.configuration(), \u001b[33m\"\u001b[39m\u001b[33msimulator\u001b[39m\u001b[33m\"\u001b[39m, \u001b[38;5;28;01mFalse\u001b[39;00m) \u001b[38;5;129;01mand\u001b[39;00m b.status().operational]\n",
      "\u001b[36mFile \u001b[39m\u001b[32m/opt/homebrew/anaconda3/envs/qiskit2x/lib/python3.12/site-packages/qiskit_ibm_runtime/qiskit_runtime_service.py:184\u001b[39m, in \u001b[36mQiskitRuntimeService.__init__\u001b[39m\u001b[34m(self, channel, token, url, filename, name, instance, proxies, verify, private_endpoint, url_resolver, region, plans_preference, tags)\u001b[39m\n\u001b[32m    182\u001b[39m \u001b[38;5;28;01melse\u001b[39;00m:\n\u001b[32m    183\u001b[39m     \u001b[38;5;28mself\u001b[39m._api_clients = {}\n\u001b[32m--> \u001b[39m\u001b[32m184\u001b[39m     instance_backends = \u001b[38;5;28;43mself\u001b[39;49m\u001b[43m.\u001b[49m\u001b[43m_resolve_cloud_instances\u001b[49m\u001b[43m(\u001b[49m\u001b[43minstance\u001b[49m\u001b[43m)\u001b[49m\n\u001b[32m    185\u001b[39m     \u001b[38;5;28;01mfor\u001b[39;00m inst, _ \u001b[38;5;129;01min\u001b[39;00m instance_backends:\n\u001b[32m    186\u001b[39m         \u001b[38;5;28mself\u001b[39m._get_or_create_cloud_client(inst)\n",
      "\u001b[36mFile \u001b[39m\u001b[32m/opt/homebrew/anaconda3/envs/qiskit2x/lib/python3.12/site-packages/qiskit_ibm_runtime/qiskit_runtime_service.py:549\u001b[39m, in \u001b[36mQiskitRuntimeService._resolve_cloud_instances\u001b[39m\u001b[34m(self, instance)\u001b[39m\n\u001b[32m    539\u001b[39m \u001b[38;5;28;01mif\u001b[39;00m \u001b[38;5;129;01mnot\u001b[39;00m \u001b[38;5;28mself\u001b[39m._backend_instance_groups:\n\u001b[32m    540\u001b[39m     \u001b[38;5;28mself\u001b[39m._backend_instance_groups = [\n\u001b[32m    541\u001b[39m         {\n\u001b[32m    542\u001b[39m             \u001b[33m\"\u001b[39m\u001b[33mcrn\u001b[39m\u001b[33m\"\u001b[39m: inst[\u001b[33m\"\u001b[39m\u001b[33mcrn\u001b[39m\u001b[33m\"\u001b[39m],\n\u001b[32m   (...)\u001b[39m\u001b[32m    547\u001b[39m         \u001b[38;5;28;01mfor\u001b[39;00m inst \u001b[38;5;129;01min\u001b[39;00m \u001b[38;5;28mself\u001b[39m._all_instances\n\u001b[32m    548\u001b[39m     ]\n\u001b[32m--> \u001b[39m\u001b[32m549\u001b[39m     \u001b[38;5;28;43mself\u001b[39;49m\u001b[43m.\u001b[49m\u001b[43m_filter_instances_by_saved_preferences\u001b[49m\u001b[43m(\u001b[49m\u001b[43m)\u001b[49m\n\u001b[32m    550\u001b[39m \u001b[38;5;28;01mreturn\u001b[39;00m [(inst[\u001b[33m\"\u001b[39m\u001b[33mcrn\u001b[39m\u001b[33m\"\u001b[39m], inst[\u001b[33m\"\u001b[39m\u001b[33mbackends\u001b[39m\u001b[33m\"\u001b[39m]) \u001b[38;5;28;01mfor\u001b[39;00m inst \u001b[38;5;129;01min\u001b[39;00m \u001b[38;5;28mself\u001b[39m._backend_instance_groups]\n",
      "\u001b[36mFile \u001b[39m\u001b[32m/opt/homebrew/anaconda3/envs/qiskit2x/lib/python3.12/site-packages/qiskit_ibm_runtime/qiskit_runtime_service.py:255\u001b[39m, in \u001b[36mQiskitRuntimeService._filter_instances_by_saved_preferences\u001b[39m\u001b[34m(self)\u001b[39m\n\u001b[32m    253\u001b[39m \u001b[38;5;28;01mif\u001b[39;00m \u001b[38;5;28mself\u001b[39m._plans_preference:\n\u001b[32m    254\u001b[39m     error_string += \u001b[33mf\u001b[39m\u001b[33m\"\u001b[39m\u001b[33mplan: \u001b[39m\u001b[38;5;132;01m{\u001b[39;00m\u001b[38;5;28mself\u001b[39m._plans_preference\u001b[38;5;132;01m}\u001b[39;00m\u001b[33m\"\u001b[39m\n\u001b[32m--> \u001b[39m\u001b[32m255\u001b[39m \u001b[38;5;28;01mraise\u001b[39;00m IBMInputValueError(\n\u001b[32m    256\u001b[39m     \u001b[33m\"\u001b[39m\u001b[33mNo matching instances found for the following filters:\u001b[39m\u001b[33m\"\u001b[39m,\n\u001b[32m    257\u001b[39m     \u001b[33mf\u001b[39m\u001b[33m\"\u001b[39m\u001b[38;5;132;01m{\u001b[39;00merror_string\u001b[38;5;132;01m}\u001b[39;00m\u001b[33m.\u001b[39m\u001b[33m\"\u001b[39m,\n\u001b[32m    258\u001b[39m )\n",
      "\u001b[31mIBMInputValueError\u001b[39m: 'No matching instances found for the following filters: .'"
     ]
    }
   ],
   "source": [
    "# Prereq (run once, earlier): \n",
    "# from qiskit_ibm_runtime import QiskitRuntimeService\n",
    "# QiskitRuntimeService.save_account(channel=\"ibm_quantum_platform\", token=\"YOUR_API_TOKEN\", set_as_default=True, overwrite=True)\n",
    "\n",
    "from qiskit import QuantumCircuit\n",
    "from qiskit_ibm_runtime import QiskitRuntimeService, Session, SamplerV2\n",
    "\n",
    "svc = QiskitRuntimeService()  # loads your saved account\n",
    "\n",
    "# Pick a real device (or set one explicitly, e.g., backend_name = \"ibm_brisbane\")\n",
    "real = [b for b in svc.backends() if not getattr(b.configuration(), \"simulator\", False) and b.status().operational]\n",
    "if not real:\n",
    "    raise RuntimeError(\"No operational real backends available to your account.\")\n",
    "backend_name = sorted(real, key=lambda b: (b.status().pending_jobs, b.configuration().num_qubits))[0].name\n",
    "print(\"Using backend:\", backend_name)\n",
    "\n",
    "# Tiny Bell circuit with measurement\n",
    "qc = QuantumCircuit(2, 2)\n",
    "qc.h(0); qc.cx(0, 1); qc.measure([0, 1], [0, 1])\n",
    "\n",
    "# Run with Runtime V2\n",
    "with Session(service=svc, backend=backend_name) as session:\n",
    "    job = SamplerV2(session=session).run([qc], shots=2048, seed=1234)\n",
    "    print(\"Job ID:\", job.job_id())\n",
    "    res = job.result()\n",
    "\n",
    "counts = res[0].data.meas.get_counts()\n",
    "shots = sum(counts.values())\n",
    "print(\"Total shots:\", shots)\n",
    "print({k: counts[k] for k in sorted(counts, key=counts.get, reverse=True)[:4]})\n"
   ]
  },
  {
   "cell_type": "code",
   "execution_count": 6,
   "id": "59f93ce8-9937-42db-be86-e765d77ad722",
   "metadata": {},
   "outputs": [
    {
     "name": "stdout",
     "output_type": "stream",
     "text": [
      "Saved accounts: ['default-ibm-quantum-platform']\n",
      "default-ibm-quantum-platform => {'channel': 'ibm_quantum_platform', 'instance': None, 'is_default': None}\n"
     ]
    }
   ],
   "source": [
    "from qiskit_ibm_runtime import QiskitRuntimeService\n",
    "print(\"Saved accounts:\", list(QiskitRuntimeService.saved_accounts().keys()))\n",
    "for name, meta in QiskitRuntimeService.saved_accounts().items():\n",
    "    print(name, \"=>\", {k: meta.get(k) for k in (\"channel\",\"instance\",\"is_default\")})\n"
   ]
  },
  {
   "cell_type": "code",
   "execution_count": 7,
   "id": "ea569c62-73f3-4b43-9695-f487377aa2b0",
   "metadata": {},
   "outputs": [],
   "source": [
    "for name in list(QiskitRuntimeService.saved_accounts().keys()):\n",
    "    QiskitRuntimeService.delete_account(name=name)"
   ]
  },
  {
   "cell_type": "code",
   "execution_count": null,
   "id": "4f0101c4-64c2-4210-af51-b038015e2a50",
   "metadata": {},
   "outputs": [],
   "source": []
  }
 ],
 "metadata": {
  "kernelspec": {
   "display_name": "Python (qiskit2x)",
   "language": "python",
   "name": "qiskit2x"
  },
  "language_info": {
   "codemirror_mode": {
    "name": "ipython",
    "version": 3
   },
   "file_extension": ".py",
   "mimetype": "text/x-python",
   "name": "python",
   "nbconvert_exporter": "python",
   "pygments_lexer": "ipython3",
   "version": "3.12.11"
  }
 },
 "nbformat": 4,
 "nbformat_minor": 5
}
