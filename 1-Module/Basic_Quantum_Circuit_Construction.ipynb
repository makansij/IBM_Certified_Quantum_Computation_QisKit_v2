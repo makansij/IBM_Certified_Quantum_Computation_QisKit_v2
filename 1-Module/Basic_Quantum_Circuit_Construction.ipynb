{
 "cells": [
  {
   "cell_type": "code",
   "execution_count": 9,
   "id": "7cb315a9-2602-490c-8e1b-69a46c37591f",
   "metadata": {},
   "outputs": [],
   "source": [
    "import qiskit\n",
    "import numpy as np\n",
    "# from qiskit import QuantumCircuit, QuantumRegister, ClassicalRegister, execute, IBMQ\n",
    "from qiskit import QuantumCircuit, QuantumRegister, ClassicalRegister\n",
    "from qiskit.visualization import circuit_drawer\n",
    "# from qiskit import execute"
   ]
  },
  {
   "cell_type": "markdown",
   "id": "49d563e1-cf5e-4ba0-9651-e0a98b87baba",
   "metadata": {},
   "source": [
    "*Drawing circuits:*\n",
    "This is the first skill we'll learn because it'll help learn everything else in this section.\n",
    "There are 2 options for drawing circuits: \n",
    "\n",
    "1). mpl \n",
    "\n",
    "2). text "
   ]
  },
  {
   "cell_type": "markdown",
   "id": "3ddc6e35-7bc3-4f11-b8ec-e785a52ffb58",
   "metadata": {},
   "source": [
    "**mpl:**\n",
    "- requires matplotlib to be installed"
   ]
  },
  {
   "cell_type": "code",
   "execution_count": 2,
   "id": "2342587c-3c73-428c-8215-375b3ff338a3",
   "metadata": {
    "scrolled": true
   },
   "outputs": [
    {
     "data": {
      "image/png": "[encoded data removed]",
      "text/plain": [
       "<Figure size 162.08x284.278 with 1 Axes>"
      ]
     },
     "execution_count": 2,
     "metadata": {},
     "output_type": "execute_result"
    }
   ],
   "source": [
    "qc = QuantumCircuit(3)\n",
    "qc.draw(output ='mpl') # mpl -> matplotlib"
   ]
  },
  {
   "cell_type": "code",
   "execution_count": 3,
   "id": "c2c15d3b-59cc-46b4-8cb9-6591d2a41354",
   "metadata": {},
   "outputs": [
    {
     "data": {
      "text/html": [
       "<pre style=\"word-wrap: normal;white-space: pre;background: #fff0;line-height: 1.1;font-family: &quot;Courier New&quot;,Courier,monospace\">     \n",
       "q_0: \n",
       "     \n",
       "q_1: \n",
       "     \n",
       "q_2: \n",
       "     </pre>"
      ],
      "text/plain": [
       "     \n",
       "q_0: \n",
       "     \n",
       "q_1: \n",
       "     \n",
       "q_2: \n",
       "     "
      ]
     },
     "execution_count": 3,
     "metadata": {},
     "output_type": "execute_result"
    }
   ],
   "source": [
    "qc = QuantumCircuit(3)\n",
    "qc.draw(output = 'text')"
   ]
  },
  {
   "cell_type": "code",
   "execution_count": 4,
   "id": "d93d96f2-ca75-4493-a8ec-34944fc25ee7",
   "metadata": {},
   "outputs": [
    {
     "data": {
      "image/png": "[encoded data removed]",
      "text/plain": [
       "<Figure size 162.08x284.278 with 1 Axes>"
      ]
     },
     "execution_count": 4,
     "metadata": {},
     "output_type": "execute_result"
    }
   ],
   "source": [
    "# circuit_drawer is not a method of the qc class - it's a function.\n",
    "circuit_drawer(qc, output='mpl')"
   ]
  },
  {
   "cell_type": "code",
   "execution_count": 5,
   "id": "69d00ba6-79d5-455d-8e04-6ee527b2629b",
   "metadata": {},
   "outputs": [
    {
     "data": {
      "text/html": [
       "<pre style=\"word-wrap: normal;white-space: pre;background: #fff0;line-height: 1.1;font-family: &quot;Courier New&quot;,Courier,monospace\">     \n",
       "q_0: \n",
       "     \n",
       "q_1: \n",
       "     \n",
       "q_2: \n",
       "     </pre>"
      ],
      "text/plain": [
       "     \n",
       "q_0: \n",
       "     \n",
       "q_1: \n",
       "     \n",
       "q_2: \n",
       "     "
      ]
     },
     "execution_count": 5,
     "metadata": {},
     "output_type": "execute_result"
    }
   ],
   "source": [
    "circuit_drawer(qc, output='text')"
   ]
  },
  {
   "cell_type": "markdown",
   "id": "e39aec88-608c-4b28-b888-4524dc2d92a8",
   "metadata": {},
   "source": [
    "### Saving quantum circuit\n",
    "- you must save it using output='mpl'"
   ]
  },
  {
   "cell_type": "code",
   "execution_count": 6,
   "id": "e100db0c-d25b-4ecf-b262-b741fd16b4a8",
   "metadata": {},
   "outputs": [
    {
     "data": {
      "image/png": "[encoded data removed]",
      "text/plain": [
       "<Figure size 162.08x284.278 with 1 Axes>"
      ]
     },
     "execution_count": 6,
     "metadata": {},
     "output_type": "execute_result"
    }
   ],
   "source": [
    "qc.draw('mpl', filename='circuit.pdf')"
   ]
  },
  {
   "cell_type": "markdown",
   "id": "75f6be94-f704-415d-9ac4-48a736d5e853",
   "metadata": {},
   "source": [
    "### Quantum and classical Registers"
   ]
  },
  {
   "cell_type": "code",
   "execution_count": 7,
   "id": "27d54bba-5a2f-4f77-9af9-8e517c1f0eb4",
   "metadata": {},
   "outputs": [],
   "source": [
    "# You can concatenate quantum and classical registers\n",
    "qc_quantum = QuantumRegister(2)\n",
    "qc_classical = ClassicalRegister(2)\n",
    "qc = QuantumCircuit(qc_quantum, qc_classical)"
   ]
  },
  {
   "cell_type": "code",
   "execution_count": 8,
   "id": "40642822-9aca-4fdf-9bbc-61d66e257d5e",
   "metadata": {},
   "outputs": [
    {
     "data": {
      "text/html": [
       "<pre style=\"word-wrap: normal;white-space: pre;background: #fff0;line-height: 1.1;font-family: &quot;Courier New&quot;,Courier,monospace\">      \n",
       "q0_0: \n",
       "      \n",
       "q0_1: \n",
       "      \n",
       "c0: 2/\n",
       "      </pre>"
      ],
      "text/plain": [
       "      \n",
       "q0_0: \n",
       "      \n",
       "q0_1: \n",
       "      \n",
       "c0: 2/\n",
       "      "
      ]
     },
     "execution_count": 8,
     "metadata": {},
     "output_type": "execute_result"
    }
   ],
   "source": [
    "qc.draw(output='text')"
   ]
  },
  {
   "cell_type": "code",
   "execution_count": 9,
   "id": "e13a06c2-df3b-4434-87dd-b5a8cb514bef",
   "metadata": {},
   "outputs": [
    {
     "data": {
      "text/html": [
       "<pre style=\"word-wrap: normal;white-space: pre;background: #fff0;line-height: 1.1;font-family: &quot;Courier New&quot;,Courier,monospace\">     ┌───┐┌─┐\n",
       "q_0: ┤ X ├┤M├\n",
       "     └───┘└╥┘\n",
       "q_1: ──────╫─\n",
       "           ║ \n",
       "q_2: ──────╫─\n",
       "      ┌─┐  ║ \n",
       "q_3: ─┤M├──╫─\n",
       "      └╥┘  ║ \n",
       "c: 2/══╩═══╩═\n",
       "       1   0 </pre>"
      ],
      "text/plain": [
       "     ┌───┐┌─┐\n",
       "q_0: ┤ X ├┤M├\n",
       "     └───┘└╥┘\n",
       "q_1: ──────╫─\n",
       "           ║ \n",
       "q_2: ──────╫─\n",
       "      ┌─┐  ║ \n",
       "q_3: ─┤M├──╫─\n",
       "      └╥┘  ║ \n",
       "c: 2/══╩═══╩═\n",
       "       1   0 "
      ]
     },
     "execution_count": 9,
     "metadata": {},
     "output_type": "execute_result"
    }
   ],
   "source": [
    "qc = QuantumCircuit(4,2)\n",
    "qc.x(0)\n",
    "qc.measure([0,3],[0,1])\n",
    "# qc.measure_all()\n",
    "qc.draw(output='text')"
   ]
  },
  {
   "cell_type": "code",
   "execution_count": 10,
   "id": "dfaf3ff8-cc48-4600-ab57-75a7a497df71",
   "metadata": {},
   "outputs": [
    {
     "data": {
      "text/html": [
       "<pre style=\"word-wrap: normal;white-space: pre;background: #fff0;line-height: 1.1;font-family: &quot;Courier New&quot;,Courier,monospace\">        ┌───┐ ░ ┌─┐         \n",
       "   q_0: ┤ X ├─░─┤M├─────────\n",
       "        └───┘ ░ └╥┘┌─┐      \n",
       "   q_1: ──────░──╫─┤M├──────\n",
       "              ░  ║ └╥┘┌─┐   \n",
       "   q_2: ──────░──╫──╫─┤M├───\n",
       "              ░  ║  ║ └╥┘┌─┐\n",
       "   q_3: ──────░──╫──╫──╫─┤M├\n",
       "              ░  ║  ║  ║ └╥┘\n",
       "   c: 2/═════════╬══╬══╬══╬═\n",
       "                 ║  ║  ║  ║ \n",
       "meas: 4/═════════╩══╩══╩══╩═\n",
       "                 0  1  2  3 </pre>"
      ],
      "text/plain": [
       "        ┌───┐ ░ ┌─┐         \n",
       "   q_0: ┤ X ├─░─┤M├─────────\n",
       "        └───┘ ░ └╥┘┌─┐      \n",
       "   q_1: ──────░──╫─┤M├──────\n",
       "              ░  ║ └╥┘┌─┐   \n",
       "   q_2: ──────░──╫──╫─┤M├───\n",
       "              ░  ║  ║ └╥┘┌─┐\n",
       "   q_3: ──────░──╫──╫──╫─┤M├\n",
       "              ░  ║  ║  ║ └╥┘\n",
       "   c: 2/═════════╬══╬══╬══╬═\n",
       "                 ║  ║  ║  ║ \n",
       "meas: 4/═════════╩══╩══╩══╩═\n",
       "                 0  1  2  3 "
      ]
     },
     "execution_count": 10,
     "metadata": {},
     "output_type": "execute_result"
    }
   ],
   "source": [
    "qc = QuantumCircuit(4,2)\n",
    "qc.x(0)\n",
    "# qc.measure([0,3],[0,1])\n",
    "qc.measure_all()\n",
    "qc.draw(output='text')"
   ]
  },
  {
   "cell_type": "code",
   "execution_count": 11,
   "id": "e34c408e-b3c7-45b9-bbd2-9e7c898c4b9a",
   "metadata": {},
   "outputs": [
    {
     "data": {
      "text/html": [
       "<pre style=\"word-wrap: normal;white-space: pre;background: #fff0;line-height: 1.1;font-family: &quot;Courier New&quot;,Courier,monospace\">     ┌───┐      ░ \n",
       "q_0: ┤ X ├──■───░─\n",
       "     └───┘  │   ░ \n",
       "q_1: ───────■───░─\n",
       "          ┌─┴─┐ ░ \n",
       "q_2: ─────┤ X ├─░─\n",
       "          └───┘ ░ \n",
       "q_3: ───────────░─\n",
       "                ░ \n",
       "c: 2/═════════════\n",
       "                  </pre>"
      ],
      "text/plain": [
       "     ┌───┐      ░ \n",
       "q_0: ┤ X ├──■───░─\n",
       "     └───┘  │   ░ \n",
       "q_1: ───────■───░─\n",
       "          ┌─┴─┐ ░ \n",
       "q_2: ─────┤ X ├─░─\n",
       "          └───┘ ░ \n",
       "q_3: ───────────░─\n",
       "                ░ \n",
       "c: 2/═════════════\n",
       "                  "
      ]
     },
     "execution_count": 11,
     "metadata": {},
     "output_type": "execute_result"
    }
   ],
   "source": [
    "qc = QuantumCircuit(4,2)\n",
    "qc.x(0)\n",
    "qc.mcx([0,1],2)\n",
    "qc.barrier(0,1,2,3)\n",
    "qc.draw(output='text')"
   ]
  },
  {
   "cell_type": "code",
   "execution_count": 13,
   "id": "845a9ed0-cd2d-4cbe-9111-ffdfa16c5cbd",
   "metadata": {},
   "outputs": [],
   "source": [
    "from qiskit.providers.aer import Aer\n",
    "from qiskit import transpile"
   ]
  },
  {
   "cell_type": "code",
   "execution_count": 14,
   "id": "13f21619-bd8f-45b2-9012-6620599897a4",
   "metadata": {},
   "outputs": [
    {
     "ename": "NameError",
     "evalue": "name 'execute' is not defined",
     "output_type": "error",
     "traceback": [
      "\u001b[0;31m---------------------------------------------------------------------------\u001b[0m",
      "\u001b[0;31mNameError\u001b[0m                                 Traceback (most recent call last)",
      "Cell \u001b[0;32mIn[14], line 5\u001b[0m\n\u001b[1;32m      3\u001b[0m qc\u001b[38;5;241m.\u001b[39mmeasure([\u001b[38;5;241m0\u001b[39m,\u001b[38;5;241m1\u001b[39m], [\u001b[38;5;241m0\u001b[39m,\u001b[38;5;241m1\u001b[39m])\n\u001b[1;32m      4\u001b[0m simulator \u001b[38;5;241m=\u001b[39m Aer\u001b[38;5;241m.\u001b[39mget_backend(\u001b[38;5;124m'\u001b[39m\u001b[38;5;124mqasm_simulator\u001b[39m\u001b[38;5;124m'\u001b[39m)\n\u001b[0;32m----> 5\u001b[0m result \u001b[38;5;241m=\u001b[39m \u001b[43mexecute\u001b[49m(qc, simulator, shots\u001b[38;5;241m=\u001b[39m\u001b[38;5;241m1000\u001b[39m)\u001b[38;5;241m.\u001b[39mresult()\n\u001b[1;32m      6\u001b[0m counts \u001b[38;5;241m=\u001b[39m result\u001b[38;5;241m.\u001b[39mget_counts(qc)\n\u001b[1;32m      7\u001b[0m \u001b[38;5;28mprint\u001b[39m(counts)\n",
      "\u001b[0;31mNameError\u001b[0m: name 'execute' is not defined"
     ]
    }
   ],
   "source": [
    "qc = QuantumCircuit(2, 2)\n",
    "qc.x(0)\n",
    "qc.measure([0,1], [0,1])\n",
    "simulator = Aer.get_backend('qasm_simulator')\n",
    "result = execute(qc, simulator, shots=1000).result()\n",
    "counts = result.get_counts(qc)\n",
    "print(counts)"
   ]
  },
  {
   "cell_type": "code",
   "execution_count": null,
   "id": "e1144252-97eb-46ab-9d2f-e45015736f7d",
   "metadata": {},
   "outputs": [],
   "source": [
    "# works with current qiskit\n",
    "print('works with current qiskit ' + str(qiskit.__version__))\n",
    "from qiskit import transpile\n",
    "qc = QuantumCircuit(2, 2)\n",
    "qc.x(0)\n",
    "qc.measure([0,1], [0,1])\n",
    "qc.draw('mpl')\n",
    "\n"
   ]
  },
  {
   "cell_type": "code",
   "execution_count": null,
   "id": "ba9bdf02-2e28-43a1-a0cd-d225cd3fe005",
   "metadata": {},
   "outputs": [],
   "source": [
    "# get the counts\n",
    "simulator = Aer.get_backend('qasm_simulator')\n",
    "circuit_isa = transpile(qc, simulator)\n",
    "result = simulator.run(circuit_isa, shots=1000).result()\n",
    "counts = result.get_counts(qc)\n",
    "print(counts)"
   ]
  },
  {
   "cell_type": "code",
   "execution_count": null,
   "id": "49986f6d-a02e-4951-b3e2-5ea4f2a475fb",
   "metadata": {},
   "outputs": [],
   "source": []
  }
 ],
 "metadata": {
  "kernelspec": {
   "display_name": "Python 3.10 (Qiskit-Cert)",
   "language": "python",
   "name": "qiskit-cert"
  },
  "language_info": {
   "codemirror_mode": {
    "name": "ipython",
    "version": 3
   },
   "file_extension": ".py",
   "mimetype": "text/x-python",
   "name": "python",
   "nbconvert_exporter": "python",
   "pygments_lexer": "ipython3",
   "version": "3.10.13"
  }
 },
 "nbformat": 4,
 "nbformat_minor": 5
}
