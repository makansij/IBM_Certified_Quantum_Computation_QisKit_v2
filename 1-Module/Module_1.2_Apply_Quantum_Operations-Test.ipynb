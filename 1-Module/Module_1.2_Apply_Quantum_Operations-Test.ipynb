{
 "cells": [
  {
   "cell_type": "markdown",
   "id": "69ddf6a1",
   "metadata": {},
   "source": [
    "# Qiskit Certification Prep - Module 1.2 - Apply Quantum Operations\n",
    "## Tensor Products and Multi-Qubit Systems"
   ]
  },
  {
   "cell_type": "markdown",
   "id": "9900afc8",
   "metadata": {},
   "source": [
    "### Section 0: Tensor Products"
   ]
  },
  {
   "cell_type": "markdown",
   "id": "a4026cb0",
   "metadata": {},
   "source": [
    "Tensor products are used to describe multi-qubit systems. For example:\n",
    "\n",
    "- $|0\\rangle \\otimes |0\\rangle = |00\\rangle$\n",
    "- $|0\\rangle \\otimes |1\\rangle = |01\\rangle$\n",
    "- $|+\\rangle \\otimes |+\\rangle = \\frac{1}{2}(|00\\rangle + |01\\rangle + |10\\rangle + |11\\rangle)$\n",
    "- $|+\\rangle \\otimes |-\\rangle = \\frac{1}{2}(|00\\rangle - |01\\rangle + |10\\rangle - |11\\rangle)$"
   ]
  },
  {
   "cell_type": "code",
   "execution_count": 1,
   "id": "a7435cc7",
   "metadata": {},
   "outputs": [
    {
     "name": "stdout",
     "output_type": "stream",
     "text": [
      "Tensor |0⟩ ⊗ |0⟩ = Statevector([1.+0.j, 0.+0.j, 0.+0.j, 0.+0.j],\n",
      "            dims=(2, 2))\n",
      "|+⟩ ⊗ |+⟩ = Statevector([0.5+0.j, 0.5+0.j, 0.5+0.j, 0.5+0.j],\n",
      "            dims=(2, 2))\n"
     ]
    }
   ],
   "source": [
    "from qiskit.quantum_info import Statevector\n",
    "\n",
    "# Tensor product of |0> and |0>\n",
    "print(\"Tensor |0⟩ ⊗ |0⟩ =\", Statevector.from_label('00'))\n",
    "\n",
    "# Tensor |+> ⊗ |+>\n",
    "plus_plus = Statevector([0.5, 0.5, 0.5, 0.5])\n",
    "print(\"|+⟩ ⊗ |+⟩ =\", plus_plus)\n"
   ]
  },
  {
   "cell_type": "markdown",
   "id": "c281b8c1",
   "metadata": {},
   "source": [
    "**What You Need to Know for the Exam:**  \n",
    "- ✅ Multi-qubit states are tensor products of single-qubit states  \n",
    "- ✅ Gates on multiple qubits can be tensor products of single-qubit gates (e.g., \\( $I \\otimes X$ \\))  \n",
    "- ✅ Tensor product order matters: \\( $|0\\rangle \\otimes |1\\rangle \\ne |1\\rangle \\otimes |0\\rangle$ \\)  \n",
    "- ✅ You should understand how these operations affect statevectors and circuits"
   ]
  },
  {
   "cell_type": "markdown",
   "id": "611d8e6a",
   "metadata": {},
   "source": [
    "## Section 1 – Gate Tensor Products\n",
    "\n",
    "Gate operations on multi-qubit systems can be expressed as tensor products of single-qubit gates. For example, applying the Pauli-X gate to the *second* qubit in a three-qubit system corresponds to:\n",
    "\n",
    "$$I \\otimes X \\otimes I$$\n",
    "\n",
    "This operation will flip the middle qubit state of any three-qubit vector."
   ]
  },
  {
   "cell_type": "code",
   "execution_count": 2,
   "id": "6b0fd5a3",
   "metadata": {},
   "outputs": [
    {
     "name": "stdout",
     "output_type": "stream",
     "text": [
      "Initial state: Statevector([0.+0.j, 0.+0.j, 1.+0.j, 0.+0.j, 0.+0.j, 0.+0.j, 0.+0.j,\n",
      "             0.+0.j],\n",
      "            dims=(2, 2, 2))\n"
     ]
    },
    {
     "data": {
      "image/png": "[encoded data removed]",
      "text/plain": [
       "<Figure size 203.885x284.278 with 1 Axes>"
      ]
     },
     "metadata": {},
     "output_type": "display_data"
    },
    {
     "name": "stdout",
     "output_type": "stream",
     "text": [
      "After I⊗X⊗I on |010> → Statevector([1.+0.j, 0.+0.j, 0.+0.j, 0.+0.j, 0.+0.j, 0.+0.j, 0.+0.j,\n",
      "             0.+0.j],\n",
      "            dims=(2, 2, 2))\n",
      "Probabilities: {np.str_('000'): np.float64(1.0)}\n"
     ]
    }
   ],
   "source": [
    "from qiskit import QuantumCircuit\n",
    "from qiskit.quantum_info import Statevector, Operator\n",
    "\n",
    "# Initial state |010>\n",
    "state = Statevector.from_label('010')\n",
    "print('Initial state:', state)\n",
    "\n",
    "# Build gate: X on qubit 1 (middle qubit)\n",
    "qc = QuantumCircuit(3)\n",
    "qc.x(1)\n",
    "display(qc.draw('mpl'))\n",
    "\n",
    "# Evolve the state\n",
    "new_state = state.evolve(qc.to_instruction())\n",
    "print('After I⊗X⊗I on |010> →', new_state)\n",
    "print('Probabilities:', new_state.probabilities_dict())"
   ]
  },
  {
   "cell_type": "markdown",
   "id": "10d5ae26",
   "metadata": {},
   "source": [
    "### Practice Examples: Gate Tensor Products\n",
    "\n",
    "Below are several gate tensor product operations. Predict the output state and then verify using Qiskit."
   ]
  },
  {
   "cell_type": "code",
   "execution_count": 3,
   "id": "871ec6c7",
   "metadata": {},
   "outputs": [
    {
     "name": "stdout",
     "output_type": "stream",
     "text": [
      "Example 1 result: Statevector([0.+0.j, 0.+0.j, 0.+0.j, 0.+0.j, 1.+0.j, 0.+0.j, 0.+0.j,\n",
      "             0.+0.j],\n",
      "            dims=(2, 2, 2))\n",
      "Example 2 result: Statevector([0.+0.j, 0.+0.j, 0.+0.j, 1.+0.j],\n",
      "            dims=(2, 2))\n",
      "Example 3 result: Statevector([0.        +0.j, 0.        +0.j, 0.70710678+0.j,\n",
      "             0.70710678+0.j],\n",
      "            dims=(2, 2))\n",
      "Example 4 result: Statevector([ 0.        +0.j,  0.70710678+0.j,  0.        +0.j,\n",
      "             -0.70710678+0.j,  0.        +0.j,  0.        +0.j,\n",
      "              0.        +0.j,  0.        +0.j],\n",
      "            dims=(2, 2, 2))\n",
      "Example 5 result: Statevector([ 0.35355339+0.35355339j,  0.35355339-0.35355339j,\n",
      "             -0.35355339-0.35355339j, -0.35355339+0.35355339j],\n",
      "            dims=(2, 2))\n"
     ]
    }
   ],
   "source": [
    "from qiskit import QuantumCircuit\n",
    "from qiskit.quantum_info import Statevector\n",
    "\n",
    "# Example 1: I⊗I⊗X on |000> → flips last qubit to |001>\n",
    "state1 = Statevector.from_label('000')\n",
    "qc1 = QuantumCircuit(3)\n",
    "qc1.x(2)\n",
    "print('Example 1 result:', state1.evolve(qc1.to_instruction()))\n",
    "\n",
    "# Example 2: X⊗X on |00> → flips both qubits to |11>\n",
    "state2 = Statevector.from_label('00')\n",
    "qc2 = QuantumCircuit(2)\n",
    "qc2.x(0); qc2.x(1)\n",
    "print('Example 2 result:', state2.evolve(qc2.to_instruction()))\n",
    "\n",
    "# Example 3: H⊗I on |10> → superposition on first qubit\n",
    "state3 = Statevector.from_label('10')\n",
    "qc3 = QuantumCircuit(2)\n",
    "qc3.h(0)\n",
    "print('Example 3 result:', state3.evolve(qc3.to_instruction()))\n",
    "\n",
    "# Example 4: I⊗H⊗Z on |011> → H on second, Z on third\n",
    "state4 = Statevector.from_label('011')\n",
    "qc4 = QuantumCircuit(3)\n",
    "qc4.h(1); qc4.z(2)\n",
    "print('Example 4 result:', state4.evolve(qc4.to_instruction()))\n",
    "\n",
    "# Example 5: RZ(pi/2)⊗RX(pi) on |-->\n",
    "import numpy as np\n",
    "minus_minus = Statevector([1/2**0.5, -1/2**0.5]).tensor(Statevector([1/2**0.5, -1/2**0.5]))\n",
    "qc5 = QuantumCircuit(2)\n",
    "qc5.rz(np.pi/2, 0); qc5.rx(np.pi, 1)\n",
    "print('Example 5 result:', minus_minus.evolve(qc5.to_instruction()))"
   ]
  },
  {
   "cell_type": "markdown",
   "id": "079a4f7d",
   "metadata": {},
   "source": [
    "### Practice Questions (Advanced)\n",
    "\n",
    "**Q1.** Starting from $|10\\rangle$, apply $(H \\otimes I)$. What is the resulting state?\n",
    "- A. $(|00\\rangle - |10\\rangle)/\\sqrt{2}$\n",
    "- B. $(|10\\rangle + |11\\rangle)/\\sqrt{2}$\n",
    "- C. $(|00\\rangle + |10\\rangle)/\\sqrt{2}$\n",
    "- D. $(|01\\rangle + |11\\rangle)/\\sqrt{2}$\n",
    "\n",
    "**Q2.** Starting from $|01\\rangle$, apply $(I \\otimes H)$. What state do you obtain?\n",
    "- A. $(|00\\rangle - |01\\rangle)/\\sqrt{2}$\n",
    "- B. $(|01\\rangle + |11\\rangle)/\\sqrt{2}$\n",
    "- C. $(|00\\rangle + |01\\rangle)/\\sqrt{2}$\n",
    "- D. $(|10\\rangle + |11\\rangle)/\\sqrt{2}$\n",
    "\n",
    "**Q3.** On $|00\\rangle$, applying $(H \\otimes X)$ yields:\n",
    "- A. $(|01\\rangle + |11\\rangle)/\\sqrt{2}$\n",
    "- B. $(|00\\rangle + |10\\rangle)/\\sqrt{2}$\n",
    "- C. $(|01\\rangle + |10\\rangle)/\\sqrt{2}$\n",
    "- D. $(|11\\rangle)/\\sqrt{2}$\n",
    "\n",
    "**Q4.** Which tensor product applies a Pauli-X to every qubit in a three-qubit system?\n",
    "- A. $X \\otimes X \\otimes X$\n",
    "- B. $RX(\\pi) \\otimes RX(\\pi) \\otimes RX(\\pi)$\n",
    "- C. $H \\otimes H \\otimes H$\n",
    "- D. $I \\otimes I \\otimes I$\n",
    "\n",
    "**Q5.** Starting from $|00\\rangle$, apply $(RY(\\pi/2) \\otimes I)$. Which state is obtained?\n",
    "- A. $(|00\\rangle + |10\\rangle)/\\sqrt{2}$\n",
    "- B. $(|00\\rangle + |01\\rangle)/\\sqrt{2}$\n",
    "- C. $(|10\\rangle + |11\\rangle)/\\sqrt{2}$\n",
    "- D. $(|01\\rangle + |11\\rangle)/\\sqrt{2}$"
   ]
  },
  {
   "cell_type": "markdown",
   "id": "fa84c1c5",
   "metadata": {},
   "source": [
    "### Answer Key\n",
    "- Q1: A\n",
    "- Q2: A\n",
    "- Q3: A\n",
    "- Q4: A\n",
    "- Q5: A"
   ]
  },
  {
   "cell_type": "code",
   "execution_count": 4,
   "id": "663f6242-3d7f-425b-b4e1-d8b49a8890c5",
   "metadata": {},
   "outputs": [
    {
     "data": {
      "text/plain": [
       "array([[0.+0.j, 1.+0.j, 0.+0.j, 0.+0.j],\n",
       "       [1.+0.j, 0.+0.j, 0.+0.j, 0.+0.j],\n",
       "       [0.+0.j, 0.+0.j, 0.+0.j, 1.+0.j],\n",
       "       [0.+0.j, 0.+0.j, 1.+0.j, 0.+0.j]])"
      ]
     },
     "execution_count": 4,
     "metadata": {},
     "output_type": "execute_result"
    }
   ],
   "source": [
    "from qiskit import QuantumCircuit\n",
    "from qiskit.quantum_info import Statevector, Operator, DensityMatrix, Pauli, SparsePauliOp\n",
    "\n",
    "qc=QuantumCircuit(2)\n",
    "qc.x(0)\n",
    "op=Operator(qc)\n",
    "op.to_matrix()"
   ]
  },
  {
   "cell_type": "code",
   "execution_count": 5,
   "id": "27f8c06d-f657-4123-b324-83988ea018c2",
   "metadata": {},
   "outputs": [
    {
     "data": {
      "text/plain": [
       "array([[0.+0.j, 1.+0.j, 0.+0.j, 0.+0.j],\n",
       "       [1.+0.j, 0.+0.j, 0.+0.j, 0.+0.j],\n",
       "       [0.+0.j, 0.+0.j, 0.+0.j, 1.+0.j],\n",
       "       [0.+0.j, 0.+0.j, 1.+0.j, 0.+0.j]])"
      ]
     },
     "execution_count": 5,
     "metadata": {},
     "output_type": "execute_result"
    }
   ],
   "source": [
    "Operator(qc).data"
   ]
  },
  {
   "cell_type": "code",
   "execution_count": 6,
   "id": "245cf5ea-8b69-4548-9635-922c215645d1",
   "metadata": {},
   "outputs": [
    {
     "data": {
      "text/plain": [
       "array([[0.+0.j, 0.+0.j, 0.+0.j, 0.+0.j],\n",
       "       [0.+0.j, 1.+0.j, 0.+0.j, 0.+0.j],\n",
       "       [0.+0.j, 0.+0.j, 0.+0.j, 0.+0.j],\n",
       "       [0.+0.j, 0.+0.j, 0.+0.j, 0.+0.j]])"
      ]
     },
     "execution_count": 6,
     "metadata": {},
     "output_type": "execute_result"
    }
   ],
   "source": [
    "sv = Statevector.from_instruction(qc)\n",
    "dm = DensityMatrix(sv)\n",
    "dm.data"
   ]
  },
  {
   "cell_type": "code",
   "execution_count": 7,
   "id": "1cbf0049-a7a8-4e59-9f1f-bf1e191213a8",
   "metadata": {},
   "outputs": [
    {
     "data": {
      "text/plain": [
       "array([0.+0.j, 1.+0.j, 0.+0.j, 0.+0.j])"
      ]
     },
     "execution_count": 7,
     "metadata": {},
     "output_type": "execute_result"
    }
   ],
   "source": [
    "sv.data"
   ]
  },
  {
   "cell_type": "code",
   "execution_count": 8,
   "id": "3729bf7f-d9e7-4b4d-a048-92160d11d6e2",
   "metadata": {},
   "outputs": [
    {
     "data": {
      "text/plain": [
       "False"
      ]
     },
     "execution_count": 8,
     "metadata": {},
     "output_type": "execute_result"
    }
   ],
   "source": [
    "op.equiv(dm)"
   ]
  },
  {
   "cell_type": "code",
   "execution_count": 9,
   "id": "2d1a6335-f568-4749-ad95-61c20d58f817",
   "metadata": {},
   "outputs": [
    {
     "data": {
      "text/plain": [
       "array([[0.+0.j, 1.+0.j, 0.+0.j, 0.+0.j],\n",
       "       [1.+0.j, 0.+0.j, 0.+0.j, 0.+0.j],\n",
       "       [0.+0.j, 0.+0.j, 0.+0.j, 1.+0.j],\n",
       "       [0.+0.j, 0.+0.j, 1.+0.j, 0.+0.j]])"
      ]
     },
     "execution_count": 9,
     "metadata": {},
     "output_type": "execute_result"
    }
   ],
   "source": [
    "p=Pauli('IX')\n",
    "p.to_matrix()"
   ]
  },
  {
   "cell_type": "code",
   "execution_count": 10,
   "id": "476d5e59-a184-4456-a84d-6df8fd5dfe68",
   "metadata": {},
   "outputs": [
    {
     "data": {
      "text/plain": [
       "True"
      ]
     },
     "execution_count": 10,
     "metadata": {},
     "output_type": "execute_result"
    }
   ],
   "source": [
    "np.allclose(p.to_matrix(), Operator(qc).data)"
   ]
  },
  {
   "cell_type": "code",
   "execution_count": 11,
   "id": "693b7e5b-f55e-4581-9d94-d44597a78041",
   "metadata": {},
   "outputs": [
    {
     "data": {
      "text/plain": [
       "True"
      ]
     },
     "execution_count": 11,
     "metadata": {},
     "output_type": "execute_result"
    }
   ],
   "source": [
    "np.allclose(p.to_matrix(), Operator(qc).to_matrix())"
   ]
  },
  {
   "cell_type": "code",
   "execution_count": 12,
   "id": "dd8f00ec-3216-4044-bac5-a5da0ccc3efd",
   "metadata": {},
   "outputs": [
    {
     "data": {
      "text/plain": [
       "array([[ 0.+0.j,  0.+0.j,  1.+0.j,  0.+0.j],\n",
       "       [ 0.+0.j,  0.+0.j,  0.+0.j, -1.+0.j],\n",
       "       [ 1.+0.j,  0.+0.j,  0.+0.j,  0.+0.j],\n",
       "       [ 0.+0.j, -1.+0.j,  0.+0.j,  0.+0.j]])"
      ]
     },
     "execution_count": 12,
     "metadata": {},
     "output_type": "execute_result"
    }
   ],
   "source": [
    "sp=SparsePauliOp('XZ')\n",
    "sp.to_matrix()"
   ]
  },
  {
   "cell_type": "code",
   "execution_count": 13,
   "id": "19cc6be5-97d9-40cf-b335-c414be758da9",
   "metadata": {},
   "outputs": [
    {
     "data": {
      "text/plain": [
       "False"
      ]
     },
     "execution_count": 13,
     "metadata": {},
     "output_type": "execute_result"
    }
   ],
   "source": [
    "sp.equiv(p)"
   ]
  },
  {
   "cell_type": "code",
   "execution_count": 14,
   "id": "c5dcd22c-5a05-463d-8112-209bb45b6ba2",
   "metadata": {},
   "outputs": [
    {
     "data": {
      "text/plain": [
       "SparsePauliOp(['II'],\n",
       "              coeffs=[1.+0.j])"
      ]
     },
     "execution_count": 14,
     "metadata": {},
     "output_type": "execute_result"
    }
   ],
   "source": [
    "sp @ sp"
   ]
  },
  {
   "cell_type": "code",
   "execution_count": 15,
   "id": "589e3558-dc6e-4a7e-9580-ad13a7a14e47",
   "metadata": {},
   "outputs": [
    {
     "data": {
      "text/plain": [
       "False"
      ]
     },
     "execution_count": 15,
     "metadata": {},
     "output_type": "execute_result"
    }
   ],
   "source": [
    "from qiskit.quantum_info import Pauli\n",
    "X, Y, Z = [Pauli(s) for s in 'XYZ']\n",
    "X_mat = X.to_matrix()\n",
    "Z_mat = Z.to_matrix()\n",
    "np.allclose(X_mat@Z_mat, X.compose(Z).to_matrix())"
   ]
  },
  {
   "cell_type": "code",
   "execution_count": null,
   "id": "8bf8f93b-fecc-4a02-9ed9-40f361315f2c",
   "metadata": {},
   "outputs": [],
   "source": []
  },
  {
   "cell_type": "code",
   "execution_count": 16,
   "id": "491dc87e-b955-4096-b000-ffe983e2a5e4",
   "metadata": {},
   "outputs": [
    {
     "data": {
      "text/plain": [
       "array([[ 0.+0.j,  1.+0.j],\n",
       "       [-1.+0.j,  0.+0.j]])"
      ]
     },
     "execution_count": 16,
     "metadata": {},
     "output_type": "execute_result"
    }
   ],
   "source": [
    "X.compose(Z).to_matrix()"
   ]
  },
  {
   "cell_type": "code",
   "execution_count": 18,
   "id": "1917ab96-33e0-4d13-9e39-7464dd74b0c3",
   "metadata": {},
   "outputs": [],
   "source": [
    "qc=QuantumCircuit(1)\n",
    "qc.h(0)\n",
    "qc.rx(np.pi/4,0)\n",
    "sv=Statevector.from_instruction(qc)\n",
    "x=float(np.real(sv.expectation_value(SparsePauliOp('X'))))"
   ]
  },
  {
   "cell_type": "markdown",
   "id": "a71dc005-a3b9-4afa-9457-6bac4346d998",
   "metadata": {},
   "source": [
    "#### Coding Exercises"
   ]
  },
  {
   "cell_type": "code",
   "execution_count": 19,
   "id": "0ef0336e-735c-4a50-90d3-1f9836c96c1e",
   "metadata": {},
   "outputs": [
    {
     "name": "stdout",
     "output_type": "stream",
     "text": [
      "[[ 1.+0.j  0.+0.j]\n",
      " [ 0.+0.j -1.+0.j]]\n"
     ]
    }
   ],
   "source": [
    "# Task 1\n",
    "from qiskit.quantum_info import Pauli\n",
    "print(Pauli('Z').to_matrix())"
   ]
  },
  {
   "cell_type": "code",
   "execution_count": 20,
   "id": "bcb49ba6-2ec7-47ea-a6f9-f86c1d4eeeeb",
   "metadata": {},
   "outputs": [
    {
     "data": {
      "text/plain": [
       "True"
      ]
     },
     "execution_count": 20,
     "metadata": {},
     "output_type": "execute_result"
    }
   ],
   "source": [
    "# Task 2\n",
    "from qiskit import QuantumCircuit\n",
    "qc = QuantumCircuit(1)\n",
    "qc.x(0)\n",
    "# print(Operator(qc).to_matrix())\n",
    "op_mat=Operator(qc).to_matrix()\n",
    "np.allclose(op_mat, Pauli('X').to_matrix())"
   ]
  },
  {
   "cell_type": "code",
   "execution_count": 26,
   "id": "8e74a06f-7e52-4a37-8c37-67806327951c",
   "metadata": {},
   "outputs": [
    {
     "data": {
      "text/plain": [
       "False"
      ]
     },
     "execution_count": 26,
     "metadata": {},
     "output_type": "execute_result"
    }
   ],
   "source": [
    "X = Pauli('X')\n",
    "Z = Pauli('Z')\n",
    "x = X.to_matrix()\n",
    "op = Operator(qc).data\n",
    "z = Z.to_matrix()\n",
    "\n",
    "np.allclose(x@z,op)"
   ]
  },
  {
   "cell_type": "code",
   "execution_count": null,
   "id": "70520cfa-5a2c-4be2-aa4c-5e701c96a71e",
   "metadata": {},
   "outputs": [],
   "source": [
    "# Task 3\n"
   ]
  }
 ],
 "metadata": {
  "kernelspec": {
   "display_name": "Python (qiskit2x)",
   "language": "python",
   "name": "qiskit2x"
  },
  "language_info": {
   "codemirror_mode": {
    "name": "ipython",
    "version": 3
   },
   "file_extension": ".py",
   "mimetype": "text/x-python",
   "name": "python",
   "nbconvert_exporter": "python",
   "pygments_lexer": "ipython3",
   "version": "3.12.9"
  }
 },
 "nbformat": 4,
 "nbformat_minor": 5
}
