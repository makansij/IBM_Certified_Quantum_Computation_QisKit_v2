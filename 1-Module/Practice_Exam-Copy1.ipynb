{
 "cells": [
  {
   "cell_type": "markdown",
   "id": "af004027-b1f2-4b74-a0a3-79a93f045eb8",
   "metadata": {},
   "source": [
    "This notebook contains code implementing the questions from this medium article with Practice Exam questions:\n",
    "\n",
    "https://medium.com/@arkrana9/a-complete-qiskit-certification-practice-test-part-1-d11b9169503f"
   ]
  },
  {
   "cell_type": "code",
   "execution_count": 1,
   "id": "7cb315a9-2602-490c-8e1b-69a46c37591f",
   "metadata": {},
   "outputs": [
    {
     "name": "stderr",
     "output_type": "stream",
     "text": [
      "/Users/jordanmakansi/mamba/envs/qiskit-cert-intel/lib/python3.9/site-packages/qiskit/circuit/equivalence.py:18: DeprecationWarning: The retworkx package is deprecated and has been renamed to rustworkx. Rustworkx is a drop-in replacement and can be used by replacing `import retworkx` with import `rustworkx`. \n",
      "  import retworkx as rx\n",
      "/Users/jordanmakansi/mamba/envs/qiskit-cert-intel/lib/python3.9/site-packages/qiskit/version.py:20: UserWarning: pkg_resources is deprecated as an API. See https://setuptools.pypa.io/en/latest/pkg_resources.html. The pkg_resources package is slated for removal as early as 2025-11-30. Refrain from using this package or pin to Setuptools<81.\n",
      "  import pkg_resources\n"
     ]
    }
   ],
   "source": [
    "import qiskit\n",
    "import numpy as np\n",
    "from qiskit import QuantumCircuit, QuantumRegister, ClassicalRegister\n",
    "from qiskit.visualization import circuit_drawer\n",
    "import warnings, pkg_resources\n",
    "warnings.filterwarnings(\"ignore\", category=UserWarning,\n",
    "                        module=r\"qiskit\\.providers\\.ibmq\\.api\\.session\")\n",
    "warnings.filterwarnings(\"ignore\",\n",
    "                        category=DeprecationWarning,\n",
    "                        module=r\"qiskit\\.providers\\.ibmq\")"
   ]
  },
  {
   "cell_type": "code",
   "execution_count": 2,
   "id": "31d71a72-6518-48fe-b9b8-01a698ee4712",
   "metadata": {},
   "outputs": [
    {
     "name": "stdout",
     "output_type": "stream",
     "text": [
      "{'00': 515, '11': 509}\n"
     ]
    }
   ],
   "source": [
    "from qiskit import QuantumCircuit, BasicAer, execute\n",
    "\n",
    "qc = QuantumCircuit(2, 2)\n",
    "qc.h(0); qc.cx(0, 1); qc.measure([0,1],[0,1])\n",
    "\n",
    "backend = BasicAer.get_backend('qasm_simulator')\n",
    "result = execute(qc, backend, shots=1024).result()\n",
    "print(result.get_counts())\n"
   ]
  },
  {
   "cell_type": "code",
   "execution_count": 3,
   "id": "c92da700-cc32-4046-8440-49a0caae5aef",
   "metadata": {},
   "outputs": [
    {
     "name": "stdout",
     "output_type": "stream",
     "text": [
      "Terra   : 0.17.4\n",
      "Aer     : BasicAer only\n",
      "IBMQProv: 0.13.1\n"
     ]
    }
   ],
   "source": [
    "import qiskit, pkg_resources\n",
    "print(\"Terra   :\", qiskit.__qiskit_version__['qiskit-terra'])\n",
    "print(\"Aer     :\", \"BasicAer only\")\n",
    "print(\"IBMQProv:\", pkg_resources.get_distribution(\"qiskit-ibmq-provider\").version)\n"
   ]
  },
  {
   "cell_type": "code",
   "execution_count": 4,
   "id": "9fdff131-8701-43cb-89ac-7d8d664fbd18",
   "metadata": {},
   "outputs": [
    {
     "name": "stdout",
     "output_type": "stream",
     "text": [
      "Length: 128 chars\n",
      "Repr: '0ed8a462f85de671e0c93e03228a922b3e643173db55be609c9a2fef66e61cdb23daba99398f55e43eec20de7c3e0e840d6ff1e574dc277c461a513a39134e6b'\n",
      "Found providers:\n",
      "  <AccountProvider for IBMQ(hub='ibm-q', group='open', project='main')>\n",
      "  <AccountProvider for IBMQ(hub='usc', group='makansi-research', project='pwice')>\n",
      "Available backends: [<IBMQBackend('ibm_sherbrooke') from IBMQ(hub='usc', group='makansi-research', project='pwice')>, <IBMQBackend('ibm_brisbane') from IBMQ(hub='usc', group='makansi-research', project='pwice')>]\n"
     ]
    }
   ],
   "source": [
    "RAW = \"0ed8a462f85de671e0c93e03228a922b3e643173db55be609c9a2fef66e61cdb23daba99398f55e43eec20de7c3e0e840d6ff1e574dc277c461a513a39134e6b\"         # exactly what you copied\n",
    "print(\"Length:\", len(RAW), \"chars\")           # should be 44\n",
    "print(\"Repr:\", repr(RAW))                     # no spaces or \\n\n",
    "\n",
    "from qiskit import IBMQ\n",
    "\n",
    "# One-time save of your 128-char token\n",
    "IBMQ.save_account(RAW, overwrite=True)\n",
    "from qiskit import IBMQ\n",
    "\n",
    "# 1) Load your saved credentials (this reads ~/.qiskit/qiskitrc)\n",
    "IBMQ.load_account()\n",
    "\n",
    "# 2) List every provider object you now have\n",
    "providers = IBMQ.providers()\n",
    "print(\"Found providers:\")\n",
    "for p in providers:\n",
    "    print(\" \", p)\n",
    "\n",
    "provider = IBMQ.get_provider(hub='usc', group='makansi-research', project='pwice')\n",
    "print(\"Available backends:\", provider.backends())"
   ]
  },
  {
   "cell_type": "code",
   "execution_count": 5,
   "id": "548f1520-1cf0-4285-b298-0d724e4bf52f",
   "metadata": {},
   "outputs": [
    {
     "name": "stdout",
     "output_type": "stream",
     "text": [
      "Terra   : 0.17.4\n",
      "Aer     : None\n",
      "IBMQProv: 0.13.1\n"
     ]
    }
   ],
   "source": [
    "import qiskit, pkg_resources\n",
    "print(\"Terra   :\", qiskit.__qiskit_version__['qiskit-terra'])\n",
    "print(\"Aer     :\", qiskit.__qiskit_version__['qiskit-aer'] if 'qiskit-aer' in qiskit.__qiskit_version__ else \"BasicAer only\")\n",
    "print(\"IBMQProv:\", pkg_resources.get_distribution(\"qiskit-ibmq-provider\").version)\n"
   ]
  },
  {
   "cell_type": "code",
   "execution_count": 6,
   "id": "9e756737-2044-49fd-a9c0-855f7285b71d",
   "metadata": {},
   "outputs": [
    {
     "name": "stdout",
     "output_type": "stream",
     "text": [
      "Number of backends for provider selected: 2\n",
      "Available backends: [<IBMQBackend('ibm_sherbrooke') from IBMQ(hub='usc', group='makansi-research', project='pwice')>, <IBMQBackend('ibm_brisbane') from IBMQ(hub='usc', group='makansi-research', project='pwice')>]\n"
     ]
    }
   ],
   "source": [
    "# 3) Replace 'ibm-q', 'open', 'main' with whatever IBMQ.providers() printed\n",
    "provider = IBMQ.get_provider(hub='usc', group='makansi-research', project='pwice')\n",
    "\n",
    "# 4) List its backends\n",
    "print(\"Number of backends for provider selected:\", len(provider.backends()))\n",
    "print(\"Available backends:\", provider.backends())\n"
   ]
  },
  {
   "cell_type": "code",
   "execution_count": 7,
   "id": "edb64feb-c6a0-4e1d-9a03-cc30d880fe01",
   "metadata": {},
   "outputs": [
    {
     "ename": "RequestsApiError",
     "evalue": "'400 Client Error: Bad Request for url: https://api-qcon.quantum.ibm.com/api/Network/usc/Groups/makansi-research/Projects/pwice/devices/ibm_sherbrooke/properties?version=1. qiskit-ibmq-provider is no longer supported. Refer to the migration guide at https://quantum.cloud.ibm.com/docs/migration-guides/qiskit-runtime-from-ibmq-providerfor instructions on how to migrate existing code to Qiskit Runtime primitives., Error code: 2418.'",
     "output_type": "error",
     "traceback": [
      "\u001b[0;31m---------------------------------------------------------------------------\u001b[0m",
      "\u001b[0;31mHTTPError\u001b[0m                                 Traceback (most recent call last)",
      "File \u001b[0;32m~/mamba/envs/qiskit-cert-intel/lib/python3.9/site-packages/qiskit/providers/ibmq/api/session.py:278\u001b[0m, in \u001b[0;36mRetrySession.request\u001b[0;34m(self, method, url, bare, **kwargs)\u001b[0m\n\u001b[1;32m    277\u001b[0m     response \u001b[38;5;241m=\u001b[39m \u001b[38;5;28msuper\u001b[39m()\u001b[38;5;241m.\u001b[39mrequest(method, final_url, headers\u001b[38;5;241m=\u001b[39mheaders, \u001b[38;5;241m*\u001b[39m\u001b[38;5;241m*\u001b[39mkwargs)\n\u001b[0;32m--> 278\u001b[0m     \u001b[43mresponse\u001b[49m\u001b[38;5;241;43m.\u001b[39;49m\u001b[43mraise_for_status\u001b[49m\u001b[43m(\u001b[49m\u001b[43m)\u001b[49m\n\u001b[1;32m    279\u001b[0m \u001b[38;5;28;01mexcept\u001b[39;00m RequestException \u001b[38;5;28;01mas\u001b[39;00m ex:\n\u001b[1;32m    280\u001b[0m     \u001b[38;5;66;03m# Wrap the requests exceptions into a IBM Q custom one, for\u001b[39;00m\n\u001b[1;32m    281\u001b[0m     \u001b[38;5;66;03m# compatibility.\u001b[39;00m\n",
      "File \u001b[0;32m~/mamba/envs/qiskit-cert-intel/lib/python3.9/site-packages/requests/models.py:1026\u001b[0m, in \u001b[0;36mResponse.raise_for_status\u001b[0;34m(self)\u001b[0m\n\u001b[1;32m   1025\u001b[0m \u001b[38;5;28;01mif\u001b[39;00m http_error_msg:\n\u001b[0;32m-> 1026\u001b[0m     \u001b[38;5;28;01mraise\u001b[39;00m HTTPError(http_error_msg, response\u001b[38;5;241m=\u001b[39m\u001b[38;5;28mself\u001b[39m)\n",
      "\u001b[0;31mHTTPError\u001b[0m: 400 Client Error: Bad Request for url: https://api-qcon.quantum.ibm.com/api/Network/usc/Groups/makansi-research/Projects/pwice/devices/ibm_sherbrooke/properties?version=1",
      "\nThe above exception was the direct cause of the following exception:\n",
      "\u001b[0;31mRequestsApiError\u001b[0m                          Traceback (most recent call last)",
      "Cell \u001b[0;32mIn[7], line 2\u001b[0m\n\u001b[1;32m      1\u001b[0m \u001b[38;5;28;01mfrom\u001b[39;00m\u001b[38;5;250m \u001b[39m\u001b[38;5;21;01mqiskit\u001b[39;00m\u001b[38;5;21;01m.\u001b[39;00m\u001b[38;5;21;01mtools\u001b[39;00m\u001b[38;5;21;01m.\u001b[39;00m\u001b[38;5;21;01mjupyter\u001b[39;00m\u001b[38;5;250m \u001b[39m\u001b[38;5;28;01mimport\u001b[39;00m \u001b[38;5;241m*\u001b[39m\n\u001b[0;32m----> 2\u001b[0m \u001b[43mget_ipython\u001b[49m\u001b[43m(\u001b[49m\u001b[43m)\u001b[49m\u001b[38;5;241;43m.\u001b[39;49m\u001b[43mrun_line_magic\u001b[49m\u001b[43m(\u001b[49m\u001b[38;5;124;43m'\u001b[39;49m\u001b[38;5;124;43mqiskit_backend_overview\u001b[39;49m\u001b[38;5;124;43m'\u001b[39;49m\u001b[43m,\u001b[49m\u001b[43m \u001b[49m\u001b[38;5;124;43m'\u001b[39;49m\u001b[38;5;124;43m'\u001b[39;49m\u001b[43m)\u001b[49m\n",
      "File \u001b[0;32m~/mamba/envs/qiskit-cert-intel/lib/python3.9/site-packages/IPython/core/interactiveshell.py:2456\u001b[0m, in \u001b[0;36mInteractiveShell.run_line_magic\u001b[0;34m(self, magic_name, line, _stack_depth)\u001b[0m\n\u001b[1;32m   2454\u001b[0m     kwargs[\u001b[38;5;124m'\u001b[39m\u001b[38;5;124mlocal_ns\u001b[39m\u001b[38;5;124m'\u001b[39m] \u001b[38;5;241m=\u001b[39m \u001b[38;5;28mself\u001b[39m\u001b[38;5;241m.\u001b[39mget_local_scope(stack_depth)\n\u001b[1;32m   2455\u001b[0m \u001b[38;5;28;01mwith\u001b[39;00m \u001b[38;5;28mself\u001b[39m\u001b[38;5;241m.\u001b[39mbuiltin_trap:\n\u001b[0;32m-> 2456\u001b[0m     result \u001b[38;5;241m=\u001b[39m \u001b[43mfn\u001b[49m\u001b[43m(\u001b[49m\u001b[38;5;241;43m*\u001b[39;49m\u001b[43margs\u001b[49m\u001b[43m,\u001b[49m\u001b[43m \u001b[49m\u001b[38;5;241;43m*\u001b[39;49m\u001b[38;5;241;43m*\u001b[39;49m\u001b[43mkwargs\u001b[49m\u001b[43m)\u001b[49m\n\u001b[1;32m   2458\u001b[0m \u001b[38;5;66;03m# The code below prevents the output from being displayed\u001b[39;00m\n\u001b[1;32m   2459\u001b[0m \u001b[38;5;66;03m# when using magics with decorator @output_can_be_silenced\u001b[39;00m\n\u001b[1;32m   2460\u001b[0m \u001b[38;5;66;03m# when the last Python token in the expression is a ';'.\u001b[39;00m\n\u001b[1;32m   2461\u001b[0m \u001b[38;5;28;01mif\u001b[39;00m \u001b[38;5;28mgetattr\u001b[39m(fn, magic\u001b[38;5;241m.\u001b[39mMAGIC_OUTPUT_CAN_BE_SILENCED, \u001b[38;5;28;01mFalse\u001b[39;00m):\n",
      "File \u001b[0;32m~/mamba/envs/qiskit-cert-intel/lib/python3.9/site-packages/qiskit/tools/jupyter/backend_overview.py:53\u001b[0m, in \u001b[0;36mBackendOverview.qiskit_backend_overview\u001b[0;34m(self, line)\u001b[0m\n\u001b[1;32m     49\u001b[0m _value \u001b[38;5;241m+\u001b[39m\u001b[38;5;241m=\u001b[39m \u001b[38;5;124m\"\u001b[39m\u001b[38;5;124mmargin-top: 0px\u001b[39m\u001b[38;5;124m'\u001b[39m\u001b[38;5;124m>Backend Overview</h2>\u001b[39m\u001b[38;5;124m\"\u001b[39m\n\u001b[1;32m     50\u001b[0m backend_title \u001b[38;5;241m=\u001b[39m widgets\u001b[38;5;241m.\u001b[39mHTML(value\u001b[38;5;241m=\u001b[39m_value,\n\u001b[1;32m     51\u001b[0m                              layout\u001b[38;5;241m=\u001b[39mwidgets\u001b[38;5;241m.\u001b[39mLayout(margin\u001b[38;5;241m=\u001b[39m\u001b[38;5;124m'\u001b[39m\u001b[38;5;124m0px 0px 0px 0px\u001b[39m\u001b[38;5;124m'\u001b[39m))\n\u001b[0;32m---> 53\u001b[0m build_back_widgets \u001b[38;5;241m=\u001b[39m [backend_widget(b)\n\u001b[1;32m     54\u001b[0m                       \u001b[38;5;28;01mfor\u001b[39;00m b \u001b[38;5;129;01min\u001b[39;00m unique_hardware_backends]\n\u001b[1;32m     56\u001b[0m _backends \u001b[38;5;241m=\u001b[39m []\n\u001b[1;32m     57\u001b[0m \u001b[38;5;66;03m# Sort backends by operational or not\u001b[39;00m\n",
      "File \u001b[0;32m~/mamba/envs/qiskit-cert-intel/lib/python3.9/site-packages/qiskit/tools/jupyter/backend_overview.py:53\u001b[0m, in \u001b[0;36m<listcomp>\u001b[0;34m(.0)\u001b[0m\n\u001b[1;32m     49\u001b[0m _value \u001b[38;5;241m+\u001b[39m\u001b[38;5;241m=\u001b[39m \u001b[38;5;124m\"\u001b[39m\u001b[38;5;124mmargin-top: 0px\u001b[39m\u001b[38;5;124m'\u001b[39m\u001b[38;5;124m>Backend Overview</h2>\u001b[39m\u001b[38;5;124m\"\u001b[39m\n\u001b[1;32m     50\u001b[0m backend_title \u001b[38;5;241m=\u001b[39m widgets\u001b[38;5;241m.\u001b[39mHTML(value\u001b[38;5;241m=\u001b[39m_value,\n\u001b[1;32m     51\u001b[0m                              layout\u001b[38;5;241m=\u001b[39mwidgets\u001b[38;5;241m.\u001b[39mLayout(margin\u001b[38;5;241m=\u001b[39m\u001b[38;5;124m'\u001b[39m\u001b[38;5;124m0px 0px 0px 0px\u001b[39m\u001b[38;5;124m'\u001b[39m))\n\u001b[0;32m---> 53\u001b[0m build_back_widgets \u001b[38;5;241m=\u001b[39m [\u001b[43mbackend_widget\u001b[49m\u001b[43m(\u001b[49m\u001b[43mb\u001b[49m\u001b[43m)\u001b[49m\n\u001b[1;32m     54\u001b[0m                       \u001b[38;5;28;01mfor\u001b[39;00m b \u001b[38;5;129;01min\u001b[39;00m unique_hardware_backends]\n\u001b[1;32m     56\u001b[0m _backends \u001b[38;5;241m=\u001b[39m []\n\u001b[1;32m     57\u001b[0m \u001b[38;5;66;03m# Sort backends by operational or not\u001b[39;00m\n",
      "File \u001b[0;32m~/mamba/envs/qiskit-cert-intel/lib/python3.9/site-packages/qiskit/tools/jupyter/backend_overview.py:126\u001b[0m, in \u001b[0;36mbackend_widget\u001b[0;34m(backend)\u001b[0m\n\u001b[1;32m    123\u001b[0m \u001b[38;5;250m\u001b[39m\u001b[38;5;124;03m\"\"\"Creates a backend widget.\u001b[39;00m\n\u001b[1;32m    124\u001b[0m \u001b[38;5;124;03m\"\"\"\u001b[39;00m\n\u001b[1;32m    125\u001b[0m config \u001b[38;5;241m=\u001b[39m backend\u001b[38;5;241m.\u001b[39mconfiguration()\u001b[38;5;241m.\u001b[39mto_dict()\n\u001b[0;32m--> 126\u001b[0m props \u001b[38;5;241m=\u001b[39m \u001b[43mbackend\u001b[49m\u001b[38;5;241;43m.\u001b[39;49m\u001b[43mproperties\u001b[49m\u001b[43m(\u001b[49m\u001b[43m)\u001b[49m\u001b[38;5;241m.\u001b[39mto_dict()\n\u001b[1;32m    128\u001b[0m name \u001b[38;5;241m=\u001b[39m widgets\u001b[38;5;241m.\u001b[39mHTML(value\u001b[38;5;241m=\u001b[39m\u001b[38;5;124m\"\u001b[39m\u001b[38;5;124m<h4>\u001b[39m\u001b[38;5;132;01m{name}\u001b[39;00m\u001b[38;5;124m</h4>\u001b[39m\u001b[38;5;124m\"\u001b[39m\u001b[38;5;241m.\u001b[39mformat(name\u001b[38;5;241m=\u001b[39mbackend\u001b[38;5;241m.\u001b[39mname()),\n\u001b[1;32m    129\u001b[0m                     layout\u001b[38;5;241m=\u001b[39mwidgets\u001b[38;5;241m.\u001b[39mLayout())\n\u001b[1;32m    131\u001b[0m num_qubits \u001b[38;5;241m=\u001b[39m config[\u001b[38;5;124m'\u001b[39m\u001b[38;5;124mn_qubits\u001b[39m\u001b[38;5;124m'\u001b[39m]\n",
      "File \u001b[0;32m~/mamba/envs/qiskit-cert-intel/lib/python3.9/site-packages/qiskit/providers/ibmq/ibmqbackend.py:438\u001b[0m, in \u001b[0;36mIBMQBackend.properties\u001b[0;34m(self, refresh, datetime)\u001b[0m\n\u001b[1;32m    435\u001b[0m     datetime \u001b[38;5;241m=\u001b[39m local_to_utc(datetime)\n\u001b[1;32m    437\u001b[0m \u001b[38;5;28;01mif\u001b[39;00m datetime \u001b[38;5;129;01mor\u001b[39;00m refresh \u001b[38;5;129;01mor\u001b[39;00m \u001b[38;5;28mself\u001b[39m\u001b[38;5;241m.\u001b[39m_properties \u001b[38;5;129;01mis\u001b[39;00m \u001b[38;5;28;01mNone\u001b[39;00m:\n\u001b[0;32m--> 438\u001b[0m     api_properties \u001b[38;5;241m=\u001b[39m \u001b[38;5;28;43mself\u001b[39;49m\u001b[38;5;241;43m.\u001b[39;49m\u001b[43m_api_client\u001b[49m\u001b[38;5;241;43m.\u001b[39;49m\u001b[43mbackend_properties\u001b[49m\u001b[43m(\u001b[49m\u001b[38;5;28;43mself\u001b[39;49m\u001b[38;5;241;43m.\u001b[39;49m\u001b[43mname\u001b[49m\u001b[43m(\u001b[49m\u001b[43m)\u001b[49m\u001b[43m,\u001b[49m\u001b[43m \u001b[49m\u001b[43mdatetime\u001b[49m\u001b[38;5;241;43m=\u001b[39;49m\u001b[43mdatetime\u001b[49m\u001b[43m)\u001b[49m\n\u001b[1;32m    439\u001b[0m     \u001b[38;5;28;01mif\u001b[39;00m \u001b[38;5;129;01mnot\u001b[39;00m api_properties:\n\u001b[1;32m    440\u001b[0m         \u001b[38;5;28;01mreturn\u001b[39;00m \u001b[38;5;28;01mNone\u001b[39;00m\n",
      "File \u001b[0;32m~/mamba/envs/qiskit-cert-intel/lib/python3.9/site-packages/qiskit/providers/ibmq/api/clients/account.py:102\u001b[0m, in \u001b[0;36mAccountClient.backend_properties\u001b[0;34m(self, backend_name, datetime)\u001b[0m\n\u001b[1;32m     92\u001b[0m \u001b[38;5;250m\u001b[39m\u001b[38;5;124;03m\"\"\"Return the properties of the backend.\u001b[39;00m\n\u001b[1;32m     93\u001b[0m \n\u001b[1;32m     94\u001b[0m \u001b[38;5;124;03mArgs:\u001b[39;00m\n\u001b[0;32m   (...)\u001b[0m\n\u001b[1;32m     99\u001b[0m \u001b[38;5;124;03m    Backend properties.\u001b[39;00m\n\u001b[1;32m    100\u001b[0m \u001b[38;5;124;03m\"\"\"\u001b[39;00m\n\u001b[1;32m    101\u001b[0m \u001b[38;5;66;03m# pylint: disable=redefined-outer-name\u001b[39;00m\n\u001b[0;32m--> 102\u001b[0m \u001b[38;5;28;01mreturn\u001b[39;00m \u001b[38;5;28;43mself\u001b[39;49m\u001b[38;5;241;43m.\u001b[39;49m\u001b[43maccount_api\u001b[49m\u001b[38;5;241;43m.\u001b[39;49m\u001b[43mbackend\u001b[49m\u001b[43m(\u001b[49m\u001b[43mbackend_name\u001b[49m\u001b[43m)\u001b[49m\u001b[38;5;241;43m.\u001b[39;49m\u001b[43mproperties\u001b[49m\u001b[43m(\u001b[49m\u001b[43mdatetime\u001b[49m\u001b[38;5;241;43m=\u001b[39;49m\u001b[43mdatetime\u001b[49m\u001b[43m)\u001b[49m\n",
      "File \u001b[0;32m~/mamba/envs/qiskit-cert-intel/lib/python3.9/site-packages/qiskit/providers/ibmq/api/rest/backend.py:68\u001b[0m, in \u001b[0;36mBackend.properties\u001b[0;34m(self, datetime)\u001b[0m\n\u001b[1;32m     65\u001b[0m     query[\u001b[38;5;124m'\u001b[39m\u001b[38;5;124mwhere\u001b[39m\u001b[38;5;124m'\u001b[39m] \u001b[38;5;241m=\u001b[39m extra_filter\n\u001b[1;32m     66\u001b[0m     params[\u001b[38;5;124m'\u001b[39m\u001b[38;5;124mfilter\u001b[39m\u001b[38;5;124m'\u001b[39m] \u001b[38;5;241m=\u001b[39m json\u001b[38;5;241m.\u001b[39mdumps(query)  \u001b[38;5;66;03m# type: ignore[assignment]\u001b[39;00m\n\u001b[0;32m---> 68\u001b[0m response \u001b[38;5;241m=\u001b[39m \u001b[38;5;28;43mself\u001b[39;49m\u001b[38;5;241;43m.\u001b[39;49m\u001b[43msession\u001b[49m\u001b[38;5;241;43m.\u001b[39;49m\u001b[43mget\u001b[49m\u001b[43m(\u001b[49m\u001b[43murl\u001b[49m\u001b[43m,\u001b[49m\u001b[43m \u001b[49m\u001b[43mparams\u001b[49m\u001b[38;5;241;43m=\u001b[39;49m\u001b[43mparams\u001b[49m\u001b[43m)\u001b[49m\u001b[38;5;241m.\u001b[39mjson()\n\u001b[1;32m     70\u001b[0m \u001b[38;5;66;03m# Adjust name of the backend.\u001b[39;00m\n\u001b[1;32m     71\u001b[0m \u001b[38;5;28;01mif\u001b[39;00m response:\n",
      "File \u001b[0;32m~/mamba/envs/qiskit-cert-intel/lib/python3.9/site-packages/requests/sessions.py:602\u001b[0m, in \u001b[0;36mSession.get\u001b[0;34m(self, url, **kwargs)\u001b[0m\n\u001b[1;32m    594\u001b[0m \u001b[38;5;250m\u001b[39m\u001b[38;5;124mr\u001b[39m\u001b[38;5;124;03m\"\"\"Sends a GET request. Returns :class:`Response` object.\u001b[39;00m\n\u001b[1;32m    595\u001b[0m \n\u001b[1;32m    596\u001b[0m \u001b[38;5;124;03m:param url: URL for the new :class:`Request` object.\u001b[39;00m\n\u001b[1;32m    597\u001b[0m \u001b[38;5;124;03m:param \\*\\*kwargs: Optional arguments that ``request`` takes.\u001b[39;00m\n\u001b[1;32m    598\u001b[0m \u001b[38;5;124;03m:rtype: requests.Response\u001b[39;00m\n\u001b[1;32m    599\u001b[0m \u001b[38;5;124;03m\"\"\"\u001b[39;00m\n\u001b[1;32m    601\u001b[0m kwargs\u001b[38;5;241m.\u001b[39msetdefault(\u001b[38;5;124m\"\u001b[39m\u001b[38;5;124mallow_redirects\u001b[39m\u001b[38;5;124m\"\u001b[39m, \u001b[38;5;28;01mTrue\u001b[39;00m)\n\u001b[0;32m--> 602\u001b[0m \u001b[38;5;28;01mreturn\u001b[39;00m \u001b[38;5;28;43mself\u001b[39;49m\u001b[38;5;241;43m.\u001b[39;49m\u001b[43mrequest\u001b[49m\u001b[43m(\u001b[49m\u001b[38;5;124;43m\"\u001b[39;49m\u001b[38;5;124;43mGET\u001b[39;49m\u001b[38;5;124;43m\"\u001b[39;49m\u001b[43m,\u001b[49m\u001b[43m \u001b[49m\u001b[43murl\u001b[49m\u001b[43m,\u001b[49m\u001b[43m \u001b[49m\u001b[38;5;241;43m*\u001b[39;49m\u001b[38;5;241;43m*\u001b[39;49m\u001b[43mkwargs\u001b[49m\u001b[43m)\u001b[49m\n",
      "File \u001b[0;32m~/mamba/envs/qiskit-cert-intel/lib/python3.9/site-packages/qiskit/providers/ibmq/api/session.py:300\u001b[0m, in \u001b[0;36mRetrySession.request\u001b[0;34m(self, method, url, bare, **kwargs)\u001b[0m\n\u001b[1;32m    297\u001b[0m         \u001b[38;5;66;03m# Modify the original message on the chained exceptions.\u001b[39;00m\n\u001b[1;32m    298\u001b[0m         \u001b[38;5;28mself\u001b[39m\u001b[38;5;241m.\u001b[39m_modify_chained_exception_messages(ex)\n\u001b[0;32m--> 300\u001b[0m     \u001b[38;5;28;01mraise\u001b[39;00m RequestsApiError(message, status_code) \u001b[38;5;28;01mfrom\u001b[39;00m\u001b[38;5;250m \u001b[39m\u001b[38;5;21;01mex\u001b[39;00m\n\u001b[1;32m    302\u001b[0m \u001b[38;5;28;01mreturn\u001b[39;00m response\n",
      "\u001b[0;31mRequestsApiError\u001b[0m: '400 Client Error: Bad Request for url: https://api-qcon.quantum.ibm.com/api/Network/usc/Groups/makansi-research/Projects/pwice/devices/ibm_sherbrooke/properties?version=1. qiskit-ibmq-provider is no longer supported. Refer to the migration guide at https://quantum.cloud.ibm.com/docs/migration-guides/qiskit-runtime-from-ibmq-providerfor instructions on how to migrate existing code to Qiskit Runtime primitives., Error code: 2418.'"
     ]
    }
   ],
   "source": [
    "from qiskit.tools.jupyter import *\n",
    "%qiskit_backend_overview"
   ]
  },
  {
   "cell_type": "code",
   "execution_count": null,
   "id": "a97f4be3-25b5-47ce-91c0-027df78e313a",
   "metadata": {},
   "outputs": [],
   "source": [
    "import sys, os, platform\n",
    "print(\"Python executable:\", sys.executable)\n",
    "print(\"Conda env path   :\", os.path.dirname(os.path.dirname(sys.executable)))\n"
   ]
  },
  {
   "cell_type": "code",
   "execution_count": null,
   "id": "ce84b236-6102-4135-b847-50b046a5dff6",
   "metadata": {},
   "outputs": [],
   "source": [
    "print(\"Saved accounts now:\", IBMProvider.saved_accounts())\n",
    "# Expect {} or an empty list\n"
   ]
  },
  {
   "cell_type": "code",
   "execution_count": null,
   "id": "2145c958-f521-4dc4-8396-a6fd9cb944d3",
   "metadata": {},
   "outputs": [],
   "source": [
    "from qiskit_ibm_provider import IBMProvider\n",
    "\n",
    "RAW_TOKEN = \"ZWWaixwfOUeXDPusKcBcY1SluZJV81gPAgAH2bynqc8p\"       # <-- replace everything inside the quotes\n",
    "print(\"repr:\", repr(RAW_TOKEN))          # shows hidden spaces/newlines\n",
    "print(\"Length:\", len(RAW_TOKEN))\n",
    "provider = IBMProvider(token=RAW_TOKEN)        # NOT save_account\n",
    "print(\"First 3 backends:\", provider.backends()[:3])\n"
   ]
  },
  {
   "cell_type": "code",
   "execution_count": null,
   "id": "f92c36a7-d9fa-4a4b-9f29-a0eafe0850e6",
   "metadata": {},
   "outputs": [],
   "source": [
    "print(qiskit.__version__)"
   ]
  },
  {
   "cell_type": "code",
   "execution_count": null,
   "id": "acd82fca-37a5-4f52-b1c3-61acecbd3921",
   "metadata": {},
   "outputs": [],
   "source": [
    "from qiskit.tools.jupyter import *\n",
    "%qiskit_version_table\n",
    "%qiskit_backend_overview\n",
    "%qiskit_job_watcher"
   ]
  },
  {
   "cell_type": "code",
   "execution_count": null,
   "id": "6f0c97e2-2f89-43de-b495-16e353f99df1",
   "metadata": {},
   "outputs": [],
   "source": [
    "from qiskit import IBMQ\n",
    "IBMQ.active_account()"
   ]
  },
  {
   "cell_type": "markdown",
   "id": "49d563e1-cf5e-4ba0-9651-e0a98b87baba",
   "metadata": {},
   "source": [
    "*Drawing circuits:*\n",
    "This is the first skill we'll learn because it'll help learn everything else in this section.\n",
    "There are 2 options for drawing circuits: \n",
    "\n",
    "1). mpl \n",
    "\n",
    "2). text "
   ]
  },
  {
   "cell_type": "markdown",
   "id": "3ddc6e35-7bc3-4f11-b8ec-e785a52ffb58",
   "metadata": {},
   "source": [
    "**mpl:**\n",
    "- requires matplotlib to be installed"
   ]
  },
  {
   "cell_type": "code",
   "execution_count": null,
   "id": "2342587c-3c73-428c-8215-375b3ff338a3",
   "metadata": {
    "scrolled": true
   },
   "outputs": [],
   "source": [
    "qc = QuantumCircuit(3)\n",
    "qc.draw(output ='mpl') # mpl -> matplotlib"
   ]
  },
  {
   "cell_type": "code",
   "execution_count": null,
   "id": "c2c15d3b-59cc-46b4-8cb9-6591d2a41354",
   "metadata": {},
   "outputs": [],
   "source": [
    "qc = QuantumCircuit(3)\n",
    "qc.draw(output = 'text')"
   ]
  },
  {
   "cell_type": "code",
   "execution_count": null,
   "id": "d93d96f2-ca75-4493-a8ec-34944fc25ee7",
   "metadata": {},
   "outputs": [],
   "source": [
    "# circuit_drawer is not a method of the qc class - it's a function.\n",
    "circuit_drawer(qc, output='mpl')"
   ]
  },
  {
   "cell_type": "code",
   "execution_count": null,
   "id": "69d00ba6-79d5-455d-8e04-6ee527b2629b",
   "metadata": {},
   "outputs": [],
   "source": [
    "circuit_drawer(qc, output='text')"
   ]
  },
  {
   "cell_type": "markdown",
   "id": "e39aec88-608c-4b28-b888-4524dc2d92a8",
   "metadata": {},
   "source": [
    "### Saving quantum circuit\n",
    "- you must save it using output='mpl'"
   ]
  },
  {
   "cell_type": "code",
   "execution_count": null,
   "id": "e100db0c-d25b-4ecf-b262-b741fd16b4a8",
   "metadata": {},
   "outputs": [],
   "source": [
    "qc.draw('mpl', filename='circuit.pdf')"
   ]
  },
  {
   "cell_type": "markdown",
   "id": "75f6be94-f704-415d-9ac4-48a736d5e853",
   "metadata": {},
   "source": [
    "### Quantum and classical Registers"
   ]
  },
  {
   "cell_type": "code",
   "execution_count": null,
   "id": "27d54bba-5a2f-4f77-9af9-8e517c1f0eb4",
   "metadata": {},
   "outputs": [],
   "source": [
    "# You can concatenate quantum and classical registers\n",
    "qc_quantum = QuantumRegister(2)\n",
    "qc_classical = ClassicalRegister(2)\n",
    "qc = QuantumCircuit(qc_quantum, qc_classical)"
   ]
  },
  {
   "cell_type": "code",
   "execution_count": null,
   "id": "40642822-9aca-4fdf-9bbc-61d66e257d5e",
   "metadata": {},
   "outputs": [],
   "source": [
    "qc.draw(output='text')"
   ]
  },
  {
   "cell_type": "code",
   "execution_count": null,
   "id": "e13a06c2-df3b-4434-87dd-b5a8cb514bef",
   "metadata": {},
   "outputs": [],
   "source": [
    "qc = QuantumCircuit(4,2)\n",
    "qc.x(0)\n",
    "qc.measure([0,3],[0,1])\n",
    "# qc.measure_all()\n",
    "qc.draw(output='text')"
   ]
  },
  {
   "cell_type": "code",
   "execution_count": null,
   "id": "dfaf3ff8-cc48-4600-ab57-75a7a497df71",
   "metadata": {},
   "outputs": [],
   "source": [
    "qc = QuantumCircuit(4,2)\n",
    "qc.x(0)\n",
    "# qc.measure([0,3],[0,1])\n",
    "qc.measure_all()\n",
    "qc.draw(output='text')"
   ]
  },
  {
   "cell_type": "code",
   "execution_count": null,
   "id": "e34c408e-b3c7-45b9-bbd2-9e7c898c4b9a",
   "metadata": {},
   "outputs": [],
   "source": [
    "qc = QuantumCircuit(4,2)\n",
    "qc.x(0)\n",
    "qc.mcx([0,1],2)\n",
    "qc.barrier(0,1,2,3)\n",
    "qc.draw(output='text')"
   ]
  },
  {
   "cell_type": "code",
   "execution_count": null,
   "id": "845a9ed0-cd2d-4cbe-9111-ffdfa16c5cbd",
   "metadata": {},
   "outputs": [],
   "source": [
    "from qiskit.providers.aer import Aer\n",
    "from qiskit import transpile"
   ]
  },
  {
   "cell_type": "code",
   "execution_count": null,
   "id": "13f21619-bd8f-45b2-9012-6620599897a4",
   "metadata": {},
   "outputs": [],
   "source": [
    "qc = QuantumCircuit(2, 2)\n",
    "qc.x(0)\n",
    "qc.measure([0,1], [0,1])\n",
    "simulator = Aer.get_backend('qasm_simulator')\n",
    "result = execute(qc, simulator, shots=1000).result()\n",
    "counts = result.get_counts(qc)\n",
    "print(counts)"
   ]
  },
  {
   "cell_type": "code",
   "execution_count": null,
   "id": "e1144252-97eb-46ab-9d2f-e45015736f7d",
   "metadata": {},
   "outputs": [],
   "source": [
    "# works with current qiskit\n",
    "print('works with current qiskit ' + str(qiskit.__version__))\n",
    "from qiskit import transpile\n",
    "qc = QuantumCircuit(2, 2)\n",
    "qc.x(0)\n",
    "qc.measure([0,1], [0,1])\n",
    "qc.draw('mpl')\n",
    "\n"
   ]
  },
  {
   "cell_type": "code",
   "execution_count": null,
   "id": "ba9bdf02-2e28-43a1-a0cd-d225cd3fe005",
   "metadata": {},
   "outputs": [],
   "source": [
    "# get the counts\n",
    "simulator = Aer.get_backend('qasm_simulator')\n",
    "circuit_isa = transpile(qc, simulator)\n",
    "result = simulator.run(circuit_isa, shots=1000).result()\n",
    "counts = result.get_counts(qc)\n",
    "print(counts)"
   ]
  },
  {
   "cell_type": "code",
   "execution_count": null,
   "id": "49986f6d-a02e-4951-b3e2-5ea4f2a475fb",
   "metadata": {},
   "outputs": [],
   "source": []
  }
 ],
 "metadata": {
  "kernelspec": {
   "display_name": "Python (qiskit-cert-intel)",
   "language": "python",
   "name": "qiskit-cert-intel"
  },
  "language_info": {
   "codemirror_mode": {
    "name": "ipython",
    "version": 3
   },
   "file_extension": ".py",
   "mimetype": "text/x-python",
   "name": "python",
   "nbconvert_exporter": "python",
   "pygments_lexer": "ipython3",
   "version": "3.9.23"
  }
 },
 "nbformat": 4,
 "nbformat_minor": 5
}
