{
 "cells": [
  {
   "cell_type": "markdown",
   "id": "af004027-b1f2-4b74-a0a3-79a93f045eb8",
   "metadata": {},
   "source": [
    "This notebook contains code implementing the questions from this medium article with Practice Exam questions:\n",
    "\n",
    "https://medium.com/@arkrana9/a-complete-qiskit-certification-practice-test-part-1-d11b9169503f"
   ]
  },
  {
   "cell_type": "code",
   "execution_count": 1,
   "id": "7cb315a9-2602-490c-8e1b-69a46c37591f",
   "metadata": {},
   "outputs": [
    {
     "name": "stderr",
     "output_type": "stream",
     "text": [
      "/Users/jordanmakansi/mamba/envs/qiskit-cert-intel/lib/python3.9/site-packages/qiskit/circuit/equivalence.py:18: DeprecationWarning: The retworkx package is deprecated and has been renamed to rustworkx. Rustworkx is a drop-in replacement and can be used by replacing `import retworkx` with import `rustworkx`. \n",
      "  import retworkx as rx\n",
      "/Users/jordanmakansi/mamba/envs/qiskit-cert-intel/lib/python3.9/site-packages/qiskit/version.py:20: UserWarning: pkg_resources is deprecated as an API. See https://setuptools.pypa.io/en/latest/pkg_resources.html. The pkg_resources package is slated for removal as early as 2025-11-30. Refrain from using this package or pin to Setuptools<81.\n",
      "  import pkg_resources\n"
     ]
    }
   ],
   "source": [
    "import qiskit\n",
    "import numpy as np\n",
    "from qiskit import QuantumCircuit, QuantumRegister, ClassicalRegister\n",
    "from qiskit.visualization import circuit_drawer\n",
    "import warnings, pkg_resources\n",
    "warnings.filterwarnings(\"ignore\", category=UserWarning,\n",
    "                        module=r\"qiskit\\.providers\\.ibmq\\.api\\.session\")\n",
    "warnings.filterwarnings(\"ignore\",\n",
    "                        category=DeprecationWarning,\n",
    "                        module=r\"qiskit\\.providers\\.ibmq\")"
   ]
  },
  {
   "cell_type": "code",
   "execution_count": 2,
   "id": "31d71a72-6518-48fe-b9b8-01a698ee4712",
   "metadata": {},
   "outputs": [
    {
     "name": "stdout",
     "output_type": "stream",
     "text": [
      "{'11': 499, '00': 525}\n"
     ]
    }
   ],
   "source": [
    "from qiskit import QuantumCircuit, BasicAer, execute\n",
    "\n",
    "qc = QuantumCircuit(2, 2)\n",
    "qc.h(0); qc.cx(0, 1); qc.measure([0,1],[0,1])\n",
    "\n",
    "backend = BasicAer.get_backend('qasm_simulator')\n",
    "result = execute(qc, backend, shots=1024).result()\n",
    "print(result.get_counts())\n"
   ]
  },
  {
   "cell_type": "code",
   "execution_count": 3,
   "id": "c92da700-cc32-4046-8440-49a0caae5aef",
   "metadata": {},
   "outputs": [
    {
     "name": "stdout",
     "output_type": "stream",
     "text": [
      "Terra   : 0.17.4\n",
      "Aer     : BasicAer only\n",
      "IBMQProv: 0.13.1\n"
     ]
    }
   ],
   "source": [
    "import qiskit, pkg_resources\n",
    "print(\"Terra   :\", qiskit.__qiskit_version__['qiskit-terra'])\n",
    "print(\"Aer     :\", \"BasicAer only\")\n",
    "print(\"IBMQProv:\", pkg_resources.get_distribution(\"qiskit-ibmq-provider\").version)\n"
   ]
  },
  {
   "cell_type": "code",
   "execution_count": 4,
   "id": "9fdff131-8701-43cb-89ac-7d8d664fbd18",
   "metadata": {},
   "outputs": [
    {
     "name": "stdout",
     "output_type": "stream",
     "text": [
      "Length: 128 chars\n",
      "Repr: '0ed8a462f85de671e0c93e03228a922b3e643173db55be609c9a2fef66e61cdb23daba99398f55e43eec20de7c3e0e840d6ff1e574dc277c461a513a39134e6b'\n",
      "Found providers:\n",
      "  <AccountProvider for IBMQ(hub='ibm-q', group='open', project='main')>\n",
      "  <AccountProvider for IBMQ(hub='usc', group='makansi-research', project='pwice')>\n",
      "[<IBMQBackend('ibm_sherbrooke') from IBMQ(hub='usc', group='makansi-research', project='pwice')>, <IBMQBackend('ibm_brisbane') from IBMQ(hub='usc', group='makansi-research', project='pwice')>]\n"
     ]
    }
   ],
   "source": [
    "RAW = \"0ed8a462f85de671e0c93e03228a922b3e643173db55be609c9a2fef66e61cdb23daba99398f55e43eec20de7c3e0e840d6ff1e574dc277c461a513a39134e6b\"         # exactly what you copied\n",
    "print(\"Length:\", len(RAW), \"chars\")           # should be 44\n",
    "print(\"Repr:\", repr(RAW))                     # no spaces or \\n\n",
    "\n",
    "from qiskit import IBMQ\n",
    "\n",
    "# One-time save of your 128-char token\n",
    "IBMQ.save_account(RAW, overwrite=True)\n",
    "IBMQ.load_account()\n",
    "providers = IBMQ.providers()\n",
    "print(\"Found providers:\")\n",
    "for p in providers:\n",
    "    print(\" \", p)\n",
    "# Load the provider (reads ~/.qiskit/qiskitrc)\n",
    "provider = IBMQ.get_provider(hub='usc', group='makansi-research', project='pwice')\n",
    "\n",
    "# Now list backends\n",
    "print(provider.backends()[:5])"
   ]
  },
  {
   "cell_type": "code",
   "execution_count": 5,
   "id": "548f1520-1cf0-4285-b298-0d724e4bf52f",
   "metadata": {},
   "outputs": [
    {
     "name": "stdout",
     "output_type": "stream",
     "text": [
      "Terra   : 0.17.4\n",
      "Aer     : None\n",
      "IBMQProv: 0.13.1\n"
     ]
    }
   ],
   "source": [
    "import qiskit, pkg_resources\n",
    "print(\"Terra   :\", qiskit.__qiskit_version__['qiskit-terra'])\n",
    "print(\"Aer     :\", qiskit.__qiskit_version__['qiskit-aer'] if 'qiskit-aer' in qiskit.__qiskit_version__ else \"BasicAer only\")\n",
    "print(\"IBMQProv:\", pkg_resources.get_distribution(\"qiskit-ibmq-provider\").version)\n"
   ]
  },
  {
   "cell_type": "code",
   "execution_count": 6,
   "id": "49986f6d-a02e-4951-b3e2-5ea4f2a475fb",
   "metadata": {},
   "outputs": [
    {
     "data": {
      "text/html": [
       "<h3>Version Information</h3><table><tr><th>Qiskit Software</th><th>Version</th></tr><tr><td>Qiskit</td><td>None</td></tr><tr><td>Terra</td><td>0.17.4</td></tr><tr><td>Aer</td><td>None</td></tr><tr><td>Ignis</td><td>0.6.0</td></tr><tr><td>Aqua</td><td>None</td></tr><tr><td>IBM Q Provider</td><td>0.13.1</td></tr><tr><th>System information</th></tr><tr><td>Python</td><td>3.9.23 | packaged by conda-forge | (main, Jun  4 2025, 18:02:02) \n",
       "[Clang 18.1.8 ]</td></tr><tr><td>OS</td><td>Darwin</td></tr><tr><td>CPUs</td><td>11</td></tr><tr><td>Memory (Gb)</td><td>18.0</td></tr><tr><td colspan='2'>Fri Jul 11 10:10:35 2025 EDT</td></tr></table>"
      ],
      "text/plain": [
       "<IPython.core.display.HTML object>"
      ]
     },
     "metadata": {},
     "output_type": "display_data"
    }
   ],
   "source": [
    "from qiskit.tools.jupyter import *\n",
    "%qiskit_version_table\n"
   ]
  },
  {
   "cell_type": "code",
   "execution_count": 7,
   "id": "07c1181d-eefd-424f-8242-0a992037a0d1",
   "metadata": {},
   "outputs": [
    {
     "name": "stdout",
     "output_type": "stream",
     "text": [
      "All exam modules imported successfully.\n"
     ]
    }
   ],
   "source": [
    "# Core circuit & simulator\n",
    "import qiskit\n",
    "from qiskit import QuantumCircuit, BasicAer, execute\n",
    "\n",
    "# Measurement mitigation\n",
    "from qiskit.ignis.mitigation.measurement import complete_meas_cal, CompleteMeasFitter\n",
    "\n",
    "print(\"All exam modules imported successfully.\")\n"
   ]
  },
  {
   "cell_type": "code",
   "execution_count": 8,
   "id": "aa5b5363-f061-4b29-b6fb-8bb12d2ce3e8",
   "metadata": {},
   "outputs": [
    {
     "data": {
      "text/html": [
       "<h3>Version Information</h3><table><tr><th>Qiskit Software</th><th>Version</th></tr><tr><td>Qiskit</td><td>None</td></tr><tr><td>Terra</td><td>0.17.4</td></tr><tr><td>Aer</td><td>None</td></tr><tr><td>Ignis</td><td>0.6.0</td></tr><tr><td>Aqua</td><td>None</td></tr><tr><td>IBM Q Provider</td><td>0.13.1</td></tr><tr><th>System information</th></tr><tr><td>Python</td><td>3.9.23 | packaged by conda-forge | (main, Jun  4 2025, 18:02:02) \n",
       "[Clang 18.1.8 ]</td></tr><tr><td>OS</td><td>Darwin</td></tr><tr><td>CPUs</td><td>11</td></tr><tr><td>Memory (Gb)</td><td>18.0</td></tr><tr><td colspan='2'>Fri Jul 11 10:10:35 2025 EDT</td></tr></table>"
      ],
      "text/plain": [
       "<IPython.core.display.HTML object>"
      ]
     },
     "metadata": {},
     "output_type": "display_data"
    },
    {
     "data": {
      "application/vnd.jupyter.widget-view+json": {
       "model_id": "a303d3277d934c6681feddab2ed13d03",
       "version_major": 2,
       "version_minor": 0
      },
      "text/plain": [
       "Accordion(children=(VBox(layout=Layout(max_width='710px', min_width='710px')),), layout=Layout(max_height='500…"
      ]
     },
     "metadata": {},
     "output_type": "display_data"
    },
    {
     "data": {
      "application/javascript": [
       "$('div.job_widget')\n",
       "        .detach()\n",
       "        .appendTo($('#header'))\n",
       "        .css({\n",
       "            'z-index': 999,\n",
       "             'position': 'fixed',\n",
       "            'box-shadow': '5px 5px 5px -3px black',\n",
       "            'opacity': 0.95,\n",
       "            'float': 'left,'\n",
       "        })\n",
       "        "
      ],
      "text/plain": [
       "<IPython.core.display.Javascript object>"
      ]
     },
     "metadata": {},
     "output_type": "display_data"
    }
   ],
   "source": [
    "from qiskit.tools.jupyter import * \n",
    "\n",
    "%qiskit_version_table  \n",
    "# %qiskit_backend_overview  <---- doesn't work, but just memorize what it does (in case it comes up on the exam)\n",
    "%qiskit_job_watcher "
   ]
  },
  {
   "cell_type": "code",
   "execution_count": null,
   "id": "3494cb0e-8e91-439c-b7bd-c78b75018060",
   "metadata": {},
   "outputs": [],
   "source": []
  }
 ],
 "metadata": {
  "kernelspec": {
   "display_name": "Python (qiskit-cert-intel)",
   "language": "python",
   "name": "qiskit-cert-intel"
  },
  "language_info": {
   "codemirror_mode": {
    "name": "ipython",
    "version": 3
   },
   "file_extension": ".py",
   "mimetype": "text/x-python",
   "name": "python",
   "nbconvert_exporter": "python",
   "pygments_lexer": "ipython3",
   "version": "3.9.23"
  }
 },
 "nbformat": 4,
 "nbformat_minor": 5
}
