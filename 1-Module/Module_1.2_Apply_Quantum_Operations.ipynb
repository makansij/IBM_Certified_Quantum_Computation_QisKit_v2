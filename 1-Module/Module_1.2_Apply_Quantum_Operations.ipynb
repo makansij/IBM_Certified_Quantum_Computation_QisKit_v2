{
 "cells": [
  {
   "cell_type": "markdown",
   "id": "69ddf6a1",
   "metadata": {},
   "source": [
    "# Module 1.2 - Apply Quantum Operations"
   ]
  },
  {
   "cell_type": "markdown",
   "id": "9cd489cc-fc3b-4ccc-97d4-26416d3ee779",
   "metadata": {},
   "source": [
    "## Section 1.2.0: Overview\n",
    "\n",
    "This module focuses on applying quantum operations to qubits using Qiskit v2.x.  \n",
    "You will connect common gates to their unitary matrices, compose them on circuits,  \n",
    "and verify results via state evolution.  Emphasis is on correctness, gate ordering,  \n",
    "and reproducible execution on a realistic fake backend.  \n",
    "\n",
    " \n",
    "- Section 1.2.1 Gate Tensor Products \n",
    "- Section 1.2.2 Operator class \n",
    "- Section 1.2.3 Pauli class \n",
    "- Section 1.2.4 Statevector class \n",
    "- Section 1.2.5 Measurement   \n",
    " \n",
    "\n",
    "**IBM references**  \n",
    "- Circuit library and `QuantumCircuit`:  \n",
    "  https://quantum.cloud.ibm.com/docs/en/api/qiskit/circuit_library  \n",
    "  https://quantum.cloud.ibm.com/docs/en/api/qiskit/qiskit.circuit.QuantumCircuit  \n",
    "\n",
    "*Tip:* Keep circuits small, fix random seeds, and use low shot counts for quick,  \n",
    "reproducible runs.  \n"
   ]
  },
  {
   "cell_type": "markdown",
   "id": "9900afc8",
   "metadata": {},
   "source": [
    "## Section 1.2.1: Gate Tensor Products\n",
    "### Review Tensor Products"
   ]
  },
  {
   "cell_type": "markdown",
   "id": "a4026cb0",
   "metadata": {},
   "source": [
    "Tensor products are used to describe multi-qubit systems. For example:\n",
    "\n",
    "- $|0\\rangle \\otimes |0\\rangle = |00\\rangle$\n",
    "- $|0\\rangle \\otimes |1\\rangle = |01\\rangle$\n",
    "- $|+\\rangle \\otimes |+\\rangle = \\frac{1}{2}(|00\\rangle + |01\\rangle + |10\\rangle + |11\\rangle)$\n",
    "- $|+\\rangle \\otimes |-\\rangle = \\frac{1}{2}(|00\\rangle - |01\\rangle + |10\\rangle - |11\\rangle)$"
   ]
  },
  {
   "cell_type": "code",
   "execution_count": 4,
   "id": "a7435cc7",
   "metadata": {},
   "outputs": [
    {
     "name": "stdout",
     "output_type": "stream",
     "text": [
      "Tensor |0⟩ ⊗ |0⟩ = Statevector([1.+0.j, 0.+0.j, 0.+0.j, 0.+0.j],\n",
      "            dims=(2, 2))\n",
      "|+⟩ ⊗ |+⟩ = Statevector([0.5+0.j, 0.5+0.j, 0.5+0.j, 0.5+0.j],\n",
      "            dims=(2, 2))\n"
     ]
    }
   ],
   "source": [
    "from qiskit.quantum_info import Statevector\n",
    "\n",
    "# Tensor product of |0> and |0>\n",
    "print(\"Tensor |0⟩ ⊗ |0⟩ =\", Statevector.from_label('00'))\n",
    "\n",
    "# Tensor |+> ⊗ |+>\n",
    "plus_plus = Statevector([0.5, 0.5, 0.5, 0.5])\n",
    "print(\"|+⟩ ⊗ |+⟩ =\", plus_plus)\n"
   ]
  },
  {
   "cell_type": "markdown",
   "id": "4b748c30-9456-46d5-8112-85100d09297d",
   "metadata": {},
   "source": [
    "### Tensor Product of Matrices/Gates\n",
    "\n",
    "**0) Theory**\n",
    "\n",
    "The tensor (Kronecker) product of matrices $A \\in \\mathbb{C}^{m \\times n}$ and  \n",
    "$B \\in \\mathbb{C}^{p \\times q}$ is the block matrix  \n",
    "$A \\otimes B \\in \\mathbb{C}^{(mp) \\times (nq)}$ defined by\n",
    "$$\n",
    "A \\otimes B \\;=\\;\n",
    "\\begin{bmatrix}\n",
    "a_{00} B & a_{01} B & \\cdots & a_{0,n-1} B \\\\\n",
    "a_{10} B & a_{11} B & \\cdots & a_{1,n-1} B \\\\\n",
    "\\vdots   & \\vdots   & \\ddots & \\vdots      \\\\\n",
    "a_{m-1,0} B & a_{m-1,1} B & \\cdots & a_{m-1,n-1} B\n",
    "\\end{bmatrix}.\n",
    "$$\n",
    "\n",
    "Key property on tensor states:\n",
    "$$\n",
    "(A \\otimes B)\\big(\\lvert u \\rangle \\otimes \\lvert v \\rangle\\big)\n",
    "= (A \\lvert u \\rangle) \\otimes (B \\lvert v \\rangle).\n",
    "$$\n",
    "\n",
    "For $2 \\times 2$ matrices (common in qubit land), if\n",
    "$A=\\begin{bmatrix}a&b\\\\ c&d\\end{bmatrix}$ and\n",
    "$B=\\begin{bmatrix}e&f\\\\ g&h\\end{bmatrix}$, then\n",
    "$$\n",
    "A \\otimes B\n",
    "=\n",
    "\\begin{bmatrix}\n",
    "aB & bB \\\\\n",
    "cB & dB\n",
    "\\end{bmatrix}\n",
    "=\n",
    "\\begin{bmatrix}\n",
    "ae & af & be & bf \\\\\n",
    "ag & ah & bg & bh \\\\\n",
    "ce & cf & de & df \\\\\n",
    "cg & ch & dg & dh\n",
    "\\end{bmatrix}.\n",
    "$$\n",
    "\n",
    "> Convention note (Qiskit): $A \\otimes B$ means $A$ acts on the **first**\n",
    "> subsystem and $B$ on the **second**; the left factor is more significant.\n",
    "\n",
    "**1) Qiskit implementation with `Operator` and `to_matrix()`**\n",
    "\n",
    "Use `Operator` to wrap matrices, then call `.tensor()` to build\n",
    "$A \\otimes B$. Use `.to_matrix()` to get a NumPy array.\n"
   ]
  },
  {
   "cell_type": "code",
   "execution_count": 5,
   "id": "51045c60-3471-49ef-8eea-733e6da46c8f",
   "metadata": {},
   "outputs": [
    {
     "name": "stdout",
     "output_type": "stream",
     "text": [
      "[[0.+0.j 1.+0.j 0.+0.j 2.+0.j]\n",
      " [1.+0.j 0.+0.j 2.+0.j 0.+0.j]\n",
      " [0.+0.j 3.+0.j 0.+0.j 4.+0.j]\n",
      " [3.+0.j 0.+0.j 4.+0.j 0.+0.j]]\n"
     ]
    }
   ],
   "source": [
    "from qiskit.quantum_info import Operator\n",
    "import numpy as np\n",
    "\n",
    "# Define two 2x2 matrices (example: A arbitrary, B = X gate)\n",
    "A = np.array([[1, 2],\n",
    "              [3, 4]], dtype=complex)\n",
    "B = np.array([[0, 1],\n",
    "              [1, 0]], dtype=complex)  # Pauli-X\n",
    "\n",
    "op_A = Operator(A)\n",
    "op_B = Operator(B)\n",
    "\n",
    "# Tensor product A ⊗ B (A on the first subsystem, B on the second)\n",
    "op_A_kron_B = op_A.tensor(op_B)\n",
    "\n",
    "# Get the concrete matrix\n",
    "kron_matrix = op_A_kron_B.to_matrix()\n",
    "print(kron_matrix)"
   ]
  },
  {
   "cell_type": "markdown",
   "id": "611d8e6a",
   "metadata": {},
   "source": [
    "## Section 1.2.2 – Operator Class"
   ]
  },
  {
   "cell_type": "markdown",
   "id": "081718ec-33b9-4ed1-9f7b-106dbb934252",
   "metadata": {},
   "source": [
    "## **Constructors:** \n",
    "\n",
    "2 ways to construct:\n",
    "\n",
    "  1)  2-d Numpy Array\n",
    "\n",
    "  2)  QuantumCircuit\n",
    "\n",
    "```python\n",
    "import numpy as np\n",
    "from qiskit.quantum_info import Operator\n",
    "from qiskit import QuantumCircuit\n",
    "```\n",
    "\n",
    "#### 1) Matrix (shape 2^n × 2^n)\n",
    "```\n",
    "A = np.array([[1, 0],\n",
    "              [0, -1]], dtype=complex)   # Z\n",
    "opA = Operator(A)\n",
    "```\n",
    "\n",
    "#### 2) Circuit (unitary of the circuit)\n",
    "qc = QuantumCircuit(1)\n",
    "qc.h(0)\n",
    "opU = Operator(qc)\n"
   ]
  },
  {
   "cell_type": "markdown",
   "id": "e28ce7c7-cf1c-4dba-8724-7c3fa0a0f12e",
   "metadata": {},
   "source": [
    "### Methods/Attributes:\n",
    "The two most commonly tested on the exam are:\n",
    "\n",
    "- `to_matrix()`\n",
    "- `data`\n",
    "\n",
    "### Qiskit `Operator.to_matrix()` — usage patterns\n",
    "\n",
    "**Purpose**\n",
    "- Return a **NumPy copy** of the operator’s matrix.  \n",
    "- Use when you need a standalone `ndarray` (e.g., NumPy/SciPy ops, serialization).  \n",
    "- `op.data` is a NumPy **view** of the stored matrix; `op.to_matrix()` returns a copy.\n",
    "\n",
    "**From a circuit**\n"
   ]
  },
  {
   "cell_type": "code",
   "execution_count": 8,
   "id": "7e6216ef-285b-4ac8-ab09-7ebd4bb071a9",
   "metadata": {},
   "outputs": [
    {
     "name": "stdout",
     "output_type": "stream",
     "text": [
      "<class 'numpy.ndarray'> (2, 2)\n",
      "True\n"
     ]
    }
   ],
   "source": [
    "from qiskit import QuantumCircuit\n",
    "from qiskit.quantum_info import Operator\n",
    "import numpy as np\n",
    "\n",
    "qc = QuantumCircuit(1)\n",
    "qc.h(0)\n",
    "\n",
    "op = Operator(qc)\n",
    "M = op.to_matrix()            # ndarray copy\n",
    "print(type(M), M.shape)       # <class 'numpy.ndarray'> (2, 2)\n",
    "print(np.allclose(M, op.data))  # True"
   ]
  },
  {
   "cell_type": "markdown",
   "id": "7469a4c7-02d9-4192-b645-34a1e42d18b0",
   "metadata": {},
   "source": [
    "### Qiskit `Operator.data` — quick access to the matrix\n",
    "\n",
    "**Purpose**\n",
    "- Returns a **NumPy array view** of the operator’s stored matrix  \n",
    "  (dimension $2^n \\times 2^n$ for $n$ qubits).  \n",
    "- Fast read access; if you need a **copy**, use `to_matrix()`.\n",
    "\n",
    "**From a circuit**"
   ]
  },
  {
   "cell_type": "code",
   "execution_count": 11,
   "id": "a2d94ba2-93cc-4ce6-9457-fd7adbb9bcb5",
   "metadata": {},
   "outputs": [
    {
     "name": "stdout",
     "output_type": "stream",
     "text": [
      "<class 'numpy.ndarray'> (2, 2)\n"
     ]
    }
   ],
   "source": [
    "\n",
    "from qiskit import QuantumCircuit\n",
    "from qiskit.quantum_info import Operator\n",
    "\n",
    "qc = QuantumCircuit(1)\n",
    "qc.h(0)\n",
    "\n",
    "op = Operator(qc)\n",
    "A = op.data                 # ndarray view\n",
    "print(type(A), A.shape)     # <class 'numpy.ndarray'> (2, 2)"
   ]
  },
  {
   "cell_type": "markdown",
   "id": "e19dac78-0808-4ad9-99ae-1a5b79213ee5",
   "metadata": {},
   "source": [
    "### Similar to the Pauli class from Module 1.1..."
   ]
  },
  {
   "cell_type": "code",
   "execution_count": 14,
   "id": "b7008944-08f3-41b4-a81b-96a880e56429",
   "metadata": {},
   "outputs": [
    {
     "name": "stdout",
     "output_type": "stream",
     "text": [
      "[[ 0.+0.j  1.+0.j]\n",
      " [-1.+0.j  0.+0.j]]\n"
     ]
    }
   ],
   "source": [
    "from qiskit.quantum_info import Operator\n",
    "\n",
    "X = Operator([[0, 1],\n",
    "              [1, 0]])\n",
    "Z = Operator([[1, 0],\n",
    "              [0, -1]])\n",
    "\n",
    "U = Z @ X                   # apply X then Z\n",
    "A = U.data                  # matrix view of the composition\n",
    "print(A)"
   ]
  },
  {
   "cell_type": "markdown",
   "id": "73761dd5-348f-402c-8063-ab33919c1dbe",
   "metadata": {},
   "source": [
    "#### Common Pitfall:  There is NO `expectation_value` attribute of the Operator class\n",
    "...this is in contrast to some of the other classes such as `DensityMatrix` and `Statevector` as we'll see next...."
   ]
  },
  {
   "cell_type": "markdown",
   "id": "83218592-8343-41eb-a8b7-d2c86e383eaf",
   "metadata": {},
   "source": [
    "## Section 1.2.3 Statevector"
   ]
  },
  {
   "cell_type": "markdown",
   "id": "68a8422f-121c-4204-93ed-3d12991da68e",
   "metadata": {},
   "source": [
    "1. Constructors: Array, `from_instruction`, `from_label`  \n",
    "2. Attribute: `expectation_value`  \n",
    "3. Attribute: `data`  \n",
    "4. Common Pitfall: no `to_matrix()`\n"
   ]
  },
  {
   "cell_type": "markdown",
   "id": "4ac7d00f-6370-4db9-a99c-3748e27fad56",
   "metadata": {},
   "source": [
    "### `Statevector(<2d array>)` with an array\n",
    "\n",
    "Construct a statevector directly from a numpy array\n"
   ]
  },
  {
   "cell_type": "code",
   "execution_count": 24,
   "id": "6f489c83-a016-4eba-9df6-6b49a3111ba7",
   "metadata": {},
   "outputs": [
    {
     "name": "stdout",
     "output_type": "stream",
     "text": [
      "Statevector([0.70710678+0.j, 0.70710678+0.j],\n",
      "            dims=(2,))\n"
     ]
    }
   ],
   "source": [
    "from qiskit.quantum_info import Statevector, Operator\n",
    "import numpy as np\n",
    "\n",
    "# |+> = (|0> + |1>)/sqrt(2)\n",
    "psi = Statevector([1/np.sqrt(2), 1/np.sqrt(2)])\n",
    "print(psi)"
   ]
  },
  {
   "cell_type": "markdown",
   "id": "c95ff3de-fa87-43ce-b53e-fd50f9874993",
   "metadata": {},
   "source": [
    "### `Statevector.from_instruction` with a `QuantumCircuit` \n",
    "\n",
    "Construct a statevector $\\,\\lvert \\psi \\rangle\\,$ directly from a circuit’s unitary\n",
    "evolution.\n"
   ]
  },
  {
   "cell_type": "code",
   "execution_count": 18,
   "id": "9fd04204-1125-43e9-aaeb-339ac23c3196",
   "metadata": {},
   "outputs": [
    {
     "name": "stdout",
     "output_type": "stream",
     "text": [
      "Statevector([0.70710678+0.j, 0.70710678+0.j],\n",
      "            dims=(2,))\n",
      "[0.70710678+0.j 0.70710678+0.j]\n",
      "True\n"
     ]
    }
   ],
   "source": [
    "\n",
    "from qiskit import QuantumCircuit\n",
    "from qiskit.quantum_info import Statevector\n",
    "import numpy as np\n",
    "\n",
    "# Example 1: single-qubit |0> --H--> |+>\n",
    "qc = QuantumCircuit(1)\n",
    "qc.h(0)\n",
    "\n",
    "psi = Statevector.from_instruction(qc)\n",
    "print(psi)                  # amplitudes for |0>, |1>\n",
    "print(psi.data)             # NumPy array view\n",
    "print(np.allclose(psi.data,\n",
    "                  [1/np.sqrt(2), 1/np.sqrt(2)]))\n"
   ]
  },
  {
   "cell_type": "markdown",
   "id": "cc48307e-9447-44f7-8a1b-45d76c76e5ec",
   "metadata": {},
   "source": [
    "### `Statevector.from_label` with a string (Qiskit 2.2.1)\n",
    "\n",
    "Construct a statevector $\\,\\lvert \\psi \\rangle\\,$ from a **label string**.  \n",
    "Single-qubit labels: `\"0\"`, `\"1\"`, `\"+\"`, `\"-\"`, `\"r\"=\\lvert +i\\rangle`, `\"l\"=\\lvert -i\\rangle`, `\"i\"`, `\"-i\"`.  \n",
    "Multi-qubit labels are the tensor product of per-character states (e.g., `\"0+\"`).\n"
   ]
  },
  {
   "cell_type": "code",
   "execution_count": 21,
   "id": "f217531a-3975-4baa-b28f-57113a7fd835",
   "metadata": {},
   "outputs": [
    {
     "name": "stdout",
     "output_type": "stream",
     "text": [
      "[0.+0.j 1.+0.j 0.+0.j 0.+0.j]\n",
      "{np.str_('01'): np.complex128(1+0j)}\n",
      "[0.70710678+0.j 0.70710678+0.j 0.        +0.j 0.        +0.j]\n",
      "{np.str_('00'): np.complex128(0.7071067811865475+0j), np.str_('01'): np.complex128(0.7071067811865475+0j)}\n"
     ]
    }
   ],
   "source": [
    "from qiskit.quantum_info import Statevector\n",
    "import numpy as np\n",
    "\n",
    "# Example A: \"01\"  →  |0⟩ ⊗ |1⟩\n",
    "psi_01 = Statevector.from_label(\"01\")\n",
    "print(psi_01.data)      # [0.+0.j 1.+0.j 0.+0.j 0.+0.j]\n",
    "print(psi_01.to_dict()) # {'01': (1+0j)}\n",
    "\n",
    "# Example B: \"0+\"  →  |0⟩ ⊗ (|0⟩ + |1⟩)/√2\n",
    "psi_0p = Statevector.from_label(\"0+\")\n",
    "print(psi_0p.data)      # [1/√2, 1/√2, 0, 0]\n",
    "print(psi_0p.to_dict()) # {'00': (1/√2), '01': (1/√2)}"
   ]
  },
  {
   "cell_type": "markdown",
   "id": "319dee35-d697-49b3-bc89-b6ab0c9b8758",
   "metadata": {},
   "source": [
    "### `Statevector.expectation_value` (Qiskit 2.2.1)\n",
    "\n",
    "Compute $\\langle \\psi \\rvert O \\lvert \\psi \\rangle$ for a statevector and observable.\n",
    "\n",
    "**Single-qubit example:** $\\lvert + \\rangle$ with $Z$\n"
   ]
  },
  {
   "cell_type": "code",
   "execution_count": 22,
   "id": "af97a4a7-9172-4dd1-a238-baeeaa83e9ef",
   "metadata": {},
   "outputs": [
    {
     "name": "stdout",
     "output_type": "stream",
     "text": [
      "(-2.2371143170757382e-17+0j)\n"
     ]
    }
   ],
   "source": [
    "\n",
    "from qiskit.quantum_info import Statevector, Operator\n",
    "import numpy as np\n",
    "\n",
    "# |+> = (|0> + |1>)/sqrt(2)\n",
    "psi = Statevector([1/np.sqrt(2), 1/np.sqrt(2)])\n",
    "\n",
    "Z = Operator([[1, 0],\n",
    "              [0, -1]])\n",
    "\n",
    "ev = psi.expectation_value(Z)\n",
    "print(ev)  # ~0.0\n"
   ]
  },
  {
   "cell_type": "markdown",
   "id": "73e6b569-9ba6-413e-b4b4-ec2212cee1d3",
   "metadata": {},
   "source": [
    "### `Statevector.data` (Qiskit 2.2.1)\n",
    "\n",
    "Returns a **NumPy array view** of the amplitudes of $\\,\\lvert \\psi \\rangle\\,$  \n",
    "(shape $2^n$, for $n$ qubits). Use when you need direct, fast access; for a copy,  \n",
    "use `Statevector.to_array()`.\n",
    "\n",
    "**Example A: single qubit \\(|+\\rangle\\)**"
   ]
  },
  {
   "cell_type": "code",
   "execution_count": 25,
   "id": "e040fb5d-f699-4bd7-a847-6ef6642d8a1f",
   "metadata": {},
   "outputs": [
    {
     "name": "stdout",
     "output_type": "stream",
     "text": [
      "<class 'numpy.ndarray'> (2,)\n",
      "[0.70710678+0.j 0.70710678+0.j]\n"
     ]
    }
   ],
   "source": [
    "from qiskit.quantum_info import Statevector\n",
    "import numpy as np\n",
    "\n",
    "psi = Statevector([1/np.sqrt(2), 1/np.sqrt(2)])  # |+>\n",
    "A = psi.data\n",
    "print(type(A), A.shape)   # <class 'numpy.ndarray'> (2,)\n",
    "print(A)                  # [0.70710678+0.j 0.70710678+0.j]\n"
   ]
  },
  {
   "cell_type": "markdown",
   "id": "97c378ca-5a7b-4a50-8991-714c0a1a0798",
   "metadata": {},
   "source": [
    "### CommonPitfall: no `to_matrix()` for `Statevector`"
   ]
  },
  {
   "cell_type": "markdown",
   "id": "d716522c-62e7-4cc7-9558-eecbad31b884",
   "metadata": {},
   "source": [
    "`Statevector` represents a state $\\,\\lvert \\psi \\rangle\\,$ (a length-$2^n$ vector), not\n",
    "an operator. There is **no** `to_matrix()` method on `Statevector`.\n",
    "\n",
    "**Use instead**\n",
    "- Vector (NumPy copy):  \n",
    "  ```python\n",
    "  arr = psi.to_array()      # copy of amplitudes\n"
   ]
  },
  {
   "cell_type": "markdown",
   "id": "a0e4632c-5138-4082-bb05-031a13322d24",
   "metadata": {},
   "source": [
    "## Section 1.2.3: Measuring Quantum Circuits (5 ways)\n",
    "\n",
    "Map qubits to classical bits using `measure()`, or use `measure_all()` for convenience."
   ]
  },
  {
   "cell_type": "markdown",
   "id": "955e28d8-f8af-4963-ba79-4f054d64cb08",
   "metadata": {},
   "source": [
    "### Measurement Methods in Qiskit\n",
    "\n",
    "Here are **five different ways** to measure qubits into classical bits:\n",
    "1. **Single qubit → single classical bit**\n",
    "   ```python\n",
    "   qc.measure(0, 0)\n",
    "   ```\n",
    "2. **Multiple qubits → multiple classical bits**\n",
    "   ```python\n",
    "   qc.measure([0,1,2], [0,1,2])\n",
    "   ```\n",
    "3. **Measure all qubits**\n",
    "   ```python\n",
    "   qc.measure_all()\n",
    "   ```\n",
    "4. **Separate measure calls**\n",
    "   ```python\n",
    "   qc.measure(0, 0)\n",
    "   qc.measure(1, 1)\n",
    "   ```\n",
    "5. **Measure a subset of qubits**\n",
    "   ```python\n",
    "   qc.measure([0,2], [0,1])\n",
    "   ```"
   ]
  },
  {
   "cell_type": "markdown",
   "id": "b0a7f866-30d0-4a9d-9d95-75d383c99f06",
   "metadata": {},
   "source": [
    "### Computing Measurement Probabilities (Basics)\n",
    "\n",
    "In Qiskit, a final `measure` reads qubits in the **computational (Z) basis** $\\{|0\\rangle, |1\\rangle\\}$.  \n",
    "For a single-qubit state $|\\psi\\rangle=\\alpha|0\\rangle+\\beta|1\\rangle$ with $|\\alpha|^2+|\\beta|^2=1$:\n",
    "- $\\Pr(0)=|\\alpha|^2$,  \n",
    "- $\\Pr(1)=|\\beta|^2$.\n",
    "\n",
    "**Rotations and amplitudes.** Many circuits prepare $|\\psi\\rangle$ via rotations. For example,\n",
    "- $R_y(\\theta)|0\\rangle=\\cos(\\tfrac{\\theta}{2})|0\\rangle+\\sin(\\tfrac{\\theta}{2})|1\\rangle$, so  \n",
    "  $\\Pr(1)=\\sin^2(\\tfrac{\\theta}{2})$, $\\Pr(0)=\\cos^2(\\tfrac{\\theta}{2})$.\n",
    "- $H|0\\rangle=\\tfrac{|0\\rangle+|1\\rangle}{\\sqrt{2}}$ gives $\\Pr(0)=\\Pr(1)=\\tfrac{1}{2}$.\n",
    "\n",
    "**Qiskit example.**\n",
    "```python\n",
    "qc.reset(0)          # prepares |0>\n",
    "qc.ry(np.pi/2, 0)    # θ = π/2\n",
    "qc.measure_all()\n",
    "```\n",
    "After $R_y(\\pi/2)$:\n",
    "$|\\psi\\rangle=\\cos(\\pi/4)|0\\rangle+\\sin(\\pi/4)|1\\rangle=\\tfrac{1}{\\sqrt{2}}(|0\\rangle+|1\\rangle)$.\n",
    "Thus $\\Pr(1)=\\sin^2(\\pi/4)=\\tfrac{1}{2}=0.5$.\n",
    "\n",
    "Takeaways.\n",
    "\n",
    "1. Express the post-gate state in the form $\\alpha|0\\rangle+\\beta|1\\rangle$.\n",
    "\n",
    "2.  Square magnitudes of amplitudes to get measurement probabilities.\n",
    "\n",
    "3.  Global phases do not affect probabilities; only amplitudes’ magnitudes do."
   ]
  },
  {
   "cell_type": "code",
   "execution_count": 3,
   "id": "68081b11-c15f-4b20-b96b-f55c8ccd8b65",
   "metadata": {},
   "outputs": [
    {
     "data": {
      "image/png": "[encoded data removed]",
      "text/plain": [
       "<Figure size 269.064x200.667 with 1 Axes>"
      ]
     },
     "execution_count": 3,
     "metadata": {},
     "output_type": "execute_result"
    }
   ],
   "source": [
    "# 1. Single qubit → single classical bit\n",
    "from qiskit import QuantumCircuit\n",
    "qc1 = QuantumCircuit(1, 1)\n",
    "qc1.h(0)\n",
    "qc1.measure(0, 0)\n",
    "qc1.draw('mpl')"
   ]
  },
  {
   "cell_type": "code",
   "execution_count": 4,
   "id": "9d8886d2-de62-42e0-b027-d24191b0f44b",
   "metadata": {},
   "outputs": [
    {
     "data": {
      "image/png": "[encoded data removed]",
      "text/plain": [
       "<Figure size 454.719x367.889 with 1 Axes>"
      ]
     },
     "execution_count": 4,
     "metadata": {},
     "output_type": "execute_result"
    }
   ],
   "source": [
    "# 2. Multiple qubits → multiple classical bits\n",
    "# The order in the arrays indicates which qubit maps to which classical bit\n",
    "from qiskit import QuantumCircuit\n",
    "qc2 = QuantumCircuit(3, 3)\n",
    "qc2.h([0, 1, 2])\n",
    "qc2.measure([0, 1, 2], [0, 1, 2])\n",
    "qc2.draw('mpl')"
   ]
  },
  {
   "cell_type": "code",
   "execution_count": 5,
   "id": "c6737492-73a0-47a4-ba61-03c2dbd3de19",
   "metadata": {},
   "outputs": [
    {
     "data": {
      "image/png": "[encoded data removed]",
      "text/plain": [
       "<Figure size 663.998x535.111 with 1 Axes>"
      ]
     },
     "execution_count": 5,
     "metadata": {},
     "output_type": "execute_result"
    }
   ],
   "source": [
    "# 3. Measure all qubits\n",
    "from qiskit import QuantumCircuit\n",
    "qc3 = QuantumCircuit(4, 4)\n",
    "qc3.h(range(4))\n",
    "qc3.measure_all()\n",
    "qc3.draw('mpl')"
   ]
  },
  {
   "cell_type": "code",
   "execution_count": 6,
   "id": "f7e83dc2-f839-436c-8e7b-d61ca1579642",
   "metadata": {},
   "outputs": [
    {
     "data": {
      "image/png": "[encoded data removed]",
      "text/plain": [
       "<Figure size 663.998x451.5 with 1 Axes>"
      ]
     },
     "execution_count": 6,
     "metadata": {},
     "output_type": "execute_result"
    }
   ],
   "source": [
    "# Note:  If you call \"measure_all()\", it does not require you to create any classical registers\n",
    "# The classical register to store the result is created automatically: \n",
    "from qiskit import QuantumCircuit\n",
    "qc3 = QuantumCircuit(4)\n",
    "qc3.h(range(4))\n",
    "qc3.measure_all()\n",
    "qc3.draw('mpl')"
   ]
  },
  {
   "cell_type": "code",
   "execution_count": 7,
   "id": "969f88e5-51af-4cab-905a-e00ea49d3b7f",
   "metadata": {},
   "outputs": [
    {
     "data": {
      "image/png": "[encoded data removed]",
      "text/plain": [
       "<Figure size 287.294x284.278 with 1 Axes>"
      ]
     },
     "execution_count": 7,
     "metadata": {},
     "output_type": "execute_result"
    }
   ],
   "source": [
    "# 4. Separate measure calls\n",
    "from qiskit import QuantumCircuit\n",
    "qc4 = QuantumCircuit(2, 2)\n",
    "qc4.x(0)\n",
    "qc4.measure(0, 0)\n",
    "qc4.measure(1, 1)\n",
    "qc4.draw('mpl')"
   ]
  },
  {
   "cell_type": "code",
   "execution_count": 8,
   "id": "3aff6b1a-a8cc-4302-97bb-dac7d0c71890",
   "metadata": {},
   "outputs": [
    {
     "data": {
      "image/png": "[encoded data removed]",
      "text/plain": [
       "<Figure size 371.107x367.889 with 1 Axes>"
      ]
     },
     "execution_count": 8,
     "metadata": {},
     "output_type": "execute_result"
    }
   ],
   "source": [
    "# 5. Measure a subset of qubits\n",
    "from qiskit import QuantumCircuit\n",
    "qc5 = QuantumCircuit(3, 2)\n",
    "qc5.h([0, 2])\n",
    "qc5.measure([0, 2], [0, 1])\n",
    "qc5.draw('mpl')"
   ]
  },
  {
   "cell_type": "code",
   "execution_count": 9,
   "id": "1e913eb4-8512-4aef-8794-4ac9093db99d",
   "metadata": {},
   "outputs": [],
   "source": [
    "#...HOWEVER, Notice that if you explicitly list the classical registers when you measure, then you need to have initialized them.\n",
    "#  E.g. the following code throws an error:\n",
    "\n",
    "# from qiskit import QuantumCircuit\n",
    "# qc2 = QuantumCircuit(3)\n",
    "# qc2.h([0, 1, 2])\n",
    "# qc2.measure([0, 1, 2], [0, 1, 2]) # Requires that you initialize 3 classical registers\n",
    "# qc2.draw('mpl')"
   ]
  },
  {
   "cell_type": "markdown",
   "id": "10d5ae26",
   "metadata": {},
   "source": [
    "### Practice Examples: Gate Tensor Products\n",
    "\n",
    "Below are several gate tensor product operations. Predict the output state and then verify using Qiskit."
   ]
  },
  {
   "cell_type": "code",
   "execution_count": 10,
   "id": "871ec6c7",
   "metadata": {},
   "outputs": [
    {
     "name": "stdout",
     "output_type": "stream",
     "text": [
      "Example 1 result: Statevector([0.+0.j, 0.+0.j, 0.+0.j, 0.+0.j, 1.+0.j, 0.+0.j, 0.+0.j,\n",
      "             0.+0.j],\n",
      "            dims=(2, 2, 2))\n",
      "Example 2 result: Statevector([0.+0.j, 0.+0.j, 0.+0.j, 1.+0.j],\n",
      "            dims=(2, 2))\n",
      "Example 3 result: Statevector([0.        +0.j, 0.        +0.j, 0.70710678+0.j,\n",
      "             0.70710678+0.j],\n",
      "            dims=(2, 2))\n",
      "Example 4 result: Statevector([ 0.        +0.j,  0.70710678+0.j,  0.        +0.j,\n",
      "             -0.70710678+0.j,  0.        +0.j,  0.        +0.j,\n",
      "              0.        +0.j,  0.        +0.j],\n",
      "            dims=(2, 2, 2))\n"
     ]
    }
   ],
   "source": [
    "from qiskit import QuantumCircuit\n",
    "from qiskit.quantum_info import Statevector\n",
    "\n",
    "# Example 1: I⊗I⊗X on |000> → flips last qubit to |001>\n",
    "state1 = Statevector.from_label('000')\n",
    "qc1 = QuantumCircuit(3)\n",
    "qc1.x(2)\n",
    "print('Example 1 result:', state1.evolve(qc1.to_instruction()))\n",
    "\n",
    "# Example 2: X⊗X on |00> → flips both qubits to |11>\n",
    "state2 = Statevector.from_label('00')\n",
    "qc2 = QuantumCircuit(2)\n",
    "qc2.x(0); qc2.x(1)\n",
    "print('Example 2 result:', state2.evolve(qc2.to_instruction()))\n",
    "\n",
    "# Example 3: H⊗I on |10> → superposition on first qubit\n",
    "state3 = Statevector.from_label('10')\n",
    "qc3 = QuantumCircuit(2)\n",
    "qc3.h(0)\n",
    "print('Example 3 result:', state3.evolve(qc3.to_instruction()))\n",
    "\n",
    "# Example 4: I⊗H⊗Z on |011> → H on second, Z on third\n",
    "state4 = Statevector.from_label('011')\n",
    "qc4 = QuantumCircuit(3)\n",
    "qc4.h(1); qc4.z(2)\n",
    "print('Example 4 result:', state4.evolve(qc4.to_instruction()))"
   ]
  },
  {
   "cell_type": "code",
   "execution_count": 11,
   "id": "57ffe1ad-75b4-4f09-8800-bbc42fd56c86",
   "metadata": {},
   "outputs": [
    {
     "data": {
      "image/png": "[encoded data removed]",
      "text/plain": [
       "<Figure size 454.517x284.278 with 1 Axes>"
      ]
     },
     "execution_count": 11,
     "metadata": {},
     "output_type": "execute_result"
    }
   ],
   "source": [
    "from qiskit import QuantumCircuit\n",
    "\n",
    "# 2-qubit circuit with 2 classical bits\n",
    "qc = QuantumCircuit(2, 2)\n",
    "qc.h(0)\n",
    "qc.cx(0, 1)\n",
    "# Measure qubits into classical bits\n",
    "qc.measure([0, 1], [0, 1])\n",
    "\n",
    "qc.draw('mpl')"
   ]
  },
  {
   "cell_type": "markdown",
   "id": "65facd8c-a044-4005-a46d-5b09b2c5974e",
   "metadata": {},
   "source": [
    "## Section 1.2.4 Multiple-Choice Questions\n",
    "\n",
    "All practice questions are consolidated here. Answers are under collapsible toggles.\n",
    "\n",
    "**Q1.** Given:\n",
    "```python\n",
    "from qiskit import QuantumCircuit\n",
    "import numpy as np\n",
    "qc = QuantumCircuit(1)\n",
    "qc.reset(0)\n",
    "qc.ry(np.pi/3, 0)\n",
    "qc.measure_all()\n",
    "```\n",
    "What is the probability of measuring `1`?  \n",
    "A. 0.25  \n",
    "B. 0.75  \n",
    "C. 0.5  \n",
    "D. 1.0  \n",
    "<details><summary>Answer</summary>\n",
    "**A.** Using $R_y(\\theta)\\lvert0\\rangle=\\cos\\!\\big(\\tfrac{\\theta}{2}\\big)\\lvert0\\rangle+\\sin\\!\\big(\\tfrac{\\theta}{2}\\big)\\lvert1\\rangle$, with $\\theta=\\pi/3$: $P(1)=\\sin^2(\\pi/6)=0.25$.\n",
    "\n",
    "- **B (0.75):** Would require $\\sin^2(\\theta/2)=0.75$ (e.g., $\\theta\\approx 2\\pi/3$), not $\\pi/3$.  \n",
    "- **C (0.5):** Occurs at $\\theta=\\pi/2$, not $\\pi/3$.  \n",
    "- **D (1.0):** Occurs at $\\theta=\\pi$, not $\\pi/3$.\n",
    "</details>\n",
    "\n",
    "---\n",
    "\n",
    "**Q2.** Given:\n",
    "```python\n",
    "from qiskit import QuantumCircuit\n",
    "import numpy as np\n",
    "qc = QuantumCircuit(1)\n",
    "qc.reset(0)\n",
    "qc.rx(np.pi, 0)\n",
    "qc.measure_all()\n",
    "```\n",
    "What is the probability of measuring `1`?  \n",
    "A. 0.0  \n",
    "B. 0.5  \n",
    "C. 1.0  \n",
    "D. 0.25  \n",
    "<details><summary>Answer</summary>\n",
    "**C.** $R_x(\\pi)\\lvert0\\rangle=-i\\lvert1\\rangle$; global phase is irrelevant, so $P(1)=1$.\n",
    "\n",
    "- **A (0.0):** Would mean the state stayed at $\\lvert0\\rangle$, but $R_x(\\pi)$ flips it.  \n",
    "- **B (0.5):** Would occur at $\\theta=\\pi/2$ (equal superposition), not $\\pi$.  \n",
    "- **D (0.25):** No standard single-axis $\\pi$ rotation produces this on $\\lvert0\\rangle$.\n",
    "</details>\n",
    "\n",
    "---\n",
    "\n",
    "**Q3.** Given:\n",
    "```python\n",
    "from qiskit import QuantumCircuit\n",
    "import numpy as np\n",
    "qc = QuantumCircuit(1)\n",
    "qc.reset(0)\n",
    "qc.x(0)\n",
    "qc.rz(np.pi/7, 0)\n",
    "qc.measure_all()\n",
    "```\n",
    "What is the probability of measuring `1`?  \n",
    "A. 1.0  \n",
    "B. 0.0  \n",
    "C. 0.5  \n",
    "D. 0.1464  \n",
    "<details><summary>Answer</summary>\n",
    "**A.** After $X$, the state is $\\lvert1\\rangle$. $R_z$ adds only a phase, leaving Z-basis probabilities unchanged.\n",
    "\n",
    "- **B (0.0):** Would require the state $\\lvert0\\rangle$, but we flipped to $\\lvert1\\rangle$.  \n",
    "- **C (0.5):** Would require a superposition (e.g., $H\\lvert0\\rangle$), not a pure basis state.  \n",
    "- **D (0.1464):** No—$R_z$ does not change measurement probabilities in the computational basis.\n",
    "</details>\n",
    "\n",
    "---\n",
    "\n",
    "**Q4.** Given:\n",
    "```python\n",
    "from qiskit import QuantumCircuit\n",
    "import numpy as np\n",
    "qc = QuantumCircuit(1)\n",
    "qc.reset(0)\n",
    "qc.h(0)\n",
    "qc.rz(np.pi/3, 0)\n",
    "qc.h(0)\n",
    "qc.measure_all()\n",
    "```\n",
    "What is the probability of measuring `1`?  \n",
    "A. 0.75  \n",
    "B. 0.25  \n",
    "C. 0.5  \n",
    "D. 1.0  \n",
    "<details><summary>Answer</summary>\n",
    "**B.** $H R_z(\\phi) H = R_x(\\phi)$. Thus the circuit equals $R_x(\\pi/3)\\lvert0\\rangle$, giving $P(1)=\\sin^2(\\pi/6)=0.25$.\n",
    "\n",
    "- **A (0.75):** Would be $\\sin^2(\\pi/3)$, i.e., $R_x(2\\pi/3)$, not $\\pi/3$.  \n",
    "- **C (0.5):** Would require $\\phi=\\pi/2$, not $\\pi/3$.  \n",
    "- **D (1.0):** Would require a full flip ($\\phi=\\pi$).\n",
    "</details>\n",
    "\n",
    "---\n",
    "\n",
    "**Q5.** Given:\n",
    "```python\n",
    "from qiskit import QuantumCircuit\n",
    "qc = QuantumCircuit(2)\n",
    "qc.reset(range(2))\n",
    "qc.h(0)\n",
    "qc.cx(0, 1)\n",
    "qc.measure_all()\n",
    "```\n",
    "What is the probability that **qubit 1** is measured as `1`?  \n",
    "A. 0.0  \n",
    "B. 0.25  \n",
    "C. 0.5  \n",
    "D. 1.0  \n",
    "<details><summary>Answer</summary>\n",
    "**C.** State is $(\\lvert00\\rangle+\\lvert11\\rangle)/\\sqrt{2}$. Each qubit marginally has $P(0)=P(1)=\\tfrac{1}{2}$.\n",
    "\n",
    "- **A (0.0):** Qubit 1 is not fixed; it’s correlated but marginal is uniform.  \n",
    "- **B (0.25):** No—Bell state marginals are not biased.  \n",
    "- **D (1.0):** Would require qubit 1 deterministically $\\lvert1\\rangle$, which it isn’t.\n",
    "</details>\n"
   ]
  },
  {
   "cell_type": "code",
   "execution_count": null,
   "id": "d38859a6-7fcd-49d4-a2d1-05216bf6e43d",
   "metadata": {},
   "outputs": [],
   "source": []
  }
 ],
 "metadata": {
  "kernelspec": {
   "display_name": "Python (qiskit2x)",
   "language": "python",
   "name": "qiskit2x"
  },
  "language_info": {
   "codemirror_mode": {
    "name": "ipython",
    "version": 3
   },
   "file_extension": ".py",
   "mimetype": "text/x-python",
   "name": "python",
   "nbconvert_exporter": "python",
   "pygments_lexer": "ipython3",
   "version": "3.12.9"
  }
 },
 "nbformat": 4,
 "nbformat_minor": 5
}
