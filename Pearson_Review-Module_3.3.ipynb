{
 "cells": [
  {
   "cell_type": "markdown",
   "id": "6ebf02ba-bc51-441b-96e9-39fa788ff0a1",
   "metadata": {},
   "source": [
    "### Task 3.3: Transpile and Circuit Optimization"
   ]
  },
  {
   "cell_type": "code",
   "execution_count": 2,
   "id": "0302d04b-73c3-4168-a5e4-85f3d672d3ae",
   "metadata": {},
   "outputs": [
    {
     "name": "stdout",
     "output_type": "stream",
     "text": [
      "Python full: 3.12.9 | packaged by conda-forge | (main, Mar  4 2025, 22:44:42) [Clang 18.1.8 ]\n",
      "Python tuple: sys.version_info(major=3, minor=12, micro=9, releaselevel='final', serial=0)\n",
      "Python short: 3.12.9\n",
      "Executable: /opt/homebrew/anaconda3/envs/qiskit2x/bin/python\n"
     ]
    }
   ],
   "source": [
    "import numpy as np\n",
    "import sys, platform\n",
    "import numpy as np\n",
    "from qiskit.circuit.library import iqp\n",
    "from qiskit.transpiler import generate_preset_pass_manager\n",
    "from qiskit.quantum_info import SparsePauliOp, random_hermitian, Pauli\n",
    "from qiskit_ibm_runtime import QiskitRuntimeService, EstimatorV2 as Estimator\n",
    "\n",
    "print(\"Python full:\", sys.version)          # e.g. '3.12.5 (main, ...)'\n",
    "print(\"Python tuple:\", sys.version_info)     # e.g. sys.version_info(major=3, minor=12, micro=5, ...)\n",
    "print(\"Python short:\", platform.python_version())  # e.g. '3.12.5'\n",
    "print(\"Executable:\", sys.executable)         # path to the kernel's python\n"
   ]
  },
  {
   "cell_type": "code",
   "execution_count": 6,
   "id": "ff99e9e2-3c9f-4fa7-b9d6-c7e211874084",
   "metadata": {},
   "outputs": [
    {
     "data": {
      "image/png": "[encoded data removed]",
      "text/plain": [
       "<Figure size 237.002x367.889 with 1 Axes>"
      ]
     },
     "metadata": {},
     "output_type": "display_data"
    },
    {
     "name": "stdout",
     "output_type": "stream",
     "text": [
      "cir_isa is of type <class 'qiskit.circuit.quantumcircuit.QuantumCircuit'>\n",
      "DataBin(evs=np.ndarray(<shape=(), dtype=float64>), stds=np.ndarray(<shape=(), dtype=float64>), ensemble_standard_error=np.ndarray(<shape=(), dtype=float64>))\n"
     ]
    }
   ],
   "source": [
    "## Using Estimator\n",
    "\n",
    "from qiskit import QuantumCircuit\n",
    "from qiskit.circuit import QuantumRegister, ClassicalRegister, Parameter, ParameterVector\n",
    "from qiskit.quantum_info import Pauli, SparsePauliOp\n",
    "from qiskit_ibm_runtime import QiskitRuntimeService, EstimatorV2, SamplerV2\n",
    "\n",
    "qr=QuantumRegister(3, 'myreg')\n",
    "cr=ClassicalRegister(3, 'creg_a')\n",
    "qc=QuantumCircuit(qr, cr)\n",
    "# qc.h(2)\n",
    "# qc.measure(qr,cr)\n",
    "# with qc.if_test((cr[2], 1)) as else_:\n",
    "#     qc.z(1)\n",
    "# with else_:\n",
    "#     qc.h(1)\n",
    "\n",
    "display(qc.draw('mpl'))\n",
    "sv=QiskitRuntimeService()\n",
    "backend=sv.backends()[0]\n",
    "pm=generate_preset_pass_manager(backend=backend, optimization_level=3)\n",
    "obs=SparsePauliOp('XII')\n",
    "cir_isa=pm.run(qc)\n",
    "print('cir_isa is of type', type(cir_isa))\n",
    "obs_isa=obs.apply_layout(cir_isa.layout)\n",
    "\n",
    "PUB1=(cir_isa, obs_isa, [], 4)\n",
    "\n",
    "# estimator=EstimatorV2(mode=backend,shots=4000)\n",
    "estimator=EstimatorV2(mode=backend)\n",
    "# job=estimator.run([(cir_isa, obs_isa)])\n",
    "job=estimator.run([(cir_isa, obs_isa, None, 0.04)])\n",
    "results=job.result()\n",
    "\n",
    "print(results[0].data)"
   ]
  },
  {
   "cell_type": "code",
   "execution_count": 9,
   "id": "03c9aa2d-f457-4a27-b721-147b798a9bf9",
   "metadata": {},
   "outputs": [],
   "source": [
    "## Unroll3qOrMore: Recursively expands 3q+ gates until the circuit only contains 2q or 1q gates.\n",
    "from qiskit.transpiler import PassManager\n",
    "from qiskit.transpiler.passes import Unroll3qOrMore\n",
    "\n",
    "pm = PassManager([Unroll3qOrMore(target=backend.target)])  # or basis_gates=[...]\n",
    "qc_unrolled = pm.run(qc)\n"
   ]
  },
  {
   "cell_type": "code",
   "execution_count": 16,
   "id": "fa1e1f23-bda0-488f-a329-84bca3ba7e7d",
   "metadata": {},
   "outputs": [
    {
     "name": "stdout",
     "output_type": "stream",
     "text": [
      "=== BEFORE ===\n",
      "          \n",
      "q_0: ──■──\n",
      "       │  \n",
      "q_1: ──■──\n",
      "     ┌─┴─┐\n",
      "q_2: ┤ X ├\n",
      "     └───┘\n",
      "\n",
      "=== AFTER (no 3q+ gates) ===\n",
      "          \n",
      "q_0: ──■──\n",
      "       │  \n",
      "q_1: ──■──\n",
      "     ┌─┴─┐\n",
      "q_2: ┤ X ├\n",
      "     └───┘\n"
     ]
    }
   ],
   "source": [
    "from qiskit import QuantumCircuit\n",
    "from qiskit.transpiler import PassManager\n",
    "from qiskit.transpiler.passes import Unroll3qOrMore\n",
    "\n",
    "# 1) Build a circuit with a 3-qubit gate (ccx)\n",
    "qc = QuantumCircuit(3, name=\"before\")\n",
    "qc.ccx(0, 1, 2)   # Toffoli: controls q0,q1; target q2\n",
    "\n",
    "# 2) Unroll any 3+ qubit gates into 1- and 2-qubit operations\n",
    "# Choose a basis that includes the standard ccx decomposition primitives\n",
    "basis = [\"cx\", \"h\", \"t\", \"tdg\", \"s\", \"sdg\", \"x\"]\n",
    "pm = PassManager([Unroll3qOrMore(basis_gates=basis)])\n",
    "qc_after = pm.run(qc)\n",
    "\n",
    "print(\"=== BEFORE ===\")\n",
    "print(qc.draw())\n",
    "print(\"\\n=== AFTER (no 3q+ gates) ===\")\n",
    "print(qc_after.draw())\n"
   ]
  },
  {
   "cell_type": "markdown",
   "id": "a0e8db42-1ff9-4a7a-a048-df9d85578453",
   "metadata": {},
   "source": [
    "In Qiskit 2.2.x, Unroll3qOrMore expands every 3-qubit-or-larger instruction into 1–2-qubit gates unless that instruction’s name is listed in basis_gates or is natively supported by the provided target—in which case it’s preserved."
   ]
  },
  {
   "cell_type": "code",
   "execution_count": 15,
   "id": "9c74c609-5569-4a72-b63c-1eece5acb31d",
   "metadata": {},
   "outputs": [
    {
     "name": "stdout",
     "output_type": "stream",
     "text": [
      "=== BEFORE ===\n",
      "          \n",
      "q_0: ──■──\n",
      "       │  \n",
      "q_1: ──■──\n",
      "     ┌─┴─┐\n",
      "q_2: ┤ X ├\n",
      "     └───┘\n",
      "\n",
      "=== AFTER optimization ===\n",
      "global phase: 7π/8\n",
      "         ┌──────────┐┌────┐┌─────────┐                                    »\n",
      "q_0 -> 3 ┤ Rz(-π/2) ├┤ √X ├┤ Rz(π/2) ├────────────────────────────────────»\n",
      "         └──┬───┬───┘└────┘└─────────┘┌──────┐┌────────┐┌────┐┌──────────┐»\n",
      "q_2 -> 4 ───┤ X ├─────────────────────┤0     ├┤ Rz(-π) ├┤ √X ├┤ Rz(3π/4) ├»\n",
      "         ┌──┴───┴───┐┌────┐┌─────────┐│  Ecr │├────────┤├───┬┘└──────────┘»\n",
      "q_1 -> 5 ┤ Rz(-π/2) ├┤ √X ├┤ Rz(π/2) ├┤1     ├┤ Rz(-π) ├┤ X ├─────────────»\n",
      "         └──────────┘└────┘└─────────┘└──────┘└────────┘└───┘             »\n",
      "«               ┌──────┐ ┌────────┐                                 »\n",
      "«q_0 -> 3 ──────┤1     ├─┤ Rz(-π) ├─────────────────────────────────»\n",
      "«         ┌────┐│  Ecr │┌┴────────┴┐┌────┐┌──────────┐┌────┐┌──────┐»\n",
      "«q_2 -> 4 ┤ √X ├┤0     ├┤ Rz(-π/2) ├┤ √X ├┤ Rz(3π/4) ├┤ √X ├┤0     ├»\n",
      "«         └────┘└──────┘└──────────┘└────┘└──────────┘└────┘│  Ecr │»\n",
      "«q_1 -> 5 ──────────────────────────────────────────────────┤1     ├»\n",
      "«                                                           └──────┘»\n",
      "«                                             ┌──────┐┌──────────┐┌────┐»\n",
      "«q_0 -> 3 ────────────────────────────────────┤1     ├┤ Rz(-π/2) ├┤ √X ├»\n",
      "«         ┌──────────┐┌────┐┌─────────┐ ┌────┐│  Ecr │├─────────┬┘├────┤»\n",
      "«q_2 -> 4 ┤ Rz(-π/2) ├┤ √X ├┤ Rz(π/4) ├─┤ √X ├┤0     ├┤ Rz(π/2) ├─┤ √X ├»\n",
      "«         ├─────────┬┘├────┤├─────────┴┐├────┤└──────┘└─────────┘ └────┘»\n",
      "«q_1 -> 5 ┤ Rz(π/2) ├─┤ √X ├┤ Rz(3π/4) ├┤ √X ├──────────────────────────»\n",
      "«         └─────────┘ └────┘└──────────┘└────┘                          »\n",
      "«         ┌──────────────┐                                                     »\n",
      "«q_0 -> 3 ┤ Rz(-0.37263) ├─────────────────────────────────────────────────────»\n",
      "«         └─┬──────────┬─┘┌────┐┌─────────┐┌──────┐┌──────────┐┌────┐┌────────┐»\n",
      "«q_2 -> 4 ──┤ Rz(-π/4) ├──┤ √X ├┤ Rz(π/2) ├┤0     ├┤ Rz(-π/2) ├┤ √X ├┤ Rz(-π) ├»\n",
      "«           └──────────┘  └────┘└─────────┘│  Ecr │├─────────┬┘├────┤└────────┘»\n",
      "«q_1 -> 5 ─────────────────────────────────┤1     ├┤ Rz(π/2) ├─┤ √X ├──────────»\n",
      "«                                          └──────┘└─────────┘ └────┘          »\n",
      "«                                                                        »\n",
      "«q_0 -> 3 ───────────────────────────────────────────────────────────────»\n",
      "«         ┌──────┐┌─────────┐ ┌────┐┌─────────┐┌──────┐┌──────────┐┌────┐»\n",
      "«q_2 -> 4 ┤0     ├┤ Rz(π/2) ├─┤ √X ├┤ Rz(π/2) ├┤0     ├┤ Rz(-π/2) ├┤ √X ├»\n",
      "«         │  Ecr │├─────────┴┐└────┘└─────────┘│  Ecr │├─────────┬┘├────┤»\n",
      "«q_1 -> 5 ┤1     ├┤ Rz(-π/2) ├─────────────────┤1     ├┤ Rz(π/2) ├─┤ √X ├»\n",
      "«         └──────┘└──────────┘                 └──────┘└─────────┘ └────┘»\n",
      "«                    ┌──────┐┌────────┐┌────┐┌──────────┐┌────┐┌──────┐»\n",
      "«q_0 -> 3 ───────────┤1     ├┤ Rz(-π) ├┤ √X ├┤ Rz(3π/4) ├┤ √X ├┤1     ├»\n",
      "«         ┌─────────┐│  Ecr │└────────┘└────┘└──────────┘└────┘│  Ecr │»\n",
      "«q_2 -> 4 ┤ Rz(π/2) ├┤0     ├──────────────────────────────────┤0     ├»\n",
      "«         └─────────┘└──────┘                                  └──────┘»\n",
      "«q_1 -> 5 ─────────────────────────────────────────────────────────────»\n",
      "«                                                                      »\n",
      "«         ┌────────────┐\n",
      "«q_0 -> 3 ┤ Rz(2.7288) ├\n",
      "«         └─┬────────┬─┘\n",
      "«q_2 -> 4 ──┤ Rz(-π) ├──\n",
      "«           └────────┘  \n",
      "«q_1 -> 5 ──────────────\n",
      "«                       \n"
     ]
    }
   ],
   "source": [
    "from qiskit import QuantumCircuit\n",
    "from qiskit.transpiler import PassManager, generate_preset_pass_manager\n",
    "from qiskit.transpiler.passes import Unroll3qOrMore\n",
    "\n",
    "# 1) Build a circuit with a 3-qubit gate (ccx)\n",
    "qc = QuantumCircuit(3, name=\"before\")\n",
    "qc.ccx(0, 1, 2)   # Toffoli: controls q0,q1; target q2\n",
    "\n",
    "# 2) Unroll any 3+ qubit gates into 1- and 2-qubit operations\n",
    "# Choose a basis that includes the standard ccx decomposition primitives\n",
    "basis = [\"cx\", \"h\", \"t\", \"tdg\", \"s\", \"sdg\", \"x\"]\n",
    "pm = generate_preset_pass_manager(backend=backend, optimization_level=3)\n",
    "qc_after = pm.run(qc)\n",
    "\n",
    "print(\"=== BEFORE ===\")\n",
    "print(qc.draw())\n",
    "print(\"\\n=== AFTER optimization ===\")\n",
    "print(qc_after.draw())\n"
   ]
  },
  {
   "cell_type": "code",
   "execution_count": 17,
   "id": "810ff543-8ca5-4a58-b595-862fe8c270b5",
   "metadata": {},
   "outputs": [],
   "source": [
    "### PassManager vs generate_preset_pass_manager"
   ]
  },
  {
   "cell_type": "markdown",
   "id": "b899b6ef-7f18-4e89-989a-a4070aab2a23",
   "metadata": {},
   "source": [
    "# BasisTranslator\n",
    "- ..BasisTranslator is a transpiler from \"TransformationPass\" class.\n",
    "- converts as many gates as it can in a circuit to the target basis (\"target\" is an input the user provides).  Some gates cannot be converted because they may be custom 3-qubit operations, that cannot be decomposed by BasisTranslator.  That's why Unroll3qOrMore is typically used before BasisTranslator.\n",
    "- It won’t magically break an arbitrary 3+-qubit instruction into 1–2-qubit ops unless a named equivalence exists, so we typically run Unroll3qOrMore immediately before to guarantee the circuit only has 1–2-qubit gates before translating to the device’s native basis.\n",
    "- \n"
   ]
  },
  {
   "cell_type": "code",
   "execution_count": 23,
   "id": "aa5bb943-7325-4d66-94c9-e7fddbe32135",
   "metadata": {},
   "outputs": [
    {
     "name": "stdout",
     "output_type": "stream",
     "text": [
      "ParameterView([ParameterVectorElement(theta[0]), ParameterVectorElement(theta[1]), ParameterVectorElement(theta[2])])\n",
      "ParameterView([])\n"
     ]
    }
   ],
   "source": [
    "theta=ParameterVector('theta',3)\n",
    "phi=ParameterVector('phi',2)\n",
    "\n",
    "qc = QuantumCircuit(3,3)\n",
    "qc.rx(theta[0],0)\n",
    "qc.rx(theta[1],1)\n",
    "qc.rx(theta[2],2)\n",
    "print(qc.parameters)\n",
    "qc.assign_parameters({theta:[0,0,0]}, inplace=True)\n",
    "print(qc.parameters)"
   ]
  },
  {
   "cell_type": "code",
   "execution_count": 25,
   "id": "2bd0322e-3990-4d7b-8ab0-f5cb47d6c461",
   "metadata": {},
   "outputs": [
    {
     "ename": "TypeError",
     "evalue": "BasisTranslator.__init__() missing 1 required positional argument: 'equivalence_library'",
     "output_type": "error",
     "traceback": [
      "\u001b[31m---------------------------------------------------------------------------\u001b[39m",
      "\u001b[31mTypeError\u001b[39m                                 Traceback (most recent call last)",
      "\u001b[36mCell\u001b[39m\u001b[36m \u001b[39m\u001b[32mIn[25]\u001b[39m\u001b[32m, line 11\u001b[39m\n\u001b[32m      6\u001b[39m qc = QuantumCircuit(\u001b[32m3\u001b[39m,\u001b[32m3\u001b[39m)\n\u001b[32m      7\u001b[39m qc.rx(\u001b[32m0\u001b[39m,\u001b[32m0\u001b[39m)\n\u001b[32m      9\u001b[39m pm = PassManager([\n\u001b[32m     10\u001b[39m     Unroll3qOrMore(),                           \u001b[38;5;66;03m# ensure ≤2-qubit ops first\u001b[39;00m\n\u001b[32m---> \u001b[39m\u001b[32m11\u001b[39m     \u001b[43mBasisTranslator\u001b[49m\u001b[43m(\u001b[49m\u001b[43mtarget_basis\u001b[49m\u001b[43m=\u001b[49m\u001b[43m[\u001b[49m\u001b[33;43m\"\u001b[39;49m\u001b[33;43mcx\u001b[39;49m\u001b[33;43m\"\u001b[39;49m\u001b[43m,\u001b[49m\u001b[33;43m\"\u001b[39;49m\u001b[33;43mrz\u001b[39;49m\u001b[33;43m\"\u001b[39;49m\u001b[43m,\u001b[49m\u001b[33;43m\"\u001b[39;49m\u001b[33;43msx\u001b[39;49m\u001b[33;43m\"\u001b[39;49m\u001b[43m,\u001b[49m\u001b[33;43m\"\u001b[39;49m\u001b[33;43mx\u001b[39;49m\u001b[33;43m\"\u001b[39;49m\u001b[43m]\u001b[49m\u001b[43m)\u001b[49m,  \u001b[38;5;66;03m# land in a standard basis\u001b[39;00m\n\u001b[32m     12\u001b[39m ])\n\u001b[32m     13\u001b[39m qc_in_basis = pm.run(qc)\n",
      "\u001b[36mFile \u001b[39m\u001b[32m/opt/homebrew/anaconda3/envs/qiskit2x/lib/python3.12/site-packages/qiskit/transpiler/basepasses.py:49\u001b[39m, in \u001b[36mMetaPass.__call__\u001b[39m\u001b[34m(cls, *args, **kwargs)\u001b[39m\n\u001b[32m     48\u001b[39m \u001b[38;5;28;01mdef\u001b[39;00m\u001b[38;5;250m \u001b[39m\u001b[34m__call__\u001b[39m(\u001b[38;5;28mcls\u001b[39m, *args, **kwargs):\n\u001b[32m---> \u001b[39m\u001b[32m49\u001b[39m     pass_instance = \u001b[38;5;28;43mtype\u001b[39;49m\u001b[43m.\u001b[49m\u001b[34;43m__call__\u001b[39;49m\u001b[43m(\u001b[49m\u001b[38;5;28;43mcls\u001b[39;49m\u001b[43m,\u001b[49m\u001b[43m \u001b[49m\u001b[43m*\u001b[49m\u001b[43margs\u001b[49m\u001b[43m,\u001b[49m\u001b[43m \u001b[49m\u001b[43m*\u001b[49m\u001b[43m*\u001b[49m\u001b[43mkwargs\u001b[49m\u001b[43m)\u001b[49m\n\u001b[32m     50\u001b[39m     pass_instance._hash = \u001b[38;5;28mhash\u001b[39m(MetaPass._freeze_init_parameters(\u001b[38;5;28mcls\u001b[39m, args, kwargs))\n\u001b[32m     51\u001b[39m     \u001b[38;5;28;01mreturn\u001b[39;00m pass_instance\n",
      "\u001b[31mTypeError\u001b[39m: BasisTranslator.__init__() missing 1 required positional argument: 'equivalence_library'"
     ]
    }
   ],
   "source": [
    "from qiskit import QuantumCircuit\n",
    "from qiskit.transpiler import PassManager\n",
    "from qiskit.transpiler.passes import BasisTranslator, Unroll3qOrMore\n",
    "\n",
    "\n",
    "qc = QuantumCircuit(3,3)\n",
    "qc.rx(0,0)\n",
    "\n",
    "pm = PassManager([\n",
    "    Unroll3qOrMore(),                           # ensure ≤2-qubit ops first\n",
    "    BasisTranslator(target_basis=[\"cx\",\"rz\",\"sx\",\"x\"]),  # land in a standard basis\n",
    "])\n",
    "qc_in_basis = pm.run(qc)\n"
   ]
  },
  {
   "cell_type": "code",
   "execution_count": 26,
   "id": "617316d2-23c1-4d77-a991-542aaddcdda6",
   "metadata": {},
   "outputs": [],
   "source": [
    "from qiskit import QuantumCircuit\n",
    "from qiskit.circuit import Gate\n",
    "from qiskit.circuit.equivalence_library import EquivalenceLibrary\n",
    "from qiskit.transpiler import PassManager\n",
    "from qiskit.transpiler.passes import BasisTranslator\n",
    "\n",
    "# Define a custom 1-qubit gate and an equivalence for it\n",
    "myg = Gate(\"myg\", 1, [])\n",
    "# Build its decomposition (here: pretend myg == rz(pi/4); replace with your real decomp)\n",
    "decomp = QuantumCircuit(1, name=\"myg_decomp\")\n",
    "decomp.rz(0.25*3.141592653589793, 0)\n",
    "\n",
    "# Register the equivalence\n",
    "elib = EquivalenceLibrary()\n",
    "elib.add_equivalence(myg, decomp)\n",
    "\n",
    "# Circuit that uses your custom gate\n",
    "qc = QuantumCircuit(1)\n",
    "qc.append(myg, [0])\n",
    "\n",
    "# Translate using your custom rules into a simple target basis\n",
    "pm = PassManager([\n",
    "    BasisTranslator(target_basis=[\"rz\",\"sx\",\"x\"], equivalence_library=elib)\n",
    "])\n",
    "qc_translated = pm.run(qc)\n"
   ]
  },
  {
   "cell_type": "code",
   "execution_count": 32,
   "id": "aac97ba6-a7a2-4c3a-bbea-4495403c8a36",
   "metadata": {},
   "outputs": [
    {
     "ename": "TranspilerError",
     "evalue": "'Unable to translate the operations in the circuit: {(\"myg\", 1)} to the backend\\'s (or manually specified) target basis: {\"cx\", \"measure\", \"reset\", \"barrier\", \"snapshot\", \"delay\", \"store\"}. This likely means the target basis is not universal or there are additional equivalence rules needed in the EquivalenceLibrary being used. For more details on this error see: https://quantum.cloud.ibm.com/docs/api/qiskit/qiskit.transpiler.passes.BasisTranslator#translation-errors'",
     "output_type": "error",
     "traceback": [
      "\u001b[31m---------------------------------------------------------------------------\u001b[39m",
      "\u001b[31mTranspilerError\u001b[39m                           Traceback (most recent call last)",
      "\u001b[36mCell\u001b[39m\u001b[36m \u001b[39m\u001b[32mIn[32]\u001b[39m\u001b[32m, line 25\u001b[39m\n\u001b[32m     21\u001b[39m \u001b[38;5;66;03m# Translate using your custom rules into a simple target basis\u001b[39;00m\n\u001b[32m     22\u001b[39m pm = PassManager([\n\u001b[32m     23\u001b[39m     BasisTranslator(equivalence_library=elib, target_basis=[\u001b[33m'\u001b[39m\u001b[33mcx\u001b[39m\u001b[33m'\u001b[39m])\n\u001b[32m     24\u001b[39m ])\n\u001b[32m---> \u001b[39m\u001b[32m25\u001b[39m qc_translated = \u001b[43mpm\u001b[49m\u001b[43m.\u001b[49m\u001b[43mrun\u001b[49m\u001b[43m(\u001b[49m\u001b[43mqc\u001b[49m\u001b[43m)\u001b[49m\n",
      "\u001b[36mFile \u001b[39m\u001b[32m/opt/homebrew/anaconda3/envs/qiskit2x/lib/python3.12/site-packages/qiskit/transpiler/passmanager.py:438\u001b[39m, in \u001b[36m_replace_error.<locals>.wrapper\u001b[39m\u001b[34m(*meth_args, **meth_kwargs)\u001b[39m\n\u001b[32m    435\u001b[39m \u001b[38;5;129m@wraps\u001b[39m(meth)\n\u001b[32m    436\u001b[39m \u001b[38;5;28;01mdef\u001b[39;00m\u001b[38;5;250m \u001b[39m\u001b[34mwrapper\u001b[39m(*meth_args, **meth_kwargs):\n\u001b[32m    437\u001b[39m     \u001b[38;5;28;01mtry\u001b[39;00m:\n\u001b[32m--> \u001b[39m\u001b[32m438\u001b[39m         \u001b[38;5;28;01mreturn\u001b[39;00m \u001b[43mmeth\u001b[49m\u001b[43m(\u001b[49m\u001b[43m*\u001b[49m\u001b[43mmeth_args\u001b[49m\u001b[43m,\u001b[49m\u001b[43m \u001b[49m\u001b[43m*\u001b[49m\u001b[43m*\u001b[49m\u001b[43mmeth_kwargs\u001b[49m\u001b[43m)\u001b[49m\n\u001b[32m    439\u001b[39m     \u001b[38;5;28;01mexcept\u001b[39;00m TranspilerError:\n\u001b[32m    440\u001b[39m         \u001b[38;5;66;03m# If it's already a `TranspilerError` subclass, don't erase the extra information.\u001b[39;00m\n\u001b[32m    441\u001b[39m         \u001b[38;5;28;01mraise\u001b[39;00m\n",
      "\u001b[36mFile \u001b[39m\u001b[32m/opt/homebrew/anaconda3/envs/qiskit2x/lib/python3.12/site-packages/qiskit/transpiler/passmanager.py:197\u001b[39m, in \u001b[36mPassManager.run\u001b[39m\u001b[34m(self, circuits, output_name, callback, num_processes, property_set)\u001b[39m\n\u001b[32m    194\u001b[39m \u001b[38;5;28;01mif\u001b[39;00m callback \u001b[38;5;129;01mis\u001b[39;00m \u001b[38;5;129;01mnot\u001b[39;00m \u001b[38;5;28;01mNone\u001b[39;00m:\n\u001b[32m    195\u001b[39m     callback = _legacy_style_callback(callback)\n\u001b[32m--> \u001b[39m\u001b[32m197\u001b[39m \u001b[38;5;28;01mreturn\u001b[39;00m \u001b[38;5;28;43msuper\u001b[39;49m\u001b[43m(\u001b[49m\u001b[43m)\u001b[49m\u001b[43m.\u001b[49m\u001b[43mrun\u001b[49m\u001b[43m(\u001b[49m\n\u001b[32m    198\u001b[39m \u001b[43m    \u001b[49m\u001b[43min_programs\u001b[49m\u001b[43m=\u001b[49m\u001b[43mcircuits\u001b[49m\u001b[43m,\u001b[49m\n\u001b[32m    199\u001b[39m \u001b[43m    \u001b[49m\u001b[43mcallback\u001b[49m\u001b[43m=\u001b[49m\u001b[43mcallback\u001b[49m\u001b[43m,\u001b[49m\n\u001b[32m    200\u001b[39m \u001b[43m    \u001b[49m\u001b[43moutput_name\u001b[49m\u001b[43m=\u001b[49m\u001b[43moutput_name\u001b[49m\u001b[43m,\u001b[49m\n\u001b[32m    201\u001b[39m \u001b[43m    \u001b[49m\u001b[43mnum_processes\u001b[49m\u001b[43m=\u001b[49m\u001b[43mnum_processes\u001b[49m\u001b[43m,\u001b[49m\n\u001b[32m    202\u001b[39m \u001b[43m    \u001b[49m\u001b[43mproperty_set\u001b[49m\u001b[43m=\u001b[49m\u001b[43mproperty_set\u001b[49m\u001b[43m,\u001b[49m\n\u001b[32m    203\u001b[39m \u001b[43m\u001b[49m\u001b[43m)\u001b[49m\n",
      "\u001b[36mFile \u001b[39m\u001b[32m/opt/homebrew/anaconda3/envs/qiskit2x/lib/python3.12/site-packages/qiskit/passmanager/passmanager.py:238\u001b[39m, in \u001b[36mBasePassManager.run\u001b[39m\u001b[34m(self, in_programs, callback, num_processes, property_set, **kwargs)\u001b[39m\n\u001b[32m    234\u001b[39m \u001b[38;5;66;03m# If we're not going to run in parallel, we want to avoid spending time `dill` serializing\u001b[39;00m\n\u001b[32m    235\u001b[39m \u001b[38;5;66;03m# ourselves, since that can be quite expensive.\u001b[39;00m\n\u001b[32m    236\u001b[39m \u001b[38;5;28;01mif\u001b[39;00m \u001b[38;5;28mlen\u001b[39m(in_programs) == \u001b[32m1\u001b[39m \u001b[38;5;129;01mor\u001b[39;00m \u001b[38;5;129;01mnot\u001b[39;00m should_run_in_parallel(num_processes):\n\u001b[32m    237\u001b[39m     out = [\n\u001b[32m--> \u001b[39m\u001b[32m238\u001b[39m         \u001b[43m_run_workflow\u001b[49m\u001b[43m(\u001b[49m\n\u001b[32m    239\u001b[39m \u001b[43m            \u001b[49m\u001b[43mprogram\u001b[49m\u001b[43m=\u001b[49m\u001b[43mprogram\u001b[49m\u001b[43m,\u001b[49m\n\u001b[32m    240\u001b[39m \u001b[43m            \u001b[49m\u001b[43mpass_manager\u001b[49m\u001b[43m=\u001b[49m\u001b[38;5;28;43mself\u001b[39;49m\u001b[43m,\u001b[49m\n\u001b[32m    241\u001b[39m \u001b[43m            \u001b[49m\u001b[43mcallback\u001b[49m\u001b[43m=\u001b[49m\u001b[43mcallback\u001b[49m\u001b[43m,\u001b[49m\n\u001b[32m    242\u001b[39m \u001b[43m            \u001b[49m\u001b[43minitial_property_set\u001b[49m\u001b[43m=\u001b[49m\u001b[43mproperty_set\u001b[49m\u001b[43m,\u001b[49m\n\u001b[32m    243\u001b[39m \u001b[43m            \u001b[49m\u001b[43m*\u001b[49m\u001b[43m*\u001b[49m\u001b[43mkwargs\u001b[49m\u001b[43m,\u001b[49m\n\u001b[32m    244\u001b[39m \u001b[43m        \u001b[49m\u001b[43m)\u001b[49m\n\u001b[32m    245\u001b[39m         \u001b[38;5;28;01mfor\u001b[39;00m program \u001b[38;5;129;01min\u001b[39;00m in_programs\n\u001b[32m    246\u001b[39m     ]\n\u001b[32m    247\u001b[39m     \u001b[38;5;28;01mif\u001b[39;00m \u001b[38;5;28mlen\u001b[39m(in_programs) == \u001b[32m1\u001b[39m \u001b[38;5;129;01mand\u001b[39;00m \u001b[38;5;129;01mnot\u001b[39;00m is_list:\n\u001b[32m    248\u001b[39m         \u001b[38;5;28;01mreturn\u001b[39;00m out[\u001b[32m0\u001b[39m]\n",
      "\u001b[36mFile \u001b[39m\u001b[32m/opt/homebrew/anaconda3/envs/qiskit2x/lib/python3.12/site-packages/qiskit/passmanager/passmanager.py:311\u001b[39m, in \u001b[36m_run_workflow\u001b[39m\u001b[34m(program, pass_manager, initial_property_set, **kwargs)\u001b[39m\n\u001b[32m    306\u001b[39m pass_manager.property_set = property_set\n\u001b[32m    307\u001b[39m passmanager_ir = pass_manager._passmanager_frontend(\n\u001b[32m    308\u001b[39m     input_program=program,\n\u001b[32m    309\u001b[39m     **kwargs,\n\u001b[32m    310\u001b[39m )\n\u001b[32m--> \u001b[39m\u001b[32m311\u001b[39m passmanager_ir, final_state = \u001b[43mflow_controller\u001b[49m\u001b[43m.\u001b[49m\u001b[43mexecute\u001b[49m\u001b[43m(\u001b[49m\n\u001b[32m    312\u001b[39m \u001b[43m    \u001b[49m\u001b[43mpassmanager_ir\u001b[49m\u001b[43m=\u001b[49m\u001b[43mpassmanager_ir\u001b[49m\u001b[43m,\u001b[49m\n\u001b[32m    313\u001b[39m \u001b[43m    \u001b[49m\u001b[43mstate\u001b[49m\u001b[43m=\u001b[49m\u001b[43mPassManagerState\u001b[49m\u001b[43m(\u001b[49m\n\u001b[32m    314\u001b[39m \u001b[43m        \u001b[49m\u001b[43mworkflow_status\u001b[49m\u001b[43m=\u001b[49m\u001b[43minitial_status\u001b[49m\u001b[43m,\u001b[49m\u001b[43m \u001b[49m\u001b[43mproperty_set\u001b[49m\u001b[43m=\u001b[49m\u001b[43mpass_manager\u001b[49m\u001b[43m.\u001b[49m\u001b[43mproperty_set\u001b[49m\n\u001b[32m    315\u001b[39m \u001b[43m    \u001b[49m\u001b[43m)\u001b[49m\u001b[43m,\u001b[49m\n\u001b[32m    316\u001b[39m \u001b[43m    \u001b[49m\u001b[43mcallback\u001b[49m\u001b[43m=\u001b[49m\u001b[43mkwargs\u001b[49m\u001b[43m.\u001b[49m\u001b[43mget\u001b[49m\u001b[43m(\u001b[49m\u001b[33;43m\"\u001b[39;49m\u001b[33;43mcallback\u001b[39;49m\u001b[33;43m\"\u001b[39;49m\u001b[43m,\u001b[49m\u001b[43m \u001b[49m\u001b[38;5;28;43;01mNone\u001b[39;49;00m\u001b[43m)\u001b[49m\u001b[43m,\u001b[49m\n\u001b[32m    317\u001b[39m \u001b[43m\u001b[49m\u001b[43m)\u001b[49m\n\u001b[32m    318\u001b[39m \u001b[38;5;66;03m# The `property_set` has historically been returned as a mutable attribute on `PassManager`\u001b[39;00m\n\u001b[32m    319\u001b[39m \u001b[38;5;66;03m# This makes us non-reentrant (though `PassManager` would be dependent on its internal tasks to\u001b[39;00m\n\u001b[32m    320\u001b[39m \u001b[38;5;66;03m# be re-entrant if that was required), but is consistent with previous interfaces.  We're still\u001b[39;00m\n\u001b[32m    321\u001b[39m \u001b[38;5;66;03m# safe to be called in a serial loop, again assuming internal tasks are re-runnable.  The\u001b[39;00m\n\u001b[32m    322\u001b[39m \u001b[38;5;66;03m# conversion to the backend language is also allowed to use the property set, so it must be set\u001b[39;00m\n\u001b[32m    323\u001b[39m \u001b[38;5;66;03m# before calling it.\u001b[39;00m\n\u001b[32m    324\u001b[39m pass_manager.property_set = final_state.property_set\n",
      "\u001b[36mFile \u001b[39m\u001b[32m/opt/homebrew/anaconda3/envs/qiskit2x/lib/python3.12/site-packages/qiskit/passmanager/base_tasks.py:218\u001b[39m, in \u001b[36mBaseController.execute\u001b[39m\u001b[34m(self, passmanager_ir, state, callback)\u001b[39m\n\u001b[32m    216\u001b[39m     \u001b[38;5;28;01mreturn\u001b[39;00m passmanager_ir, state\n\u001b[32m    217\u001b[39m \u001b[38;5;28;01mwhile\u001b[39;00m \u001b[38;5;28;01mTrue\u001b[39;00m:\n\u001b[32m--> \u001b[39m\u001b[32m218\u001b[39m     passmanager_ir, state = \u001b[43mnext_task\u001b[49m\u001b[43m.\u001b[49m\u001b[43mexecute\u001b[49m\u001b[43m(\u001b[49m\n\u001b[32m    219\u001b[39m \u001b[43m        \u001b[49m\u001b[43mpassmanager_ir\u001b[49m\u001b[43m=\u001b[49m\u001b[43mpassmanager_ir\u001b[49m\u001b[43m,\u001b[49m\n\u001b[32m    220\u001b[39m \u001b[43m        \u001b[49m\u001b[43mstate\u001b[49m\u001b[43m=\u001b[49m\u001b[43mstate\u001b[49m\u001b[43m,\u001b[49m\n\u001b[32m    221\u001b[39m \u001b[43m        \u001b[49m\u001b[43mcallback\u001b[49m\u001b[43m=\u001b[49m\u001b[43mcallback\u001b[49m\u001b[43m,\u001b[49m\n\u001b[32m    222\u001b[39m \u001b[43m    \u001b[49m\u001b[43m)\u001b[49m\n\u001b[32m    223\u001b[39m     \u001b[38;5;28;01mtry\u001b[39;00m:\n\u001b[32m    224\u001b[39m         \u001b[38;5;66;03m# Sending the object through the generator implies the custom controllers\u001b[39;00m\n\u001b[32m    225\u001b[39m         \u001b[38;5;66;03m# can always rely on the latest data to choose the next task to run.\u001b[39;00m\n\u001b[32m    226\u001b[39m         next_task = task_generator.send(state)\n",
      "\u001b[36mFile \u001b[39m\u001b[32m/opt/homebrew/anaconda3/envs/qiskit2x/lib/python3.12/site-packages/qiskit/transpiler/basepasses.py:167\u001b[39m, in \u001b[36mTransformationPass.execute\u001b[39m\u001b[34m(self, passmanager_ir, state, callback)\u001b[39m\n\u001b[32m    161\u001b[39m \u001b[38;5;28;01mdef\u001b[39;00m\u001b[38;5;250m \u001b[39m\u001b[34mexecute\u001b[39m(\n\u001b[32m    162\u001b[39m     \u001b[38;5;28mself\u001b[39m,\n\u001b[32m    163\u001b[39m     passmanager_ir: PassManagerIR,\n\u001b[32m    164\u001b[39m     state: PassManagerState,\n\u001b[32m    165\u001b[39m     callback: Callable = \u001b[38;5;28;01mNone\u001b[39;00m,\n\u001b[32m    166\u001b[39m ) -> \u001b[38;5;28mtuple\u001b[39m[PassManagerIR, PassManagerState]:\n\u001b[32m--> \u001b[39m\u001b[32m167\u001b[39m     new_dag, state = \u001b[38;5;28;43msuper\u001b[39;49m\u001b[43m(\u001b[49m\u001b[43m)\u001b[49m\u001b[43m.\u001b[49m\u001b[43mexecute\u001b[49m\u001b[43m(\u001b[49m\n\u001b[32m    168\u001b[39m \u001b[43m        \u001b[49m\u001b[43mpassmanager_ir\u001b[49m\u001b[43m=\u001b[49m\u001b[43mpassmanager_ir\u001b[49m\u001b[43m,\u001b[49m\n\u001b[32m    169\u001b[39m \u001b[43m        \u001b[49m\u001b[43mstate\u001b[49m\u001b[43m=\u001b[49m\u001b[43mstate\u001b[49m\u001b[43m,\u001b[49m\n\u001b[32m    170\u001b[39m \u001b[43m        \u001b[49m\u001b[43mcallback\u001b[49m\u001b[43m=\u001b[49m\u001b[43mcallback\u001b[49m\u001b[43m,\u001b[49m\n\u001b[32m    171\u001b[39m \u001b[43m    \u001b[49m\u001b[43m)\u001b[49m\n\u001b[32m    173\u001b[39m     \u001b[38;5;28;01mif\u001b[39;00m state.workflow_status.previous_run == RunState.SUCCESS:\n\u001b[32m    174\u001b[39m         \u001b[38;5;28;01mif\u001b[39;00m \u001b[38;5;129;01mnot\u001b[39;00m \u001b[38;5;28misinstance\u001b[39m(new_dag, DAGCircuit):\n",
      "\u001b[36mFile \u001b[39m\u001b[32m/opt/homebrew/anaconda3/envs/qiskit2x/lib/python3.12/site-packages/qiskit/passmanager/base_tasks.py:98\u001b[39m, in \u001b[36mGenericPass.execute\u001b[39m\u001b[34m(self, passmanager_ir, state, callback)\u001b[39m\n\u001b[32m     96\u001b[39m \u001b[38;5;28;01mtry\u001b[39;00m:\n\u001b[32m     97\u001b[39m     \u001b[38;5;28;01mif\u001b[39;00m \u001b[38;5;28mself\u001b[39m \u001b[38;5;129;01mnot\u001b[39;00m \u001b[38;5;129;01min\u001b[39;00m state.workflow_status.completed_passes:\n\u001b[32m---> \u001b[39m\u001b[32m98\u001b[39m         ret = \u001b[38;5;28;43mself\u001b[39;49m\u001b[43m.\u001b[49m\u001b[43mrun\u001b[49m\u001b[43m(\u001b[49m\u001b[43mpassmanager_ir\u001b[49m\u001b[43m)\u001b[49m\n\u001b[32m     99\u001b[39m         run_state = RunState.SUCCESS\n\u001b[32m    100\u001b[39m     \u001b[38;5;28;01melse\u001b[39;00m:\n",
      "\u001b[36mFile \u001b[39m\u001b[32m/opt/homebrew/anaconda3/envs/qiskit2x/lib/python3.12/site-packages/qiskit/transpiler/passes/basis/basis_translator.py:120\u001b[39m, in \u001b[36mBasisTranslator.run\u001b[39m\u001b[34m(self, dag)\u001b[39m\n\u001b[32m    107\u001b[39m \u001b[38;5;28;01mdef\u001b[39;00m\u001b[38;5;250m \u001b[39m\u001b[34mrun\u001b[39m(\u001b[38;5;28mself\u001b[39m, dag):\n\u001b[32m    108\u001b[39m \u001b[38;5;250m    \u001b[39m\u001b[33;03m\"\"\"Translate an input DAGCircuit to the target basis.\u001b[39;00m\n\u001b[32m    109\u001b[39m \n\u001b[32m    110\u001b[39m \u001b[33;03m    Args:\u001b[39;00m\n\u001b[32m   (...)\u001b[39m\u001b[32m    117\u001b[39m \u001b[33;03m        DAGCircuit: translated circuit.\u001b[39;00m\n\u001b[32m    118\u001b[39m \u001b[33;03m    \"\"\"\u001b[39;00m\n\u001b[32m--> \u001b[39m\u001b[32m120\u001b[39m     out = \u001b[43mbase_run\u001b[49m\u001b[43m(\u001b[49m\n\u001b[32m    121\u001b[39m \u001b[43m        \u001b[49m\u001b[43mdag\u001b[49m\u001b[43m,\u001b[49m\n\u001b[32m    122\u001b[39m \u001b[43m        \u001b[49m\u001b[38;5;28;43mself\u001b[39;49m\u001b[43m.\u001b[49m\u001b[43m_equiv_lib\u001b[49m\u001b[43m,\u001b[49m\n\u001b[32m    123\u001b[39m \u001b[43m        \u001b[49m\u001b[38;5;28;43mself\u001b[39;49m\u001b[43m.\u001b[49m\u001b[43m_min_qubits\u001b[49m\u001b[43m,\u001b[49m\n\u001b[32m    124\u001b[39m \u001b[43m        \u001b[49m\u001b[38;5;28;43mself\u001b[39;49m\u001b[43m.\u001b[49m\u001b[43m_target\u001b[49m\u001b[43m,\u001b[49m\n\u001b[32m    125\u001b[39m \u001b[43m        \u001b[49m\u001b[38;5;28;43;01mNone\u001b[39;49;00m\u001b[43m \u001b[49m\u001b[38;5;28;43;01mif\u001b[39;49;00m\u001b[43m \u001b[49m\u001b[38;5;28;43mself\u001b[39;49m\u001b[43m.\u001b[49m\u001b[43m_target_basis\u001b[49m\u001b[43m \u001b[49m\u001b[38;5;129;43;01mis\u001b[39;49;00m\u001b[43m \u001b[49m\u001b[38;5;28;43;01mNone\u001b[39;49;00m\u001b[43m \u001b[49m\u001b[38;5;28;43;01melse\u001b[39;49;00m\u001b[43m \u001b[49m\u001b[38;5;28;43mset\u001b[39;49m\u001b[43m(\u001b[49m\u001b[38;5;28;43mself\u001b[39;49m\u001b[43m.\u001b[49m\u001b[43m_target_basis\u001b[49m\u001b[43m)\u001b[49m\u001b[43m,\u001b[49m\n\u001b[32m    126\u001b[39m \u001b[43m    \u001b[49m\u001b[43m)\u001b[49m\n\u001b[32m    127\u001b[39m     \u001b[38;5;66;03m# If Rust-space basis translation returns `None`, it's because the input DAG is already\u001b[39;00m\n\u001b[32m    128\u001b[39m     \u001b[38;5;66;03m# suitable and it didn't need to modify anything.\u001b[39;00m\n\u001b[32m    129\u001b[39m     \u001b[38;5;28;01mreturn\u001b[39;00m dag \u001b[38;5;28;01mif\u001b[39;00m out \u001b[38;5;129;01mis\u001b[39;00m \u001b[38;5;28;01mNone\u001b[39;00m \u001b[38;5;28;01melse\u001b[39;00m out\n",
      "\u001b[31mTranspilerError\u001b[39m: 'Unable to translate the operations in the circuit: {(\"myg\", 1)} to the backend\\'s (or manually specified) target basis: {\"cx\", \"measure\", \"reset\", \"barrier\", \"snapshot\", \"delay\", \"store\"}. This likely means the target basis is not universal or there are additional equivalence rules needed in the EquivalenceLibrary being used. For more details on this error see: https://quantum.cloud.ibm.com/docs/api/qiskit/qiskit.transpiler.passes.BasisTranslator#translation-errors'"
     ]
    }
   ],
   "source": [
    "from qiskit import QuantumCircuit\n",
    "from qiskit.circuit import Gate\n",
    "from qiskit.circuit.equivalence_library import EquivalenceLibrary\n",
    "from qiskit.transpiler import PassManager\n",
    "from qiskit.transpiler.passes import BasisTranslator\n",
    "\n",
    "# Define a custom 1-qubit gate and an equivalence for it\n",
    "myg = Gate(\"myg\", 1, [])\n",
    "# Build its decomposition (here: pretend myg == rz(pi/4); replace with your real decomp)\n",
    "decomp = QuantumCircuit(1, name=\"myg_decomp\")\n",
    "decomp.rz(0.25*3.141592653589793, 0)\n",
    "\n",
    "# Register the equivalence\n",
    "elib = EquivalenceLibrary()\n",
    "elib.add_equivalence(myg, decomp)\n",
    "\n",
    "# Circuit that uses your custom gate\n",
    "qc = QuantumCircuit(1)\n",
    "qc.append(myg, [0])\n",
    "\n",
    "# Translate using your custom rules into a simple target basis\n",
    "pm = PassManager([\n",
    "    BasisTranslator(equivalence_library=elib, target_basis=['cx'])\n",
    "])\n",
    "qc_translated = pm.run(qc)\n"
   ]
  },
  {
   "cell_type": "markdown",
   "id": "53c114ba-831d-4a70-81c4-f512d3bc93a7",
   "metadata": {},
   "source": [
    "### new"
   ]
  },
  {
   "cell_type": "code",
   "execution_count": 26,
   "id": "e0d24488-46bc-4b67-a6a0-7df6e62b2460",
   "metadata": {},
   "outputs": [
    {
     "name": "stdout",
     "output_type": "stream",
     "text": [
      "Python full: 3.12.9 | packaged by conda-forge | (main, Mar  4 2025, 22:44:42) [Clang 18.1.8 ]\n",
      "Python tuple: sys.version_info(major=3, minor=12, micro=9, releaselevel='final', serial=0)\n",
      "Python short: 3.12.9\n",
      "Executable: /opt/homebrew/anaconda3/envs/qiskit2x/bin/python\n"
     ]
    }
   ],
   "source": [
    "import numpy as np\n",
    "import sys, platform\n",
    "import numpy as np\n",
    "from qiskit import QuantumCircuit\n",
    "from qiskit.circuit.library import iqp\n",
    "from qiskit.transpiler import generate_preset_pass_manager\n",
    "from qiskit.quantum_info import SparsePauliOp, random_hermitian, Pauli\n",
    "from qiskit_ibm_runtime import QiskitRuntimeService, EstimatorV2, SamplerV2\n",
    "\n",
    "print(\"Python full:\", sys.version)          # e.g. '3.12.5 (main, ...)'\n",
    "print(\"Python tuple:\", sys.version_info)     # e.g. sys.version_info(major=3, minor=12, micro=5, ...)\n",
    "print(\"Python short:\", platform.python_version())  # e.g. '3.12.5'\n",
    "print(\"Executable:\", sys.executable)         # path to the kernel's python\n"
   ]
  },
  {
   "cell_type": "code",
   "execution_count": 27,
   "id": "4316f76d-14ab-4367-8c30-0ab014c74a7e",
   "metadata": {},
   "outputs": [],
   "source": [
    "sv = QiskitRuntimeService()\n",
    "backend = sv.backends()[1]\n",
    "\n",
    "estimator=EstimatorV2(mode=backend)\n",
    "pm = generate_preset_pass_manager(backend=backend, optimization_level=1)\n",
    "\n",
    "cir = QuantumCircuit(2,2)\n",
    "cir.h(0)\n",
    "\n",
    "cir_isa=pm.run(cir)\n",
    "obs = SparsePauliOp('XX')\n",
    "obs_isa=obs.apply_layout(cir_isa.layout)\n",
    "\n",
    "PUB=(cir_isa, obs_isa, None, 0.003)\n",
    "\n",
    "# insert additional settings\n",
    "estimator.options.twirling.enable_gates=True\n",
    "estimator.options.twirling.enable_measure=True\n",
    "\n",
    "job=estimator.run([PUB], precision=0.5)\n",
    "results=job.result()"
   ]
  },
  {
   "cell_type": "code",
   "execution_count": 28,
   "id": "bd8cfdda-3e51-4493-ad56-71e4f09d7156",
   "metadata": {},
   "outputs": [
    {
     "data": {
      "text/plain": [
       "PrimitiveResult([PubResult(data=DataBin(evs=np.ndarray(<shape=(), dtype=float64>), stds=np.ndarray(<shape=(), dtype=float64>), ensemble_standard_error=np.ndarray(<shape=(), dtype=float64>)), metadata={'shots': 111136, 'target_precision': 0.003, 'circuit_metadata': {}, 'resilience': {}, 'num_randomizations': 32})], metadata={'dynamical_decoupling': {'enable': False, 'sequence_type': 'XX', 'extra_slack_distribution': 'middle', 'scheduling_method': 'alap'}, 'twirling': {'enable_gates': True, 'enable_measure': True, 'num_randomizations': 'auto', 'shots_per_randomization': 'auto', 'interleave_randomizations': True, 'strategy': 'active-accum'}, 'resilience': {'measure_mitigation': True, 'zne_mitigation': False, 'pec_mitigation': False}, 'version': 2})"
      ]
     },
     "execution_count": 28,
     "metadata": {},
     "output_type": "execute_result"
    }
   ],
   "source": [
    "results"
   ]
  },
  {
   "cell_type": "code",
   "execution_count": 29,
   "id": "05a45650-c953-4fb0-91b8-988116ea8f11",
   "metadata": {},
   "outputs": [
    {
     "data": {
      "text/plain": [
       "PubResult(data=DataBin(evs=np.ndarray(<shape=(), dtype=float64>), stds=np.ndarray(<shape=(), dtype=float64>), ensemble_standard_error=np.ndarray(<shape=(), dtype=float64>)), metadata={'shots': 111136, 'target_precision': 0.003, 'circuit_metadata': {}, 'resilience': {}, 'num_randomizations': 32})"
      ]
     },
     "execution_count": 29,
     "metadata": {},
     "output_type": "execute_result"
    }
   ],
   "source": [
    "results[0]"
   ]
  },
  {
   "cell_type": "code",
   "execution_count": 30,
   "id": "2613d8ca-76ce-4a04-8934-9efa5a0cdf00",
   "metadata": {},
   "outputs": [
    {
     "data": {
      "text/plain": [
       "DataBin(evs=np.ndarray(<shape=(), dtype=float64>), stds=np.ndarray(<shape=(), dtype=float64>), ensemble_standard_error=np.ndarray(<shape=(), dtype=float64>))"
      ]
     },
     "execution_count": 30,
     "metadata": {},
     "output_type": "execute_result"
    }
   ],
   "source": [
    "results[0].data"
   ]
  },
  {
   "cell_type": "code",
   "execution_count": 31,
   "id": "7eb42076-779e-44a4-b323-0b09ee90ed3d",
   "metadata": {},
   "outputs": [
    {
     "data": {
      "text/plain": [
       "array(1.49067419)"
      ]
     },
     "execution_count": 31,
     "metadata": {},
     "output_type": "execute_result"
    }
   ],
   "source": [
    "results[0].data.evs"
   ]
  },
  {
   "cell_type": "code",
   "execution_count": 24,
   "id": "6dae9490-9a18-4132-b211-74535fe017f0",
   "metadata": {},
   "outputs": [
    {
     "name": "stdout",
     "output_type": "stream",
     "text": [
      "⟨XX⟩ = 1.514092967378246 ± 0.009509092517493786\n"
     ]
    }
   ],
   "source": [
    "import numpy as np\n",
    "\n",
    "results = job.result()\n",
    "r0 = results[0]  # PubResult\n",
    "\n",
    "# Safe for both scalar (0-D) and vector cases\n",
    "ev  = float(np.asarray(r0.data.evs).reshape(-1)[0])\n",
    "std = float(np.asarray(r0.data.stds).reshape(-1)[0])\n",
    "\n",
    "print(\"⟨XX⟩ =\", ev, \"±\", std)\n"
   ]
  },
  {
   "cell_type": "code",
   "execution_count": 25,
   "id": "abf91a43-9188-4ed5-b434-ef81fe7df0c4",
   "metadata": {},
   "outputs": [
    {
     "data": {
      "text/plain": [
       "array(1.51409297)"
      ]
     },
     "execution_count": 25,
     "metadata": {},
     "output_type": "execute_result"
    }
   ],
   "source": [
    "r0.data.evs"
   ]
  },
  {
   "cell_type": "markdown",
   "id": "e3d9594f-6f25-4834-bac0-9098c50a5ac1",
   "metadata": {},
   "source": [
    "### Practice Parameter"
   ]
  },
  {
   "cell_type": "code",
   "execution_count": 37,
   "id": "450e2066-5208-4cfb-ad54-95ba01bbf058",
   "metadata": {},
   "outputs": [
    {
     "name": "stdout",
     "output_type": "stream",
     "text": [
      "cir.parameters should have theta[0] and theta[1]\n",
      "ParameterView([ParameterVectorElement(theta[0]), ParameterVectorElement(theta[1]), ParameterVectorElement(theta[2])])\n",
      "cir.parameters should be empty\n",
      "ParameterView([])\n"
     ]
    }
   ],
   "source": [
    "from qiskit.circuit import ParameterVector\n",
    "\n",
    "sv = QiskitRuntimeService()\n",
    "backend = sv.backends()[1]\n",
    "\n",
    "estimator=EstimatorV2(mode=backend)\n",
    "pm = generate_preset_pass_manager(backend=backend, optimization_level=1)\n",
    "\n",
    "### Insert ParameterVector\n",
    "theta=ParameterVector('theta',3)\n",
    "phi=ParameterVector('phi',2)\n",
    "\n",
    "cir = QuantumCircuit(2,2)\n",
    "cir.h(0)\n",
    "cir.rx(theta[0], 0)\n",
    "cir.ry(theta[1], 1)\n",
    "cir.ry(theta[2],1)\n",
    "print('cir.parameters should have theta[0] and theta[1]')\n",
    "print(cir.parameters)\n",
    "cir.assign_parameters({theta:[0.1,0.1,0.1]}, inplace=True)\n",
    "print('cir.parameters should be empty')\n",
    "print(cir.parameters)\n",
    "\n",
    "cir_isa=pm.run(cir)\n",
    "obs = SparsePauliOp('XX')\n",
    "obs_isa=obs.apply_layout(cir_isa.layout)\n",
    "\n",
    "PUB=(cir_isa, obs_isa, None, 0.003)\n",
    "\n",
    "job=estimator.run([PUB], precision=0.5)\n",
    "results=job.result()"
   ]
  },
  {
   "cell_type": "code",
   "execution_count": 43,
   "id": "134a8040-f7aa-450f-8943-491ff795392d",
   "metadata": {},
   "outputs": [
    {
     "data": {
      "text/plain": [
       "array(0.18781664)"
      ]
     },
     "execution_count": 43,
     "metadata": {},
     "output_type": "execute_result"
    }
   ],
   "source": [
    "results[0].data.evs"
   ]
  },
  {
   "cell_type": "code",
   "execution_count": 44,
   "id": "40ace3c1-b53b-49fb-8d4d-978a370aa330",
   "metadata": {},
   "outputs": [
    {
     "data": {
      "text/plain": [
       "array(0.00569085)"
      ]
     },
     "execution_count": 44,
     "metadata": {},
     "output_type": "execute_result"
    }
   ],
   "source": [
    "results[0].data.stds"
   ]
  },
  {
   "cell_type": "markdown",
   "id": "d5bedb3e-48e6-47d6-9ea6-543fb2032e68",
   "metadata": {},
   "source": [
    "### Registers and Control Flow"
   ]
  },
  {
   "cell_type": "code",
   "execution_count": 52,
   "id": "e48c7a3b-36df-45c4-9566-54a44f72c7c5",
   "metadata": {},
   "outputs": [
    {
     "data": {
      "image/png": "[encoded data removed]",
      "text/plain": [
       "<Figure size 780.272x367.889 with 1 Axes>"
      ]
     },
     "execution_count": 52,
     "metadata": {},
     "output_type": "execute_result"
    }
   ],
   "source": [
    "from qiskit.circuit import QuantumRegister, ClassicalRegister, Parameter, ParameterVector\n",
    "\n",
    "qr=QuantumRegister(2,'myreg')\n",
    "cr=ClassicalRegister(2,'mycreg')\n",
    "\n",
    "qc=QuantumCircuit(qr,cr)\n",
    "qc.measure_all()\n",
    "\n",
    "with qc.if_test((qc.cregs[0], 0b01)) as else_:\n",
    "    qc.h(0)\n",
    "with else_:\n",
    "    qc.h(1)\n",
    "\n",
    "qc.draw('mpl')\n"
   ]
  },
  {
   "cell_type": "code",
   "execution_count": 54,
   "id": "f36d007d-d2de-40f7-bcbe-da1779313362",
   "metadata": {},
   "outputs": [
    {
     "data": {
      "image/png": "[encoded data removed]",
      "text/plain": [
       "<Figure size 287.294x200.667 with 1 Axes>"
      ]
     },
     "execution_count": 54,
     "metadata": {},
     "output_type": "execute_result"
    }
   ],
   "source": [
    "from qiskit import QuantumCircuit\n",
    "from qiskit.quantum_info import Pauli, Operator\n",
    "\n",
    "qc = QuantumCircuit(2)\n",
    "gate_XI = Operator(Pauli('XI'))    # 2-qubit unitary for X⊗I\n",
    "qc.append(gate_XI, [0, 1])\n",
    "qc.draw('mpl')"
   ]
  },
  {
   "cell_type": "code",
   "execution_count": null,
   "id": "eece1880-e3d2-4c5e-bca6-51c46e73e16f",
   "metadata": {},
   "outputs": [],
   "source": []
  },
  {
   "cell_type": "code",
   "execution_count": null,
   "id": "e679fc70-112d-4566-9a84-0a848859dbce",
   "metadata": {},
   "outputs": [],
   "source": []
  },
  {
   "cell_type": "code",
   "execution_count": null,
   "id": "b7ae22ca-69a6-429e-92e1-4f418a3835d8",
   "metadata": {},
   "outputs": [],
   "source": []
  }
 ],
 "metadata": {
  "kernelspec": {
   "display_name": "Python (qiskit2x)",
   "language": "python",
   "name": "qiskit2x"
  },
  "language_info": {
   "codemirror_mode": {
    "name": "ipython",
    "version": 3
   },
   "file_extension": ".py",
   "mimetype": "text/x-python",
   "name": "python",
   "nbconvert_exporter": "python",
   "pygments_lexer": "ipython3",
   "version": "3.12.9"
  }
 },
 "nbformat": 4,
 "nbformat_minor": 5
}
