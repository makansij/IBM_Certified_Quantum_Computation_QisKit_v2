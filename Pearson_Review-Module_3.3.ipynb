{
 "cells": [
  {
   "cell_type": "markdown",
   "id": "6ebf02ba-bc51-441b-96e9-39fa788ff0a1",
   "metadata": {},
   "source": [
    "### Task 3.3: Transpile and Circuit Optimization"
   ]
  },
  {
   "cell_type": "code",
   "execution_count": 2,
   "id": "0302d04b-73c3-4168-a5e4-85f3d672d3ae",
   "metadata": {},
   "outputs": [
    {
     "name": "stdout",
     "output_type": "stream",
     "text": [
      "Python full: 3.12.9 | packaged by conda-forge | (main, Mar  4 2025, 22:44:42) [Clang 18.1.8 ]\n",
      "Python tuple: sys.version_info(major=3, minor=12, micro=9, releaselevel='final', serial=0)\n",
      "Python short: 3.12.9\n",
      "Executable: /opt/homebrew/anaconda3/envs/qiskit2x/bin/python\n"
     ]
    }
   ],
   "source": [
    "import numpy as np\n",
    "import sys, platform\n",
    "import numpy as np\n",
    "from qiskit.circuit.library import iqp\n",
    "from qiskit.transpiler import generate_preset_pass_manager\n",
    "from qiskit.quantum_info import SparsePauliOp, random_hermitian, Pauli\n",
    "from qiskit_ibm_runtime import QiskitRuntimeService, EstimatorV2 as Estimator\n",
    "\n",
    "print(\"Python full:\", sys.version)          # e.g. '3.12.5 (main, ...)'\n",
    "print(\"Python tuple:\", sys.version_info)     # e.g. sys.version_info(major=3, minor=12, micro=5, ...)\n",
    "print(\"Python short:\", platform.python_version())  # e.g. '3.12.5'\n",
    "print(\"Executable:\", sys.executable)         # path to the kernel's python\n"
   ]
  },
  {
   "cell_type": "code",
   "execution_count": 6,
   "id": "ff99e9e2-3c9f-4fa7-b9d6-c7e211874084",
   "metadata": {},
   "outputs": [
    {
     "data": {
      "image/png": "[encoded data removed]",
      "text/plain": [
       "<Figure size 237.002x367.889 with 1 Axes>"
      ]
     },
     "metadata": {},
     "output_type": "display_data"
    },
    {
     "name": "stdout",
     "output_type": "stream",
     "text": [
      "cir_isa is of type <class 'qiskit.circuit.quantumcircuit.QuantumCircuit'>\n",
      "DataBin(evs=np.ndarray(<shape=(), dtype=float64>), stds=np.ndarray(<shape=(), dtype=float64>), ensemble_standard_error=np.ndarray(<shape=(), dtype=float64>))\n"
     ]
    }
   ],
   "source": [
    "## Using Estimator\n",
    "\n",
    "from qiskit import QuantumCircuit\n",
    "from qiskit.circuit import QuantumRegister, ClassicalRegister, Parameter, ParameterVector\n",
    "from qiskit.quantum_info import Pauli, SparsePauliOp\n",
    "from qiskit_ibm_runtime import QiskitRuntimeService, EstimatorV2, SamplerV2\n",
    "\n",
    "qr=QuantumRegister(3, 'myreg')\n",
    "cr=ClassicalRegister(3, 'creg_a')\n",
    "qc=QuantumCircuit(qr, cr)\n",
    "# qc.h(2)\n",
    "# qc.measure(qr,cr)\n",
    "# with qc.if_test((cr[2], 1)) as else_:\n",
    "#     qc.z(1)\n",
    "# with else_:\n",
    "#     qc.h(1)\n",
    "\n",
    "display(qc.draw('mpl'))\n",
    "sv=QiskitRuntimeService()\n",
    "backend=sv.backends()[0]\n",
    "pm=generate_preset_pass_manager(backend=backend, optimization_level=3)\n",
    "obs=SparsePauliOp('XII')\n",
    "cir_isa=pm.run(qc)\n",
    "print('cir_isa is of type', type(cir_isa))\n",
    "obs_isa=obs.apply_layout(cir_isa.layout)\n",
    "\n",
    "PUB1=(cir_isa, obs_isa, [], 4)\n",
    "\n",
    "# estimator=EstimatorV2(mode=backend,shots=4000)\n",
    "estimator=EstimatorV2(mode=backend)\n",
    "# job=estimator.run([(cir_isa, obs_isa)])\n",
    "job=estimator.run([(cir_isa, obs_isa, None, 0.04)])\n",
    "results=job.result()\n",
    "\n",
    "print(results[0].data)"
   ]
  },
  {
   "cell_type": "code",
   "execution_count": 9,
   "id": "03c9aa2d-f457-4a27-b721-147b798a9bf9",
   "metadata": {},
   "outputs": [],
   "source": [
    "## Unroll3qOrMore: Recursively expands 3q+ gates until the circuit only contains 2q or 1q gates.\n",
    "from qiskit.transpiler import PassManager\n",
    "from qiskit.transpiler.passes import Unroll3qOrMore\n",
    "\n",
    "pm = PassManager([Unroll3qOrMore(target=backend.target)])  # or basis_gates=[...]\n",
    "qc_unrolled = pm.run(qc)\n"
   ]
  },
  {
   "cell_type": "code",
   "execution_count": 10,
   "id": "fa1e1f23-bda0-488f-a329-84bca3ba7e7d",
   "metadata": {},
   "outputs": [
    {
     "name": "stdout",
     "output_type": "stream",
     "text": [
      "=== BEFORE ===\n",
      "          \n",
      "q_0: ──■──\n",
      "       │  \n",
      "q_1: ──■──\n",
      "     ┌─┴─┐\n",
      "q_2: ┤ X ├\n",
      "     └───┘\n",
      "\n",
      "=== AFTER (no 3q+ gates) ===\n",
      "                                                       ┌───┐      \n",
      "q_0: ───────────────────■─────────────────────■────■───┤ T ├───■──\n",
      "                        │             ┌───┐   │  ┌─┴─┐┌┴───┴┐┌─┴─┐\n",
      "q_1: ───────■───────────┼─────────■───┤ T ├───┼──┤ X ├┤ Tdg ├┤ X ├\n",
      "     ┌───┐┌─┴─┐┌─────┐┌─┴─┐┌───┐┌─┴─┐┌┴───┴┐┌─┴─┐├───┤└┬───┬┘└───┘\n",
      "q_2: ┤ H ├┤ X ├┤ Tdg ├┤ X ├┤ T ├┤ X ├┤ Tdg ├┤ X ├┤ T ├─┤ H ├──────\n",
      "     └───┘└───┘└─────┘└───┘└───┘└───┘└─────┘└───┘└───┘ └───┘      \n"
     ]
    }
   ],
   "source": [
    "from qiskit import QuantumCircuit\n",
    "from qiskit.transpiler import PassManager\n",
    "from qiskit.transpiler.passes import Unroll3qOrMore\n",
    "\n",
    "# 1) Build a circuit with a 3-qubit gate (ccx)\n",
    "qc = QuantumCircuit(3, name=\"before\")\n",
    "qc.ccx(0, 1, 2)   # Toffoli: controls q0,q1; target q2\n",
    "\n",
    "# 2) Unroll any 3+ qubit gates into 1- and 2-qubit operations\n",
    "# Choose a basis that includes the standard ccx decomposition primitives\n",
    "basis = [\"cx\", \"h\", \"t\", \"tdg\", \"s\", \"sdg\", \"x\"]\n",
    "pm = PassManager([Unroll3qOrMore(basis_gates=basis)])\n",
    "qc_after = pm.run(qc)\n",
    "\n",
    "print(\"=== BEFORE ===\")\n",
    "print(qc.draw())\n",
    "print(\"\\n=== AFTER (no 3q+ gates) ===\")\n",
    "print(qc_after.draw())\n"
   ]
  },
  {
   "cell_type": "markdown",
   "id": "a0e8db42-1ff9-4a7a-a048-df9d85578453",
   "metadata": {},
   "source": [
    "In Qiskit 2.2.x, Unroll3qOrMore expands every 3-qubit-or-larger instruction into 1–2-qubit gates unless that instruction’s name is listed in basis_gates or is natively supported by the provided target—in which case it’s preserved."
   ]
  },
  {
   "cell_type": "code",
   "execution_count": null,
   "id": "9c74c609-5569-4a72-b63c-1eece5acb31d",
   "metadata": {},
   "outputs": [],
   "source": []
  }
 ],
 "metadata": {
  "kernelspec": {
   "display_name": "Python (qiskit2x)",
   "language": "python",
   "name": "qiskit2x"
  },
  "language_info": {
   "codemirror_mode": {
    "name": "ipython",
    "version": 3
   },
   "file_extension": ".py",
   "mimetype": "text/x-python",
   "name": "python",
   "nbconvert_exporter": "python",
   "pygments_lexer": "ipython3",
   "version": "3.12.9"
  }
 },
 "nbformat": 4,
 "nbformat_minor": 5
}
