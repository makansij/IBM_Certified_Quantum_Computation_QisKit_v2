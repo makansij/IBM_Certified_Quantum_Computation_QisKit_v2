{
 "cells": [
  {
   "cell_type": "code",
   "execution_count": 1,
   "id": "0302d04b-73c3-4168-a5e4-85f3d672d3ae",
   "metadata": {},
   "outputs": [
    {
     "name": "stdout",
     "output_type": "stream",
     "text": [
      "Python full: 3.12.9 | packaged by conda-forge | (main, Mar  4 2025, 22:44:42) [Clang 18.1.8 ]\n",
      "Python tuple: sys.version_info(major=3, minor=12, micro=9, releaselevel='final', serial=0)\n",
      "Python short: 3.12.9\n",
      "Executable: /opt/homebrew/anaconda3/envs/qiskit2x/bin/python\n"
     ]
    }
   ],
   "source": [
    "import numpy as np\n",
    "import sys, platform\n",
    "import numpy as np\n",
    "from qiskit.circuit.library import iqp\n",
    "from qiskit.transpiler import generate_preset_pass_manager\n",
    "from qiskit.quantum_info import SparsePauliOp, random_hermitian\n",
    "from qiskit_ibm_runtime import QiskitRuntimeService, EstimatorV2 as Estimator\n",
    "\n",
    "print(\"Python full:\", sys.version)          # e.g. '3.12.5 (main, ...)'\n",
    "print(\"Python tuple:\", sys.version_info)     # e.g. sys.version_info(major=3, minor=12, micro=5, ...)\n",
    "print(\"Python short:\", platform.python_version())  # e.g. '3.12.5'\n",
    "print(\"Executable:\", sys.executable)         # path to the kernel's python\n"
   ]
  },
  {
   "cell_type": "code",
   "execution_count": 2,
   "id": "d8f92acb-64d0-4f67-8983-9820c900f5ca",
   "metadata": {},
   "outputs": [
    {
     "name": "stdout",
     "output_type": "stream",
     "text": [
      "the backends available are:  [<IBMBackend('ibm_brisbane')>, <IBMBackend('ibm_torino')>]\n",
      ">>> Job ID: d3k0fj9fk6qs73em1jvg\n",
      ">>> Job Status: QUEUED\n"
     ]
    }
   ],
   "source": [
    "from qiskit.quantum_info import SparsePauliOp, random_hermitian\n",
    "from qiskit_ibm_runtime import QiskitRuntimeService, SamplerV2\n",
    "from qiskit.circuit.library import efficient_su2\n",
    "\n",
    "service = QiskitRuntimeService()\n",
    "print('the backends available are: ', service.backends())\n",
    "backend = service.backends()[0]\n",
    "\n",
    "n_qubits=16\n",
    "# circuit = efficient_su2(127, entanglement='linear')\n",
    "mat = np.real(random_hermitian(n_qubits, seed=1234))\n",
    "circuit = iqp(mat)\n",
    "circuit.measure_all()\n",
    "\n",
    "pm = generate_preset_pass_manager(backend=backend, optimization_level=1)\n",
    "isa_circuit = pm.run(circuit)\n",
    "\n",
    "param_values = np.random.rand(circuit.num_parameters)\n",
    "sampler = SamplerV2(mode=backend)\n",
    "job = sampler.run([(isa_circuit, param_values)])\n",
    "print(f\">>> Job ID: {job.job_id()}\")\n",
    "print(f\">>> Job Status: {job.status()}\")"
   ]
  },
  {
   "cell_type": "code",
   "execution_count": 3,
   "id": "bb191d1e-09c1-41c5-a8e2-9c6683ab41d8",
   "metadata": {},
   "outputs": [
    {
     "name": "stdout",
     "output_type": "stream",
     "text": [
      "PrimitiveResult([SamplerPubResult(data=DataBin(meas=BitArray(<shape=(), num_shots=4096, num_bits=16>)), metadata={'circuit_metadata': {}})], metadata={'execution': {'execution_spans': ExecutionSpans([DoubleSliceSpan(<start='2025-10-09 19:06:55', stop='2025-10-09 19:06:57', size=4096>)])}, 'version': 2})\n"
     ]
    }
   ],
   "source": [
    "print(job.result())"
   ]
  },
  {
   "cell_type": "markdown",
   "id": "01f243c4-1d08-48d7-8b58-45eb27e1eb83",
   "metadata": {},
   "source": [
    "### Try out Sampler options - IBM Runtime Provider"
   ]
  },
  {
   "cell_type": "code",
   "execution_count": 13,
   "id": "f65542ca-5a29-4fd4-9ca5-165e6bbee884",
   "metadata": {},
   "outputs": [
    {
     "name": "stdout",
     "output_type": "stream",
     "text": [
      "the backends available are:  [<IBMBackend('ibm_brisbane')>, <IBMBackend('ibm_torino')>]\n",
      ">>> Job ID: d3k1ve1fk6qs73em34o0\n",
      ">>> Job Status: QUEUED\n",
      "results are PrimitiveResult([SamplerPubResult(data=DataBin(meas=BitArray(<shape=(), num_shots=4, num_bits=16>)), metadata={'circuit_metadata': {}})], metadata={'execution': {'execution_spans': ExecutionSpans([DoubleSliceSpan(<start='2025-10-09 20:48:58', stop='2025-10-09 20:48:59', size=4>)])}, 'version': 2})\n"
     ]
    }
   ],
   "source": [
    "from qiskit.quantum_info import SparsePauliOp, random_hermitian\n",
    "from qiskit_ibm_runtime import QiskitRuntimeService, SamplerV2\n",
    "\n",
    "service = QiskitRuntimeService()\n",
    "print('the backends available are: ', service.backends())\n",
    "backend = service.backends()[0]\n",
    "\n",
    "n_qubits=16\n",
    "mat = np.real(random_hermitian(n_qubits, seed=1234))\n",
    "circuit = iqp(mat)\n",
    "circuit.measure_all()\n",
    "\n",
    "pm = generate_preset_pass_manager(backend=backend, optimization_level=1)\n",
    "isa_circuit = pm.run(circuit)\n",
    "\n",
    "param_values = np.random.rand(circuit.num_parameters)\n",
    "sampler = SamplerV2(mode=backend)\n",
    "\n",
    "### set sampler options\n",
    "sampler.options.default_shots = 2048\n",
    "\n",
    "job = sampler.run([(isa_circuit, param_values)],shots=4)  # can override defaults when you run it\n",
    "print(f\">>> Job ID: {job.job_id()}\")\n",
    "print(f\">>> Job Status: {job.status()}\")\n",
    "print('results are', job.result())"
   ]
  },
  {
   "cell_type": "markdown",
   "id": "8ea06465-37e8-40a9-94be-7d69b7aff9c2",
   "metadata": {},
   "source": [
    "### Twirling"
   ]
  },
  {
   "cell_type": "code",
   "execution_count": 16,
   "id": "d185d759-3f0b-404c-ba2d-6b8caf28dd8f",
   "metadata": {},
   "outputs": [
    {
     "name": "stdout",
     "output_type": "stream",
     "text": [
      ">>> Job ID: d3k2509fk6qs73em3b30\n",
      ">>> Job Status: QUEUED\n",
      "results are PrimitiveResult([SamplerPubResult(data=DataBin(meas=BitArray(<shape=(), num_shots=4, num_bits=16>)), metadata={'circuit_metadata': {}, 'num_randomizations': 20})], metadata={'execution': {'execution_spans': ExecutionSpans([TwirledSliceSpanV2(<start='2025-10-09 21:00:52', stop='2025-10-09 21:00:52', size=20>)])}, 'version': 2})\n"
     ]
    }
   ],
   "source": [
    "sampler.options.twirling.enable_gates = True\n",
    "sampler.options.twirling.enable_measure = True\n",
    "sampler.options.twirling.strategy = \"active-accum\"      # good default\n",
    "sampler.options.twirling.num_randomizations = 20        # e.g., 8–32\n",
    "sampler.options.twirling.shots_per_randomization = \"auto\"  # splits your shots\n",
    "\n",
    "job = sampler.run([(isa_circuit, param_values)],shots=4)  # can override defaults when you run it\n",
    "print(f\">>> Job ID: {job.job_id()}\")\n",
    "print(f\">>> Job Status: {job.status()}\")\n",
    "print('results are', job.result())"
   ]
  },
  {
   "cell_type": "code",
   "execution_count": 17,
   "id": "7612034a-9a29-4ccf-b53e-f77fca22dd41",
   "metadata": {},
   "outputs": [],
   "source": [
    "## Error mitigation"
   ]
  },
  {
   "cell_type": "code",
   "execution_count": null,
   "id": "29f233e8-bf5b-48a8-96fc-d70a5548ec7a",
   "metadata": {},
   "outputs": [],
   "source": []
  }
 ],
 "metadata": {
  "kernelspec": {
   "display_name": "Python (qiskit2x)",
   "language": "python",
   "name": "qiskit2x"
  },
  "language_info": {
   "codemirror_mode": {
    "name": "ipython",
    "version": 3
   },
   "file_extension": ".py",
   "mimetype": "text/x-python",
   "name": "python",
   "nbconvert_exporter": "python",
   "pygments_lexer": "ipython3",
   "version": "3.12.9"
  }
 },
 "nbformat": 4,
 "nbformat_minor": 5
}
