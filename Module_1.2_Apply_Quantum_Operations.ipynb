{
 "cells": [
  {
   "cell_type": "markdown",
   "id": "69ddf6a1",
   "metadata": {},
   "source": [
    "# Qiskit Certification Prep - Module 1.2 - Apply Quantum Operations\n",
    "## Tensor Products and Multi-Qubit Systems"
   ]
  },
  {
   "cell_type": "markdown",
   "id": "9900afc8",
   "metadata": {},
   "source": [
    "### Section 0: Tensor Products"
   ]
  },
  {
   "cell_type": "markdown",
   "id": "a4026cb0",
   "metadata": {},
   "source": [
    "Tensor products are used to describe multi-qubit systems. For example:\n",
    "\n",
    "- $|0\\rangle \\otimes |0\\rangle = |00\\rangle$\n",
    "- $|0\\rangle \\otimes |1\\rangle = |01\\rangle$\n",
    "- $|+\\rangle \\otimes |+\\rangle = \\frac{1}{2}(|00\\rangle + |01\\rangle + |10\\rangle + |11\\rangle)$\n",
    "- $|+\\rangle \\otimes |-\\rangle = \\frac{1}{2}(|00\\rangle - |01\\rangle + |10\\rangle - |11\\rangle)$"
   ]
  },
  {
   "cell_type": "code",
   "execution_count": 1,
   "id": "a7435cc7",
   "metadata": {},
   "outputs": [
    {
     "name": "stdout",
     "output_type": "stream",
     "text": [
      "Tensor |0⟩ ⊗ |0⟩ = Statevector([1.+0.j, 0.+0.j, 0.+0.j, 0.+0.j],\n",
      "            dims=(2, 2))\n",
      "|+⟩ ⊗ |+⟩ = Statevector([0.5+0.j, 0.5+0.j, 0.5+0.j, 0.5+0.j],\n",
      "            dims=(2, 2))\n"
     ]
    }
   ],
   "source": [
    "from qiskit.quantum_info import Statevector\n",
    "\n",
    "# Tensor product of |0> and |0>\n",
    "print(\"Tensor |0⟩ ⊗ |0⟩ =\", Statevector.from_label('00'))\n",
    "\n",
    "# Tensor |+> ⊗ |+>\n",
    "plus_plus = Statevector([0.5, 0.5, 0.5, 0.5])\n",
    "print(\"|+⟩ ⊗ |+⟩ =\", plus_plus)\n"
   ]
  },
  {
   "cell_type": "markdown",
   "id": "c281b8c1",
   "metadata": {},
   "source": [
    "**What You Need to Know for the Exam:**  \n",
    "- ✅ Multi-qubit states are tensor products of single-qubit states  \n",
    "- ✅ Gates on multiple qubits can be tensor products of single-qubit gates (e.g., \\( $I \\otimes X$ \\))  \n",
    "- ✅ Tensor product order matters: \\( $|0\\rangle \\otimes |1\\rangle \\ne |1\\rangle \\otimes |0\\rangle$ \\)  \n",
    "- ✅ You should understand how these operations affect statevectors and circuits"
   ]
  },
  {
   "cell_type": "markdown",
   "id": "611d8e6a",
   "metadata": {},
   "source": [
    "## Section 1 – Gate Tensor Products\n",
    "\n",
    "Gate operations on multi-qubit systems can be expressed as tensor products of single-qubit gates. For example, applying the Pauli-X gate to the *second* qubit in a three-qubit system corresponds to:\n",
    "\n",
    "$$I \\otimes X \\otimes I$$\n",
    "\n",
    "This operation will flip the middle qubit state of any three-qubit vector."
   ]
  },
  {
   "cell_type": "code",
   "execution_count": 2,
   "id": "6b0fd5a3",
   "metadata": {},
   "outputs": [
    {
     "name": "stdout",
     "output_type": "stream",
     "text": [
      "Initial state: Statevector([0.+0.j, 0.+0.j, 1.+0.j, 0.+0.j, 0.+0.j, 0.+0.j, 0.+0.j,\n",
      "             0.+0.j],\n",
      "            dims=(2, 2, 2))\n"
     ]
    },
    {
     "data": {
      "image/png": "[encoded data removed]",
      "text/plain": [
       "<Figure size 203.885x284.278 with 1 Axes>"
      ]
     },
     "metadata": {},
     "output_type": "display_data"
    },
    {
     "name": "stdout",
     "output_type": "stream",
     "text": [
      "After I⊗X⊗I on |010> → Statevector([1.+0.j, 0.+0.j, 0.+0.j, 0.+0.j, 0.+0.j, 0.+0.j, 0.+0.j,\n",
      "             0.+0.j],\n",
      "            dims=(2, 2, 2))\n",
      "Probabilities: {np.str_('000'): np.float64(1.0)}\n"
     ]
    }
   ],
   "source": [
    "from qiskit import QuantumCircuit\n",
    "from qiskit.quantum_info import Statevector, Operator\n",
    "\n",
    "# Initial state |010>\n",
    "state = Statevector.from_label('010')\n",
    "print('Initial state:', state)\n",
    "\n",
    "# Build gate: X on qubit 1 (middle qubit)\n",
    "qc = QuantumCircuit(3)\n",
    "qc.x(1)\n",
    "display(qc.draw('mpl'))\n",
    "\n",
    "# Evolve the state\n",
    "new_state = state.evolve(qc.to_instruction())\n",
    "print('After I⊗X⊗I on |010> →', new_state)\n",
    "print('Probabilities:', new_state.probabilities_dict())"
   ]
  },
  {
   "cell_type": "markdown",
   "id": "a0e4632c-5138-4082-bb05-031a13322d24",
   "metadata": {},
   "source": [
    "## Section 2: Measuring Quantum Circuits in Classical Registers\n",
    "\n",
    "Map qubits to classical bits using `measure()`, or use `measure_all()` for convenience."
   ]
  },
  {
   "cell_type": "markdown",
   "id": "955e28d8-f8af-4963-ba79-4f054d64cb08",
   "metadata": {},
   "source": [
    "### Measurement Methods in Qiskit\n",
    "\n",
    "Here are **five different ways** to measure qubits into classical bits:\n",
    "1. **Single qubit → single classical bit**\n",
    "   ```python\n",
    "   qc.measure(0, 0)\n",
    "   ```\n",
    "2. **Multiple qubits → multiple classical bits**\n",
    "   ```python\n",
    "   qc.measure([0,1,2], [0,1,2])\n",
    "   ```\n",
    "3. **Measure all qubits**\n",
    "   ```python\n",
    "   qc.measure_all()\n",
    "   ```\n",
    "4. **Separate measure calls**\n",
    "   ```python\n",
    "   qc.measure(0, 0)\n",
    "   qc.measure(1, 1)\n",
    "   ```\n",
    "5. **Measure a subset of qubits**\n",
    "   ```python\n",
    "   qc.measure([0,2], [0,1])\n",
    "   ```"
   ]
  },
  {
   "cell_type": "markdown",
   "id": "b0a7f866-30d0-4a9d-9d95-75d383c99f06",
   "metadata": {},
   "source": [
    "### Computing Measurement Probabilities (Basics)\n",
    "\n",
    "In Qiskit, a final `measure` reads qubits in the **computational (Z) basis** $\\{|0\\rangle, |1\\rangle\\}$.  \n",
    "For a single-qubit state $|\\psi\\rangle=\\alpha|0\\rangle+\\beta|1\\rangle$ with $|\\alpha|^2+|\\beta|^2=1$:\n",
    "- $\\Pr(0)=|\\alpha|^2$,  \n",
    "- $\\Pr(1)=|\\beta|^2$.\n",
    "\n",
    "**Rotations and amplitudes.** Many circuits prepare $|\\psi\\rangle$ via rotations. For example,\n",
    "- $R_y(\\theta)|0\\rangle=\\cos(\\tfrac{\\theta}{2})|0\\rangle+\\sin(\\tfrac{\\theta}{2})|1\\rangle$, so  \n",
    "  $\\Pr(1)=\\sin^2(\\tfrac{\\theta}{2})$, $\\Pr(0)=\\cos^2(\\tfrac{\\theta}{2})$.\n",
    "- $H|0\\rangle=\\tfrac{|0\\rangle+|1\\rangle}{\\sqrt{2}}$ gives $\\Pr(0)=\\Pr(1)=\\tfrac{1}{2}$.\n",
    "\n",
    "**Qiskit example.**\n",
    "```python\n",
    "qc.reset(0)          # prepares |0>\n",
    "qc.ry(np.pi/2, 0)    # θ = π/2\n",
    "qc.measure_all()\n",
    "```\n",
    "After $R_y(\\pi/2)$:\n",
    "$|\\psi\\rangle=\\cos(\\pi/4)|0\\rangle+\\sin(\\pi/4)|1\\rangle=\\tfrac{1}{\\sqrt{2}}(|0\\rangle+|1\\rangle)$.\n",
    "Thus $\\Pr(1)=\\sin^2(\\pi/4)=\\tfrac{1}{2}=0.5$.\n",
    "\n",
    "Takeaways.\n",
    "\n",
    "1. Express the post-gate state in the form $\\alpha|0\\rangle+\\beta|1\\rangle$.\n",
    "\n",
    "2.  Square magnitudes of amplitudes to get measurement probabilities.\n",
    "\n",
    "3.  Global phases do not affect probabilities; only amplitudes’ magnitudes do."
   ]
  },
  {
   "cell_type": "markdown",
   "id": "10d5ae26",
   "metadata": {},
   "source": [
    "### Practice Examples: Gate Tensor Products\n",
    "\n",
    "Below are several gate tensor product operations. Predict the output state and then verify using Qiskit."
   ]
  },
  {
   "cell_type": "code",
   "execution_count": 3,
   "id": "871ec6c7",
   "metadata": {},
   "outputs": [
    {
     "name": "stdout",
     "output_type": "stream",
     "text": [
      "Example 1 result: Statevector([0.+0.j, 0.+0.j, 0.+0.j, 0.+0.j, 1.+0.j, 0.+0.j, 0.+0.j,\n",
      "             0.+0.j],\n",
      "            dims=(2, 2, 2))\n",
      "Example 2 result: Statevector([0.+0.j, 0.+0.j, 0.+0.j, 1.+0.j],\n",
      "            dims=(2, 2))\n",
      "Example 3 result: Statevector([0.        +0.j, 0.        +0.j, 0.70710678+0.j,\n",
      "             0.70710678+0.j],\n",
      "            dims=(2, 2))\n",
      "Example 4 result: Statevector([ 0.        +0.j,  0.70710678+0.j,  0.        +0.j,\n",
      "             -0.70710678+0.j,  0.        +0.j,  0.        +0.j,\n",
      "              0.        +0.j,  0.        +0.j],\n",
      "            dims=(2, 2, 2))\n",
      "Example 5 result: Statevector([ 0.35355339+0.35355339j,  0.35355339-0.35355339j,\n",
      "             -0.35355339-0.35355339j, -0.35355339+0.35355339j],\n",
      "            dims=(2, 2))\n"
     ]
    }
   ],
   "source": [
    "from qiskit import QuantumCircuit\n",
    "from qiskit.quantum_info import Statevector\n",
    "\n",
    "# Example 1: I⊗I⊗X on |000> → flips last qubit to |001>\n",
    "state1 = Statevector.from_label('000')\n",
    "qc1 = QuantumCircuit(3)\n",
    "qc1.x(2)\n",
    "print('Example 1 result:', state1.evolve(qc1.to_instruction()))\n",
    "\n",
    "# Example 2: X⊗X on |00> → flips both qubits to |11>\n",
    "state2 = Statevector.from_label('00')\n",
    "qc2 = QuantumCircuit(2)\n",
    "qc2.x(0); qc2.x(1)\n",
    "print('Example 2 result:', state2.evolve(qc2.to_instruction()))\n",
    "\n",
    "# Example 3: H⊗I on |10> → superposition on first qubit\n",
    "state3 = Statevector.from_label('10')\n",
    "qc3 = QuantumCircuit(2)\n",
    "qc3.h(0)\n",
    "print('Example 3 result:', state3.evolve(qc3.to_instruction()))\n",
    "\n",
    "# Example 4: I⊗H⊗Z on |011> → H on second, Z on third\n",
    "state4 = Statevector.from_label('011')\n",
    "qc4 = QuantumCircuit(3)\n",
    "qc4.h(1); qc4.z(2)\n",
    "print('Example 4 result:', state4.evolve(qc4.to_instruction()))\n",
    "\n",
    "# Example 5: RZ(pi/2)⊗RX(pi) on |-->\n",
    "import numpy as np\n",
    "minus_minus = Statevector([1/2**0.5, -1/2**0.5]).tensor(Statevector([1/2**0.5, -1/2**0.5]))\n",
    "qc5 = QuantumCircuit(2)\n",
    "qc5.rz(np.pi/2, 0); qc5.rx(np.pi, 1)\n",
    "print('Example 5 result:', minus_minus.evolve(qc5.to_instruction()))"
   ]
  },
  {
   "cell_type": "code",
   "execution_count": 1,
   "id": "d95907a9-f8cb-4dd7-9a98-7a831083d6ba",
   "metadata": {},
   "outputs": [
    {
     "name": "stdout",
     "output_type": "stream",
     "text": [
      "Figure(269.064x200.667)\n",
      "Figure(454.719x367.889)\n",
      "Figure(663.998x535.111)\n",
      "Figure(287.294x284.278)\n",
      "Figure(371.107x367.889)\n"
     ]
    }
   ],
   "source": [
    "from qiskit import QuantumCircuit\n",
    "\n",
    "# 1. Single qubit → single classical bit\n",
    "qc1 = QuantumCircuit(1,1)\n",
    "qc1.h(0)\n",
    "qc1.measure(0, 0)\n",
    "print(qc1.draw('mpl'))\n",
    "\n",
    "# 2. Multiple qubits → multiple classical bits\n",
    "qc2 = QuantumCircuit(3,3)\n",
    "qc2.h([0,1,2])\n",
    "qc2.measure([0,1,2], [0,1,2])\n",
    "print(qc2.draw('mpl'))\n",
    "\n",
    "# 3. Measure all qubits\n",
    "qc3 = QuantumCircuit(4,4)\n",
    "qc3.h(range(4))\n",
    "qc3.measure_all()\n",
    "print(qc3.draw('mpl'))\n",
    "\n",
    "# 4. Separate measure calls\n",
    "qc4 = QuantumCircuit(2,2)\n",
    "qc4.x(0)\n",
    "qc4.measure(0, 0)\n",
    "qc4.measure(1, 1)\n",
    "print(qc4.draw('mpl'))\n",
    "\n",
    "# 5. Measure a subset of qubits\n",
    "qc5 = QuantumCircuit(3,2)\n",
    "qc5.h([0,2])\n",
    "qc5.measure([0,2], [0,1])\n",
    "print(qc5.draw('mpl'))"
   ]
  },
  {
   "cell_type": "code",
   "execution_count": 2,
   "id": "57ffe1ad-75b4-4f09-8800-bbc42fd56c86",
   "metadata": {},
   "outputs": [
    {
     "data": {
      "image/png": "[encoded data removed]",
      "text/plain": [
       "<Figure size 454.517x284.278 with 1 Axes>"
      ]
     },
     "execution_count": 2,
     "metadata": {},
     "output_type": "execute_result"
    }
   ],
   "source": [
    "from qiskit import QuantumCircuit\n",
    "\n",
    "# 2-qubit circuit with 2 classical bits\n",
    "qc = QuantumCircuit(2, 2)\n",
    "qc.h(0)\n",
    "qc.cx(0, 1)\n",
    "# Measure qubits into classical bits\n",
    "qc.measure([0, 1], [0, 1])\n",
    "\n",
    "qc.draw('mpl')"
   ]
  },
  {
   "cell_type": "markdown",
   "id": "65facd8c-a044-4005-a46d-5b09b2c5974e",
   "metadata": {},
   "source": [
    "## Practice Questions: Measurement Probabilities — Multiple-Choice (Qiskit)\n",
    "\n",
    "All practice questions are consolidated here. Answers are under collapsible toggles.\n",
    "\n",
    "**Q1.** Given:\n",
    "```python\n",
    "from qiskit import QuantumCircuit\n",
    "import numpy as np\n",
    "qc = QuantumCircuit(1)\n",
    "qc.reset(0)\n",
    "qc.ry(np.pi/3, 0)\n",
    "qc.measure_all()\n",
    "```\n",
    "What is the probability of measuring `1`?  \n",
    "A. 0.25  \n",
    "B. 0.75  \n",
    "C. 0.5  \n",
    "D. 1.0  \n",
    "<details><summary>Answer</summary>\n",
    "**A.** Using $R_y(\\theta)\\lvert0\\rangle=\\cos\\!\\big(\\tfrac{\\theta}{2}\\big)\\lvert0\\rangle+\\sin\\!\\big(\\tfrac{\\theta}{2}\\big)\\lvert1\\rangle$, with $\\theta=\\pi/3$: $P(1)=\\sin^2(\\pi/6)=0.25$.\n",
    "\n",
    "- **B (0.75):** Would require $\\sin^2(\\theta/2)=0.75$ (e.g., $\\theta\\approx 2\\pi/3$), not $\\pi/3$.  \n",
    "- **C (0.5):** Occurs at $\\theta=\\pi/2$, not $\\pi/3$.  \n",
    "- **D (1.0):** Occurs at $\\theta=\\pi$, not $\\pi/3$.\n",
    "</details>\n",
    "\n",
    "---\n",
    "\n",
    "**Q2.** Given:\n",
    "```python\n",
    "from qiskit import QuantumCircuit\n",
    "import numpy as np\n",
    "qc = QuantumCircuit(1)\n",
    "qc.reset(0)\n",
    "qc.rx(np.pi, 0)\n",
    "qc.measure_all()\n",
    "```\n",
    "What is the probability of measuring `1`?  \n",
    "A. 0.0  \n",
    "B. 0.5  \n",
    "C. 1.0  \n",
    "D. 0.25  \n",
    "<details><summary>Answer</summary>\n",
    "**C.** $R_x(\\pi)\\lvert0\\rangle=-i\\lvert1\\rangle$; global phase is irrelevant, so $P(1)=1$.\n",
    "\n",
    "- **A (0.0):** Would mean the state stayed at $\\lvert0\\rangle$, but $R_x(\\pi)$ flips it.  \n",
    "- **B (0.5):** Would occur at $\\theta=\\pi/2$ (equal superposition), not $\\pi$.  \n",
    "- **D (0.25):** No standard single-axis $\\pi$ rotation produces this on $\\lvert0\\rangle$.\n",
    "</details>\n",
    "\n",
    "---\n",
    "\n",
    "**Q3.** Given:\n",
    "```python\n",
    "from qiskit import QuantumCircuit\n",
    "import numpy as np\n",
    "qc = QuantumCircuit(1)\n",
    "qc.reset(0)\n",
    "qc.x(0)\n",
    "qc.rz(np.pi/7, 0)\n",
    "qc.measure_all()\n",
    "```\n",
    "What is the probability of measuring `1`?  \n",
    "A. 1.0  \n",
    "B. 0.0  \n",
    "C. 0.5  \n",
    "D. 0.1464  \n",
    "<details><summary>Answer</summary>\n",
    "**A.** After $X$, the state is $\\lvert1\\rangle$. $R_z$ adds only a phase, leaving Z-basis probabilities unchanged.\n",
    "\n",
    "- **B (0.0):** Would require the state $\\lvert0\\rangle$, but we flipped to $\\lvert1\\rangle$.  \n",
    "- **C (0.5):** Would require a superposition (e.g., $H\\lvert0\\rangle$), not a pure basis state.  \n",
    "- **D (0.1464):** No—$R_z$ does not change measurement probabilities in the computational basis.\n",
    "</details>\n",
    "\n",
    "---\n",
    "\n",
    "**Q4.** Given:\n",
    "```python\n",
    "from qiskit import QuantumCircuit\n",
    "import numpy as np\n",
    "qc = QuantumCircuit(1)\n",
    "qc.reset(0)\n",
    "qc.h(0)\n",
    "qc.rz(np.pi/3, 0)\n",
    "qc.h(0)\n",
    "qc.measure_all()\n",
    "```\n",
    "What is the probability of measuring `1`?  \n",
    "A. 0.75  \n",
    "B. 0.25  \n",
    "C. 0.5  \n",
    "D. 1.0  \n",
    "<details><summary>Answer</summary>\n",
    "**B.** $H R_z(\\phi) H = R_x(\\phi)$. Thus the circuit equals $R_x(\\pi/3)\\lvert0\\rangle$, giving $P(1)=\\sin^2(\\pi/6)=0.25$.\n",
    "\n",
    "- **A (0.75):** Would be $\\sin^2(\\pi/3)$, i.e., $R_x(2\\pi/3)$, not $\\pi/3$.  \n",
    "- **C (0.5):** Would require $\\phi=\\pi/2$, not $\\pi/3$.  \n",
    "- **D (1.0):** Would require a full flip ($\\phi=\\pi$).\n",
    "</details>\n",
    "\n",
    "---\n",
    "\n",
    "**Q5.** Given:\n",
    "```python\n",
    "from qiskit import QuantumCircuit\n",
    "qc = QuantumCircuit(2)\n",
    "qc.reset(range(2))\n",
    "qc.h(0)\n",
    "qc.cx(0, 1)\n",
    "qc.measure_all()\n",
    "```\n",
    "What is the probability that **qubit 1** is measured as `1`?  \n",
    "A. 0.0  \n",
    "B. 0.25  \n",
    "C. 0.5  \n",
    "D. 1.0  \n",
    "<details><summary>Answer</summary>\n",
    "**C.** State is $(\\lvert00\\rangle+\\lvert11\\rangle)/\\sqrt{2}$. Each qubit marginally has $P(0)=P(1)=\\tfrac{1}{2}$.\n",
    "\n",
    "- **A (0.0):** Qubit 1 is not fixed; it’s correlated but marginal is uniform.  \n",
    "- **B (0.25):** No—Bell state marginals are not biased.  \n",
    "- **D (1.0):** Would require qubit 1 deterministically $\\lvert1\\rangle$, which it isn’t.\n",
    "</details>\n"
   ]
  },
  {
   "cell_type": "markdown",
   "id": "079a4f7d",
   "metadata": {},
   "source": [
    "### Practice Questions\n",
    "\n",
    "(all Answers are at the end).\n",
    "\n",
    "**Q1.** Starting from $|10\\rangle$, apply $(H \\otimes I)$. What is the resulting state?\n",
    "- A. $(|00\\rangle - |10\\rangle)/\\sqrt{2}$\n",
    "- B. $(|10\\rangle + |11\\rangle)/\\sqrt{2}$\n",
    "- C. $(|00\\rangle + |10\\rangle)/\\sqrt{2}$\n",
    "- D. $(|01\\rangle + |11\\rangle)/\\sqrt{2}$\n",
    "\n",
    "**Q2.** Starting from $|01\\rangle$, apply $(I \\otimes H)$. What state do you obtain?\n",
    "- A. $(|00\\rangle - |01\\rangle)/\\sqrt{2}$\n",
    "- B. $(|01\\rangle + |11\\rangle)/\\sqrt{2}$\n",
    "- C. $(|00\\rangle + |01\\rangle)/\\sqrt{2}$\n",
    "- D. $(|10\\rangle + |11\\rangle)/\\sqrt{2}$\n",
    "\n",
    "**Q3.** On $|00\\rangle$, applying $(H \\otimes X)$ yields:\n",
    "- A. $(|01\\rangle + |11\\rangle)/\\sqrt{2}$\n",
    "- B. $(|00\\rangle + |10\\rangle)/\\sqrt{2}$\n",
    "- C. $(|01\\rangle + |10\\rangle)/\\sqrt{2}$\n",
    "- D. $(|11\\rangle)/\\sqrt{2}$\n",
    "\n",
    "**Q4.** Which tensor product applies a Pauli-X to every qubit in a three-qubit system?\n",
    "- A. $X \\otimes X \\otimes X$\n",
    "- B. $RX(\\pi) \\otimes RX(\\pi) \\otimes RX(\\pi)$\n",
    "- C. $H \\otimes H \\otimes H$\n",
    "- D. $I \\otimes I \\otimes I$\n",
    "\n",
    "**Q5.** Starting from $|00\\rangle$, apply $(RY(\\pi/2) \\otimes I)$. Which state is obtained?\n",
    "- A. $(|00\\rangle + |10\\rangle)/\\sqrt{2}$\n",
    "- B. $(|00\\rangle + |01\\rangle)/\\sqrt{2}$\n",
    "- C. $(|10\\rangle + |11\\rangle)/\\sqrt{2}$\n",
    "- D. $(|01\\rangle + |11\\rangle)/\\sqrt{2}$"
   ]
  },
  {
   "cell_type": "markdown",
   "id": "fa84c1c5",
   "metadata": {},
   "source": [
    "### Answer Key\n",
    "- Q1: A\n",
    "- Q2: A\n",
    "- Q3: A\n",
    "- Q4: A\n",
    "- Q5: A"
   ]
  },
  {
   "cell_type": "code",
   "execution_count": null,
   "id": "d38859a6-7fcd-49d4-a2d1-05216bf6e43d",
   "metadata": {},
   "outputs": [],
   "source": []
  }
 ],
 "metadata": {
  "kernelspec": {
   "display_name": "Python (qiskit2x)",
   "language": "python",
   "name": "qiskit2x"
  },
  "language_info": {
   "codemirror_mode": {
    "name": "ipython",
    "version": 3
   },
   "file_extension": ".py",
   "mimetype": "text/x-python",
   "name": "python",
   "nbconvert_exporter": "python",
   "pygments_lexer": "ipython3",
   "version": "3.12.11"
  }
 },
 "nbformat": 4,
 "nbformat_minor": 5
}
