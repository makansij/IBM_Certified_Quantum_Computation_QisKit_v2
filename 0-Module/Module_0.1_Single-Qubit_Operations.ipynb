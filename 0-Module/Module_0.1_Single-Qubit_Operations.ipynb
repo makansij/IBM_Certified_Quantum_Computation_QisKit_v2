{
 "cells": [
  {
   "cell_type": "code",
   "execution_count": 1,
   "id": "7325603e",
   "metadata": {},
   "outputs": [],
   "source": [
    "import numpy as np"
   ]
  },
  {
   "cell_type": "markdown",
   "id": "bee60b26",
   "metadata": {},
   "source": [
    "# Module 0.1: Single-Qubit Operations"
   ]
  },
  {
   "cell_type": "markdown",
   "id": "78737360",
   "metadata": {},
   "source": [
    "### Section 0.1.0: Overview\n",
    "\n",
    "This section lists the contents of the notebook and gives a brief note for each.  \n",
    "\n",
    "- **0.1.1 — Pauli Gates**: These are important quantum states often used when\n",
    "working with the Hadamard gate and measurement in the X-basis:\n",
    "- **0.1.2 — Rotation Gates**: Applying $R_x(\\pi/2)$ twice is the same as\n",
    "$R_x(\\pi)$ up to global phase.\n",
    "- **0.1.3 — Hadamard Gate**: These identities arise from the non-commutative\n",
    "nature of quantum gates and are fundamental to quantum algorithms and error\n",
    "correction.\n",
    "- **0.1.4 — Useful Gate Identities and Algebra**: $H\\lvert + \\rangle = \\lvert 0\n",
    "\\rangle,\\quad H\\lvert - \\rangle = \\lvert 1 \\rangle.$\n",
    "- **0.1.5 — Multiple Choice Questions**: Answer key and explanations"
   ]
  },
  {
   "cell_type": "markdown",
   "id": "500fa59e",
   "metadata": {},
   "source": [
    "## Section 0.1.1: Pauli Gates\n",
    "\n",
    "Pauli gates are the basic quantum logic gates. Their matrix representations and  \n",
    "actions are:\n",
    "\n",
    "- **X (NOT gate)**:\n",
    "     $X = \\begin{bmatrix} 0 & 1 \\\\ 1 & 0 \\end{bmatrix}$\n",
    "  Swaps $|0⟩$ and $|1⟩$\n",
    "\n",
    "- **Y**:\n",
    "     $Y = \\begin{bmatrix} 0 & -i \\\\ i & 0 \\end{bmatrix}$\n",
    "  Applies a bit and phase flip\n",
    "\n",
    "- **Z**:\n",
    "     $Z = \\begin{bmatrix} 1 & 0 \\\\ 0 & -1 \\end{bmatrix}$\n",
    "  Flips the phase of $|1⟩$"
   ]
  },
  {
   "cell_type": "code",
   "execution_count": 2,
   "id": "ffb679d6",
   "metadata": {},
   "outputs": [
    {
     "data": {
      "image/png": "[encoded data removed]",
      "text/plain": [
       "<Figure size 185.453x117.056 with 1 Axes>"
      ]
     },
     "execution_count": 2,
     "metadata": {},
     "output_type": "execute_result"
    }
   ],
   "source": [
    "from qiskit import QuantumCircuit\n",
    "qc = QuantumCircuit(1)\n",
    "qc.x(0)\n",
    "qc.draw('mpl')"
   ]
  },
  {
   "cell_type": "code",
   "execution_count": 3,
   "id": "c6c41116",
   "metadata": {},
   "outputs": [
    {
     "data": {
      "image/png": "[encoded data removed]",
      "text/plain": [
       "<Figure size 185.453x117.056 with 1 Axes>"
      ]
     },
     "execution_count": 3,
     "metadata": {},
     "output_type": "execute_result"
    }
   ],
   "source": [
    "qc = QuantumCircuit(1)\n",
    "qc.y(0)\n",
    "qc.draw('mpl')"
   ]
  },
  {
   "cell_type": "code",
   "execution_count": 4,
   "id": "65f04965",
   "metadata": {},
   "outputs": [
    {
     "data": {
      "image/png": "[encoded data removed]",
      "text/plain": [
       "<Figure size 185.453x117.056 with 1 Axes>"
      ]
     },
     "execution_count": 4,
     "metadata": {},
     "output_type": "execute_result"
    }
   ],
   "source": [
    "qc = QuantumCircuit(1)\n",
    "qc.z(0)\n",
    "qc.draw('mpl')"
   ]
  },
  {
   "cell_type": "markdown",
   "id": "df3f34ce",
   "metadata": {},
   "source": [
    "## Action of Pauli Gates on Basis States\n",
    "### Z on |0> and |1>"
   ]
  },
  {
   "cell_type": "code",
   "execution_count": 5,
   "id": "7b931a4a",
   "metadata": {},
   "outputs": [
    {
     "name": "stdout",
     "output_type": "stream",
     "text": [
      "Z on |0⟩ → Statevector([1.+0.j, 0.+0.j],\n",
      "            dims=(2,))\n",
      "Z on |1⟩ → Statevector([ 0.+0.j, -1.+0.j],\n",
      "            dims=(2,))\n"
     ]
    }
   ],
   "source": [
    "from qiskit import QuantumCircuit\n",
    "from qiskit.quantum_info import Statevector\n",
    "\n",
    "# Define |0⟩ and |1⟩ statevectors\n",
    "one_state = Statevector([0, 1])\n",
    "zero_state = Statevector([1, 0])\n",
    "\n",
    "# Create the Z gate circuit\n",
    "qc_z = QuantumCircuit(1)\n",
    "qc_z.z(0)\n",
    "\n",
    "# Evolve using .to_instruction()\n",
    "zero_result = zero_state.evolve(qc_z.to_instruction())\n",
    "one_result = one_state.evolve(qc_z.to_instruction())\n",
    "\n",
    "print(\"Z on |0⟩ →\", zero_result)\n",
    "print(\"Z on |1⟩ →\", one_result)"
   ]
  },
  {
   "cell_type": "markdown",
   "id": "df858464-f3e5-4b8d-adf9-8f6ca8983107",
   "metadata": {},
   "source": [
    "### X on |+> and |->"
   ]
  },
  {
   "cell_type": "code",
   "execution_count": 6,
   "id": "1cc1ec53-0383-42e4-bb0d-e446a480b337",
   "metadata": {},
   "outputs": [
    {
     "name": "stdout",
     "output_type": "stream",
     "text": [
      "X on |+⟩ → Statevector([0.70710678+0.j, 0.70710678+0.j],\n",
      "            dims=(2,))\n",
      "X on |−⟩ → Statevector([-0.70710678+0.j,  0.70710678+0.j],\n",
      "            dims=(2,))\n"
     ]
    }
   ],
   "source": [
    "from qiskit import QuantumCircuit\n",
    "from qiskit.quantum_info import Statevector\n",
    "\n",
    "# Define |+⟩ and |−⟩ statevectors\n",
    "plus = Statevector([1/2**0.5, 1/2**0.5])\n",
    "minus = Statevector([1/2**0.5, -1/2**0.5])\n",
    "\n",
    "# Create the X gate circuit\n",
    "qc_x = QuantumCircuit(1)\n",
    "qc_x.x(0)\n",
    "\n",
    "# Evolve using .to_instruction()\n",
    "plus_result = plus.evolve(qc_x.to_instruction())\n",
    "minus_result = minus.evolve(qc_x.to_instruction())\n",
    "\n",
    "print(\"X on |+⟩ →\", plus_result)\n",
    "print(\"X on |−⟩ →\", minus_result)"
   ]
  },
  {
   "cell_type": "markdown",
   "id": "6f107aa9",
   "metadata": {},
   "source": [
    "### Common States\n",
    "\n",
    "These are important quantum states often used when working with the Hadamard gate  \n",
    "and measurement in the X-basis:\n",
    "\n",
    "- $|+⟩ = \\frac{1}{\\sqrt{2}}(|0⟩ + |1⟩)$\n",
    "- $|−⟩ = \\frac{1}{\\sqrt{2}}(|0⟩ - |1⟩)$\n",
    "\n",
    "They form an **orthonormal basis**, just like $|0⟩$ and $|1⟩$, and are the  \n",
    "eigenstates of the Hadamard gate."
   ]
  },
  {
   "cell_type": "markdown",
   "id": "b2c0dee3",
   "metadata": {},
   "source": [
    "### $|i\\rangle$ and $|{-}i\\rangle$ states  \n",
    "\n",
    "The eigenstates of $Y$ are  \n",
    "$\\displaystyle \\lvert i \\rangle = \\tfrac{1}{\\sqrt{2}}\\big(\\lvert 0 \\rangle + i\\,\\lvert 1 \\rangle\\big)$  \n",
    "and  \n",
    "$\\displaystyle \\lvert {-}i \\rangle = \\tfrac{1}{\\sqrt{2}}\\big(\\lvert 0 \\rangle - i\\,\\lvert 1 \\rangle\\big)$.  \n",
    "\n",
    "These correspond to Bloch vectors along $+\\hat{y}$ and $-\\hat{y}$, respectively.  \n",
    "Note that $-\\lvert i \\rangle$ differs from $\\lvert i \\rangle$ by a global phase only  \n",
    "and is physically equivalent.  \n"
   ]
  },
  {
   "cell_type": "code",
   "execution_count": 7,
   "id": "fd1c28b0",
   "metadata": {},
   "outputs": [
    {
     "name": "stdout",
     "output_type": "stream",
     "text": [
      "|i>  = [0.70710678+0.j         0.        +0.70710678j]\n",
      "Y|i> = [[0.5+0.j  0. -0.5j]\n",
      " [0. +0.5j 0.5+0.j ]]   (should equal |i>)\n",
      "\n",
      "|-i>  = [ 0.70710678+0.j         -0.        -0.70710678j]\n",
      "Y|-i> = [[-0.5+0.j   0. -0.5j]\n",
      " [ 0. +0.5j -0.5+0.j ]]   (should equal -|-i>)\n"
     ]
    }
   ],
   "source": [
    "# Construct |i> and |-i> and verify they are Y-eigenstates.\n",
    "from qiskit.quantum_info import Statevector, Operator\n",
    "import numpy as np\n",
    "\n",
    "# |i> = (|0> + i|1>)/sqrt(2), |-i> = (|0> - i|1>)/sqrt(2)\n",
    "i_state = Statevector([1/np.sqrt(2), 1j/np.sqrt(2)])\n",
    "minus_i_state = Statevector([1/np.sqrt(2), -1j/np.sqrt(2)])\n",
    "\n",
    "Y = Operator([[0, -1j], [1j, 0]])\n",
    "\n",
    "# Check eigenvalue relations: Y|i> = +|i>, Y|-i> = -|-i>\n",
    "lhs_plus = (Y @ i_state).data\n",
    "lhs_minus = (Y @ minus_i_state).data\n",
    "\n",
    "print(\"|i>  =\", i_state.data)\n",
    "print(\"Y|i> =\", lhs_plus, \"  (should equal |i>)\\n\")\n",
    "print(\"|-i>  =\", minus_i_state.data)\n",
    "print(\"Y|-i> =\", lhs_minus, \"  (should equal -|-i>)\")"
   ]
  },
  {
   "cell_type": "markdown",
   "id": "c2fe5e19",
   "metadata": {},
   "source": [
    "### Identity: X = H Z H"
   ]
  },
  {
   "cell_type": "code",
   "execution_count": 8,
   "id": "5c354074",
   "metadata": {},
   "outputs": [
    {
     "name": "stdout",
     "output_type": "stream",
     "text": [
      "Equivalent state:\n",
      "Statevector([-2.23711432e-17+0.j,  1.00000000e+00+0.j],\n",
      "            dims=(2,))\n",
      "Statevector([0.+0.j, 1.+0.j],\n",
      "            dims=(2,))\n"
     ]
    }
   ],
   "source": [
    "qc1 = QuantumCircuit(1)\n",
    "qc1.h(0)\n",
    "qc1.z(0)\n",
    "qc1.h(0)\n",
    "\n",
    "qc2 = QuantumCircuit(1)\n",
    "qc2.x(0)\n",
    "\n",
    "print(\"Equivalent state:\")\n",
    "print(Statevector.from_label('0').evolve(qc1))\n",
    "print(Statevector.from_label('0').evolve(qc2))"
   ]
  },
  {
   "cell_type": "markdown",
   "id": "51e5d0a9",
   "metadata": {},
   "source": [
    "## Section 0.1.2: Rotation Gates\n",
    "\n",
    "- **RX(θ)**:\n",
    "     $RX(\\theta) = \\begin{bmatrix} \\cos(\\theta/2) & -i\\sin(\\theta/2) \\\\ -i\\sin(\\theta/2) & \\cos(\\theta/2) \\end{bmatrix}$\n",
    "\n",
    "- **RY(θ)**:\n",
    "     $RY(\\theta) = \\begin{bmatrix} \\cos(\\theta/2) & -\\sin(\\theta/2) \\\\ \\sin(\\theta/2) & \\cos(\\theta/2) \\end{bmatrix}$\n",
    "\n",
    "- **RZ(θ)**:\n",
    "     $RZ(\\theta) = \\begin{bmatrix} e^{-i\\theta/2} & 0 \\\\ 0 & e^{i \\theta/2} \\end{bmatrix}$"
   ]
  },
  {
   "cell_type": "markdown",
   "id": "8b5ea4ce",
   "metadata": {},
   "source": [
    "### Rotation Gate Composition\n",
    "**Note**: Pauli gates are a special case of Rotation gates, *up to a global phase*  \n",
    "where the angle of rotation is $\\theta=\\pi$.\n",
    "You can compose multiple rotation gates. For example, two Rx(π/2) gates in a row  \n",
    "are equivalent to Rx(π):\n",
    "\n",
    "Applying $R_x(\\pi/2)$ twice is the same as $R_x(\\pi)$ up to global phase.\n",
    "\n",
    "This can be verified with Qiskit:"
   ]
  },
  {
   "cell_type": "code",
   "execution_count": 9,
   "id": "91a710d1",
   "metadata": {},
   "outputs": [
    {
     "name": "stdout",
     "output_type": "stream",
     "text": [
      "Are the two final states equal (up to global phase)? True\n"
     ]
    }
   ],
   "source": [
    "from qiskit import QuantumCircuit\n",
    "from qiskit.quantum_info import Statevector\n",
    "\n",
    "qc1 = QuantumCircuit(1)\n",
    "qc1.rx(np.pi/2, 0)\n",
    "qc1.rx(np.pi/2, 0)\n",
    "state1 = Statevector.from_instruction(qc1)\n",
    "\n",
    "qc2 = QuantumCircuit(1)\n",
    "qc2.rx(np.pi, 0)\n",
    "state2 = Statevector.from_instruction(qc2)\n",
    "\n",
    "print(\"Are the two final states equal (up to global phase)?\",\n",
    "      state1.equiv(state2))"
   ]
  },
  {
   "cell_type": "code",
   "execution_count": 10,
   "id": "708d27a2",
   "metadata": {},
   "outputs": [
    {
     "data": {
      "image/png": "[encoded data removed]",
      "text/plain": [
       "<Figure size 185.453x117.056 with 1 Axes>"
      ]
     },
     "execution_count": 10,
     "metadata": {},
     "output_type": "execute_result"
    }
   ],
   "source": [
    "from numpy import pi\n",
    "qc = QuantumCircuit(1)\n",
    "qc.rx(pi/2, 0)\n",
    "qc.draw('mpl')"
   ]
  },
  {
   "cell_type": "code",
   "execution_count": 11,
   "id": "f8c7294b",
   "metadata": {},
   "outputs": [
    {
     "data": {
      "image/png": "[encoded data removed]",
      "text/plain": [
       "<Figure size 185.453x117.056 with 1 Axes>"
      ]
     },
     "execution_count": 11,
     "metadata": {},
     "output_type": "execute_result"
    }
   ],
   "source": [
    "qc = QuantumCircuit(1)\n",
    "qc.ry(pi, 0)  # Equivalent to Y gate\n",
    "qc.draw('mpl')"
   ]
  },
  {
   "cell_type": "code",
   "execution_count": 12,
   "id": "ab93c7a0",
   "metadata": {},
   "outputs": [
    {
     "data": {
      "image/png": "[encoded data removed]",
      "text/plain": [
       "<Figure size 185.453x117.056 with 1 Axes>"
      ]
     },
     "execution_count": 12,
     "metadata": {},
     "output_type": "execute_result"
    }
   ],
   "source": [
    "qc = QuantumCircuit(1)\n",
    "qc.rz(pi/4, 0)\n",
    "qc.draw('mpl')"
   ]
  },
  {
   "cell_type": "markdown",
   "id": "18f7c7cb",
   "metadata": {},
   "source": [
    "## Section 0.1.3: Hadamard Gate\n",
    "\n",
    "The **Hadamard gate (H)** creates a superposition:\n",
    "\n",
    "   $H = \\frac{1}{\\sqrt{2}} \\begin{bmatrix} 1 & 1 \\\\ 1 & -1 \\end{bmatrix}$\n",
    "\n",
    "- $H|0⟩ = |+⟩$\n",
    "- $H|1⟩ = |−⟩$"
   ]
  },
  {
   "cell_type": "code",
   "execution_count": 13,
   "id": "83e6d52f",
   "metadata": {},
   "outputs": [
    {
     "data": {
      "image/png": "[encoded data removed]",
      "text/plain": [
       "<Figure size 185.453x117.056 with 1 Axes>"
      ]
     },
     "execution_count": 13,
     "metadata": {},
     "output_type": "execute_result"
    }
   ],
   "source": [
    "qc = QuantumCircuit(1)\n",
    "qc.h(0)\n",
    "qc.draw('mpl')"
   ]
  },
  {
   "cell_type": "markdown",
   "id": "d0aa486a",
   "metadata": {},
   "source": [
    "## Section 0.1.4: Useful Gate Identities and Algebra\n",
    "For $\\sigma_i \\in \\{H, X, Y, Z\\}$\n",
    "- **Involutory**: $\\sigma_i^2 =I$\n",
    "- **Traceless**: $\\text{Tr} (\\sigma_i) =0$\n",
    "- **Hermitian**: $\\sigma_i = \\sigma_i^\\dagger$\n",
    "- **Unitary**: $\\sigma_i^\\dagger \\sigma_i = I$\n",
    "\n",
    "\n",
    "### Common Identities:\n",
    "- $X = HZH$\n",
    "- $Z = HXH$\n",
    "- $H^2 = I$\n",
    "- $X^2 = Y^2 = Z^2 = I$\n",
    "- $XYZ = iI$  → So $-iXYZ = I$\n",
    "\n",
    "### Commutation / Anticommutation:\n",
    "- $ZX = -XZ$\n",
    "- $YX = -XY$\n",
    "- $ZY = -YZ$\n",
    "\n",
    "These identities arise from the non-commutative nature of quantum gates and are  \n",
    "fundamental to quantum algorithms and error correction."
   ]
  },
  {
   "cell_type": "markdown",
   "id": "619bd180-aced-4656-bbb4-76d47a664422",
   "metadata": {},
   "source": [
    "#### Actions of $H$, $Z$, and $X$ on common states  \n",
    "\n",
    "$H\\lvert + \\rangle = \\lvert 0 \\rangle,\\quad H\\lvert - \\rangle = \\lvert 1 \\rangle.$  \n",
    "\n",
    "$Z\\lvert 0 \\rangle = \\lvert 0 \\rangle,\\quad Z\\lvert 1 \\rangle = -\\lvert 1 \\rangle.$  \n",
    "\n",
    "$X\\lvert + \\rangle = \\lvert + \\rangle,\\quad X\\lvert - \\rangle = -\\lvert - \\rangle.$  \n"
   ]
  },
  {
   "cell_type": "code",
   "execution_count": 14,
   "id": "fd9067cc",
   "metadata": {},
   "outputs": [
    {
     "name": "stdout",
     "output_type": "stream",
     "text": [
      "X on |+⟩ → Statevector([0.70710678+0.j, 0.70710678+0.j],\n",
      "            dims=(2,))\n",
      "X on |−⟩ → Statevector([-0.70710678+0.j,  0.70710678+0.j],\n",
      "            dims=(2,))\n"
     ]
    }
   ],
   "source": [
    "from qiskit.quantum_info import Statevector, Operator\n",
    "from qiskit import QuantumCircuit\n",
    "\n",
    "# Define |+⟩ and |−⟩ statevectors\n",
    "plus = Statevector([1/2**0.5, 1/2**0.5])\n",
    "minus = Statevector([1/2**0.5, -1/2**0.5])\n",
    "\n",
    "# Create the X gate circuit\n",
    "qc_x = QuantumCircuit(1)\n",
    "qc_x.x(0)\n",
    "op_x = Operator(qc_x)\n",
    "\n",
    "# Evolve the states\n",
    "print(\"X on |+⟩ →\", plus.evolve(op_x))\n",
    "print(\"X on |−⟩ →\", minus.evolve(op_x))"
   ]
  },
  {
   "cell_type": "code",
   "execution_count": 15,
   "id": "0a53a057",
   "metadata": {},
   "outputs": [
    {
     "name": "stdout",
     "output_type": "stream",
     "text": [
      "H|+>: [[7.07106781e-01+0.j 7.07106781e-01+0.j]\n",
      " [2.29934717e-17+0.j 2.29934717e-17+0.j]]  expected |0>: [1.+0.j 0.+0.j]\n",
      "H|->: [[ 2.29934717e-17+0.j -2.29934717e-17+0.j]\n",
      " [ 7.07106781e-01+0.j -7.07106781e-01+0.j]]  expected |1>: [0.+0.j 1.+0.j]\n",
      "Z|0>: [[1.+0.j 0.+0.j]\n",
      " [0.+0.j 0.+0.j]]  expected |0>: [1.+0.j 0.+0.j]\n",
      "Z|1>: [[ 0.+0.j  0.+0.j]\n",
      " [ 0.+0.j -1.+0.j]]  expected -|1>: [-0.+0.j -1.+0.j]\n",
      "X|+>: [[0.5+0.j 0.5+0.j]\n",
      " [0.5+0.j 0.5+0.j]]  expected |+>: [0.70710678+0.j 0.70710678+0.j]\n",
      "X|->: [[-0.5+0.j  0.5+0.j]\n",
      " [ 0.5+0.j -0.5+0.j]]  expected -|->: [-0.70710678+0.j  0.70710678-0.j]\n"
     ]
    }
   ],
   "source": [
    "# Verify actions using Statevector and Operator\n",
    "from qiskit.quantum_info import Statevector, Operator\n",
    "import numpy as np\n",
    "\n",
    "# Basis and superposition states\n",
    "zero = Statevector([1, 0])\n",
    "one = Statevector([0, 1])\n",
    "plus = Statevector([1/np.sqrt(2), 1/np.sqrt(2)])\n",
    "minus = Statevector([1/np.sqrt(2), -1/np.sqrt(2)])\n",
    "\n",
    "H = Operator(1/np.sqrt(2) * np.array([[1, 1], [1, -1]], dtype=complex))\n",
    "X = Operator([[0, 1], [1, 0]])\n",
    "Z = Operator([[1, 0], [0, -1]])\n",
    "\n",
    "print(\"H|+>:\", (H @ plus).data, \" expected |0>:\", zero.data)\n",
    "print(\"H|->:\", (H @ minus).data, \" expected |1>:\", one.data)\n",
    "print(\"Z|0>:\", (Z @ zero).data, \" expected |0>:\", zero.data)\n",
    "print(\"Z|1>:\", (Z @ one).data,  \" expected -|1>:\", (-one).data)\n",
    "print(\"X|+>:\", (X @ plus).data, \" expected |+>:\", plus.data)\n",
    "print(\"X|->:\", (X @ minus).data, \" expected -|->:\", (-minus).data)"
   ]
  },
  {
   "cell_type": "markdown",
   "id": "fe597b26",
   "metadata": {},
   "source": [
    "## Section 0.1.5:  Multiple Choice Questions\n",
    "\n",
    "**Q1.** Which of the following gate sequences is equivalent to the identity  \n",
    "operation (up to global phase)?\n",
    "- A. $H X H Z H X H$\n",
    "- B. $X Z X Z$\n",
    "- C. $Y Y$\n",
    "- D. $X Y Z$\n",
    "\n",
    "**Q2.** Suppose you start with the state $|+⟩$. Which of the following gates will  \n",
    "transform it to $|0⟩$?\n",
    "- A. $H$\n",
    "- B. $X$\n",
    "- C. $H Z$\n",
    "- D. $Z H$\n",
    "\n",
    "**Q3.** Which of the following statements is true about the commutation of gates?\n",
    "- A. $ZX = XZ$\n",
    "- B. $ZY = -YZ$\n",
    "- C. $XY = -YX$\n",
    "- D. $XZ = ZY$\n",
    "\n",
    "**Q4.** Which of the following expressions is equivalent to applying $X$ followed  \n",
    "by $Z$ to a qubit?\n",
    "- A. $XZ$\n",
    "- B. $-ZX$\n",
    "- C. $H Y H$\n",
    "- D. $Y$\n",
    "\n",
    "**Q5.** Which of the following is equivalent to applying $R_x(\\pi)$?\n",
    "- A. $X$\n",
    "- B. $H Z H$\n",
    "- C. Two $R_x(\\pi/2)$ gates in sequence\n",
    "- D. $Z X Z$\n",
    "\n",
    "**Q6** Consider the single-qubit unitary  \n",
    "$$\n",
    "U \\;=\\; H\\,R_z\\!\\left(\\tfrac{\\pi}{3}\\right)\\!H.\n",
    "$$ which  matrix equals \\(U\\) (pick the exact matrix, not “up to global phase”)?\n",
    "\n",
    "**A.**\n",
    "$$\n",
    "\\begin{pmatrix}\n",
    "\\cos\\!\\tfrac{\\pi}{6} & -i\\,\\sin\\!\\tfrac{\\pi}{6} \\\\\n",
    "-i\\,\\sin\\!\\tfrac{\\pi}{6} & \\cos\\!\\tfrac{\\pi}{6}\n",
    "\\end{pmatrix}\n",
    "$$\n",
    "\n",
    "**B.**\n",
    "$$\n",
    "\\begin{pmatrix}\n",
    "e^{-i\\pi/6} & 0 \\\\\n",
    "0 & e^{+i\\pi/6}\n",
    "\\end{pmatrix}\n",
    "$$\n",
    "\n",
    "**C.**\n",
    "$$\n",
    "\\begin{pmatrix}\n",
    "\\cos\\!\\tfrac{\\pi}{6} & -\\sin\\!\\tfrac{\\pi}{6} \\\\\n",
    "\\sin\\!\\tfrac{\\pi}{6} & \\cos\\!\\tfrac{\\pi}{6}\n",
    "\\end{pmatrix}\n",
    "$$\n",
    "\n",
    "**D.**\n",
    "$$\n",
    "\\begin{pmatrix}\n",
    "\\cos\\!\\tfrac{\\pi}{6} & \\;i\\,\\sin\\!\\tfrac{\\pi}{6} \\\\\n",
    "i\\,\\sin\\!\\tfrac{\\pi}{6} & \\cos\\!\\tfrac{\\pi}{6}\n",
    "\\end{pmatrix}\n",
    "$$\n",
    "**Q7** You are given the final state (up to global phase):\n",
    "$$\n",
    "\\frac{|0\\rangle + i\\,|1\\rangle}{\\sqrt{2}}.\n",
    "$$\n",
    "Which code fragment most likely produced it starting from $|0\\rangle$?\n",
    "\n",
    "**A.**\n",
    "```python\n",
    "from qiskit import QuantumCircuit\n",
    "qc = QuantumCircuit(1)\n",
    "qc.h(0); qc.s(0)\n",
    "```\n",
    "**B**\n",
    "```\n",
    "from qiskit import QuantumCircuit\n",
    "qc = QuantumCircuit(1)\n",
    "qc.s(0); qc.h(0)\n",
    "```\n",
    "**C**\n",
    "```\n",
    "from qiskit import QuantumCircuit\n",
    "qc = QuantumCircuit(1)\n",
    "qc.h(0); qc.t(0)\n",
    "```\n",
    "**D**\n",
    "```\n",
    "from qiskit import QuantumCircuit\n",
    "qc = QuantumCircuit(1)\n",
    "qc.t(0); qc.h(0)\n",
    "\n",
    "```"
   ]
  },
  {
   "cell_type": "markdown",
   "id": "c42fccb3",
   "metadata": {},
   "source": [
    "### Multiple Choice — Answer Key  \n",
    "\n",
    "<details>\n",
    "<summary><b>Answer key and explanations</b></summary> \n",
    "\n",
    "**Explanations**  \n",
    "\n",
    "- **Q1 (C):** The Hadamard maps computational basis states to the $X$ basis:  \n",
    "  $H\\lvert 0 \\rangle = \\lvert + \\rangle$ and $H\\lvert 1 \\rangle = \\lvert - \\rangle$.  \n",
    "  Any option identifying this mapping, or the corresponding measurement outcomes  \n",
    "  in the $X$ basis, is correct.  \n",
    "\n",
    "- **Q2 (A):** The $Z$ gate leaves $\\lvert 0 \\rangle$ unchanged and flips the phase of  \n",
    "  $\\lvert 1 \\rangle$: $Z\\lvert 0 \\rangle = \\lvert 0 \\rangle$, $Z\\lvert 1 \\rangle =  \n",
    "  -\\lvert 1 \\rangle$.  In the computational basis this phase does not alter the  \n",
    "  probability of measuring $\\lvert 0 \\rangle$ vs. $\\lvert 1 \\rangle$, but it matters  \n",
    "  when interfering with superpositions.  \n",
    "\n",
    "- **Q3 (B):** Conjugation by $H$ swaps $X$ and $Z$: $H X H = Z$ and $H Z H = X$.  \n",
    "  Any statement or circuit identity that uses these relations to simplify an  \n",
    "  expression to the indicated result is correct.  \n",
    "\n",
    "- **Q4 (B):** A global phase $e^{i\\phi}$ multiplies the entire state and has no effect  \n",
    "  on measurement probabilities: $\\lvert \\psi \\rangle$ and $e^{i\\phi}\\lvert \\psi \\rangle$  \n",
    "  are physically indistinguishable.  Only relative phase between amplitudes is  \n",
    "  observable.  \n",
    "\n",
    "- **Q5 (C):** The eigenstates of $Y$ are  \n",
    "  $\\lvert i \\rangle = \\tfrac{1}{\\sqrt{2}}(\\lvert 0 \\rangle + i\\lvert 1 \\rangle)$ and  \n",
    "  $\\lvert {-}i \\rangle = \\tfrac{1}{\\sqrt{2}}(\\lvert 0 \\rangle - i\\lvert 1 \\rangle)$,  \n",
    "  with eigenvalues $+1$ and $-1$, respectively.  Verifying $Y\\lvert i \\rangle =  \n",
    "  \\lvert i \\rangle$ and $Y\\lvert {-}i \\rangle = -\\lvert {-}i \\rangle$ confirms the  \n",
    "  choice.  \n",
    "- **Q6 (A):**\n",
    "  \\(H\\,R_z(\\theta)\\,H = R_x(\\theta)\\). For \\(\\theta=\\pi/3\\),\n",
    "$$\n",
    "R_x(\\theta)=\\cos\\!\\tfrac{\\theta}{2}\\,I - i\\sin\\!\\tfrac{\\theta}{2}\\,X\n",
    "=\n",
    "\\begin{pmatrix}\n",
    "\\cos\\!\\tfrac{\\pi}{6} & -i\\,\\sin\\!\\tfrac{\\pi}{6} \\\\\n",
    "-i\\,\\sin\\!\\tfrac{\\pi}{6} & \\cos\\!\\tfrac{\\pi}{6}\n",
    "\\end{pmatrix},\n",
    "$$\n",
    "so **A** is correct. (B) is \\(R_z(\\pi/3)\\); (C) is \\(R_y(\\pi/3)\\); (D) is \\(R_x(-\\pi/3)\\).\n",
    "- **Q7** \n",
    "A is correct. (B) applies $S$ first; (C) uses $T$ instead of $S$; (D) also mismatches the order.\n",
    "\n",
    "</details>"
   ]
  },
  {
   "cell_type": "code",
   "execution_count": null,
   "id": "8e848d0b-1486-419f-8725-e66a6c8a85dd",
   "metadata": {},
   "outputs": [],
   "source": []
  }
 ],
 "metadata": {
  "kernelspec": {
   "display_name": "Python (qiskit2x)",
   "language": "python",
   "name": "qiskit2x"
  },
  "language_info": {
   "codemirror_mode": {
    "name": "ipython",
    "version": 3
   },
   "file_extension": ".py",
   "mimetype": "text/x-python",
   "name": "python",
   "nbconvert_exporter": "python",
   "pygments_lexer": "ipython3",
   "version": "3.12.9"
  }
 },
 "nbformat": 4,
 "nbformat_minor": 5
}
