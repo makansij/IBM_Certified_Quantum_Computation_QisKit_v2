{
 "cells": [
  {
   "cell_type": "markdown",
   "id": "69ddf6a1",
   "metadata": {},
   "source": [
    "# Module 0.2: Multi-Qubit Systems"
   ]
  },
  {
   "cell_type": "markdown",
   "id": "9900afc8",
   "metadata": {},
   "source": [
    "### Section 0.2.0: Tensor Products"
   ]
  },
  {
   "cell_type": "markdown",
   "id": "a4026cb0",
   "metadata": {},
   "source": [
    "Tensor products are used to describe multi-qubit systems. For example:\n",
    "\n",
    "- $|0\\rangle \\otimes |0\\rangle = |00\\rangle$\n",
    "- $|0\\rangle \\otimes |1\\rangle = |01\\rangle$\n",
    "-  \n",
    "$|+\\rangle \\otimes |+\\rangle = \\frac{1}{2}(|00\\rangle + |01\\rangle + |10\\rangle + |11\\rangle)$\n",
    "-  \n",
    "$|+\\rangle \\otimes |-\\rangle = \\frac{1}{2}(|00\\rangle - |01\\rangle + |10\\rangle - |11\\rangle)$"
   ]
  },
  {
   "cell_type": "code",
   "execution_count": 1,
   "id": "a7435cc7",
   "metadata": {},
   "outputs": [
    {
     "name": "stdout",
     "output_type": "stream",
     "text": [
      "Tensor |0⟩ ⊗ |0⟩ = Statevector([1.+0.j, 0.+0.j, 0.+0.j, 0.+0.j],\n",
      "            dims=(2, 2))\n",
      "|+⟩ ⊗ |+⟩ = Statevector([0.5+0.j, 0.5+0.j, 0.5+0.j, 0.5+0.j],\n",
      "            dims=(2, 2))\n"
     ]
    }
   ],
   "source": [
    "from qiskit.quantum_info import Statevector\n",
    "\n",
    "# Tensor product of |0> and |0>\n",
    "print(\"Tensor |0⟩ ⊗ |0⟩ =\", Statevector.from_label('00'))\n",
    "\n",
    "# Tensor |+> ⊗ |+>\n",
    "plus_plus = Statevector([0.5, 0.5, 0.5, 0.5])\n",
    "print(\"|+⟩ ⊗ |+⟩ =\", plus_plus)\n"
   ]
  },
  {
   "cell_type": "markdown",
   "id": "c281b8c1",
   "metadata": {},
   "source": [
    "**What You Need to Know for the Exam:**\n",
    "- ✅ Multi-qubit states are tensor products of single-qubit states\n",
    "- ✅ Gates on multiple qubits can be tensor products of single-qubit gates (e.g.,  \n",
    "\\( $I \\otimes X$ \\))\n",
    "- ✅ Tensor product order matters: \\(  \n",
    "$|0\\rangle \\otimes |1\\rangle \\ne |1\\rangle \\otimes |0\\rangle$ \\)\n",
    "- ✅ You should understand how these operations affect statevectors and circuits"
   ]
  },
  {
   "cell_type": "markdown",
   "id": "611d8e6a",
   "metadata": {},
   "source": [
    "## Section 0.2.1 – Gate Tensor Products\n",
    "\n",
    "Gate operations on multi-qubit systems can be expressed as tensor products of  \n",
    "single-qubit gates. For example, applying the Pauli-X gate to the *second* qubit  \n",
    "in a three-qubit system corresponds to:\n",
    "\n",
    "   $I \\otimes X \\otimes I$\n",
    "\n",
    "This operation will flip the middle qubit state of any three-qubit vector."
   ]
  },
  {
   "cell_type": "code",
   "execution_count": 2,
   "id": "6b0fd5a3",
   "metadata": {},
   "outputs": [
    {
     "name": "stdout",
     "output_type": "stream",
     "text": [
      "Initial state: Statevector([0.+0.j, 0.+0.j, 1.+0.j, 0.+0.j, 0.+0.j, 0.+0.j, 0.+0.j,\n",
      "             0.+0.j],\n",
      "            dims=(2, 2, 2))\n"
     ]
    },
    {
     "data": {
      "image/png": "[encoded data removed]",
      "text/plain": [
       "<Figure size 203.885x284.278 with 1 Axes>"
      ]
     },
     "metadata": {},
     "output_type": "display_data"
    },
    {
     "name": "stdout",
     "output_type": "stream",
     "text": [
      "After I⊗X⊗I on |010> → Statevector([1.+0.j, 0.+0.j, 0.+0.j, 0.+0.j, 0.+0.j, 0.+0.j, 0.+0.j,\n",
      "             0.+0.j],\n",
      "            dims=(2, 2, 2))\n",
      "Probabilities: {np.str_('000'): np.float64(1.0)}\n"
     ]
    }
   ],
   "source": [
    "from qiskit import QuantumCircuit\n",
    "from qiskit.quantum_info import Statevector, Operator\n",
    "\n",
    "# Initial state |010>\n",
    "state = Statevector.from_label('010')\n",
    "print('Initial state:', state)\n",
    "\n",
    "# Build gate: X on qubit 1 (middle qubit)\n",
    "qc = QuantumCircuit(3)\n",
    "qc.x(1)\n",
    "display(qc.draw('mpl'))\n",
    "\n",
    "# Evolve the state\n",
    "new_state = state.evolve(qc.to_instruction())\n",
    "print('After I⊗X⊗I on |010> →', new_state)\n",
    "print('Probabilities:', new_state.probabilities_dict())"
   ]
  },
  {
   "cell_type": "markdown",
   "id": "dc68071b-aa52-4a19-a996-772938ab77da",
   "metadata": {},
   "source": [
    "### Common pitfall: A note on Qiskit's little endian convention"
   ]
  },
  {
   "cell_type": "code",
   "execution_count": 6,
   "id": "d468d445-3fff-415a-8631-f5aa91e8fafe",
   "metadata": {},
   "outputs": [
    {
     "name": "stdout",
     "output_type": "stream",
     "text": [
      "     ┌───┐\n",
      "q_0: ┤ Z ├\n",
      "     └───┘\n",
      "q_1: ─────\n",
      "          \n",
      "q_2: ─────\n",
      "          \n"
     ]
    }
   ],
   "source": [
    "from qiskit import QuantumCircuit\n",
    "from qiskit.circuit.library import PauliGate\n",
    "\n",
    "qc = QuantumCircuit(3)\n",
    "qc.append(PauliGate('IIZ'), [0, 1, 2])  # Z -> q0 (top)\n",
    "print(qc.decompose().draw())\n"
   ]
  },
  {
   "cell_type": "markdown",
   "id": "10d5ae26",
   "metadata": {},
   "source": [
    "### Practice Examples: Gate Tensor Products\n",
    "\n",
    "Below are several gate tensor product operations. Predict the output state and  \n",
    "then verify using Qiskit."
   ]
  },
  {
   "cell_type": "code",
   "execution_count": 4,
   "id": "871ec6c7",
   "metadata": {},
   "outputs": [
    {
     "name": "stdout",
     "output_type": "stream",
     "text": [
      "Example 1 result: Statevector([0.+0.j, 0.+0.j, 0.+0.j, 0.+0.j, 1.+0.j, 0.+0.j, 0.+0.j,\n",
      "             0.+0.j],\n",
      "            dims=(2, 2, 2))\n",
      "Example 2 result: Statevector([0.+0.j, 0.+0.j, 0.+0.j, 1.+0.j],\n",
      "            dims=(2, 2))\n",
      "Example 3 result: Statevector([0.        +0.j, 0.        +0.j, 0.70710678+0.j,\n",
      "             0.70710678+0.j],\n",
      "            dims=(2, 2))\n",
      "Example 4 result: Statevector([ 0.        +0.j,  0.70710678+0.j,  0.        +0.j,\n",
      "             -0.70710678+0.j,  0.        +0.j,  0.        +0.j,\n",
      "              0.        +0.j,  0.        +0.j],\n",
      "            dims=(2, 2, 2))\n",
      "Example 5 result: Statevector([ 0.35355339+0.35355339j,  0.35355339-0.35355339j,\n",
      "             -0.35355339-0.35355339j, -0.35355339+0.35355339j],\n",
      "            dims=(2, 2))\n"
     ]
    }
   ],
   "source": [
    "from qiskit import QuantumCircuit\n",
    "from qiskit.quantum_info import Statevector\n",
    "\n",
    "# Example 1: I⊗I⊗X on |000> → flips last qubit to |001>\n",
    "state1 = Statevector.from_label('000')\n",
    "qc1 = QuantumCircuit(3)\n",
    "qc1.x(2)\n",
    "print('Example 1 result:', state1.evolve(qc1.to_instruction()))\n",
    "\n",
    "# Example 2: X⊗X on |00> → flips both qubits to |11>\n",
    "state2 = Statevector.from_label('00')\n",
    "qc2 = QuantumCircuit(2)\n",
    "qc2.x(0); qc2.x(1)\n",
    "print('Example 2 result:', state2.evolve(qc2.to_instruction()))\n",
    "\n",
    "# Example 3: H⊗I on |10> → superposition on first qubit\n",
    "state3 = Statevector.from_label('10')\n",
    "qc3 = QuantumCircuit(2)\n",
    "qc3.h(0)\n",
    "print('Example 3 result:', state3.evolve(qc3.to_instruction()))\n",
    "\n",
    "# Example 4: I⊗H⊗Z on |011> → H on second, Z on third\n",
    "state4 = Statevector.from_label('011')\n",
    "qc4 = QuantumCircuit(3)\n",
    "qc4.h(1); qc4.z(2)\n",
    "print('Example 4 result:', state4.evolve(qc4.to_instruction()))\n",
    "\n",
    "# Example 5: RZ(pi/2)⊗RX(pi) on |-->\n",
    "import numpy as np\n",
    "minus_minus = Statevector([1/2**0.5, -1/2**0.5]).tensor(Statevector([1/2**0.5, -1/2**0.5]))\n",
    "qc5 = QuantumCircuit(2)\n",
    "qc5.rz(np.pi/2, 0); qc5.rx(np.pi, 1)\n",
    "print('Example 5 result:', minus_minus.evolve(qc5.to_instruction()))"
   ]
  },
  {
   "cell_type": "markdown",
   "id": "079a4f7d",
   "metadata": {},
   "source": [
    "### Practice Questions (Advanced)\n",
    "\n",
    "**Q1.** Starting from $|10\\rangle$, apply $(H \\otimes I)$. What is the resulting  \n",
    "state?\n",
    "- A. $(|00\\rangle - |10\\rangle)/\\sqrt{2}$\n",
    "- B. $(|10\\rangle + |11\\rangle)/\\sqrt{2}$\n",
    "- C. $(|00\\rangle + |10\\rangle)/\\sqrt{2}$\n",
    "- D. $(|01\\rangle + |11\\rangle)/\\sqrt{2}$\n",
    "\n",
    "**Q2.** Starting from $|01\\rangle$, apply $(I \\otimes H)$. What state do you  \n",
    "obtain?\n",
    "- A. $(|00\\rangle - |01\\rangle)/\\sqrt{2}$\n",
    "- B. $(|01\\rangle + |11\\rangle)/\\sqrt{2}$\n",
    "- C. $(|00\\rangle + |01\\rangle)/\\sqrt{2}$\n",
    "- D. $(|10\\rangle + |11\\rangle)/\\sqrt{2}$\n",
    "\n",
    "**Q3.** On $|00\\rangle$, applying $(H \\otimes X)$ yields:\n",
    "- A. $(|01\\rangle + |11\\rangle)/\\sqrt{2}$\n",
    "- B. $(|00\\rangle + |10\\rangle)/\\sqrt{2}$\n",
    "- C. $(|01\\rangle + |10\\rangle)/\\sqrt{2}$\n",
    "- D. $(|11\\rangle)/\\sqrt{2}$\n",
    "\n",
    "**Q4.** Which tensor product applies a Pauli-X to every qubit in a three-qubit  \n",
    "system?\n",
    "- A. $X \\otimes X \\otimes X$\n",
    "- B. $RX(\\pi) \\otimes RX(\\pi) \\otimes RX(\\pi)$\n",
    "- C. $H \\otimes H \\otimes H$\n",
    "- D. $I \\otimes I \\otimes I$\n",
    "\n",
    "**Q5.** Starting from $|00\\rangle$, apply $(RY(\\pi/2) \\otimes I)$. Which state is  \n",
    "obtained?\n",
    "- A. $(|00\\rangle + |10\\rangle)/\\sqrt{2}$\n",
    "- B. $(|00\\rangle + |01\\rangle)/\\sqrt{2}$\n",
    "- C. $(|10\\rangle + |11\\rangle)/\\sqrt{2}$\n",
    "- D. $(|01\\rangle + |11\\rangle)/\\sqrt{2}$"
   ]
  },
  {
   "cell_type": "markdown",
   "id": "fa84c1c5",
   "metadata": {},
   "source": [
    "### Answer Key\n",
    "- Q1: A\n",
    "- Q2: A\n",
    "- Q3: A\n",
    "- Q4: A\n",
    "- Q5: A"
   ]
  }
 ],
 "metadata": {
  "kernelspec": {
   "display_name": "Python (qiskit2x)",
   "language": "python",
   "name": "qiskit2x"
  },
  "language_info": {
   "codemirror_mode": {
    "name": "ipython",
    "version": 3
   },
   "file_extension": ".py",
   "mimetype": "text/x-python",
   "name": "python",
   "nbconvert_exporter": "python",
   "pygments_lexer": "ipython3",
   "version": "3.12.9"
  }
 },
 "nbformat": 4,
 "nbformat_minor": 5
}
