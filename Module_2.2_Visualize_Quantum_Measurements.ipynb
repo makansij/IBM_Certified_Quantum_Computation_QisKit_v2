{
 "cells": [
  {
   "cell_type": "markdown",
   "id": "4e9d96e8",
   "metadata": {},
   "source": [
    "# Module 2.2 — Visualize Quantum Measurements\n",
    "\n",
    "This notebook covers three topics aligned with IBM’s documentation and your Study Guide Section 2:\n",
    "\n",
    "0. **Classical Feedforward & Control Flow** — with circuit plots and matching code  \n",
    "1. **`plot_histogram`** — including plotting multiple histograms on the same figure  \n",
    "2. **`plot_gate_map`** — options and examples\n",
    "\n",
    "> Docs: Classical feedforward & control flow — https://quantum.cloud.ibm.com/docs/en/guides/classical-feedforward-and-control-flow"
   ]
  },
  {
   "cell_type": "code",
   "execution_count": 1,
   "id": "c6d16fd1",
   "metadata": {},
   "outputs": [
    {
     "name": "stdout",
     "output_type": "stream",
     "text": [
      "Fake backend for gate map: FakeSherbrooke\n"
     ]
    }
   ],
   "source": [
    "# Minimal imports used throughout this notebook.\n",
    "# Note: Designed for Qiskit v2.x (2.2.x). Some imports include fallbacks for older/newer layouts.\n",
    "from typing import Dict, Any\n",
    "import numpy as np\n",
    "\n",
    "# Core Qiskit\n",
    "from qiskit import QuantumCircuit, ClassicalRegister, QuantumRegister\n",
    "\n",
    "# Visualization\n",
    "from qiskit.visualization import plot_histogram\n",
    "from qiskit.visualization import plot_gate_map\n",
    "\n",
    "# Try to get a fake backend for plot_gate_map examples (no credentials required).\n",
    "_fake_backend = None\n",
    "try:\n",
    "    from qiskit_ibm_runtime.fake_provider import FakeSherbrooke\n",
    "    _fake_backend = FakeSherbrooke()\n",
    "except Exception:\n",
    "    try:\n",
    "        from qiskit.providers.fake_provider import FakeSherbrooke  # older layout\n",
    "        _fake_backend = FakeSherbrooke()\n",
    "    except Exception:\n",
    "        _fake_backend = None\n",
    "\n",
    "print(\"Fake backend for gate map:\", type(_fake_backend).__name__ if _fake_backend else None)"
   ]
  },
  {
   "cell_type": "markdown",
   "id": "4919aa7c",
   "metadata": {},
   "source": [
    "## 0) Classical Feedforward & Control Flow — with circuit plots\n",
    "\n",
    "This section demonstrates two approaches:\n",
    "- **Conditional instructions (`c_if`)** — classical conditions that guard an operation based on a classical bit/register value.\n",
    "- **Structured control flow (`if_test`)** — dynamic circuits that branch on measurement outcomes (requires dynamic-circuit support)."
   ]
  },
  {
   "cell_type": "markdown",
   "id": "239fa1ff-4a31-4df2-9d81-89eeed2a4503",
   "metadata": {},
   "source": [
    "### 0A) Classical feedforward in Qiskit v2.x — use `if_test` (not `c_if`)\n",
    "**Note:** `c_if(...)` is **not supported** in Qiskit v2.2.1 (it was removed in v2.x).  \n",
    "Use structured control flow via `QuantumCircuit.if_test(...)` for feed-forward.\n",
    "\n",
    "**How this works:**  \n",
    "1. We measure a qubit into a classical bit.  \n",
    "2. We open an `if_test((cbit, value)):` block that **conditionally** applies gates based on that classical result.  \n",
    "3. Inside the block, the `X` gate is applied **only** on shots where the measured classical bit equals `1`.  \n",
    "This is dynamic, shot-by-shot behavior consistent with OpenQASM-3-style control flow in Qiskit v2.x.\n"
   ]
  },
  {
   "cell_type": "code",
   "execution_count": 3,
   "id": "298db23b",
   "metadata": {},
   "outputs": [
    {
     "data": {
      "image/png": "[encoded data removed]",
      "text/plain": [
       "<Figure size 436.286x200.667 with 1 Axes>"
      ]
     },
     "execution_count": 3,
     "metadata": {},
     "output_type": "execute_result"
    }
   ],
   "source": [
    "# 0A) Classical feedforward using c_if (portable across many versions)\n",
    "from qiskit import QuantumCircuit, ClassicalRegister, QuantumRegister\n",
    "\n",
    "# One-qubit, one-classical-bit circuit\n",
    "q = QuantumRegister(1, \"q\")\n",
    "c = ClassicalRegister(1, \"c\")\n",
    "qc = QuantumCircuit(q, c)\n",
    "\n",
    "# Prepare superposition, then measure into classical bit c[0]\n",
    "qc.h(0)\n",
    "qc.measure(0, 0)\n",
    "\n",
    "# Qiskit v2.x dynamic feed-forward: conditionally apply X if the measured bit equals 1\n",
    "with qc.if_test((c[0], 1)):\n",
    "    qc.x(0)\n",
    "\n",
    "# Visualize\n",
    "qc.draw('mpl')\n"
   ]
  },
  {
   "cell_type": "code",
   "execution_count": 4,
   "id": "7e1e56f7",
   "metadata": {},
   "outputs": [
    {
     "data": {
      "image/png": "[encoded data removed]",
      "text/plain": [
       "<Figure size 436.286x200.667 with 1 Axes>"
      ]
     },
     "metadata": {},
     "output_type": "display_data"
    },
    {
     "data": {
      "text/plain": [
       "<qiskit.circuit.quantumcircuit.QuantumCircuit at 0x168e597f0>"
      ]
     },
     "execution_count": 4,
     "metadata": {},
     "output_type": "execute_result"
    }
   ],
   "source": [
    "# 0B) Dynamic control flow using if_test (context manager style)\n",
    "# This requires support in your Qiskit version/backends.\n",
    "# If not supported in your local version, the 'with qc.if_test(...)' may raise.\n",
    "q = QuantumRegister(1, \"q\")\n",
    "c = ClassicalRegister(1, \"c\")\n",
    "qd = QuantumCircuit(q, c)\n",
    "\n",
    "qd.h(0)\n",
    "qd.measure(0, 0)\n",
    "\n",
    "try:\n",
    "    # Branch: if measurement == 1, apply X; else do nothing\n",
    "    with qd.if_test((c[0], 1)):\n",
    "        qd.x(0)\n",
    "    display(qd.draw('mpl'))\n",
    "except Exception as e:\n",
    "    print(\"if_test not available in this environment/Qiskit version:\", e)\n",
    "    display(qd.draw('mpl'))\n",
    "qd"
   ]
  },
  {
   "cell_type": "markdown",
   "id": "e6a0812e",
   "metadata": {},
   "source": [
    "## 1) `plot_histogram` — including two histograms on the same plot\n",
    "\n",
    "`plot_histogram` accepts either:\n",
    "- a single **counts dict** (e.g., `{'00': 517, '11': 507}`), or\n",
    "- a **list of counts dicts** to overlay multiple histograms.\n",
    "\n",
    "Below we create two mock results and plot them both."
   ]
  },
  {
   "cell_type": "code",
   "execution_count": null,
   "id": "c462cd95",
   "metadata": {},
   "outputs": [],
   "source": [
    "# Mock counts for demonstration (these mirror what you might get from a Sampler or legacy Result.get_counts())\n",
    "counts_a = {'00': 512, '11': 488}\n",
    "counts_b = {'00': 400, '01': 100, '10': 120, '11': 380}\n",
    "\n",
    "# A single histogram\n",
    "fig1 = plot_histogram(counts_a, title=\"Single result\")\n",
    "display(fig1)\n",
    "\n",
    "# Two histograms on the same axes\n",
    "fig2 = plot_histogram([counts_a, counts_b], title=\"Overlay two results\", legend=[\"Run A\", \"Run B\"])\n",
    "display(fig2)"
   ]
  },
  {
   "cell_type": "markdown",
   "id": "af9a3fb5",
   "metadata": {},
   "source": [
    "## 2) `plot_gate_map` — options and examples\n",
    "\n",
    "`plot_gate_map` shows the device’s qubits and connectivity. It can accept a backend (recommended) or a custom coupling map.\n",
    "Common options include:\n",
    "- `figsize=(w, h)` to resize,\n",
    "- `qubit_size`, `line_width`, `font_size` to tweak appearance,\n",
    "- `qubit_color`, `line_color` to customize colors,\n",
    "- `label_qubits=True` to label nodes.\n",
    "\n",
    "We’ll use a **fake backend** so this runs without account credentials."
   ]
  },
  {
   "cell_type": "code",
   "execution_count": null,
   "id": "163b3969",
   "metadata": {},
   "outputs": [],
   "source": [
    "if _fake_backend is None:\n",
    "    print(\"No fake backend available in this environment; showing a minimal example with a custom coupling map.\")\n",
    "    from qiskit.transpiler import CouplingMap\n",
    "    cmap = CouplingMap([[0,1],[1,2],[2,3],[3,4]])\n",
    "    fig = plot_gate_map(coupling_map=cmap, figsize=(5,5), label_qubits=True)\n",
    "    display(fig)\n",
    "else:\n",
    "    # Example 1: basic plot\n",
    "    fig_basic = plot_gate_map(_fake_backend, figsize=(6,6), label_qubits=True)\n",
    "    display(fig_basic)\n",
    "\n",
    "    # Example 2: tweak a few options\n",
    "    fig_tweaked = plot_gate_map(\n",
    "        _fake_backend,\n",
    "        figsize=(6,6),\n",
    "        label_qubits=True,\n",
    "        qubit_size=12,\n",
    "        line_width=1.5,\n",
    "        font_size=8\n",
    "    )\n",
    "    display(fig_tweaked)"
   ]
  },
  {
   "cell_type": "markdown",
   "id": "cf7e7a30",
   "metadata": {},
   "source": [
    "---\n",
    "\n",
    "# Practice MCQs (Exam-style)\n",
    "\n",
    "For each section above, you’ll see two patterns:  \n",
    "**(A)** “Given code, what’s the most likely output?” and **(B)** “Which snippet is an invalid input?”  \n",
    "Answers include explanations."
   ]
  },
  {
   "cell_type": "markdown",
   "id": "786b3e0b",
   "metadata": {},
   "source": [
    "## MCQs — Section 0: Classical Feedforward & Control Flow\n",
    "\n",
    "**Q0.1 — Output identification**  \n",
    "Given:\n",
    "```python\n",
    "qc = QuantumCircuit(1, 1)\n",
    "qc.h(0); qc.measure(0, 0)\n",
    "qc.x(0).c_if(qc.clbits[0], 1)\n",
    "```\n",
    "Which is the most likely **behavior** of the circuit?\n",
    "A. `X` is always applied.  \n",
    "B. `X` is applied **only** when the measured bit is `1`.  \n",
    "C. `X` is applied only when the measured bit is `0`.  \n",
    "D. `X` is never applied.\n",
    "\n",
    "<details><summary><strong>Answer</strong></summary>\n",
    "B. The `.c_if(..., 1)` condition guards the `X` so it fires only if the classical bit equals 1.  \n",
    "A is wrong (not always); C is the opposite condition; D is wrong (it does apply sometimes).\n",
    "</details>\n",
    "\n",
    "**Q0.2 — Invalid input**  \n",
    "Which snippet is **invalid** for building an `if_test` branch?  \n",
    "A. `with qc.if_test((c[0], 1)): qc.x(0)`  \n",
    "B. `with qc.if_test((c[0], 2)): qc.x(0)`  \n",
    "C. `with qc.if_test((c[0], 0)): qc.h(0)`  \n",
    "D. `with qc.if_test((c[0], 1)): pass`\n",
    "\n",
    "<details><summary><strong>Answer</strong></summary>\n",
    "B. Classical bits store 0/1; checking equality with value `2` is invalid.  \n",
    "A and C are valid 1-bit conditions; D is syntactically odd but forms an empty branch.\n",
    "</details>"
   ]
  },
  {
   "cell_type": "markdown",
   "id": "0c62e036",
   "metadata": {},
   "source": [
    "## MCQs — Section 1: plot_histogram\n",
    "\n",
    "**Q1.1 — Output identification**  \n",
    "Given:\n",
    "```python\n",
    "counts_a = {'00': 600, '11': 424}\n",
    "counts_b = {'00': 420, '01': 100, '10': 120, '11': 384}\n",
    "fig = plot_histogram([counts_a, counts_b], legend=['A','B'])\n",
    "```\n",
    "What appears on the figure?\n",
    "A. Two overlaid histograms sharing the same x-axis (bitstrings), with legend entries **A** and **B**.  \n",
    "B. A single histogram of the **sum** of the two dicts.  \n",
    "C. A pie chart of bitstring probabilities for run A.  \n",
    "D. An error, because `plot_histogram` does not accept lists.\n",
    "\n",
    "<details><summary><strong>Answer</strong></summary>\n",
    "A. Passing a list overlays multiple histograms with a shared x-axis.  \n",
    "B is wrong (no implicit sum); C is a different plot type; D is false (lists are allowed).\n",
    "</details>\n",
    "\n",
    "**Q1.2 — Invalid input**  \n",
    "Which call is invalid?\n",
    "A. `plot_histogram({'0': 5, '1': 7})`  \n",
    "B. `plot_histogram([{'0': 5}, {'1': 7}], legend=['A','B'])`  \n",
    "C. `plot_histogram({'0': 5, '2': 7})`  \n",
    "D. `plot_histogram([{'00': 1}], legend=None)`\n",
    "\n",
    "<details><summary><strong>Answer</strong></summary>\n",
    "C. Bitstrings must be composed of 0/1 characters per qubit; `'2'` is not a valid bitstring key.  \n",
    "A is fine (single dict). B is fine (two dicts with legend). D is fine (legend optional).\n",
    "</details>"
   ]
  },
  {
   "cell_type": "markdown",
   "id": "971b73f5",
   "metadata": {},
   "source": [
    "## MCQs — Section 2: plot_gate_map\n",
    "\n",
    "**Q2.1 — Output identification**  \n",
    "Given a backend with labeled qubits and coupling map, calling:\n",
    "```python\n",
    "plot_gate_map(backend, label_qubits=True, figsize=(6,6))\n",
    "```\n",
    "What is plotted?\n",
    "A. A scatter of random points.  \n",
    "B. A diagram of qubit nodes with labels and connecting edges (device topology).  \n",
    "C. A histogram of backend readout errors.  \n",
    "D. A Bloch sphere of qubit 0.\n",
    "\n",
    "<details><summary><strong>Answer</strong></summary>\n",
    "B. `plot_gate_map` renders device topology (nodes and couplings). A, C, D are unrelated.\n",
    "</details>\n",
    "\n",
    "**Q2.2 — Invalid input**  \n",
    "Which argument set is invalid (typical behavior)?\n",
    "A. `plot_gate_map(backend=None, coupling_map=[[0,1],[1,2]])`  \n",
    "B. `plot_gate_map(backend, label_qubits=True, qubit_size=12)`  \n",
    "C. `plot_gate_map(coupling_map=[[0, 'a']])`  \n",
    "D. `plot_gate_map(backend, figsize=(5,5))`\n",
    "\n",
    "<details><summary><strong>Answer</strong></summary>\n",
    "C. Coupling map edges must refer to **integer** qubit indices; `'a'` is invalid.  \n",
    "A, B, D are acceptable patterns depending on version (A uses a custom coupling map).\n",
    "</details>"
   ]
  }
 ],
 "metadata": {
  "kernelspec": {
   "display_name": "Python (qiskit2x)",
   "language": "python",
   "name": "qiskit2x"
  },
  "language_info": {
   "codemirror_mode": {
    "name": "ipython",
    "version": 3
   },
   "file_extension": ".py",
   "mimetype": "text/x-python",
   "name": "python",
   "nbconvert_exporter": "python",
   "pygments_lexer": "ipython3",
   "version": "3.12.9"
  }
 },
 "nbformat": 4,
 "nbformat_minor": 5
}
