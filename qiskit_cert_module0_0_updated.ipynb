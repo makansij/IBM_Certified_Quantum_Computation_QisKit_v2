{
 "cells": [
  {
   "cell_type": "markdown",
   "id": "6b4ed4b6",
   "metadata": {},
   "source": [
    "# Qiskit Certification Prep - Module 0.0: Dirac Notation and Qubit States"
   ]
  },
  {
   "cell_type": "markdown",
   "id": "54032280",
   "metadata": {},
   "source": [
    "## Section 0.0.1: Dirac Notation Basics\n",
    "\n",
    "Quantum states are represented using **Dirac notation**:\n",
    "- |0⟩ = [1, 0]ᵗ  (certain measurement of 0)\n",
    "- |1⟩ = [0, 1]ᵗ  (certain measurement of 1)\n",
    "- |+⟩ = (1/√2)(|0⟩ + |1⟩)\n",
    "- |−⟩ = (1/√2)(|0⟩ − |1⟩)\n",
    "\n",
    "These are **unit vectors** in a 2-dimensional complex space."
   ]
  },
  {
   "cell_type": "markdown",
   "id": "8b7b72c8",
   "metadata": {},
   "source": [
    "### Examples"
   ]
  },
  {
   "cell_type": "code",
   "execution_count": 3,
   "id": "a54f6256",
   "metadata": {},
   "outputs": [
    {
     "name": "stdout",
     "output_type": "stream",
     "text": [
      "Statevector([1.+0.j, 0.+0.j],\n",
      "            dims=(2,))\n",
      "Statevector([0.+0.j, 1.+0.j],\n",
      "            dims=(2,))\n",
      "Statevector([0.70710678+0.j, 0.70710678+0.j],\n",
      "            dims=(2,))\n",
      "Statevector([ 0.70710678+0.j, -0.70710678+0.j],\n",
      "            dims=(2,))\n"
     ]
    }
   ],
   "source": [
    "from qiskit.quantum_info import Statevector\n",
    "import rustworkx as retworkx\n",
    "\n",
    "print(Statevector([1, 0]))  # |0⟩\n",
    "print(Statevector([0, 1]))  # |1⟩\n",
    "print(Statevector([1/2**0.5, 1/2**0.5]))  # |+⟩\n",
    "print(Statevector([1/2**0.5, -1/2**0.5]))  # |−⟩"
   ]
  },
  {
   "cell_type": "markdown",
   "id": "d5d74362",
   "metadata": {},
   "source": [
    "## Section 0.0.2: Probabilities from Amplitudes\n",
    "\n",
    "If a state is |ψ⟩ = α|0⟩ + β|1⟩, then:\n",
    "- P(0) = |α|²\n",
    "- P(1) = |β|²\n",
    "\n",
    "The vector represents the **probabilities** of outcomes upon measurement."
   ]
  },
  {
   "cell_type": "code",
   "execution_count": 4,
   "id": "6b462027",
   "metadata": {},
   "outputs": [
    {
     "name": "stdout",
     "output_type": "stream",
     "text": [
      "{np.str_('0'): np.float64(0.4999999999999999), np.str_('1'): np.float64(0.4999999999999999)}\n"
     ]
    }
   ],
   "source": [
    "sv = Statevector([1/2**0.5, 1/2**0.5])  # |+⟩ state\n",
    "print(sv.probabilities_dict())"
   ]
  },
  {
   "cell_type": "markdown",
   "id": "f1692dbe",
   "metadata": {},
   "source": [
    "## Section 0.0.3: Normalization\n",
    "\n",
    "A quantum state must be **normalized**:\n",
    "\n",
    "|α₀|² + |α₁|² + ... + |αₙ|² = 1\n",
    "\n",
    "This ensures that the total measurement probability is 1."
   ]
  },
  {
   "cell_type": "code",
   "execution_count": 5,
   "id": "e616ecdb",
   "metadata": {},
   "outputs": [
    {
     "name": "stdout",
     "output_type": "stream",
     "text": [
      "[0.75 0.25]\n"
     ]
    }
   ],
   "source": [
    "from math import sqrt\n",
    "sv_valid = Statevector([sqrt(3)/2, 1/2])\n",
    "print(sv_valid.probabilities())\n",
    "\n",
    "# Invalid (unnormalized) example:\n",
    "# sv_invalid = Statevector([2, 2])  # This will raise an error"
   ]
  },
  {
   "cell_type": "markdown",
   "id": "d3eefb95",
   "metadata": {},
   "source": [
    "## Sample Questions (Multiple Choice)\n",
    "\n",
    "**Q1.** What is the probability of measuring 0 in the state |+⟩ = (1/√2)(|0⟩ + |1⟩)?\n",
    "- A. 1\n",
    "- B. 0.5 \n",
    "- C. 0\n",
    "- D. 0.25\n",
    "\n",
    "**Q2.** Which of the following is NOT a valid quantum state?\n",
    "- A. [1/√2, 1/√2]\n",
    "- B. [0.6, 0.8]\n",
    "- C. [2, 2] \n",
    "- D. [1, 0]\n",
    "\n",
    "**Q3.** In Dirac notation, which of the following represents the state vector [0, 1]?\n",
    "- A. |0⟩\n",
    "- B. |1⟩ \n",
    "- C. |+⟩\n",
    "- D. |−⟩"
   ]
  },
  {
   "cell_type": "markdown",
   "id": "bb800bae-6450-43b4-b264-e289846c10f6",
   "metadata": {},
   "source": [
    "Answers:\n",
    "1: B, 2: C, 3: B"
   ]
  },
  {
   "cell_type": "code",
   "execution_count": null,
   "id": "c0336121-d72f-434c-a785-9889a737a67e",
   "metadata": {},
   "outputs": [],
   "source": []
  }
 ],
 "metadata": {
  "kernelspec": {
   "display_name": "Python (qiskit2x)",
   "language": "python",
   "name": "qiskit2x"
  },
  "language_info": {
   "codemirror_mode": {
    "name": "ipython",
    "version": 3
   },
   "file_extension": ".py",
   "mimetype": "text/x-python",
   "name": "python",
   "nbconvert_exporter": "python",
   "pygments_lexer": "ipython3",
   "version": "3.12.11"
  }
 },
 "nbformat": 4,
 "nbformat_minor": 5
}
